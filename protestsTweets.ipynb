{
 "cells": [
  {
   "cell_type": "markdown",
   "metadata": {},
   "source": [
    "# This is the processsing of the protest data. "
   ]
  },
  {
   "cell_type": "code",
   "execution_count": 1,
   "metadata": {},
   "outputs": [],
   "source": [
    "import geopandas as gpd\n",
    "import pandas as pd\n",
    "import matplotlib.pyplot as plt\n",
    "from datetime import datetime\n",
    "from datetime import timedelta"
   ]
  },
  {
   "cell_type": "markdown",
   "metadata": {},
   "source": [
    "### Shapefiles."
   ]
  },
  {
   "cell_type": "code",
   "execution_count": 2,
   "metadata": {},
   "outputs": [],
   "source": [
    "districts = []\n",
    "# getting the shape file for the provinces\n",
    "dist2 = gpd.read_file('DATA\\ZA_SHAPES\\zaf_adm_sadb_ocha_20201109_SHP\\zaf_admbnda_adm1_sadb_ocha_20201109.shp')\n",
    "dist2 = dist2[['Shape_Area','ADM1_EN','geometry']]\n",
    "dist2.rename(columns={'ADM1_EN':'Place0'}, inplace=True, errors='raise')\n",
    "districts.append(dist2)\n",
    "\n",
    "# geting the shape file for municipalities \n",
    "dist3 = gpd.read_file('DATA\\ZA_SHAPES\\zaf_adm_sadb_ocha_20201109_SHP\\zaf_admbnda_adm2_sadb_ocha_20201109.shp')\n",
    "dist3 = dist3[['Shape_Area','ADM2_EN','geometry']]\n",
    "dist3.rename(columns={'ADM2_EN':'Place1'}, inplace=True, errors='raise')\n",
    "districts.append(dist3)\n",
    "\n",
    "# geting the shape file for districs \n",
    "dist4 = gpd.read_file('DATA\\ZA_SHAPES\\zaf_adm_sadb_ocha_20201109_SHP\\zaf_admbnda_adm3_sadb_ocha_20201109.shp')\n",
    "dist4 = dist4[['Shape_Area','ADM3_EN','geometry']]\n",
    "dist4.rename(columns={'ADM3_EN':'Place2'}, inplace=True, errors='raise')\n",
    "districts.append(dist4)\n",
    "\n",
    "# geting the shape file for districs21 \n",
    "dist5 = gpd.read_file('DATA\\ZA_SHAPES\\zaf_adm_sadb_ocha_20201109_SHP\\zaf_admbnda_adm4_sadb_ocha_20201109.shp')\n",
    "dist5 = dist5[['Shape_Area','ADM4_EN','geometry']]\n",
    "dist5.rename(columns={'ADM4_EN':'Place3'}, inplace=True, errors='raise')\n",
    "dist5 = dist5.astype({'Place3':int})\n",
    "districts.append(dist5)"
   ]
  },
  {
   "cell_type": "code",
   "execution_count": 3,
   "metadata": {},
   "outputs": [],
   "source": [
    "def adding_point(protests):\n",
    "    #creating a geometry for each of the protests\n",
    "    # Dropping all the Na\n",
    "    protests = protests[protests['longitude'].notna()]\n",
    "    protests = protests[protests['latitude'].notna()]\n",
    "\n",
    "\n",
    "    protests[\"latitude\"] = pd.to_numeric(protests[\"latitude\"],errors='coerce')\n",
    "    protests[\"longitude\"] = pd.to_numeric(protests[\"longitude\"],errors='coerce')\n",
    "\n",
    "    protests = protests[protests['longitude'].notna()]\n",
    "    protests = protests[protests['latitude'].notna()]\n",
    "\n",
    "    protests = gpd.GeoDataFrame(protests, geometry=gpd.points_from_xy(protests.longitude, protests.latitude))\n",
    "    protests = protests.drop(['latitude','longitude'],axis=1)\n",
    "    return(protests)"
   ]
  },
  {
   "cell_type": "code",
   "execution_count": 4,
   "metadata": {},
   "outputs": [],
   "source": [
    "def Adding_All_Locations(districts, csv):\n",
    "    n = 0\n",
    "    for dist in districts:\n",
    "        points = csv['geometry']\n",
    "        shapes = dist['geometry']\n",
    "        places = [0]*len(csv)\n",
    "\n",
    "        # we are going to need to enumerate\n",
    "        for i, point in enumerate(points):\n",
    "            temp = shapes.contains(point)\n",
    "            temp = temp.tolist()\n",
    "            if True in temp:\n",
    "                loc = temp.index(True)\n",
    "                place = dist.iloc[loc,1]\n",
    "                places[i] = place\n",
    "        \n",
    "        csv['Place'+ str(n)] = places\n",
    "        csv.reset_index()\n",
    "        n=n+1"
   ]
  },
  {
   "cell_type": "markdown",
   "metadata": {},
   "source": [
    "### Tweets"
   ]
  },
  {
   "cell_type": "code",
   "execution_count": 5,
   "metadata": {},
   "outputs": [],
   "source": [
    "tweets = pd.read_csv('DATA/rawtweets.csv')\n",
    "tweets['geometry'] = gpd.GeoSeries.from_wkt(tweets['geometry'])\n",
    "tweets = tweets.drop(['Unnamed: 0'],axis=1)"
   ]
  },
  {
   "cell_type": "code",
   "execution_count": 6,
   "metadata": {},
   "outputs": [],
   "source": [
    "# Adding the locations to the tweets\n",
    "# around 18 mins\n",
    "Adding_All_Locations(districts, tweets)\n",
    "tweets.to_csv('DATA/tweets.csv')\n"
   ]
  },
  {
   "cell_type": "markdown",
   "metadata": {},
   "source": [
    "### Protests"
   ]
  },
  {
   "cell_type": "code",
   "execution_count": 7,
   "metadata": {},
   "outputs": [],
   "source": [
    "df = pd.read_csv('DATA/fmf.csv')\n",
    "protests = df[['event_date','notes','latitude','longitude']]\n",
    "protests = protests.rename(columns = {'event_date': 'Date', 'admin3': 'Place'})\n",
    "protests['Date']=pd.to_datetime(protests['Date'], format='%Y %m %d')\n",
    "protests = adding_point(protests)\n",
    "# 2017-10-25"
   ]
  },
  {
   "cell_type": "code",
   "execution_count": 8,
   "metadata": {},
   "outputs": [],
   "source": [
    "# Adding the locations to the protests\n",
    "Adding_All_Locations(districts, protests)\n",
    "protests.to_csv('DATA/protests.csv')"
   ]
  },
  {
   "cell_type": "markdown",
   "metadata": {},
   "source": [
    "### Quick load of Data"
   ]
  },
  {
   "cell_type": "code",
   "execution_count": 9,
   "metadata": {},
   "outputs": [],
   "source": [
    "tweets = pd.read_csv('DATA/tweets.csv')\n",
    "tweets['Date']=pd.to_datetime(tweets['Date'], format='%Y %m %d')\n",
    "tweets['geometry'] = gpd.GeoSeries.from_wkt(tweets['geometry'])\n",
    "tweets = tweets.drop(['Unnamed: 0'],axis=1)\n",
    "\n",
    "protests = pd.read_csv('DATA/protests.csv')\n",
    "protests['Date']=pd.to_datetime(protests['Date'], format='%Y %m %d')\n",
    "protests['geometry'] = gpd.GeoSeries.from_wkt(protests['geometry'])\n",
    "protests = protests.drop(['Unnamed: 0'],axis=1)"
   ]
  },
  {
   "cell_type": "code",
   "execution_count": 10,
   "metadata": {},
   "outputs": [
    {
     "data": {
      "text/html": [
       "<div>\n",
       "<style scoped>\n",
       "    .dataframe tbody tr th:only-of-type {\n",
       "        vertical-align: middle;\n",
       "    }\n",
       "\n",
       "    .dataframe tbody tr th {\n",
       "        vertical-align: top;\n",
       "    }\n",
       "\n",
       "    .dataframe thead th {\n",
       "        text-align: right;\n",
       "    }\n",
       "</style>\n",
       "<table border=\"1\" class=\"dataframe\">\n",
       "  <thead>\n",
       "    <tr style=\"text-align: right;\">\n",
       "      <th></th>\n",
       "      <th>text</th>\n",
       "      <th>Date</th>\n",
       "      <th>geometry</th>\n",
       "      <th>author_followers</th>\n",
       "      <th>retweets</th>\n",
       "      <th>replies</th>\n",
       "      <th>likes</th>\n",
       "      <th>quote_count</th>\n",
       "      <th>Subjectivity</th>\n",
       "      <th>Polarity</th>\n",
       "      <th>...</th>\n",
       "      <th>locations</th>\n",
       "      <th>weapons</th>\n",
       "      <th>eventualities</th>\n",
       "      <th>curiosities</th>\n",
       "      <th>non_protests</th>\n",
       "      <th>universities</th>\n",
       "      <th>Place0</th>\n",
       "      <th>Place1</th>\n",
       "      <th>Place2</th>\n",
       "      <th>Place3</th>\n",
       "    </tr>\n",
       "  </thead>\n",
       "  <tbody>\n",
       "    <tr>\n",
       "      <th>0</th>\n",
       "      <td>#KZN We are on thee way! Hitting up Richards B...</td>\n",
       "      <td>2017-12-31</td>\n",
       "      <td>POINT (28.23140 -25.75450)</td>\n",
       "      <td>437807</td>\n",
       "      <td>0</td>\n",
       "      <td>1</td>\n",
       "      <td>21</td>\n",
       "      <td>0</td>\n",
       "      <td>0.066667</td>\n",
       "      <td>0.000000</td>\n",
       "      <td>...</td>\n",
       "      <td>NaN</td>\n",
       "      <td>NaN</td>\n",
       "      <td>NaN</td>\n",
       "      <td>NaN</td>\n",
       "      <td>NaN</td>\n",
       "      <td>['University of Pretoria']</td>\n",
       "      <td>Gauteng</td>\n",
       "      <td>City of Tshwane</td>\n",
       "      <td>City of Tshwane</td>\n",
       "      <td>56</td>\n",
       "    </tr>\n",
       "    <tr>\n",
       "      <th>1</th>\n",
       "      <td>@unisa the 3rd January registration is it for ...</td>\n",
       "      <td>2017-12-31</td>\n",
       "      <td>POINT (30.64532 -29.81931)</td>\n",
       "      <td>1101</td>\n",
       "      <td>0</td>\n",
       "      <td>0</td>\n",
       "      <td>0</td>\n",
       "      <td>0</td>\n",
       "      <td>0.227273</td>\n",
       "      <td>0.068182</td>\n",
       "      <td>...</td>\n",
       "      <td>['Tertiary Edu']</td>\n",
       "      <td>NaN</td>\n",
       "      <td>NaN</td>\n",
       "      <td>NaN</td>\n",
       "      <td>['Election campaigns']</td>\n",
       "      <td>NaN</td>\n",
       "      <td>KwaZulu-Natal</td>\n",
       "      <td>eThekwini</td>\n",
       "      <td>eThekwini</td>\n",
       "      <td>6</td>\n",
       "    </tr>\n",
       "  </tbody>\n",
       "</table>\n",
       "<p>2 rows × 25 columns</p>\n",
       "</div>"
      ],
      "text/plain": [
       "                                                text       Date  \\\n",
       "0  #KZN We are on thee way! Hitting up Richards B... 2017-12-31   \n",
       "1  @unisa the 3rd January registration is it for ... 2017-12-31   \n",
       "\n",
       "                     geometry  author_followers  retweets  replies  likes  \\\n",
       "0  POINT (28.23140 -25.75450)            437807         0        1     21   \n",
       "1  POINT (30.64532 -29.81931)              1101         0        0      0   \n",
       "\n",
       "   quote_count  Subjectivity  Polarity  ...         locations weapons  \\\n",
       "0            0      0.066667  0.000000  ...               NaN     NaN   \n",
       "1            0      0.227273  0.068182  ...  ['Tertiary Edu']     NaN   \n",
       "\n",
       "  eventualities curiosities            non_protests  \\\n",
       "0           NaN         NaN                     NaN   \n",
       "1           NaN         NaN  ['Election campaigns']   \n",
       "\n",
       "                 universities         Place0           Place1  \\\n",
       "0  ['University of Pretoria']        Gauteng  City of Tshwane   \n",
       "1                         NaN  KwaZulu-Natal        eThekwini   \n",
       "\n",
       "            Place2 Place3  \n",
       "0  City of Tshwane     56  \n",
       "1        eThekwini      6  \n",
       "\n",
       "[2 rows x 25 columns]"
      ]
     },
     "execution_count": 10,
     "metadata": {},
     "output_type": "execute_result"
    }
   ],
   "source": [
    "tweets.head(2)"
   ]
  },
  {
   "cell_type": "code",
   "execution_count": 11,
   "metadata": {},
   "outputs": [
    {
     "data": {
      "text/html": [
       "<div>\n",
       "<style scoped>\n",
       "    .dataframe tbody tr th:only-of-type {\n",
       "        vertical-align: middle;\n",
       "    }\n",
       "\n",
       "    .dataframe tbody tr th {\n",
       "        vertical-align: top;\n",
       "    }\n",
       "\n",
       "    .dataframe thead th {\n",
       "        text-align: right;\n",
       "    }\n",
       "</style>\n",
       "<table border=\"1\" class=\"dataframe\">\n",
       "  <thead>\n",
       "    <tr style=\"text-align: right;\">\n",
       "      <th></th>\n",
       "      <th>Date</th>\n",
       "      <th>notes</th>\n",
       "      <th>geometry</th>\n",
       "      <th>Place0</th>\n",
       "      <th>Place1</th>\n",
       "      <th>Place2</th>\n",
       "      <th>Place3</th>\n",
       "    </tr>\n",
       "  </thead>\n",
       "  <tbody>\n",
       "    <tr>\n",
       "      <th>0</th>\n",
       "      <td>2017-10-25</td>\n",
       "      <td>A few hundred Fees Must Fall protesters attemp...</td>\n",
       "      <td>POINT (18.47640 -33.96330)</td>\n",
       "      <td>Western Cape</td>\n",
       "      <td>City of Cape Town</td>\n",
       "      <td>City of Cape Town</td>\n",
       "      <td>58</td>\n",
       "    </tr>\n",
       "    <tr>\n",
       "      <th>1</th>\n",
       "      <td>2017-09-19</td>\n",
       "      <td>A group of #FeesMustFall students has stormed ...</td>\n",
       "      <td>POINT (18.47640 -33.96330)</td>\n",
       "      <td>Western Cape</td>\n",
       "      <td>City of Cape Town</td>\n",
       "      <td>City of Cape Town</td>\n",
       "      <td>58</td>\n",
       "    </tr>\n",
       "  </tbody>\n",
       "</table>\n",
       "</div>"
      ],
      "text/plain": [
       "        Date                                              notes  \\\n",
       "0 2017-10-25  A few hundred Fees Must Fall protesters attemp...   \n",
       "1 2017-09-19  A group of #FeesMustFall students has stormed ...   \n",
       "\n",
       "                     geometry        Place0             Place1  \\\n",
       "0  POINT (18.47640 -33.96330)  Western Cape  City of Cape Town   \n",
       "1  POINT (18.47640 -33.96330)  Western Cape  City of Cape Town   \n",
       "\n",
       "              Place2  Place3  \n",
       "0  City of Cape Town      58  \n",
       "1  City of Cape Town      58  "
      ]
     },
     "execution_count": 11,
     "metadata": {},
     "output_type": "execute_result"
    }
   ],
   "source": [
    "protests.head(2)"
   ]
  }
 ],
 "metadata": {
  "kernelspec": {
   "display_name": "Python 3.10.4 64-bit",
   "language": "python",
   "name": "python3"
  },
  "language_info": {
   "codemirror_mode": {
    "name": "ipython",
    "version": 3
   },
   "file_extension": ".py",
   "mimetype": "text/x-python",
   "name": "python",
   "nbconvert_exporter": "python",
   "pygments_lexer": "ipython3",
   "version": "3.10.4"
  },
  "orig_nbformat": 4,
  "vscode": {
   "interpreter": {
    "hash": "eb1e2aa17c9c03522ea469ed025d74c8a00b3c7801d0496b408e209436a13f2e"
   }
  }
 },
 "nbformat": 4,
 "nbformat_minor": 2
}
