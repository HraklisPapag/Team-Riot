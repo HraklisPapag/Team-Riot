{
 "cells": [
  {
   "cell_type": "markdown",
   "metadata": {},
   "source": [
    "# Content Analysis"
   ]
  },
  {
   "cell_type": "code",
   "execution_count": 1197,
   "metadata": {},
   "outputs": [],
   "source": [
    "import numpy as np\n",
    "import pandas as pd\n",
    "from cmath import nan"
   ]
  },
  {
   "cell_type": "code",
   "execution_count": 1198,
   "metadata": {},
   "outputs": [],
   "source": [
    "data = pd.read_csv('DATA/Clean_Tweets_All_Info.csv')"
   ]
  },
  {
   "cell_type": "code",
   "execution_count": 1199,
   "metadata": {},
   "outputs": [],
   "source": [
    "data.drop(['Unnamed: 0.1', 'Unnamed: 0'], axis = 1, inplace = True)"
   ]
  },
  {
   "cell_type": "code",
   "execution_count": 1200,
   "metadata": {},
   "outputs": [],
   "source": [
    "tweets = data.head(10)"
   ]
  },
  {
   "cell_type": "code",
   "execution_count": 1201,
   "metadata": {},
   "outputs": [
    {
     "data": {
      "text/html": [
       "<div>\n",
       "<style scoped>\n",
       "    .dataframe tbody tr th:only-of-type {\n",
       "        vertical-align: middle;\n",
       "    }\n",
       "\n",
       "    .dataframe tbody tr th {\n",
       "        vertical-align: top;\n",
       "    }\n",
       "\n",
       "    .dataframe thead th {\n",
       "        text-align: right;\n",
       "    }\n",
       "</style>\n",
       "<table border=\"1\" class=\"dataframe\">\n",
       "  <thead>\n",
       "    <tr style=\"text-align: right;\">\n",
       "      <th></th>\n",
       "      <th>tweet_id</th>\n",
       "      <th>author_followers</th>\n",
       "      <th>text</th>\n",
       "      <th>created_at</th>\n",
       "      <th>retweets</th>\n",
       "      <th>replies</th>\n",
       "      <th>likes</th>\n",
       "      <th>quote_count</th>\n",
       "      <th>place_id</th>\n",
       "      <th>place_name</th>\n",
       "      <th>mentioned_users</th>\n",
       "      <th>hashtags</th>\n",
       "      <th>emojis</th>\n",
       "      <th>urls</th>\n",
       "      <th>cleaned_text</th>\n",
       "      <th>coords</th>\n",
       "      <th>geometry</th>\n",
       "    </tr>\n",
       "  </thead>\n",
       "  <tbody>\n",
       "    <tr>\n",
       "      <th>0</th>\n",
       "      <td>1575493060024143874</td>\n",
       "      <td>6160</td>\n",
       "      <td>@_Hermano_7 PSL players would riot 😭</td>\n",
       "      <td>2022-09-29 14:29:51+00:00</td>\n",
       "      <td>0</td>\n",
       "      <td>1</td>\n",
       "      <td>0</td>\n",
       "      <td>0</td>\n",
       "      <td>{'place_id': 'e564d30dc173d2a8'}</td>\n",
       "      <td>Johannesburg, South Africa</td>\n",
       "      <td>['@_Hermano_7']</td>\n",
       "      <td>NaN</td>\n",
       "      <td>['😭']</td>\n",
       "      <td>NaN</td>\n",
       "      <td>psl player would riot</td>\n",
       "      <td>[27.7518557, -26.5126489, 28.1843404, -26.0396...</td>\n",
       "      <td>POINT (27.968098050000002 -26.276138500000002)</td>\n",
       "    </tr>\n",
       "    <tr>\n",
       "      <th>1</th>\n",
       "      <td>1575489974316584961</td>\n",
       "      <td>1329</td>\n",
       "      <td>Spx yesterday's rally\\nPoof gone https://t.co/...</td>\n",
       "      <td>2022-09-29 14:17:35+00:00</td>\n",
       "      <td>0</td>\n",
       "      <td>0</td>\n",
       "      <td>1</td>\n",
       "      <td>0</td>\n",
       "      <td>{'place_id': 'a02e6c261fa62b42'}</td>\n",
       "      <td>Benoni, South Africa</td>\n",
       "      <td>NaN</td>\n",
       "      <td>NaN</td>\n",
       "      <td>NaN</td>\n",
       "      <td>https://t.co/hvAYVEs6NU</td>\n",
       "      <td>spx yesterday's rally\\npoof go</td>\n",
       "      <td>[28.2722463, -26.2315204, 28.4449594, -26.0681...</td>\n",
       "      <td>POINT (28.358602849999997 -26.14985695)</td>\n",
       "    </tr>\n",
       "  </tbody>\n",
       "</table>\n",
       "</div>"
      ],
      "text/plain": [
       "              tweet_id  author_followers  \\\n",
       "0  1575493060024143874              6160   \n",
       "1  1575489974316584961              1329   \n",
       "\n",
       "                                                text  \\\n",
       "0               @_Hermano_7 PSL players would riot 😭   \n",
       "1  Spx yesterday's rally\\nPoof gone https://t.co/...   \n",
       "\n",
       "                  created_at  retweets  replies  likes  quote_count  \\\n",
       "0  2022-09-29 14:29:51+00:00         0        1      0            0   \n",
       "1  2022-09-29 14:17:35+00:00         0        0      1            0   \n",
       "\n",
       "                           place_id                  place_name  \\\n",
       "0  {'place_id': 'e564d30dc173d2a8'}  Johannesburg, South Africa   \n",
       "1  {'place_id': 'a02e6c261fa62b42'}        Benoni, South Africa   \n",
       "\n",
       "   mentioned_users hashtags emojis                     urls  \\\n",
       "0  ['@_Hermano_7']      NaN  ['😭']                      NaN   \n",
       "1              NaN      NaN    NaN  https://t.co/hvAYVEs6NU   \n",
       "\n",
       "                     cleaned_text  \\\n",
       "0           psl player would riot   \n",
       "1  spx yesterday's rally\\npoof go   \n",
       "\n",
       "                                              coords  \\\n",
       "0  [27.7518557, -26.5126489, 28.1843404, -26.0396...   \n",
       "1  [28.2722463, -26.2315204, 28.4449594, -26.0681...   \n",
       "\n",
       "                                         geometry  \n",
       "0  POINT (27.968098050000002 -26.276138500000002)  \n",
       "1         POINT (28.358602849999997 -26.14985695)  "
      ]
     },
     "execution_count": 1201,
     "metadata": {},
     "output_type": "execute_result"
    }
   ],
   "source": [
    "tweets.head(2)"
   ]
  },
  {
   "cell_type": "markdown",
   "metadata": {},
   "source": [
    "### Convert String Representation of a List to an Actual List of Strings"
   ]
  },
  {
   "cell_type": "code",
   "execution_count": 1202,
   "metadata": {},
   "outputs": [],
   "source": [
    "def split_string(string):\n",
    "    if string == string:\n",
    "        string = string.lower()\n",
    "        string = string.replace(\"'\", \"\")\n",
    "        out = string.strip('][').split(', ')\n",
    "        return out\n",
    "    else:\n",
    "        return nan"
   ]
  },
  {
   "cell_type": "markdown",
   "metadata": {},
   "source": [
    "### Define String Extractor"
   ]
  },
  {
   "cell_type": "code",
   "execution_count": 1203,
   "metadata": {},
   "outputs": [],
   "source": [
    "def string_substring(string, substring):\n",
    "    # Lower ensures that the vocab is case insensitive\n",
    "    string = string.lower()\n",
    "    substring = substring.lower()\n",
    "\n",
    "    if substring in string:\n",
    "        return True\n",
    "    else:\n",
    "        return False"
   ]
  },
  {
   "cell_type": "markdown",
   "metadata": {},
   "source": [
    "### Content Analysis method\n",
    "Takes in a vocabulary as argument and outputs a list that corresponds to a list of concepts for each tweet"
   ]
  },
  {
   "cell_type": "code",
   "execution_count": 1204,
   "metadata": {},
   "outputs": [],
   "source": [
    "def content_analysis(vocabulary):\n",
    "    list = []\n",
    "\n",
    "    # Loop Through Tweets\n",
    "    for iter_t, tweet in tweets.iterrows():\n",
    "        sub_list = []\n",
    "        #Loop Through Vocab\n",
    "        for iter_g, vocab in vocabulary.iterrows():\n",
    "            # Loop Through Phrases in Vocab\n",
    "            for phrase in vocab['Phrases']:\n",
    "                # Check if Phrase is in Text\n",
    "                if string_substring(tweet['text'], phrase):\n",
    "                    if vocab['Conditional_Phrases'] != vocab['Conditional_Phrases']:\n",
    "                        sub_list.append(vocab['Concept'])\n",
    "                        break\n",
    "                    else:\n",
    "                        # Loop Through Conditional Phrases in Vocab\n",
    "                        for con_phrase in vocab['Conditional_Phrases']:\n",
    "                            # Check to see if there are Conditional Phrases otherwise break\n",
    "                            if string_substring(tweet['text'], con_phrase):\n",
    "                                sub_list.append(vocab['Concept'])\n",
    "                                break\n",
    "                            # Check if the conditional phrase has a NOT Operator\n",
    "                            elif '%not%' in con_phrase:\n",
    "                                con_phrase = con_phrase[6:]\n",
    "                                if not string_substring(tweet['text'], con_phrase):\n",
    "                                    sub_list.append(vocab['Concept'])\n",
    "                                    break\n",
    "\n",
    "        list.append(sub_list)\n",
    "    return list"
   ]
  },
  {
   "cell_type": "markdown",
   "metadata": {},
   "source": [
    "### Best attempt I could using pandas functions opposed to nested for loops\n",
    "Just use above method, if it is too slow then coome back to this one and try improve it"
   ]
  },
  {
   "cell_type": "code",
   "execution_count": 1205,
   "metadata": {},
   "outputs": [],
   "source": [
    "# s = grievances.explode('Phrases').set_index('Phrases')['Concept']\n",
    "# tweets['Grievances'] = (tweets['text'].str.split()\n",
    "#                  .explode().map(s).dropna()\n",
    "#                  .groupby(level=0).agg(set)\n",
    "#                 )"
   ]
  },
  {
   "cell_type": "code",
   "execution_count": 1206,
   "metadata": {},
   "outputs": [],
   "source": [
    "# Generic Code:\n",
    "# s = df_2.explode('Words').set_index('Words')['Name']\n",
    "# df_1['Names'] = (df_1['Paragraph'].str.split()\n",
    "#                  .explode().map(s).dropna()\n",
    "#                  .groupby(level=0).agg(set)\n",
    "#                 )"
   ]
  },
  {
   "cell_type": "markdown",
   "metadata": {},
   "source": [
    "### Load in All Vocabs\n",
    "And ensure all vocab lists set up correctly"
   ]
  },
  {
   "cell_type": "code",
   "execution_count": 1207,
   "metadata": {},
   "outputs": [],
   "source": [
    "grievances = pd.read_excel('DATA/Vocabularies/grievances.xlsx')\n",
    "grievances.drop('Unnamed: 0', axis = 1, inplace = True)\n",
    "grievances['Phrases'] = grievances['Phrases'].apply(lambda x: split_string(x))\n",
    "grievances['Conditional_Phrases'] = grievances['Conditional_Phrases'].apply(lambda x: split_string(x))"
   ]
  },
  {
   "cell_type": "code",
   "execution_count": 1208,
   "metadata": {},
   "outputs": [],
   "source": [
    "triggers = pd.read_excel('DATA/Vocabularies/trigger.xlsx')\n",
    "triggers.drop('Unnamed: 0', axis = 1, inplace = True)\n",
    "triggers['Phrases'] = triggers['Phrases'].apply(lambda x: split_string(x))\n",
    "triggers['Conditional_Phrases'] = triggers['Conditional_Phrases'].apply(lambda x: split_string(x))"
   ]
  },
  {
   "cell_type": "code",
   "execution_count": 1209,
   "metadata": {},
   "outputs": [],
   "source": [
    "tactics = pd.read_excel('DATA/Vocabularies/tactic.xlsx')\n",
    "tactics.drop('Unnamed: 0', axis = 1, inplace = True)\n",
    "tactics['Phrases'] = tactics['Phrases'].apply(lambda x: split_string(x))\n",
    "tactics['Conditional_Phrases'] = tactics['Conditional_Phrases'].apply(lambda x: split_string(x))"
   ]
  },
  {
   "cell_type": "code",
   "execution_count": 1210,
   "metadata": {},
   "outputs": [],
   "source": [
    "actors = pd.read_excel('DATA/Vocabularies/actors.xlsx')\n",
    "actors.drop('Unnamed: 0', axis = 1, inplace = True)\n",
    "actors['Phrases'] = actors['Phrases'].apply(lambda x: split_string(x))\n",
    "actors['Conditional_Phrases'] = actors['Conditional_Phrases'].apply(lambda x: split_string(x))"
   ]
  },
  {
   "cell_type": "code",
   "execution_count": 1211,
   "metadata": {},
   "outputs": [],
   "source": [
    "locations = pd.read_excel('DATA/Vocabularies/locations.xlsx')\n",
    "locations.drop('Unnamed: 0', axis = 1, inplace = True)\n",
    "locations['Phrases'] = locations['Phrases'].apply(lambda x: split_string(x))\n",
    "locations['Conditional_Phrases'] = locations['Conditional_Phrases'].apply(lambda x: split_string(x))"
   ]
  },
  {
   "cell_type": "code",
   "execution_count": 1212,
   "metadata": {},
   "outputs": [],
   "source": [
    "weapons = pd.read_excel('DATA/Vocabularies/weapons.xlsx')\n",
    "weapons.drop('Unnamed: 0', axis = 1, inplace = True)\n",
    "weapons['Phrases'] = weapons['Phrases'].apply(lambda x: split_string(x))\n",
    "weapons['Conditional_Phrases'] = weapons['Conditional_Phrases'].apply(lambda x: split_string(x))"
   ]
  },
  {
   "cell_type": "code",
   "execution_count": 1213,
   "metadata": {},
   "outputs": [],
   "source": [
    "eventualities = pd.read_excel('DATA/Vocabularies/eventuality.xlsx')\n",
    "eventualities.drop('Unnamed: 0', axis = 1, inplace = True)\n",
    "eventualities['Phrases'] = eventualities['Phrases'].apply(lambda x: split_string(x))\n",
    "eventualities['Conditional_Phrases'] = eventualities['Conditional_Phrases'].apply(lambda x: split_string(x))"
   ]
  },
  {
   "cell_type": "code",
   "execution_count": 1214,
   "metadata": {},
   "outputs": [],
   "source": [
    "curiosities = pd.read_excel('DATA/Vocabularies/curiosity.xlsx')\n",
    "curiosities.drop('Unnamed: 0', axis = 1, inplace = True)\n",
    "curiosities['Phrases'] = curiosities['Phrases'].apply(lambda x: split_string(x))\n",
    "curiosities['Conditional_Phrases'] = curiosities['Conditional_Phrases'].apply(lambda x: split_string(x))"
   ]
  },
  {
   "cell_type": "code",
   "execution_count": 1215,
   "metadata": {},
   "outputs": [],
   "source": [
    "non_protests = pd.read_excel('DATA/Vocabularies/non_protest.xlsx')\n",
    "non_protests.drop('Unnamed: 0', axis = 1, inplace = True)\n",
    "non_protests['Phrases'] = non_protests['Phrases'].apply(lambda x: split_string(x))\n",
    "non_protests['Conditional_Phrases'] = non_protests['Conditional_Phrases'].apply(lambda x: split_string(x))"
   ]
  },
  {
   "cell_type": "markdown",
   "metadata": {},
   "source": [
    "###  Content Analysis for all vocabs:\n",
    "* Grievances\n",
    "* Trigger\n",
    "* Tactic\n",
    "* Actors\n",
    "* Location\n",
    "* Weapons\n",
    "* Eventuality\n",
    "* Curiosity\n",
    "* Non-Protest"
   ]
  },
  {
   "cell_type": "markdown",
   "metadata": {},
   "source": [
    "### *NB Find a way to remove 'A value is trying to be set on a copy of a slice from a DataFrame.' Warning"
   ]
  },
  {
   "cell_type": "code",
   "execution_count": 1216,
   "metadata": {},
   "outputs": [],
   "source": [
    "# Hide Warning for now\n",
    "pd.options.mode.chained_assignment = None  # default='warn'"
   ]
  },
  {
   "cell_type": "code",
   "execution_count": 1217,
   "metadata": {},
   "outputs": [],
   "source": [
    "tweets['grievances'] = content_analysis(grievances)"
   ]
  },
  {
   "cell_type": "code",
   "execution_count": 1218,
   "metadata": {},
   "outputs": [],
   "source": [
    "tweets['triggers'] = content_analysis(triggers)"
   ]
  },
  {
   "cell_type": "code",
   "execution_count": 1219,
   "metadata": {},
   "outputs": [],
   "source": [
    "tweets['tactics'] = content_analysis(tactics)"
   ]
  },
  {
   "cell_type": "code",
   "execution_count": 1220,
   "metadata": {},
   "outputs": [],
   "source": [
    "tweets['actors'] = content_analysis(actors)"
   ]
  },
  {
   "cell_type": "code",
   "execution_count": 1221,
   "metadata": {},
   "outputs": [],
   "source": [
    "tweets['locations'] = content_analysis(locations)"
   ]
  },
  {
   "cell_type": "code",
   "execution_count": 1222,
   "metadata": {},
   "outputs": [],
   "source": [
    "tweets['weapons'] = content_analysis(weapons)"
   ]
  },
  {
   "cell_type": "code",
   "execution_count": 1223,
   "metadata": {},
   "outputs": [],
   "source": [
    "tweets['eventualities'] = content_analysis(eventualities)"
   ]
  },
  {
   "cell_type": "code",
   "execution_count": 1224,
   "metadata": {},
   "outputs": [],
   "source": [
    "tweets['curiosities'] = content_analysis(curiosities)"
   ]
  },
  {
   "cell_type": "code",
   "execution_count": 1225,
   "metadata": {},
   "outputs": [],
   "source": [
    "tweets['non_protests'] = content_analysis(non_protests)"
   ]
  },
  {
   "cell_type": "code",
   "execution_count": 1226,
   "metadata": {},
   "outputs": [
    {
     "data": {
      "text/html": [
       "<div>\n",
       "<style scoped>\n",
       "    .dataframe tbody tr th:only-of-type {\n",
       "        vertical-align: middle;\n",
       "    }\n",
       "\n",
       "    .dataframe tbody tr th {\n",
       "        vertical-align: top;\n",
       "    }\n",
       "\n",
       "    .dataframe thead th {\n",
       "        text-align: right;\n",
       "    }\n",
       "</style>\n",
       "<table border=\"1\" class=\"dataframe\">\n",
       "  <thead>\n",
       "    <tr style=\"text-align: right;\">\n",
       "      <th></th>\n",
       "      <th>tweet_id</th>\n",
       "      <th>author_followers</th>\n",
       "      <th>text</th>\n",
       "      <th>created_at</th>\n",
       "      <th>retweets</th>\n",
       "      <th>replies</th>\n",
       "      <th>likes</th>\n",
       "      <th>quote_count</th>\n",
       "      <th>place_id</th>\n",
       "      <th>place_name</th>\n",
       "      <th>...</th>\n",
       "      <th>geometry</th>\n",
       "      <th>grievances</th>\n",
       "      <th>triggers</th>\n",
       "      <th>tactics</th>\n",
       "      <th>actors</th>\n",
       "      <th>locations</th>\n",
       "      <th>weapons</th>\n",
       "      <th>eventualities</th>\n",
       "      <th>curiosities</th>\n",
       "      <th>non_protests</th>\n",
       "    </tr>\n",
       "  </thead>\n",
       "  <tbody>\n",
       "    <tr>\n",
       "      <th>0</th>\n",
       "      <td>1575493060024143874</td>\n",
       "      <td>6160</td>\n",
       "      <td>@_Hermano_7 PSL players would riot 😭</td>\n",
       "      <td>2022-09-29 14:29:51+00:00</td>\n",
       "      <td>0</td>\n",
       "      <td>1</td>\n",
       "      <td>0</td>\n",
       "      <td>0</td>\n",
       "      <td>{'place_id': 'e564d30dc173d2a8'}</td>\n",
       "      <td>Johannesburg, South Africa</td>\n",
       "      <td>...</td>\n",
       "      <td>POINT (27.968098050000002 -26.276138500000002)</td>\n",
       "      <td>[]</td>\n",
       "      <td>[]</td>\n",
       "      <td>[Disrupt]</td>\n",
       "      <td>[]</td>\n",
       "      <td>[]</td>\n",
       "      <td>[]</td>\n",
       "      <td>[]</td>\n",
       "      <td>[]</td>\n",
       "      <td>[Football matches]</td>\n",
       "    </tr>\n",
       "    <tr>\n",
       "      <th>1</th>\n",
       "      <td>1575489974316584961</td>\n",
       "      <td>1329</td>\n",
       "      <td>Spx yesterday's rally\\nPoof gone https://t.co/...</td>\n",
       "      <td>2022-09-29 14:17:35+00:00</td>\n",
       "      <td>0</td>\n",
       "      <td>0</td>\n",
       "      <td>1</td>\n",
       "      <td>0</td>\n",
       "      <td>{'place_id': 'a02e6c261fa62b42'}</td>\n",
       "      <td>Benoni, South Africa</td>\n",
       "      <td>...</td>\n",
       "      <td>POINT (28.358602849999997 -26.14985695)</td>\n",
       "      <td>[]</td>\n",
       "      <td>[]</td>\n",
       "      <td>[]</td>\n",
       "      <td>[Political Party]</td>\n",
       "      <td>[]</td>\n",
       "      <td>[]</td>\n",
       "      <td>[]</td>\n",
       "      <td>[]</td>\n",
       "      <td>[Election campaigns]</td>\n",
       "    </tr>\n",
       "    <tr>\n",
       "      <th>2</th>\n",
       "      <td>1575482837989474304</td>\n",
       "      <td>1436</td>\n",
       "      <td>@JohnPerlman A driverless car wouldn't work in...</td>\n",
       "      <td>2022-09-29 13:49:14+00:00</td>\n",
       "      <td>1</td>\n",
       "      <td>0</td>\n",
       "      <td>0</td>\n",
       "      <td>0</td>\n",
       "      <td>{'place_id': '0e587c59401d0a27'}</td>\n",
       "      <td>Pretoria, South Africa</td>\n",
       "      <td>...</td>\n",
       "      <td>POINT (28.184066 -25.75260515)</td>\n",
       "      <td>[Services B]</td>\n",
       "      <td>[]</td>\n",
       "      <td>[Disrupt]</td>\n",
       "      <td>[]</td>\n",
       "      <td>[]</td>\n",
       "      <td>[]</td>\n",
       "      <td>[]</td>\n",
       "      <td>[]</td>\n",
       "      <td>[]</td>\n",
       "    </tr>\n",
       "    <tr>\n",
       "      <th>3</th>\n",
       "      <td>1575438290962075648</td>\n",
       "      <td>1881</td>\n",
       "      <td>We used to catch a train from Ikwezi to Mzimhl...</td>\n",
       "      <td>2022-09-29 10:52:13+00:00</td>\n",
       "      <td>1</td>\n",
       "      <td>0</td>\n",
       "      <td>1</td>\n",
       "      <td>0</td>\n",
       "      <td>{'place_id': '3e46a98adcf05e59'}</td>\n",
       "      <td>Meadowlands, South Africa</td>\n",
       "      <td>...</td>\n",
       "      <td>POINT (27.89356105 -26.2161891)</td>\n",
       "      <td>[]</td>\n",
       "      <td>[]</td>\n",
       "      <td>[]</td>\n",
       "      <td>[Political Party, Church]</td>\n",
       "      <td>[Church]</td>\n",
       "      <td>[]</td>\n",
       "      <td>[]</td>\n",
       "      <td>[]</td>\n",
       "      <td>[Election campaigns]</td>\n",
       "    </tr>\n",
       "    <tr>\n",
       "      <th>4</th>\n",
       "      <td>1575418000047472641</td>\n",
       "      <td>985</td>\n",
       "      <td>Thunder ⛈ Fire Go Strike You, Fo De Ting You D...</td>\n",
       "      <td>2022-09-29 09:31:35+00:00</td>\n",
       "      <td>0</td>\n",
       "      <td>0</td>\n",
       "      <td>0</td>\n",
       "      <td>0</td>\n",
       "      <td>{'place_id': '2cef54f8b7d99a87'}</td>\n",
       "      <td>Kokosi, South Africa</td>\n",
       "      <td>...</td>\n",
       "      <td>POINT (27.46964785 -26.5042489)</td>\n",
       "      <td>[]</td>\n",
       "      <td>[]</td>\n",
       "      <td>[Disrupt]</td>\n",
       "      <td>[]</td>\n",
       "      <td>[]</td>\n",
       "      <td>[]</td>\n",
       "      <td>[]</td>\n",
       "      <td>[]</td>\n",
       "      <td>[]</td>\n",
       "    </tr>\n",
       "    <tr>\n",
       "      <th>5</th>\n",
       "      <td>1575403701388419073</td>\n",
       "      <td>1192</td>\n",
       "      <td>@chrislowndes @Novari13 @EmbassyofRussia @mfa_...</td>\n",
       "      <td>2022-09-29 08:34:46+00:00</td>\n",
       "      <td>0</td>\n",
       "      <td>2</td>\n",
       "      <td>0</td>\n",
       "      <td>0</td>\n",
       "      <td>{'place_id': '0e587c59401d0a27'}</td>\n",
       "      <td>Pretoria, South Africa</td>\n",
       "      <td>...</td>\n",
       "      <td>POINT (28.184066 -25.75260515)</td>\n",
       "      <td>[Internat Solidarity]</td>\n",
       "      <td>[]</td>\n",
       "      <td>[March]</td>\n",
       "      <td>[]</td>\n",
       "      <td>[]</td>\n",
       "      <td>[Crowd weapons]</td>\n",
       "      <td>[]</td>\n",
       "      <td>[]</td>\n",
       "      <td>[]</td>\n",
       "    </tr>\n",
       "    <tr>\n",
       "      <th>6</th>\n",
       "      <td>1575399951739363328</td>\n",
       "      <td>9156</td>\n",
       "      <td>The only way to remove ANC is to vote them out...</td>\n",
       "      <td>2022-09-29 08:19:52+00:00</td>\n",
       "      <td>0</td>\n",
       "      <td>0</td>\n",
       "      <td>2</td>\n",
       "      <td>0</td>\n",
       "      <td>{'place_id': '4a1714afea001cb6'}</td>\n",
       "      <td>Seshego, South Africa</td>\n",
       "      <td>...</td>\n",
       "      <td>POINT (29.375138200000002 -23.848874799999997)</td>\n",
       "      <td>[]</td>\n",
       "      <td>[]</td>\n",
       "      <td>[March]</td>\n",
       "      <td>[Union, Political Party]</td>\n",
       "      <td>[]</td>\n",
       "      <td>[]</td>\n",
       "      <td>[]</td>\n",
       "      <td>[]</td>\n",
       "      <td>[Election days]</td>\n",
       "    </tr>\n",
       "    <tr>\n",
       "      <th>7</th>\n",
       "      <td>1575391166291480577</td>\n",
       "      <td>1760</td>\n",
       "      <td>Go shota R1000 ya registration \\n\\nBlesser: +R...</td>\n",
       "      <td>2022-09-29 07:44:58+00:00</td>\n",
       "      <td>0</td>\n",
       "      <td>0</td>\n",
       "      <td>0</td>\n",
       "      <td>0</td>\n",
       "      <td>{'place_id': 'd73e8f8ebdd03aff'}</td>\n",
       "      <td>Randburg, South Africa</td>\n",
       "      <td>...</td>\n",
       "      <td>POINT (27.95745755 -26.0197197)</td>\n",
       "      <td>[]</td>\n",
       "      <td>[]</td>\n",
       "      <td>[]</td>\n",
       "      <td>[]</td>\n",
       "      <td>[]</td>\n",
       "      <td>[]</td>\n",
       "      <td>[]</td>\n",
       "      <td>[]</td>\n",
       "      <td>[Election campaigns]</td>\n",
       "    </tr>\n",
       "    <tr>\n",
       "      <th>8</th>\n",
       "      <td>1575359862191554560</td>\n",
       "      <td>2949</td>\n",
       "      <td>Northern Cape BWD Rally, Theme:Missional Woman...</td>\n",
       "      <td>2022-09-29 05:40:34+00:00</td>\n",
       "      <td>0</td>\n",
       "      <td>0</td>\n",
       "      <td>1</td>\n",
       "      <td>0</td>\n",
       "      <td>{'place_id': '1465fdb4074020c2'}</td>\n",
       "      <td>Germiston, South Africa</td>\n",
       "      <td>...</td>\n",
       "      <td>POINT (28.1799355 -26.228828550000003)</td>\n",
       "      <td>[]</td>\n",
       "      <td>[]</td>\n",
       "      <td>[]</td>\n",
       "      <td>[Political Party]</td>\n",
       "      <td>[]</td>\n",
       "      <td>[]</td>\n",
       "      <td>[]</td>\n",
       "      <td>[]</td>\n",
       "      <td>[Election campaigns]</td>\n",
       "    </tr>\n",
       "    <tr>\n",
       "      <th>9</th>\n",
       "      <td>1575359486281252864</td>\n",
       "      <td>3803</td>\n",
       "      <td>Northern Cape BWD Rally, Theme:Missional Woman...</td>\n",
       "      <td>2022-09-29 05:39:04+00:00</td>\n",
       "      <td>1</td>\n",
       "      <td>0</td>\n",
       "      <td>1</td>\n",
       "      <td>0</td>\n",
       "      <td>{'place_id': '1465fdb4074020c2'}</td>\n",
       "      <td>Germiston, South Africa</td>\n",
       "      <td>...</td>\n",
       "      <td>POINT (28.1799355 -26.228828550000003)</td>\n",
       "      <td>[]</td>\n",
       "      <td>[]</td>\n",
       "      <td>[]</td>\n",
       "      <td>[Political Party]</td>\n",
       "      <td>[]</td>\n",
       "      <td>[]</td>\n",
       "      <td>[]</td>\n",
       "      <td>[]</td>\n",
       "      <td>[Election campaigns]</td>\n",
       "    </tr>\n",
       "  </tbody>\n",
       "</table>\n",
       "<p>10 rows × 26 columns</p>\n",
       "</div>"
      ],
      "text/plain": [
       "              tweet_id  author_followers  \\\n",
       "0  1575493060024143874              6160   \n",
       "1  1575489974316584961              1329   \n",
       "2  1575482837989474304              1436   \n",
       "3  1575438290962075648              1881   \n",
       "4  1575418000047472641               985   \n",
       "5  1575403701388419073              1192   \n",
       "6  1575399951739363328              9156   \n",
       "7  1575391166291480577              1760   \n",
       "8  1575359862191554560              2949   \n",
       "9  1575359486281252864              3803   \n",
       "\n",
       "                                                text  \\\n",
       "0               @_Hermano_7 PSL players would riot 😭   \n",
       "1  Spx yesterday's rally\\nPoof gone https://t.co/...   \n",
       "2  @JohnPerlman A driverless car wouldn't work in...   \n",
       "3  We used to catch a train from Ikwezi to Mzimhl...   \n",
       "4  Thunder ⛈ Fire Go Strike You, Fo De Ting You D...   \n",
       "5  @chrislowndes @Novari13 @EmbassyofRussia @mfa_...   \n",
       "6  The only way to remove ANC is to vote them out...   \n",
       "7  Go shota R1000 ya registration \\n\\nBlesser: +R...   \n",
       "8  Northern Cape BWD Rally, Theme:Missional Woman...   \n",
       "9  Northern Cape BWD Rally, Theme:Missional Woman...   \n",
       "\n",
       "                  created_at  retweets  replies  likes  quote_count  \\\n",
       "0  2022-09-29 14:29:51+00:00         0        1      0            0   \n",
       "1  2022-09-29 14:17:35+00:00         0        0      1            0   \n",
       "2  2022-09-29 13:49:14+00:00         1        0      0            0   \n",
       "3  2022-09-29 10:52:13+00:00         1        0      1            0   \n",
       "4  2022-09-29 09:31:35+00:00         0        0      0            0   \n",
       "5  2022-09-29 08:34:46+00:00         0        2      0            0   \n",
       "6  2022-09-29 08:19:52+00:00         0        0      2            0   \n",
       "7  2022-09-29 07:44:58+00:00         0        0      0            0   \n",
       "8  2022-09-29 05:40:34+00:00         0        0      1            0   \n",
       "9  2022-09-29 05:39:04+00:00         1        0      1            0   \n",
       "\n",
       "                           place_id                  place_name  ...  \\\n",
       "0  {'place_id': 'e564d30dc173d2a8'}  Johannesburg, South Africa  ...   \n",
       "1  {'place_id': 'a02e6c261fa62b42'}        Benoni, South Africa  ...   \n",
       "2  {'place_id': '0e587c59401d0a27'}      Pretoria, South Africa  ...   \n",
       "3  {'place_id': '3e46a98adcf05e59'}   Meadowlands, South Africa  ...   \n",
       "4  {'place_id': '2cef54f8b7d99a87'}        Kokosi, South Africa  ...   \n",
       "5  {'place_id': '0e587c59401d0a27'}      Pretoria, South Africa  ...   \n",
       "6  {'place_id': '4a1714afea001cb6'}       Seshego, South Africa  ...   \n",
       "7  {'place_id': 'd73e8f8ebdd03aff'}      Randburg, South Africa  ...   \n",
       "8  {'place_id': '1465fdb4074020c2'}     Germiston, South Africa  ...   \n",
       "9  {'place_id': '1465fdb4074020c2'}     Germiston, South Africa  ...   \n",
       "\n",
       "                                         geometry             grievances  \\\n",
       "0  POINT (27.968098050000002 -26.276138500000002)                     []   \n",
       "1         POINT (28.358602849999997 -26.14985695)                     []   \n",
       "2                  POINT (28.184066 -25.75260515)           [Services B]   \n",
       "3                 POINT (27.89356105 -26.2161891)                     []   \n",
       "4                 POINT (27.46964785 -26.5042489)                     []   \n",
       "5                  POINT (28.184066 -25.75260515)  [Internat Solidarity]   \n",
       "6  POINT (29.375138200000002 -23.848874799999997)                     []   \n",
       "7                 POINT (27.95745755 -26.0197197)                     []   \n",
       "8          POINT (28.1799355 -26.228828550000003)                     []   \n",
       "9          POINT (28.1799355 -26.228828550000003)                     []   \n",
       "\n",
       "  triggers    tactics                     actors locations          weapons  \\\n",
       "0       []  [Disrupt]                         []        []               []   \n",
       "1       []         []          [Political Party]        []               []   \n",
       "2       []  [Disrupt]                         []        []               []   \n",
       "3       []         []  [Political Party, Church]  [Church]               []   \n",
       "4       []  [Disrupt]                         []        []               []   \n",
       "5       []    [March]                         []        []  [Crowd weapons]   \n",
       "6       []    [March]   [Union, Political Party]        []               []   \n",
       "7       []         []                         []        []               []   \n",
       "8       []         []          [Political Party]        []               []   \n",
       "9       []         []          [Political Party]        []               []   \n",
       "\n",
       "  eventualities curiosities          non_protests  \n",
       "0            []          []    [Football matches]  \n",
       "1            []          []  [Election campaigns]  \n",
       "2            []          []                    []  \n",
       "3            []          []  [Election campaigns]  \n",
       "4            []          []                    []  \n",
       "5            []          []                    []  \n",
       "6            []          []       [Election days]  \n",
       "7            []          []  [Election campaigns]  \n",
       "8            []          []  [Election campaigns]  \n",
       "9            []          []  [Election campaigns]  \n",
       "\n",
       "[10 rows x 26 columns]"
      ]
     },
     "execution_count": 1226,
     "metadata": {},
     "output_type": "execute_result"
    }
   ],
   "source": [
    "tweets.head(10)"
   ]
  },
  {
   "cell_type": "code",
   "execution_count": 1227,
   "metadata": {},
   "outputs": [],
   "source": [
    "tweets.to_csv('test.csv')"
   ]
  }
 ],
 "metadata": {
  "kernelspec": {
   "display_name": "Python 3.10.4 64-bit",
   "language": "python",
   "name": "python3"
  },
  "language_info": {
   "codemirror_mode": {
    "name": "ipython",
    "version": 3
   },
   "file_extension": ".py",
   "mimetype": "text/x-python",
   "name": "python",
   "nbconvert_exporter": "python",
   "pygments_lexer": "ipython3",
   "version": "3.10.4"
  },
  "orig_nbformat": 4,
  "vscode": {
   "interpreter": {
    "hash": "eb1e2aa17c9c03522ea469ed025d74c8a00b3c7801d0496b408e209436a13f2e"
   }
  }
 },
 "nbformat": 4,
 "nbformat_minor": 2
}
