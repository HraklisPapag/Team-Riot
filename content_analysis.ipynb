{
 "cells": [
  {
   "cell_type": "markdown",
   "metadata": {},
   "source": [
    "# Content Analysis"
   ]
  },
  {
   "cell_type": "code",
   "execution_count": 311,
   "metadata": {},
   "outputs": [],
   "source": [
    "import numpy as np\n",
    "import pandas as pd\n",
    "from cmath import nan"
   ]
  },
  {
   "cell_type": "code",
   "execution_count": 312,
   "metadata": {},
   "outputs": [],
   "source": [
    "tweets = pd.read_csv('DATA/Clean_Tweets_All_Info.csv')"
   ]
  },
  {
   "cell_type": "code",
   "execution_count": 313,
   "metadata": {},
   "outputs": [],
   "source": [
    "tweets.drop(['Unnamed: 0.1', 'Unnamed: 0'], axis = 1, inplace = True)"
   ]
  },
  {
   "cell_type": "code",
   "execution_count": 314,
   "metadata": {},
   "outputs": [
    {
     "data": {
      "text/html": [
       "<div>\n",
       "<style scoped>\n",
       "    .dataframe tbody tr th:only-of-type {\n",
       "        vertical-align: middle;\n",
       "    }\n",
       "\n",
       "    .dataframe tbody tr th {\n",
       "        vertical-align: top;\n",
       "    }\n",
       "\n",
       "    .dataframe thead th {\n",
       "        text-align: right;\n",
       "    }\n",
       "</style>\n",
       "<table border=\"1\" class=\"dataframe\">\n",
       "  <thead>\n",
       "    <tr style=\"text-align: right;\">\n",
       "      <th></th>\n",
       "      <th>tweet_id</th>\n",
       "      <th>author_followers</th>\n",
       "      <th>text</th>\n",
       "      <th>created_at</th>\n",
       "      <th>retweets</th>\n",
       "      <th>replies</th>\n",
       "      <th>likes</th>\n",
       "      <th>quote_count</th>\n",
       "      <th>place_id</th>\n",
       "      <th>place_name</th>\n",
       "      <th>cleaned_text</th>\n",
       "      <th>coords</th>\n",
       "      <th>geometry</th>\n",
       "    </tr>\n",
       "  </thead>\n",
       "  <tbody>\n",
       "    <tr>\n",
       "      <th>0</th>\n",
       "      <td>923338250261008386</td>\n",
       "      <td>9188</td>\n",
       "      <td>Thatha celebrity https://t.co/aykbdCw1Pf</td>\n",
       "      <td>2017-10-25 23:59:28+00:00</td>\n",
       "      <td>0</td>\n",
       "      <td>1</td>\n",
       "      <td>0</td>\n",
       "      <td>0</td>\n",
       "      <td>{'place_id': 'e564d30dc173d2a8'}</td>\n",
       "      <td>Johannesburg, South Africa</td>\n",
       "      <td>thatha celebrity</td>\n",
       "      <td>[27.7518557, -26.5126489, 28.1843404, -26.0396...</td>\n",
       "      <td>POINT (27.968098050000002 -26.276138500000002)</td>\n",
       "    </tr>\n",
       "    <tr>\n",
       "      <th>1</th>\n",
       "      <td>923338197563854848</td>\n",
       "      <td>598</td>\n",
       "      <td>@Baba_Bangude Shoda is a kakist😂</td>\n",
       "      <td>2017-10-25 23:59:15+00:00</td>\n",
       "      <td>0</td>\n",
       "      <td>0</td>\n",
       "      <td>0</td>\n",
       "      <td>0</td>\n",
       "      <td>{'place_id': '557dd67203c6e04c'}</td>\n",
       "      <td>Vereeniging, South Africa</td>\n",
       "      <td>shoda kakist</td>\n",
       "      <td>[27.8525058, -26.7255165, 28.0249225, -26.5247...</td>\n",
       "      <td>POINT (27.93871415 -26.625155550000002)</td>\n",
       "    </tr>\n",
       "  </tbody>\n",
       "</table>\n",
       "</div>"
      ],
      "text/plain": [
       "             tweet_id  author_followers  \\\n",
       "0  923338250261008386              9188   \n",
       "1  923338197563854848               598   \n",
       "\n",
       "                                       text                 created_at  \\\n",
       "0  Thatha celebrity https://t.co/aykbdCw1Pf  2017-10-25 23:59:28+00:00   \n",
       "1          @Baba_Bangude Shoda is a kakist😂  2017-10-25 23:59:15+00:00   \n",
       "\n",
       "   retweets  replies  likes  quote_count                          place_id  \\\n",
       "0         0        1      0            0  {'place_id': 'e564d30dc173d2a8'}   \n",
       "1         0        0      0            0  {'place_id': '557dd67203c6e04c'}   \n",
       "\n",
       "                   place_name      cleaned_text  \\\n",
       "0  Johannesburg, South Africa  thatha celebrity   \n",
       "1   Vereeniging, South Africa      shoda kakist   \n",
       "\n",
       "                                              coords  \\\n",
       "0  [27.7518557, -26.5126489, 28.1843404, -26.0396...   \n",
       "1  [27.8525058, -26.7255165, 28.0249225, -26.5247...   \n",
       "\n",
       "                                         geometry  \n",
       "0  POINT (27.968098050000002 -26.276138500000002)  \n",
       "1         POINT (27.93871415 -26.625155550000002)  "
      ]
     },
     "execution_count": 314,
     "metadata": {},
     "output_type": "execute_result"
    }
   ],
   "source": [
    "tweets.head(2)"
   ]
  },
  {
   "cell_type": "code",
   "execution_count": 315,
   "metadata": {},
   "outputs": [],
   "source": [
    "# tweets = tweets.head(100)"
   ]
  },
  {
   "cell_type": "markdown",
   "metadata": {},
   "source": [
    "### Convert String Representation of a List to an Actual List of Strings"
   ]
  },
  {
   "cell_type": "code",
   "execution_count": 316,
   "metadata": {},
   "outputs": [],
   "source": [
    "def split_string(string):\n",
    "    if string == string:\n",
    "        string = string.lower()\n",
    "        string = string.replace(\"'\", \"\")\n",
    "        out = string.strip('][').split(', ')\n",
    "        return out\n",
    "    else:\n",
    "        return nan"
   ]
  },
  {
   "cell_type": "markdown",
   "metadata": {},
   "source": [
    "### Define String Extractor"
   ]
  },
  {
   "cell_type": "code",
   "execution_count": 317,
   "metadata": {},
   "outputs": [],
   "source": [
    "def string_substring(string, substring):\n",
    "    # Lower ensures that the vocab is case insensitive\n",
    "    string = string.lower()\n",
    "    substring = substring.lower()\n",
    "\n",
    "    if substring in string:\n",
    "        return True\n",
    "    else:\n",
    "        return False"
   ]
  },
  {
   "cell_type": "markdown",
   "metadata": {},
   "source": [
    "### Content Analysis method\n",
    "Takes in a vocabulary as argument and outputs a list that corresponds to a list of concepts for each tweet"
   ]
  },
  {
   "cell_type": "code",
   "execution_count": 318,
   "metadata": {},
   "outputs": [],
   "source": [
    "def content_analysis(vocabulary):\n",
    "    list_ = []\n",
    "\n",
    "    # Loop Through Tweets\n",
    "    for iter_t, tweet in tweets.iterrows():\n",
    "        sub_list = []\n",
    "        #Loop Through Vocab\n",
    "        for iter_g, vocab in vocabulary.iterrows():\n",
    "            # Loop Through Phrases in Vocab\n",
    "            for phrase in vocab['Phrases']:\n",
    "                # Check if Phrase is in Text\n",
    "                if string_substring(tweet['text'], phrase):\n",
    "                    if vocab['Conditional_Phrases'] != vocab['Conditional_Phrases']:\n",
    "                        sub_list.append(vocab['Concept'])\n",
    "                        break\n",
    "                    else:\n",
    "                        # Loop Through Conditional Phrases in Vocab\n",
    "                        for con_phrase in vocab['Conditional_Phrases']:\n",
    "                            # Check to see if there are Conditional Phrases otherwise break\n",
    "                            if string_substring(tweet['text'], con_phrase):\n",
    "                                sub_list.append(vocab['Concept'])\n",
    "                                break\n",
    "                            # Check if the conditional phrase has a NOT Operator\n",
    "                            elif '%not%' in con_phrase:\n",
    "                                con_phrase = con_phrase[6:]\n",
    "                                if not string_substring(tweet['text'], con_phrase):\n",
    "                                    sub_list.append(vocab['Concept'])\n",
    "                                    break\n",
    "        if len(sub_list) != 0:\n",
    "            list_.append(sub_list)\n",
    "        else:\n",
    "            list_.append(nan)\n",
    "    return list_"
   ]
  },
  {
   "cell_type": "markdown",
   "metadata": {},
   "source": [
    "### Best attempt I could using pandas functions opposed to nested for loops\n",
    "Just use above method, if it is too slow then coome back to this one and try improve it"
   ]
  },
  {
   "cell_type": "code",
   "execution_count": 319,
   "metadata": {},
   "outputs": [],
   "source": [
    "# s = grievances.explode('Phrases').set_index('Phrases')['Concept']\n",
    "# tweets['Grievances'] = (tweets['text'].str.split()\n",
    "#                  .explode().map(s).dropna()\n",
    "#                  .groupby(level=0).agg(set)\n",
    "#                 )"
   ]
  },
  {
   "cell_type": "code",
   "execution_count": 320,
   "metadata": {},
   "outputs": [],
   "source": [
    "# Generic Code:\n",
    "# s = df_2.explode('Words').set_index('Words')['Name']\n",
    "# df_1['Names'] = (df_1['Paragraph'].str.split()\n",
    "#                  .explode().map(s).dropna()\n",
    "#                  .groupby(level=0).agg(set)\n",
    "#                 )"
   ]
  },
  {
   "cell_type": "markdown",
   "metadata": {},
   "source": [
    "### Load in All Vocabs\n",
    "And ensure all vocab lists set up correctly"
   ]
  },
  {
   "cell_type": "code",
   "execution_count": 321,
   "metadata": {},
   "outputs": [],
   "source": [
    "grievances = pd.read_excel('DATA/Vocabularies/grievances.xlsx')\n",
    "grievances.drop('Unnamed: 0', axis = 1, inplace = True)\n",
    "grievances['Phrases'] = grievances['Phrases'].apply(lambda x: split_string(x))\n",
    "grievances['Conditional_Phrases'] = grievances['Conditional_Phrases'].apply(lambda x: split_string(x))"
   ]
  },
  {
   "cell_type": "code",
   "execution_count": 322,
   "metadata": {},
   "outputs": [],
   "source": [
    "triggers = pd.read_excel('DATA/Vocabularies/trigger.xlsx')\n",
    "triggers.drop('Unnamed: 0', axis = 1, inplace = True)\n",
    "triggers['Phrases'] = triggers['Phrases'].apply(lambda x: split_string(x))\n",
    "triggers['Conditional_Phrases'] = triggers['Conditional_Phrases'].apply(lambda x: split_string(x))"
   ]
  },
  {
   "cell_type": "code",
   "execution_count": 323,
   "metadata": {},
   "outputs": [],
   "source": [
    "tactics = pd.read_excel('DATA/Vocabularies/tactic.xlsx')\n",
    "tactics.drop('Unnamed: 0', axis = 1, inplace = True)\n",
    "tactics['Phrases'] = tactics['Phrases'].apply(lambda x: split_string(x))\n",
    "tactics['Conditional_Phrases'] = tactics['Conditional_Phrases'].apply(lambda x: split_string(x))"
   ]
  },
  {
   "cell_type": "code",
   "execution_count": 324,
   "metadata": {},
   "outputs": [],
   "source": [
    "actors = pd.read_excel('DATA/Vocabularies/actors.xlsx')\n",
    "actors.drop('Unnamed: 0', axis = 1, inplace = True)\n",
    "actors['Phrases'] = actors['Phrases'].apply(lambda x: split_string(x))\n",
    "actors['Conditional_Phrases'] = actors['Conditional_Phrases'].apply(lambda x: split_string(x))"
   ]
  },
  {
   "cell_type": "code",
   "execution_count": 325,
   "metadata": {},
   "outputs": [],
   "source": [
    "locations = pd.read_excel('DATA/Vocabularies/locations.xlsx')\n",
    "locations.drop('Unnamed: 0', axis = 1, inplace = True)\n",
    "locations['Phrases'] = locations['Phrases'].apply(lambda x: split_string(x))\n",
    "locations['Conditional_Phrases'] = locations['Conditional_Phrases'].apply(lambda x: split_string(x))"
   ]
  },
  {
   "cell_type": "code",
   "execution_count": 326,
   "metadata": {},
   "outputs": [],
   "source": [
    "weapons = pd.read_excel('DATA/Vocabularies/weapons.xlsx')\n",
    "weapons.drop('Unnamed: 0', axis = 1, inplace = True)\n",
    "weapons['Phrases'] = weapons['Phrases'].apply(lambda x: split_string(x))\n",
    "weapons['Conditional_Phrases'] = weapons['Conditional_Phrases'].apply(lambda x: split_string(x))"
   ]
  },
  {
   "cell_type": "code",
   "execution_count": 327,
   "metadata": {},
   "outputs": [],
   "source": [
    "eventualities = pd.read_excel('DATA/Vocabularies/eventuality.xlsx')\n",
    "eventualities.drop('Unnamed: 0', axis = 1, inplace = True)\n",
    "eventualities['Phrases'] = eventualities['Phrases'].apply(lambda x: split_string(x))\n",
    "eventualities['Conditional_Phrases'] = eventualities['Conditional_Phrases'].apply(lambda x: split_string(x))"
   ]
  },
  {
   "cell_type": "code",
   "execution_count": 328,
   "metadata": {},
   "outputs": [],
   "source": [
    "curiosities = pd.read_excel('DATA/Vocabularies/curiosity.xlsx')\n",
    "curiosities.drop('Unnamed: 0', axis = 1, inplace = True)\n",
    "curiosities['Phrases'] = curiosities['Phrases'].apply(lambda x: split_string(x))\n",
    "curiosities['Conditional_Phrases'] = curiosities['Conditional_Phrases'].apply(lambda x: split_string(x))"
   ]
  },
  {
   "cell_type": "code",
   "execution_count": 329,
   "metadata": {},
   "outputs": [],
   "source": [
    "non_protests = pd.read_excel('DATA/Vocabularies/non_protest.xlsx')\n",
    "non_protests.drop('Unnamed: 0', axis = 1, inplace = True)\n",
    "non_protests['Phrases'] = non_protests['Phrases'].apply(lambda x: split_string(x))\n",
    "non_protests['Conditional_Phrases'] = non_protests['Conditional_Phrases'].apply(lambda x: split_string(x))"
   ]
  },
  {
   "cell_type": "markdown",
   "metadata": {},
   "source": [
    "###  Content Analysis for all vocabs:\n",
    "* Grievances\n",
    "* Trigger\n",
    "* Tactic\n",
    "* Actors\n",
    "* Location\n",
    "* Weapons\n",
    "* Eventuality\n",
    "* Curiosity\n",
    "* Non-Protest\n",
    "\n",
    "</br>\n",
    "And Remove any duplicates"
   ]
  },
  {
   "cell_type": "code",
   "execution_count": 330,
   "metadata": {},
   "outputs": [],
   "source": [
    "def unique_list(x):\n",
    "    if x == x:\n",
    "        return list(set(x))\n",
    "    else:\n",
    "        return nan"
   ]
  },
  {
   "cell_type": "code",
   "execution_count": 331,
   "metadata": {},
   "outputs": [],
   "source": [
    "tweets['grievances'] = content_analysis(grievances)\n",
    "tweets['grievances'] = tweets['grievances'].apply(lambda x: unique_list(x))"
   ]
  },
  {
   "cell_type": "code",
   "execution_count": 332,
   "metadata": {},
   "outputs": [],
   "source": [
    "tweets['triggers'] = content_analysis(triggers)\n",
    "tweets['triggers'] = tweets['triggers'].apply(lambda x: unique_list(x))"
   ]
  },
  {
   "cell_type": "code",
   "execution_count": 333,
   "metadata": {},
   "outputs": [],
   "source": [
    "tweets['tactics'] = content_analysis(tactics)\n",
    "tweets['tactics'] = tweets['tactics'].apply(lambda x: unique_list(x))"
   ]
  },
  {
   "cell_type": "code",
   "execution_count": 334,
   "metadata": {},
   "outputs": [],
   "source": [
    "tweets['actors'] = content_analysis(actors)\n",
    "tweets['actors'] = tweets['actors'].apply(lambda x: unique_list(x))"
   ]
  },
  {
   "cell_type": "code",
   "execution_count": 335,
   "metadata": {},
   "outputs": [],
   "source": [
    "tweets['locations'] = content_analysis(locations)\n",
    "tweets['locations'] = tweets['locations'].apply(lambda x: unique_list(x))"
   ]
  },
  {
   "cell_type": "code",
   "execution_count": 336,
   "metadata": {},
   "outputs": [],
   "source": [
    "tweets['weapons'] = content_analysis(weapons)\n",
    "tweets['weapons'] = tweets['weapons'].apply(lambda x: unique_list(x))"
   ]
  },
  {
   "cell_type": "code",
   "execution_count": 337,
   "metadata": {},
   "outputs": [],
   "source": [
    "tweets['eventualities'] = content_analysis(eventualities)\n",
    "tweets['eventualities'] = tweets['eventualities'].apply(lambda x: unique_list(x))"
   ]
  },
  {
   "cell_type": "code",
   "execution_count": 338,
   "metadata": {},
   "outputs": [],
   "source": [
    "tweets['curiosities'] = content_analysis(curiosities)\n",
    "tweets['curiosities'] = tweets['curiosities'].apply(lambda x: unique_list(x))"
   ]
  },
  {
   "cell_type": "code",
   "execution_count": 339,
   "metadata": {},
   "outputs": [],
   "source": [
    "tweets['non_protests'] = content_analysis(non_protests)\n",
    "tweets['non_protests'] = tweets['non_protests'].apply(lambda x: unique_list(x))"
   ]
  },
  {
   "cell_type": "markdown",
   "metadata": {},
   "source": [
    "### Drop Tweets That Are Non-Protest\n",
    "Unless contains another field"
   ]
  },
  {
   "cell_type": "code",
   "execution_count": 340,
   "metadata": {},
   "outputs": [
    {
     "data": {
      "text/plain": [
       "(46601, 22)"
      ]
     },
     "execution_count": 340,
     "metadata": {},
     "output_type": "execute_result"
    }
   ],
   "source": [
    "tweets.shape"
   ]
  },
  {
   "cell_type": "code",
   "execution_count": 341,
   "metadata": {},
   "outputs": [],
   "source": [
    "tweets = tweets[(tweets['non_protests'].isna()) | \n",
    "                 tweets['grievances'].notna() | \n",
    "                 tweets['triggers'].notna() |\n",
    "                 tweets['tactics'].notna()]"
   ]
  },
  {
   "cell_type": "code",
   "execution_count": 342,
   "metadata": {},
   "outputs": [
    {
     "data": {
      "text/plain": [
       "(45073, 22)"
      ]
     },
     "execution_count": 342,
     "metadata": {},
     "output_type": "execute_result"
    }
   ],
   "source": [
    "tweets.shape"
   ]
  },
  {
   "cell_type": "code",
   "execution_count": 343,
   "metadata": {},
   "outputs": [],
   "source": [
    "tweets = tweets[(tweets['grievances'].notna()) | \n",
    "                 (tweets['triggers'].notna()) |\n",
    "                 (tweets['tactics'].notna())|\n",
    "                 (tweets['actors'].notna()) |\n",
    "                 (tweets['locations'].notna()) |\n",
    "                 (tweets['weapons'].notna()) |\n",
    "                 (tweets['eventualities'].notna()) |\n",
    "                 (tweets['curiosities'].notna())]"
   ]
  },
  {
   "cell_type": "code",
   "execution_count": 344,
   "metadata": {},
   "outputs": [
    {
     "data": {
      "text/plain": [
       "(12509, 22)"
      ]
     },
     "execution_count": 344,
     "metadata": {},
     "output_type": "execute_result"
    }
   ],
   "source": [
    "tweets.shape"
   ]
  },
  {
   "cell_type": "code",
   "execution_count": 345,
   "metadata": {},
   "outputs": [
    {
     "data": {
      "text/html": [
       "<div>\n",
       "<style scoped>\n",
       "    .dataframe tbody tr th:only-of-type {\n",
       "        vertical-align: middle;\n",
       "    }\n",
       "\n",
       "    .dataframe tbody tr th {\n",
       "        vertical-align: top;\n",
       "    }\n",
       "\n",
       "    .dataframe thead th {\n",
       "        text-align: right;\n",
       "    }\n",
       "</style>\n",
       "<table border=\"1\" class=\"dataframe\">\n",
       "  <thead>\n",
       "    <tr style=\"text-align: right;\">\n",
       "      <th></th>\n",
       "      <th>tweet_id</th>\n",
       "      <th>author_followers</th>\n",
       "      <th>text</th>\n",
       "      <th>created_at</th>\n",
       "      <th>retweets</th>\n",
       "      <th>replies</th>\n",
       "      <th>likes</th>\n",
       "      <th>quote_count</th>\n",
       "      <th>place_id</th>\n",
       "      <th>place_name</th>\n",
       "      <th>...</th>\n",
       "      <th>geometry</th>\n",
       "      <th>grievances</th>\n",
       "      <th>triggers</th>\n",
       "      <th>tactics</th>\n",
       "      <th>actors</th>\n",
       "      <th>locations</th>\n",
       "      <th>weapons</th>\n",
       "      <th>eventualities</th>\n",
       "      <th>curiosities</th>\n",
       "      <th>non_protests</th>\n",
       "    </tr>\n",
       "  </thead>\n",
       "  <tbody>\n",
       "    <tr>\n",
       "      <th>1</th>\n",
       "      <td>923338197563854848</td>\n",
       "      <td>598</td>\n",
       "      <td>@Baba_Bangude Shoda is a kakist😂</td>\n",
       "      <td>2017-10-25 23:59:15+00:00</td>\n",
       "      <td>0</td>\n",
       "      <td>0</td>\n",
       "      <td>0</td>\n",
       "      <td>0</td>\n",
       "      <td>{'place_id': '557dd67203c6e04c'}</td>\n",
       "      <td>Vereeniging, South Africa</td>\n",
       "      <td>...</td>\n",
       "      <td>POINT (27.93871415 -26.625155550000002)</td>\n",
       "      <td>NaN</td>\n",
       "      <td>NaN</td>\n",
       "      <td>[Boycott]</td>\n",
       "      <td>[Political Party]</td>\n",
       "      <td>NaN</td>\n",
       "      <td>NaN</td>\n",
       "      <td>NaN</td>\n",
       "      <td>NaN</td>\n",
       "      <td>NaN</td>\n",
       "    </tr>\n",
       "    <tr>\n",
       "      <th>2</th>\n",
       "      <td>923338139451772929</td>\n",
       "      <td>5590</td>\n",
       "      <td>My Zulu comprehension doesn't allow me to enjo...</td>\n",
       "      <td>2017-10-25 23:59:01+00:00</td>\n",
       "      <td>0</td>\n",
       "      <td>0</td>\n",
       "      <td>0</td>\n",
       "      <td>0</td>\n",
       "      <td>{'place_id': '8b9ec16fdc0d7e55'}</td>\n",
       "      <td>Cape Town, South Africa</td>\n",
       "      <td>...</td>\n",
       "      <td>POINT (18.4241 -33.9249)</td>\n",
       "      <td>NaN</td>\n",
       "      <td>NaN</td>\n",
       "      <td>NaN</td>\n",
       "      <td>[Political Party]</td>\n",
       "      <td>NaN</td>\n",
       "      <td>NaN</td>\n",
       "      <td>NaN</td>\n",
       "      <td>NaN</td>\n",
       "      <td>NaN</td>\n",
       "    </tr>\n",
       "    <tr>\n",
       "      <th>3</th>\n",
       "      <td>923338012288782336</td>\n",
       "      <td>9188</td>\n",
       "      <td>Today is going to be a beautiful day 😊 https:/...</td>\n",
       "      <td>2017-10-25 23:58:31+00:00</td>\n",
       "      <td>0</td>\n",
       "      <td>0</td>\n",
       "      <td>0</td>\n",
       "      <td>1</td>\n",
       "      <td>{'place_id': 'e564d30dc173d2a8'}</td>\n",
       "      <td>Johannesburg, South Africa</td>\n",
       "      <td>...</td>\n",
       "      <td>POINT (27.968098050000002 -26.276138500000002)</td>\n",
       "      <td>NaN</td>\n",
       "      <td>NaN</td>\n",
       "      <td>NaN</td>\n",
       "      <td>[Political Party]</td>\n",
       "      <td>NaN</td>\n",
       "      <td>NaN</td>\n",
       "      <td>NaN</td>\n",
       "      <td>NaN</td>\n",
       "      <td>NaN</td>\n",
       "    </tr>\n",
       "  </tbody>\n",
       "</table>\n",
       "<p>3 rows × 22 columns</p>\n",
       "</div>"
      ],
      "text/plain": [
       "             tweet_id  author_followers  \\\n",
       "1  923338197563854848               598   \n",
       "2  923338139451772929              5590   \n",
       "3  923338012288782336              9188   \n",
       "\n",
       "                                                text  \\\n",
       "1                   @Baba_Bangude Shoda is a kakist😂   \n",
       "2  My Zulu comprehension doesn't allow me to enjo...   \n",
       "3  Today is going to be a beautiful day 😊 https:/...   \n",
       "\n",
       "                  created_at  retweets  replies  likes  quote_count  \\\n",
       "1  2017-10-25 23:59:15+00:00         0        0      0            0   \n",
       "2  2017-10-25 23:59:01+00:00         0        0      0            0   \n",
       "3  2017-10-25 23:58:31+00:00         0        0      0            1   \n",
       "\n",
       "                           place_id                  place_name  ...  \\\n",
       "1  {'place_id': '557dd67203c6e04c'}   Vereeniging, South Africa  ...   \n",
       "2  {'place_id': '8b9ec16fdc0d7e55'}     Cape Town, South Africa  ...   \n",
       "3  {'place_id': 'e564d30dc173d2a8'}  Johannesburg, South Africa  ...   \n",
       "\n",
       "                                         geometry grievances triggers  \\\n",
       "1         POINT (27.93871415 -26.625155550000002)        NaN      NaN   \n",
       "2                        POINT (18.4241 -33.9249)        NaN      NaN   \n",
       "3  POINT (27.968098050000002 -26.276138500000002)        NaN      NaN   \n",
       "\n",
       "     tactics             actors locations weapons eventualities curiosities  \\\n",
       "1  [Boycott]  [Political Party]       NaN     NaN           NaN         NaN   \n",
       "2        NaN  [Political Party]       NaN     NaN           NaN         NaN   \n",
       "3        NaN  [Political Party]       NaN     NaN           NaN         NaN   \n",
       "\n",
       "  non_protests  \n",
       "1          NaN  \n",
       "2          NaN  \n",
       "3          NaN  \n",
       "\n",
       "[3 rows x 22 columns]"
      ]
     },
     "execution_count": 345,
     "metadata": {},
     "output_type": "execute_result"
    }
   ],
   "source": [
    "tweets.head(3)"
   ]
  },
  {
   "cell_type": "code",
   "execution_count": 346,
   "metadata": {},
   "outputs": [],
   "source": [
    "tweets.to_csv('DATA/tweet_content.csv')"
   ]
  },
  {
   "cell_type": "markdown",
   "metadata": {},
   "source": [
    "### Content Table and Frequency Analysis"
   ]
  },
  {
   "cell_type": "code",
   "execution_count": 347,
   "metadata": {},
   "outputs": [],
   "source": [
    "content_table = pd.read_excel('DATA/Protest is SA   SAS rules V2 - Separated.xlsx')\n",
    "content_table = content_table.drop('Phrases', axis =1)\n",
    "content_table = content_table.drop('Conditional_Phrases', axis =1)\n",
    "content_table = content_table.drop('Afrikaans_Phrases', axis =1)\n",
    "content_table = content_table.drop('Rule', axis =1)\n",
    "content_table['Occurances'] = 0"
   ]
  },
  {
   "cell_type": "code",
   "execution_count": 348,
   "metadata": {},
   "outputs": [
    {
     "data": {
      "text/html": [
       "<div>\n",
       "<style scoped>\n",
       "    .dataframe tbody tr th:only-of-type {\n",
       "        vertical-align: middle;\n",
       "    }\n",
       "\n",
       "    .dataframe tbody tr th {\n",
       "        vertical-align: top;\n",
       "    }\n",
       "\n",
       "    .dataframe thead th {\n",
       "        text-align: right;\n",
       "    }\n",
       "</style>\n",
       "<table border=\"1\" class=\"dataframe\">\n",
       "  <thead>\n",
       "    <tr style=\"text-align: right;\">\n",
       "      <th></th>\n",
       "      <th>Label</th>\n",
       "      <th>Concept</th>\n",
       "      <th>Occurances</th>\n",
       "    </tr>\n",
       "  </thead>\n",
       "  <tbody>\n",
       "    <tr>\n",
       "      <th>0</th>\n",
       "      <td>Grievance</td>\n",
       "      <td>Capitalism</td>\n",
       "      <td>0</td>\n",
       "    </tr>\n",
       "    <tr>\n",
       "      <th>1</th>\n",
       "      <td>Grievance</td>\n",
       "      <td>Values</td>\n",
       "      <td>0</td>\n",
       "    </tr>\n",
       "    <tr>\n",
       "      <th>2</th>\n",
       "      <td>Grievance</td>\n",
       "      <td>Conditions</td>\n",
       "      <td>0</td>\n",
       "    </tr>\n",
       "    <tr>\n",
       "      <th>3</th>\n",
       "      <td>Grievance</td>\n",
       "      <td>Contract end</td>\n",
       "      <td>0</td>\n",
       "    </tr>\n",
       "    <tr>\n",
       "      <th>4</th>\n",
       "      <td>Grievance</td>\n",
       "      <td>Community recognition</td>\n",
       "      <td>0</td>\n",
       "    </tr>\n",
       "  </tbody>\n",
       "</table>\n",
       "</div>"
      ],
      "text/plain": [
       "       Label                Concept  Occurances\n",
       "0  Grievance             Capitalism           0\n",
       "1  Grievance                 Values           0\n",
       "2  Grievance             Conditions           0\n",
       "3  Grievance           Contract end           0\n",
       "4  Grievance  Community recognition           0"
      ]
     },
     "execution_count": 348,
     "metadata": {},
     "output_type": "execute_result"
    }
   ],
   "source": [
    "content_table.head()"
   ]
  },
  {
   "cell_type": "code",
   "execution_count": 349,
   "metadata": {},
   "outputs": [],
   "source": [
    "def count_occurances(col_name, label):\n",
    "    global content_table\n",
    "    occurances = list(content_table['Occurances'])\n",
    "    for iter_t, tweet in tweets.iterrows():\n",
    "            if tweet[col_name] == tweet[col_name]:\n",
    "                for content in tweet[col_name]:\n",
    "                    for iter_c, concept in content_table.iterrows():\n",
    "                        if concept['Concept'] == content:\n",
    "                            if concept['Label'] == label:\n",
    "                                occurances[iter_c] += 1\n",
    "                            \n",
    "    content_table = content_table.drop('Occurances', axis =1)\n",
    "    content_table['Occurances'] = occurances"
   ]
  },
  {
   "cell_type": "code",
   "execution_count": 350,
   "metadata": {},
   "outputs": [
    {
     "name": "stdout",
     "output_type": "stream",
     "text": [
      "Counted Grievances!\n",
      "Counted Triggers!\n",
      "Counted Tactics!\n",
      "Counted Actors!\n",
      "Counted Locations!\n",
      "Counted Weapons!\n",
      "Counted Eventualities!\n",
      "Counted Curiosities!\n",
      "Counted Non-Protests!\n",
      "Done!\n"
     ]
    }
   ],
   "source": [
    "count_occurances('grievances', 'Grievance')\n",
    "print('Counted Grievances!')\n",
    "count_occurances('triggers', 'Trigger')\n",
    "print('Counted Triggers!')\n",
    "count_occurances('tactics', 'Tactic')\n",
    "print('Counted Tactics!')\n",
    "count_occurances('actors', 'Actors')\n",
    "print('Counted Actors!')\n",
    "count_occurances('locations', 'Location')\n",
    "print('Counted Locations!')\n",
    "count_occurances('weapons', 'Weapons')\n",
    "print('Counted Weapons!')\n",
    "count_occurances('eventualities', 'Eventuality')\n",
    "print('Counted Eventualities!')\n",
    "count_occurances('curiosities', 'Curiosity')\n",
    "print('Counted Curiosities!')\n",
    "count_occurances('non_protests', 'Non-protest')\n",
    "print('Counted Non-Protests!')\n",
    "print('Done!')"
   ]
  },
  {
   "cell_type": "code",
   "execution_count": 351,
   "metadata": {},
   "outputs": [
    {
     "data": {
      "text/html": [
       "<div>\n",
       "<style scoped>\n",
       "    .dataframe tbody tr th:only-of-type {\n",
       "        vertical-align: middle;\n",
       "    }\n",
       "\n",
       "    .dataframe tbody tr th {\n",
       "        vertical-align: top;\n",
       "    }\n",
       "\n",
       "    .dataframe thead th {\n",
       "        text-align: right;\n",
       "    }\n",
       "</style>\n",
       "<table border=\"1\" class=\"dataframe\">\n",
       "  <thead>\n",
       "    <tr style=\"text-align: right;\">\n",
       "      <th></th>\n",
       "      <th>Label</th>\n",
       "      <th>Concept</th>\n",
       "      <th>Occurances</th>\n",
       "    </tr>\n",
       "  </thead>\n",
       "  <tbody>\n",
       "    <tr>\n",
       "      <th>0</th>\n",
       "      <td>Grievance</td>\n",
       "      <td>Capitalism</td>\n",
       "      <td>9</td>\n",
       "    </tr>\n",
       "    <tr>\n",
       "      <th>1</th>\n",
       "      <td>Grievance</td>\n",
       "      <td>Values</td>\n",
       "      <td>43</td>\n",
       "    </tr>\n",
       "    <tr>\n",
       "      <th>2</th>\n",
       "      <td>Grievance</td>\n",
       "      <td>Conditions</td>\n",
       "      <td>404</td>\n",
       "    </tr>\n",
       "    <tr>\n",
       "      <th>3</th>\n",
       "      <td>Grievance</td>\n",
       "      <td>Contract end</td>\n",
       "      <td>8</td>\n",
       "    </tr>\n",
       "    <tr>\n",
       "      <th>4</th>\n",
       "      <td>Grievance</td>\n",
       "      <td>Community recognition</td>\n",
       "      <td>16</td>\n",
       "    </tr>\n",
       "    <tr>\n",
       "      <th>5</th>\n",
       "      <td>Grievance</td>\n",
       "      <td>Demolitions</td>\n",
       "      <td>21</td>\n",
       "    </tr>\n",
       "    <tr>\n",
       "      <th>6</th>\n",
       "      <td>Grievance</td>\n",
       "      <td>Education</td>\n",
       "      <td>47</td>\n",
       "    </tr>\n",
       "    <tr>\n",
       "      <th>7</th>\n",
       "      <td>Grievance</td>\n",
       "      <td>Election outcome</td>\n",
       "      <td>0</td>\n",
       "    </tr>\n",
       "    <tr>\n",
       "      <th>8</th>\n",
       "      <td>Grievance</td>\n",
       "      <td>Electricity</td>\n",
       "      <td>321</td>\n",
       "    </tr>\n",
       "    <tr>\n",
       "      <th>9</th>\n",
       "      <td>Grievance</td>\n",
       "      <td>Labour related</td>\n",
       "      <td>153</td>\n",
       "    </tr>\n",
       "  </tbody>\n",
       "</table>\n",
       "</div>"
      ],
      "text/plain": [
       "       Label                Concept  Occurances\n",
       "0  Grievance             Capitalism           9\n",
       "1  Grievance                 Values          43\n",
       "2  Grievance             Conditions         404\n",
       "3  Grievance           Contract end           8\n",
       "4  Grievance  Community recognition          16\n",
       "5  Grievance            Demolitions          21\n",
       "6  Grievance              Education          47\n",
       "7  Grievance       Election outcome           0\n",
       "8  Grievance            Electricity         321\n",
       "9  Grievance         Labour related         153"
      ]
     },
     "execution_count": 351,
     "metadata": {},
     "output_type": "execute_result"
    }
   ],
   "source": [
    "content_table.head(10)"
   ]
  },
  {
   "cell_type": "code",
   "execution_count": 352,
   "metadata": {},
   "outputs": [],
   "source": [
    "content_table.to_csv('DATA/content_table.csv')"
   ]
  },
  {
   "cell_type": "markdown",
   "metadata": {},
   "source": [
    "### Content Frequency Table"
   ]
  },
  {
   "cell_type": "code",
   "execution_count": 353,
   "metadata": {},
   "outputs": [
    {
     "name": "stdout",
     "output_type": "stream",
     "text": [
      "12509\n"
     ]
    }
   ],
   "source": [
    "total = len(tweets)\n",
    "print(total)"
   ]
  },
  {
   "cell_type": "code",
   "execution_count": 354,
   "metadata": {},
   "outputs": [],
   "source": [
    "frequency_table = content_table.groupby('Label').Occurances.sum().reset_index()"
   ]
  },
  {
   "cell_type": "code",
   "execution_count": 355,
   "metadata": {},
   "outputs": [],
   "source": [
    "frequency_table['Frequency'] = frequency_table['Occurances'].apply(lambda x: round((x/total)*100,2))"
   ]
  },
  {
   "cell_type": "code",
   "execution_count": 356,
   "metadata": {},
   "outputs": [
    {
     "data": {
      "text/html": [
       "<div>\n",
       "<style scoped>\n",
       "    .dataframe tbody tr th:only-of-type {\n",
       "        vertical-align: middle;\n",
       "    }\n",
       "\n",
       "    .dataframe tbody tr th {\n",
       "        vertical-align: top;\n",
       "    }\n",
       "\n",
       "    .dataframe thead th {\n",
       "        text-align: right;\n",
       "    }\n",
       "</style>\n",
       "<table border=\"1\" class=\"dataframe\">\n",
       "  <thead>\n",
       "    <tr style=\"text-align: right;\">\n",
       "      <th></th>\n",
       "      <th>Label</th>\n",
       "      <th>Occurances</th>\n",
       "      <th>Frequency</th>\n",
       "    </tr>\n",
       "  </thead>\n",
       "  <tbody>\n",
       "    <tr>\n",
       "      <th>0</th>\n",
       "      <td>Actors</td>\n",
       "      <td>4347</td>\n",
       "      <td>34.75</td>\n",
       "    </tr>\n",
       "    <tr>\n",
       "      <th>1</th>\n",
       "      <td>Curiosity</td>\n",
       "      <td>458</td>\n",
       "      <td>3.66</td>\n",
       "    </tr>\n",
       "    <tr>\n",
       "      <th>2</th>\n",
       "      <td>Eventuality</td>\n",
       "      <td>188</td>\n",
       "      <td>1.50</td>\n",
       "    </tr>\n",
       "    <tr>\n",
       "      <th>3</th>\n",
       "      <td>Grievance</td>\n",
       "      <td>4107</td>\n",
       "      <td>32.83</td>\n",
       "    </tr>\n",
       "    <tr>\n",
       "      <th>4</th>\n",
       "      <td>Location</td>\n",
       "      <td>1684</td>\n",
       "      <td>13.46</td>\n",
       "    </tr>\n",
       "    <tr>\n",
       "      <th>5</th>\n",
       "      <td>Non-protest</td>\n",
       "      <td>596</td>\n",
       "      <td>4.76</td>\n",
       "    </tr>\n",
       "    <tr>\n",
       "      <th>6</th>\n",
       "      <td>Tactic</td>\n",
       "      <td>4521</td>\n",
       "      <td>36.14</td>\n",
       "    </tr>\n",
       "    <tr>\n",
       "      <th>7</th>\n",
       "      <td>Trigger</td>\n",
       "      <td>1857</td>\n",
       "      <td>14.85</td>\n",
       "    </tr>\n",
       "    <tr>\n",
       "      <th>8</th>\n",
       "      <td>Weapons</td>\n",
       "      <td>113</td>\n",
       "      <td>0.90</td>\n",
       "    </tr>\n",
       "  </tbody>\n",
       "</table>\n",
       "</div>"
      ],
      "text/plain": [
       "         Label  Occurances  Frequency\n",
       "0       Actors        4347      34.75\n",
       "1    Curiosity         458       3.66\n",
       "2  Eventuality         188       1.50\n",
       "3    Grievance        4107      32.83\n",
       "4     Location        1684      13.46\n",
       "5  Non-protest         596       4.76\n",
       "6       Tactic        4521      36.14\n",
       "7      Trigger        1857      14.85\n",
       "8      Weapons         113       0.90"
      ]
     },
     "execution_count": 356,
     "metadata": {},
     "output_type": "execute_result"
    }
   ],
   "source": [
    "frequency_table.head(10)"
   ]
  }
 ],
 "metadata": {
  "kernelspec": {
   "display_name": "Python 3.10.4 64-bit",
   "language": "python",
   "name": "python3"
  },
  "language_info": {
   "codemirror_mode": {
    "name": "ipython",
    "version": 3
   },
   "file_extension": ".py",
   "mimetype": "text/x-python",
   "name": "python",
   "nbconvert_exporter": "python",
   "pygments_lexer": "ipython3",
   "version": "3.10.4"
  },
  "orig_nbformat": 4,
  "vscode": {
   "interpreter": {
    "hash": "eb1e2aa17c9c03522ea469ed025d74c8a00b3c7801d0496b408e209436a13f2e"
   }
  }
 },
 "nbformat": 4,
 "nbformat_minor": 2
}
