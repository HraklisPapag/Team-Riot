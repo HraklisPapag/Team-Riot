{
 "cells": [
  {
   "cell_type": "markdown",
   "metadata": {},
   "source": [
    "# Create training dataset"
   ]
  },
  {
   "cell_type": "code",
   "execution_count": 102,
   "metadata": {},
   "outputs": [],
   "source": [
    "import geopandas as gpd\n",
    "import pandas as pd\n",
    "import matplotlib.pyplot as plt\n",
    "from datetime import datetime\n",
    "from datetime import timedelta\n",
    "\n",
    "\n",
    "from sklearn.model_selection import train_test_split\n",
    "from sklearn.linear_model import LinearRegression\n",
    "from sklearn.linear_model import LogisticRegression\n",
    "from sklearn.naive_bayes import GaussianNB\n",
    "from sklearn.svm import LinearSVC\n",
    "from statistics import multimode\n",
    "\n"
   ]
  },
  {
   "cell_type": "markdown",
   "metadata": {},
   "source": [
    "# Functions"
   ]
  },
  {
   "cell_type": "code",
   "execution_count": 103,
   "metadata": {},
   "outputs": [],
   "source": [
    "def get_subregion(dist1, dist2, place):\n",
    "    row = dist1.loc[dist1['Place0']==place]\n",
    "    shape = row['geometry'].to_list()\n",
    "    shape = shape[0]\n",
    "\n",
    "    places = dist2['geometry']\n",
    "    res = places.within(shape)\n",
    "    res = res.to_list()\n",
    "    temp = dist2\n",
    "    temp['res'] = res\n",
    "    temp = temp.loc[temp['res']==True]\n",
    "    return(temp)"
   ]
  },
  {
   "cell_type": "markdown",
   "metadata": {},
   "source": [
    "### tweets"
   ]
  },
  {
   "cell_type": "code",
   "execution_count": 104,
   "metadata": {},
   "outputs": [],
   "source": [
    "def plot_Tweets(dist, tweets, n):    \n",
    "    Nu_Tweets = []\n",
    "    for index, row in dist.iterrows():\n",
    "        size = len(tweets.loc[tweets['Place' + str(n)]==row['Place'+ str(n)]])\n",
    "\n",
    "        Nu_Tweets.append(size)\n",
    "\n",
    "    Nu_Tweets\n",
    "    dist['Tweets'] = Nu_Tweets\n",
    "\n",
    "    plot = dist.explore(\n",
    "        column=\"Tweets\", # make choropleth based on \"Data\" column\n",
    "        tooltip=['Place'+ str(n),'Tweets'], # show \"Province, Data\" value in tooltip (on hover)\n",
    "        popup=True, # show all values in popup (on click)\n",
    "        tiles=\"CartoDB positron\", # use \"CartoDB positron\" tiles\n",
    "        cmap=\"Paired\", # https://matplotlib.org/stable/tutorials/colors/colormaps.html\n",
    "        style_kwds=dict(color=\"black\") # use black outline\n",
    "        )\n",
    "    return(plot)"
   ]
  },
  {
   "cell_type": "code",
   "execution_count": 105,
   "metadata": {},
   "outputs": [],
   "source": [
    "def tweet_rate_av2(dates, tweets):\n",
    "    tweet_day = [0]*10\n",
    "    for i, date in enumerate(dates):\n",
    "        day = date\n",
    "        d1 = day - timedelta(days=5) \n",
    "        d2 = day + timedelta(days=5) \n",
    "        delta = (d2-d1).days\n",
    "        for i in range(delta):\n",
    "            day = d1+timedelta(days=i)\n",
    "            NuTweets = len(tweets.loc[tweets['Date']==day]) \n",
    "            tweet_day[i]=tweet_day[i]+NuTweets\n",
    "\n",
    "    # getting the average\n",
    "    tweet_day =[x/len(dates) for x in tweet_day]\n",
    "\n",
    "    # normalising\n",
    "    #tweet_day =[x/max(tweet_day) for x in tweet_day]\n",
    "\n",
    "    # Getting the average of the sets\n",
    "    average1 = [sum(tweet_day)/len(tweet_day)]*10\n",
    "\n",
    "    # this is just for the x axis\n",
    "    date = list(range(1,10+1))\n",
    "\n",
    "\n",
    "    plt.plot(date,tweet_day, \"-r\", label=\"Tweets\")\n",
    "    plt.plot(date,average1,\"-b\", label=\"Average Over All Set Dates\")\n",
    "    plt.axvline(x = 5, color = 'y', label = 'Centre (location of protest/non-protests)')\n",
    "    plt.legend(loc=\"upper left\")\n",
    "    plt.ylabel('Number of Tweets')\n",
    "    plt.xlabel('Date')\n",
    "    plt.show()"
   ]
  },
  {
   "cell_type": "code",
   "execution_count": 106,
   "metadata": {},
   "outputs": [],
   "source": [
    "def tweet_rate2(dates, tweets):\n",
    "    for date in dates:\n",
    "        day = date\n",
    "        d1 = day - timedelta(days=5) \n",
    "        d2 = day + timedelta(days=5) \n",
    "        date2 = []\n",
    "        tweet_day = []\n",
    "        delta = (d2-d1).days\n",
    "\n",
    "        for i in range(delta):\n",
    "            day = d1+timedelta(days=i)\n",
    "            NuTweets = len(tweets.loc[tweets['Date']==day]) \n",
    "            date2.append(i)\n",
    "            tweet_day.append(NuTweets)\n",
    "\n",
    "        # Normalising\n",
    "        tweet_day =[x/max(tweet_day) for x in tweet_day]\n",
    "        plt.plot(date2,tweet_day)\n",
    "        plt.ylabel('Number of Tweets')\n",
    "        plt.xlabel('Date') "
   ]
  },
  {
   "cell_type": "markdown",
   "metadata": {},
   "source": [
    "### Dates"
   ]
  },
  {
   "cell_type": "code",
   "execution_count": 107,
   "metadata": {},
   "outputs": [],
   "source": [
    "def get_dates(protests,tweets):\n",
    "    start = tweets.tail(1)['Date'].to_list()\n",
    "    start = start[0]\n",
    "    end = tweets.head(1)['Date'].to_list()\n",
    "    end = end[0]\n",
    "\n",
    "    delta = (end-start).days\n",
    "    delta = delta\n",
    "    yes = []\n",
    "    no = []\n",
    "    protests2 = []\n",
    "    for i in range(delta):\n",
    "        date = start + timedelta(days=i)\n",
    "        temp = protests.loc[protests['Date']==date]\n",
    "        if len(temp) == 0:\n",
    "            no.append(date)\n",
    "        else:\n",
    "            yes.append(date)\n",
    "\n",
    "    return(yes, no)"
   ]
  },
  {
   "cell_type": "markdown",
   "metadata": {},
   "source": [
    "### Training set"
   ]
  },
  {
   "cell_type": "code",
   "execution_count": 108,
   "metadata": {},
   "outputs": [],
   "source": [
    "def get_start(protests, tweets):\n",
    "    dates = get_dates(protests, tweets)\n",
    "    yes = dates[0]\n",
    "    no = dates[1]\n",
    "\n",
    "    res = [1]*len(yes)\n",
    "    data = {'Protest':res,'Date':yes}\n",
    "    yes = pd.DataFrame(data)\n",
    "\n",
    "    res = [0]*len(no)\n",
    "    data = {'Protest':res,'Date':no}\n",
    "    no = pd.DataFrame(data)\n",
    "\n",
    "    # randomly sampling len(yes) samples from no such that there is an equal number of \n",
    "    # protests to non protest\n",
    "    no = no.sample(len(yes))\n",
    "\n",
    "    # Joining the dataframes, resetting the index and randomising the rows. \n",
    "    data = pd.concat([yes,no])\n",
    "    data = data.sample(frac=0.7)\n",
    "    data = data.reset_index(drop=True)\n",
    "\n",
    "    return(data)"
   ]
  },
  {
   "cell_type": "code",
   "execution_count": 109,
   "metadata": {},
   "outputs": [],
   "source": [
    "# return(tweet_day,average,specifiedTweets,length)\n",
    "# return(likes,followers,retweets,replies,Subjectivity,Polarity)\n",
    "# return(centre)"
   ]
  },
  {
   "cell_type": "code",
   "execution_count": 110,
   "metadata": {},
   "outputs": [],
   "source": [
    "def get_tweets(date, tweets):\n",
    "    day = date\n",
    "    d1 = day - timedelta(days=5) \n",
    "    d2 = day + timedelta(days=5) \n",
    "    delta = (d2-d1).days\n",
    "    delta = int(delta)\n",
    "    tweet_day = [0]*(int(5*2))\n",
    "    for i in range(10):\n",
    "        day = d1+timedelta(days=i)\n",
    "        NuTweets = len(tweets.loc[tweets['Date']==day]) \n",
    "        tweet_day[i]=tweet_day[i]+NuTweets\n",
    "    # average \n",
    "    average = sum(tweet_day)/len(tweet_day)\n",
    "    # normalising\n",
    "    tweet_day =[x/max(tweet_day) for x in tweet_day]\n",
    "    # # average \n",
    "    # average = sum(tweet_day)/len(tweet_day)\n",
    "    # specific tweets.\n",
    "    specifiedTweets = tweets[((tweets['Date'] >d1)&(tweets['Date'] <d2))]\n",
    "    specifiedTweets = specifiedTweets.reset_index(drop=True)\n",
    "    length = len(specifiedTweets)\n",
    "\n",
    "    return(tweet_day,average,specifiedTweets,length)"
   ]
  },
  {
   "cell_type": "code",
   "execution_count": 111,
   "metadata": {},
   "outputs": [],
   "source": [
    "def concat_lists_to_list(column_name):\n",
    "    content_list  = []\n",
    "    for iter_t, tweet in tweets.iterrows():\n",
    "        if tweet[column_name] == tweet[column_name]:\n",
    "            for content in tweet[column_name]:\n",
    "                content_list.append(content)\n",
    "    return content_list"
   ]
  },
  {
   "cell_type": "code",
   "execution_count": 112,
   "metadata": {},
   "outputs": [],
   "source": [
    "def tweet_metrics(tweets):\n",
    "    length = len(tweets)\n",
    "    followers = (tweets['author_followers'].sum())/length\n",
    "    retweets = (tweets['retweets'].sum())/length\n",
    "    replies = (tweets['replies'].sum())/length\n",
    "    likes = (tweets['likes'].sum())/length\n",
    "    Subjectivity = (tweets['Subjectivity'].sum())/length\n",
    "    Polarity = (tweets['Polarity'].sum())/length\n",
    "\n",
    "\n",
    "    grievance_list = concat_lists_to_list('grievances')\n",
    "    greivance_mode = multimode(grievance_list)\n",
    "\n",
    "    triggers_list = concat_lists_to_list('triggers')\n",
    "    triggers_mode = multimode(triggers_list)\n",
    "\n",
    "    tactics_list = concat_lists_to_list('tactics')\n",
    "    tactics_mode = multimode(tactics_list)\n",
    "\n",
    "    actors_list = concat_lists_to_list('actors')\n",
    "    actors_mode = multimode(actors_list)\n",
    "\n",
    "    locations_list = concat_lists_to_list('locations')\n",
    "    locations_mode = multimode(locations_list)\n",
    "\n",
    "    weapons_list = concat_lists_to_list('weapons')\n",
    "    weapons_mode = multimode(weapons_list)\n",
    "\n",
    "    eventualities_list = concat_lists_to_list('eventualities')\n",
    "    eventualities_mode = multimode(eventualities_list)\n",
    "\n",
    "    curiosities_list = concat_lists_to_list('curiosities')\n",
    "    curiosities_mode = multimode(curiosities_list)\n",
    "\n",
    "    non_protests_list = concat_lists_to_list('non_protests')\n",
    "    non_protests_mode = multimode(non_protests_list)\n",
    "\n",
    "    universities_list = concat_lists_to_list('universities')\n",
    "    universities_mode = multimode(universities_list)\n",
    "\n",
    "\n",
    "    return(likes,followers,retweets,replies,Subjectivity,Polarity,greivance_mode,triggers_mode,\n",
    "            tactics_mode,actors_mode,locations_mode,weapons_mode,eventualities_mode,\n",
    "            curiosities_mode,non_protests_mode,universities_mode)"
   ]
  },
  {
   "cell_type": "code",
   "execution_count": 113,
   "metadata": {},
   "outputs": [],
   "source": [
    "def get_centre(tweets):\n",
    "    # locations = tweets['geometry'].centroid\n",
    "    # print(locations.head())\n",
    "    # locations = locations.reset_index(drop=True)\n",
    "    # centre = locations.centriod\n",
    "\n",
    "    # its not working for now\n",
    "    # centre = 'too bad'\n",
    "    # return(centre)\n",
    "    \n",
    "\n",
    "    # We are going to return the place\n",
    "    place = tweets['Place1'].value_counts().idxmax()\n",
    "    return(place)\n",
    "    "
   ]
  },
  {
   "cell_type": "markdown",
   "metadata": {},
   "source": [
    "# Training Data"
   ]
  },
  {
   "cell_type": "code",
   "execution_count": 114,
   "metadata": {},
   "outputs": [],
   "source": [
    "def get_training(data, tweets):\n",
    "    NuTweets = []\n",
    "    average = []\n",
    "    d1 = []\n",
    "    d2 = []\n",
    "    d3 = []\n",
    "    d4 = []\n",
    "    d5 = []\n",
    "    d6 = []\n",
    "    d7 = []\n",
    "    d8 = []\n",
    "    d9 = []\n",
    "    d10 = []\n",
    "\n",
    "    likes = []\n",
    "    followers = []\n",
    "    retweets = []\n",
    "    replies = []\n",
    "    sub = []\n",
    "    pol = []\n",
    "\n",
    "    centre = []\n",
    "\n",
    "\n",
    "    for index, row in data.iterrows():\n",
    "        date = row['Date']\n",
    "        \n",
    "        res1 = get_tweets(date,tweets)\n",
    "        res2 = tweet_metrics(res1[2])\n",
    "        res3 = get_centre(res1[2])\n",
    "\n",
    "\n",
    "        average.append(res1[1])\n",
    "        NuTweets.append(res1[3])\n",
    "        d1.append(res1[0][0])\n",
    "        d2.append(res1[0][1])\n",
    "        d3.append(res1[0][2])\n",
    "        d4.append(res1[0][3])\n",
    "        d5.append(res1[0][4])\n",
    "        d6.append(res1[0][5])\n",
    "        d7.append(res1[0][6])\n",
    "        d8.append(res1[0][7])\n",
    "        d9.append(res1[0][8])\n",
    "        d10.append(res1[0][9])\n",
    "\n",
    "\n",
    "        likes.append(res2[0])\n",
    "        followers.append(res2[1])\n",
    "        retweets.append(res2[2])\n",
    "        replies.append(res2[3])\n",
    "        sub.append(res2[4])\n",
    "        pol.append(res2[5])\n",
    "\n",
    "        centre.append(res3)\n",
    "\n",
    "    \n",
    "\n",
    "    metrics = {'NuTweets':NuTweets,'d1':d1,'d2':d2,'d3':d3,'d4':d4,'d5':d5,'d6':d6,'d7':d7,'d8':d8,'d9':d9,'d10':d10,'average':average,'likes':likes,'followers':followers,'retweets':retweets,'replies':replies,'sub':sub,'pol':pol,'place':centre}\n",
    "    metrics = pd.DataFrame(metrics)\n",
    "\n",
    "        \n",
    "    training = pd.concat([data,metrics.reindex(data.index)], axis=1)\n",
    "    training = training.drop(['Date'], axis = 1)\n",
    "    return(training)"
   ]
  },
  {
   "cell_type": "markdown",
   "metadata": {},
   "source": [
    "# Models"
   ]
  },
  {
   "cell_type": "code",
   "execution_count": 115,
   "metadata": {},
   "outputs": [],
   "source": [
    "def logistic_regression(training):\n",
    "    X_train,X_test,y_train,y_test = train_test_split(training.drop(['Protest','place'],axis = 1), training['Protest'],test_size = 0.3,random_state=7)\n",
    "    # training the model\n",
    "    logreg =  LogisticRegression(solver='lbfgs')\n",
    "    logreg.fit(X_train,y_train)\n",
    "    score = logreg.score(X_test,y_test)\n",
    "    return(logreg,score)"
   ]
  },
  {
   "cell_type": "code",
   "execution_count": 116,
   "metadata": {},
   "outputs": [],
   "source": [
    "def niave(training):\n",
    "    X_train,X_test,y_train,y_test = train_test_split(training.drop(['Protest','place'],axis = 1), training['Protest'],test_size = 0.2)\n",
    "    naive = GaussianNB()\n",
    "    naive.fit(X_train,y_train)\n",
    "    score = naive.score(X_test,y_test)\n",
    "    return(naive,score)"
   ]
  },
  {
   "cell_type": "code",
   "execution_count": 117,
   "metadata": {},
   "outputs": [],
   "source": [
    "def linearSVM(training):\n",
    "    from sklearn.svm import LinearSVC\n",
    "    X_train,X_test,y_train,y_test = train_test_split(training.drop(['Protest','place'],axis = 1), training['Protest'],test_size = 0.2)\n",
    "    svm = LinearSVC()\n",
    "    svm.fit(X_train,y_train)\n",
    "    score = svm.score(X_test,y_test)\n",
    "    return(svm,score)"
   ]
  },
  {
   "cell_type": "markdown",
   "metadata": {},
   "source": [
    "# MAIN"
   ]
  },
  {
   "cell_type": "markdown",
   "metadata": {},
   "source": [
    "### Downloading tweets and protests"
   ]
  },
  {
   "cell_type": "code",
   "execution_count": 118,
   "metadata": {},
   "outputs": [],
   "source": [
    "tweets = pd.read_csv('DATA/tweets.csv')\n",
    "tweets['geometry'] = gpd.GeoSeries.from_wkt(tweets['geometry'])\n",
    "tweets['Date']=pd.to_datetime(tweets['Date'], format='%Y %m %d')\n",
    "tweets = tweets.drop(['Unnamed: 0','Analysis'],axis=1)"
   ]
  },
  {
   "cell_type": "code",
   "execution_count": 119,
   "metadata": {},
   "outputs": [],
   "source": [
    "protests = pd.read_csv('DATA/protests.csv')\n",
    "protests['geometry'] = gpd.GeoSeries.from_wkt(protests['geometry'])\n",
    "protests['Date']=pd.to_datetime(protests['Date'], format='%Y %m %d')\n",
    "protests = protests.drop(['Unnamed: 0'],axis=1)"
   ]
  },
  {
   "cell_type": "code",
   "execution_count": 120,
   "metadata": {},
   "outputs": [
    {
     "data": {
      "text/html": [
       "<div>\n",
       "<style scoped>\n",
       "    .dataframe tbody tr th:only-of-type {\n",
       "        vertical-align: middle;\n",
       "    }\n",
       "\n",
       "    .dataframe tbody tr th {\n",
       "        vertical-align: top;\n",
       "    }\n",
       "\n",
       "    .dataframe thead th {\n",
       "        text-align: right;\n",
       "    }\n",
       "</style>\n",
       "<table border=\"1\" class=\"dataframe\">\n",
       "  <thead>\n",
       "    <tr style=\"text-align: right;\">\n",
       "      <th></th>\n",
       "      <th>text</th>\n",
       "      <th>Date</th>\n",
       "      <th>geometry</th>\n",
       "      <th>author_followers</th>\n",
       "      <th>retweets</th>\n",
       "      <th>replies</th>\n",
       "      <th>likes</th>\n",
       "      <th>quote_count</th>\n",
       "      <th>Subjectivity</th>\n",
       "      <th>Polarity</th>\n",
       "      <th>...</th>\n",
       "      <th>locations</th>\n",
       "      <th>weapons</th>\n",
       "      <th>eventualities</th>\n",
       "      <th>curiosities</th>\n",
       "      <th>non_protests</th>\n",
       "      <th>universities</th>\n",
       "      <th>Place0</th>\n",
       "      <th>Place1</th>\n",
       "      <th>Place2</th>\n",
       "      <th>Place3</th>\n",
       "    </tr>\n",
       "  </thead>\n",
       "  <tbody>\n",
       "    <tr>\n",
       "      <th>0</th>\n",
       "      <td>#KZN We are on thee way! Hitting up Richards B...</td>\n",
       "      <td>2017-12-31</td>\n",
       "      <td>POINT (28.23140 -25.75450)</td>\n",
       "      <td>437807</td>\n",
       "      <td>0</td>\n",
       "      <td>1</td>\n",
       "      <td>21</td>\n",
       "      <td>0</td>\n",
       "      <td>0.066667</td>\n",
       "      <td>0.0</td>\n",
       "      <td>...</td>\n",
       "      <td>NaN</td>\n",
       "      <td>NaN</td>\n",
       "      <td>NaN</td>\n",
       "      <td>NaN</td>\n",
       "      <td>NaN</td>\n",
       "      <td>['University of Pretoria']</td>\n",
       "      <td>Gauteng</td>\n",
       "      <td>City of Tshwane</td>\n",
       "      <td>City of Tshwane</td>\n",
       "      <td>56</td>\n",
       "    </tr>\n",
       "  </tbody>\n",
       "</table>\n",
       "<p>1 rows × 24 columns</p>\n",
       "</div>"
      ],
      "text/plain": [
       "                                                text       Date  \\\n",
       "0  #KZN We are on thee way! Hitting up Richards B... 2017-12-31   \n",
       "\n",
       "                     geometry  author_followers  retweets  replies  likes  \\\n",
       "0  POINT (28.23140 -25.75450)            437807         0        1     21   \n",
       "\n",
       "   quote_count  Subjectivity  Polarity  ... locations weapons eventualities  \\\n",
       "0            0      0.066667       0.0  ...       NaN     NaN           NaN   \n",
       "\n",
       "  curiosities non_protests                universities   Place0  \\\n",
       "0         NaN          NaN  ['University of Pretoria']  Gauteng   \n",
       "\n",
       "            Place1           Place2 Place3  \n",
       "0  City of Tshwane  City of Tshwane     56  \n",
       "\n",
       "[1 rows x 24 columns]"
      ]
     },
     "execution_count": 120,
     "metadata": {},
     "output_type": "execute_result"
    }
   ],
   "source": [
    "tweets.head(1)"
   ]
  },
  {
   "cell_type": "code",
   "execution_count": 121,
   "metadata": {},
   "outputs": [
    {
     "data": {
      "text/html": [
       "<div>\n",
       "<style scoped>\n",
       "    .dataframe tbody tr th:only-of-type {\n",
       "        vertical-align: middle;\n",
       "    }\n",
       "\n",
       "    .dataframe tbody tr th {\n",
       "        vertical-align: top;\n",
       "    }\n",
       "\n",
       "    .dataframe thead th {\n",
       "        text-align: right;\n",
       "    }\n",
       "</style>\n",
       "<table border=\"1\" class=\"dataframe\">\n",
       "  <thead>\n",
       "    <tr style=\"text-align: right;\">\n",
       "      <th></th>\n",
       "      <th>Date</th>\n",
       "      <th>notes</th>\n",
       "      <th>geometry</th>\n",
       "      <th>Place0</th>\n",
       "      <th>Place1</th>\n",
       "      <th>Place2</th>\n",
       "      <th>Place3</th>\n",
       "    </tr>\n",
       "  </thead>\n",
       "  <tbody>\n",
       "    <tr>\n",
       "      <th>0</th>\n",
       "      <td>2017-10-25</td>\n",
       "      <td>A few hundred Fees Must Fall protesters attemp...</td>\n",
       "      <td>POINT (18.47640 -33.96330)</td>\n",
       "      <td>Western Cape</td>\n",
       "      <td>City of Cape Town</td>\n",
       "      <td>City of Cape Town</td>\n",
       "      <td>58</td>\n",
       "    </tr>\n",
       "  </tbody>\n",
       "</table>\n",
       "</div>"
      ],
      "text/plain": [
       "        Date                                              notes  \\\n",
       "0 2017-10-25  A few hundred Fees Must Fall protesters attemp...   \n",
       "\n",
       "                     geometry        Place0             Place1  \\\n",
       "0  POINT (18.47640 -33.96330)  Western Cape  City of Cape Town   \n",
       "\n",
       "              Place2  Place3  \n",
       "0  City of Cape Town      58  "
      ]
     },
     "execution_count": 121,
     "metadata": {},
     "output_type": "execute_result"
    }
   ],
   "source": [
    "protests.head(1)"
   ]
  },
  {
   "cell_type": "markdown",
   "metadata": {},
   "source": [
    "# Lets test protest in a chosen place"
   ]
  },
  {
   "cell_type": "code",
   "execution_count": 122,
   "metadata": {},
   "outputs": [
    {
     "name": "stdout",
     "output_type": "stream",
     "text": [
      "['Gauteng' 'KwaZulu-Natal' 'Western Cape' 'Free State' 'Eastern Cape'\n",
      " 'Mpumalanga' 'North West' 'Limpopo' 'Nothern Cape' '0']\n"
     ]
    }
   ],
   "source": [
    "places = tweets['Place0'].unique()\n",
    "print(places)"
   ]
  },
  {
   "cell_type": "code",
   "execution_count": 123,
   "metadata": {},
   "outputs": [],
   "source": [
    "place = 'Western Cape'"
   ]
  },
  {
   "cell_type": "code",
   "execution_count": 124,
   "metadata": {},
   "outputs": [],
   "source": [
    "protests = protests.loc[protests['Place0']==place]\n",
    "tweets = tweets.loc[tweets['Place0']==place]"
   ]
  },
  {
   "cell_type": "code",
   "execution_count": 125,
   "metadata": {},
   "outputs": [
    {
     "data": {
      "text/html": [
       "<div>\n",
       "<style scoped>\n",
       "    .dataframe tbody tr th:only-of-type {\n",
       "        vertical-align: middle;\n",
       "    }\n",
       "\n",
       "    .dataframe tbody tr th {\n",
       "        vertical-align: top;\n",
       "    }\n",
       "\n",
       "    .dataframe thead th {\n",
       "        text-align: right;\n",
       "    }\n",
       "</style>\n",
       "<table border=\"1\" class=\"dataframe\">\n",
       "  <thead>\n",
       "    <tr style=\"text-align: right;\">\n",
       "      <th></th>\n",
       "      <th>Protest</th>\n",
       "      <th>NuTweets</th>\n",
       "      <th>d1</th>\n",
       "      <th>d2</th>\n",
       "      <th>d3</th>\n",
       "      <th>d4</th>\n",
       "      <th>d5</th>\n",
       "      <th>d6</th>\n",
       "      <th>d7</th>\n",
       "      <th>d8</th>\n",
       "      <th>d9</th>\n",
       "      <th>d10</th>\n",
       "      <th>average</th>\n",
       "      <th>likes</th>\n",
       "      <th>followers</th>\n",
       "      <th>retweets</th>\n",
       "      <th>replies</th>\n",
       "      <th>sub</th>\n",
       "      <th>pol</th>\n",
       "      <th>place</th>\n",
       "    </tr>\n",
       "  </thead>\n",
       "  <tbody>\n",
       "    <tr>\n",
       "      <th>0</th>\n",
       "      <td>1</td>\n",
       "      <td>128</td>\n",
       "      <td>0.176471</td>\n",
       "      <td>0.941176</td>\n",
       "      <td>1.000000</td>\n",
       "      <td>0.823529</td>\n",
       "      <td>0.823529</td>\n",
       "      <td>0.882353</td>\n",
       "      <td>0.588235</td>\n",
       "      <td>0.647059</td>\n",
       "      <td>0.823529</td>\n",
       "      <td>1.000</td>\n",
       "      <td>13.1</td>\n",
       "      <td>1.054688</td>\n",
       "      <td>17116.125000</td>\n",
       "      <td>1.828125</td>\n",
       "      <td>0.304688</td>\n",
       "      <td>0.459057</td>\n",
       "      <td>0.100919</td>\n",
       "      <td>City of Cape Town</td>\n",
       "    </tr>\n",
       "    <tr>\n",
       "      <th>1</th>\n",
       "      <td>1</td>\n",
       "      <td>26</td>\n",
       "      <td>1.000000</td>\n",
       "      <td>0.250000</td>\n",
       "      <td>0.250000</td>\n",
       "      <td>0.500000</td>\n",
       "      <td>0.625000</td>\n",
       "      <td>0.000000</td>\n",
       "      <td>0.125000</td>\n",
       "      <td>1.000000</td>\n",
       "      <td>0.375000</td>\n",
       "      <td>0.125</td>\n",
       "      <td>3.4</td>\n",
       "      <td>0.807692</td>\n",
       "      <td>46612.615385</td>\n",
       "      <td>0.346154</td>\n",
       "      <td>0.115385</td>\n",
       "      <td>0.475241</td>\n",
       "      <td>0.181065</td>\n",
       "      <td>City of Cape Town</td>\n",
       "    </tr>\n",
       "    <tr>\n",
       "      <th>2</th>\n",
       "      <td>1</td>\n",
       "      <td>145</td>\n",
       "      <td>0.068182</td>\n",
       "      <td>0.568182</td>\n",
       "      <td>0.295455</td>\n",
       "      <td>0.204545</td>\n",
       "      <td>0.409091</td>\n",
       "      <td>0.181818</td>\n",
       "      <td>0.068182</td>\n",
       "      <td>0.068182</td>\n",
       "      <td>0.500000</td>\n",
       "      <td>1.000</td>\n",
       "      <td>14.8</td>\n",
       "      <td>1.137931</td>\n",
       "      <td>4640.075862</td>\n",
       "      <td>1.896552</td>\n",
       "      <td>0.331034</td>\n",
       "      <td>0.447225</td>\n",
       "      <td>0.073513</td>\n",
       "      <td>City of Cape Town</td>\n",
       "    </tr>\n",
       "    <tr>\n",
       "      <th>3</th>\n",
       "      <td>0</td>\n",
       "      <td>47</td>\n",
       "      <td>0.400000</td>\n",
       "      <td>1.000000</td>\n",
       "      <td>1.000000</td>\n",
       "      <td>0.300000</td>\n",
       "      <td>0.100000</td>\n",
       "      <td>0.200000</td>\n",
       "      <td>0.700000</td>\n",
       "      <td>0.400000</td>\n",
       "      <td>0.400000</td>\n",
       "      <td>0.600</td>\n",
       "      <td>5.1</td>\n",
       "      <td>0.489362</td>\n",
       "      <td>24308.446809</td>\n",
       "      <td>0.808511</td>\n",
       "      <td>0.106383</td>\n",
       "      <td>0.000000</td>\n",
       "      <td>0.000000</td>\n",
       "      <td>Cape Winelands</td>\n",
       "    </tr>\n",
       "    <tr>\n",
       "      <th>4</th>\n",
       "      <td>0</td>\n",
       "      <td>27</td>\n",
       "      <td>0.750000</td>\n",
       "      <td>0.375000</td>\n",
       "      <td>0.125000</td>\n",
       "      <td>0.375000</td>\n",
       "      <td>0.500000</td>\n",
       "      <td>1.000000</td>\n",
       "      <td>0.250000</td>\n",
       "      <td>0.500000</td>\n",
       "      <td>0.250000</td>\n",
       "      <td>0.000</td>\n",
       "      <td>3.3</td>\n",
       "      <td>0.296296</td>\n",
       "      <td>3079.111111</td>\n",
       "      <td>0.296296</td>\n",
       "      <td>0.185185</td>\n",
       "      <td>0.000000</td>\n",
       "      <td>0.000000</td>\n",
       "      <td>City of Cape Town</td>\n",
       "    </tr>\n",
       "  </tbody>\n",
       "</table>\n",
       "</div>"
      ],
      "text/plain": [
       "   Protest  NuTweets        d1        d2        d3        d4        d5  \\\n",
       "0        1       128  0.176471  0.941176  1.000000  0.823529  0.823529   \n",
       "1        1        26  1.000000  0.250000  0.250000  0.500000  0.625000   \n",
       "2        1       145  0.068182  0.568182  0.295455  0.204545  0.409091   \n",
       "3        0        47  0.400000  1.000000  1.000000  0.300000  0.100000   \n",
       "4        0        27  0.750000  0.375000  0.125000  0.375000  0.500000   \n",
       "\n",
       "         d6        d7        d8        d9    d10  average     likes  \\\n",
       "0  0.882353  0.588235  0.647059  0.823529  1.000     13.1  1.054688   \n",
       "1  0.000000  0.125000  1.000000  0.375000  0.125      3.4  0.807692   \n",
       "2  0.181818  0.068182  0.068182  0.500000  1.000     14.8  1.137931   \n",
       "3  0.200000  0.700000  0.400000  0.400000  0.600      5.1  0.489362   \n",
       "4  1.000000  0.250000  0.500000  0.250000  0.000      3.3  0.296296   \n",
       "\n",
       "      followers  retweets   replies       sub       pol              place  \n",
       "0  17116.125000  1.828125  0.304688  0.459057  0.100919  City of Cape Town  \n",
       "1  46612.615385  0.346154  0.115385  0.475241  0.181065  City of Cape Town  \n",
       "2   4640.075862  1.896552  0.331034  0.447225  0.073513  City of Cape Town  \n",
       "3  24308.446809  0.808511  0.106383  0.000000  0.000000     Cape Winelands  \n",
       "4   3079.111111  0.296296  0.185185  0.000000  0.000000  City of Cape Town  "
      ]
     },
     "execution_count": 125,
     "metadata": {},
     "output_type": "execute_result"
    }
   ],
   "source": [
    "# Expected Time for 20k tweets = 2 mins\n",
    "data = get_start(protests,tweets)\n",
    "training = get_training(data,tweets)\n",
    "training.head(5)"
   ]
  },
  {
   "cell_type": "code",
   "execution_count": 126,
   "metadata": {},
   "outputs": [
    {
     "data": {
      "text/plain": [
       "45"
      ]
     },
     "execution_count": 126,
     "metadata": {},
     "output_type": "execute_result"
    }
   ],
   "source": [
    "len(training)"
   ]
  },
  {
   "cell_type": "markdown",
   "metadata": {},
   "source": [
    "# Creating a simple model"
   ]
  },
  {
   "cell_type": "code",
   "execution_count": 127,
   "metadata": {},
   "outputs": [
    {
     "data": {
      "text/plain": [
       "0.5"
      ]
     },
     "execution_count": 127,
     "metadata": {},
     "output_type": "execute_result"
    }
   ],
   "source": [
    "log = logistic_regression(training)\n",
    "log[1]"
   ]
  },
  {
   "cell_type": "code",
   "execution_count": 128,
   "metadata": {},
   "outputs": [],
   "source": [
    "# log = naive(training)\n",
    "# log[1]"
   ]
  },
  {
   "cell_type": "code",
   "execution_count": 129,
   "metadata": {},
   "outputs": [
    {
     "name": "stderr",
     "output_type": "stream",
     "text": [
      "c:\\Users\\papag\\AppData\\Local\\Programs\\Python\\Python310\\lib\\site-packages\\sklearn\\svm\\_base.py:1225: ConvergenceWarning: Liblinear failed to converge, increase the number of iterations.\n",
      "  warnings.warn(\n"
     ]
    },
    {
     "data": {
      "text/plain": [
       "0.8888888888888888"
      ]
     },
     "execution_count": 129,
     "metadata": {},
     "output_type": "execute_result"
    }
   ],
   "source": [
    "log = linearSVM(training)\n",
    "log[1]"
   ]
  }
 ],
 "metadata": {
  "kernelspec": {
   "display_name": "Python 3.10.4 64-bit",
   "language": "python",
   "name": "python3"
  },
  "language_info": {
   "codemirror_mode": {
    "name": "ipython",
    "version": 3
   },
   "file_extension": ".py",
   "mimetype": "text/x-python",
   "name": "python",
   "nbconvert_exporter": "python",
   "pygments_lexer": "ipython3",
   "version": "3.10.4"
  },
  "orig_nbformat": 4,
  "vscode": {
   "interpreter": {
    "hash": "eb1e2aa17c9c03522ea469ed025d74c8a00b3c7801d0496b408e209436a13f2e"
   }
  }
 },
 "nbformat": 4,
 "nbformat_minor": 2
}
