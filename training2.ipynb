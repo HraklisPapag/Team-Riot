{
 "cells": [
  {
   "cell_type": "markdown",
   "metadata": {},
   "source": [
    "# Create training dataset"
   ]
  },
  {
   "cell_type": "code",
   "execution_count": 907,
   "metadata": {},
   "outputs": [],
   "source": [
    "import geopandas as gpd\n",
    "import pandas as pd\n",
    "import matplotlib.pyplot as plt\n",
    "from datetime import datetime\n",
    "from datetime import timedelta\n",
    "\n",
    "\n",
    "from sklearn.model_selection import train_test_split\n",
    "from sklearn.linear_model import LinearRegression\n",
    "from sklearn.naive_bayes import GaussianNB\n",
    "from sklearn.svm import LinearSVC\n"
   ]
  },
  {
   "cell_type": "markdown",
   "metadata": {},
   "source": [
    "# Functions"
   ]
  },
  {
   "cell_type": "code",
   "execution_count": 908,
   "metadata": {},
   "outputs": [],
   "source": [
    "def get_subregion(dist1, dist2, place):\n",
    "    row = dist1.loc[dist1['Place0']==place]\n",
    "    shape = row['geometry'].to_list()\n",
    "    shape = shape[0]\n",
    "\n",
    "    places = dist2['geometry']\n",
    "    res = places.within(shape)\n",
    "    res = res.to_list()\n",
    "    temp = dist2\n",
    "    temp['res'] = res\n",
    "    temp = temp.loc[temp['res']==True]\n",
    "    return(temp)"
   ]
  },
  {
   "cell_type": "markdown",
   "metadata": {},
   "source": [
    "### tweets"
   ]
  },
  {
   "cell_type": "code",
   "execution_count": 909,
   "metadata": {},
   "outputs": [],
   "source": [
    "def plot_Tweets(dist, tweets, n):    \n",
    "    Nu_Tweets = []\n",
    "    for index, row in dist.iterrows():\n",
    "        size = len(tweets.loc[tweets['Place' + str(n)]==row['Place'+ str(n)]])\n",
    "\n",
    "        Nu_Tweets.append(size)\n",
    "\n",
    "    Nu_Tweets\n",
    "    dist['Tweets'] = Nu_Tweets\n",
    "\n",
    "    plot = dist.explore(\n",
    "        column=\"Tweets\", # make choropleth based on \"Data\" column\n",
    "        tooltip=['Place'+ str(n),'Tweets'], # show \"Province, Data\" value in tooltip (on hover)\n",
    "        popup=True, # show all values in popup (on click)\n",
    "        tiles=\"CartoDB positron\", # use \"CartoDB positron\" tiles\n",
    "        cmap=\"Paired\", # https://matplotlib.org/stable/tutorials/colors/colormaps.html\n",
    "        style_kwds=dict(color=\"black\") # use black outline\n",
    "        )\n",
    "    return(plot)"
   ]
  },
  {
   "cell_type": "code",
   "execution_count": 910,
   "metadata": {},
   "outputs": [],
   "source": [
    "def tweet_rate_av2(dates, tweets):\n",
    "    tweet_day = [0]*10\n",
    "    for i, date in enumerate(dates):\n",
    "        day = date\n",
    "        d1 = day - timedelta(days=5) \n",
    "        d2 = day + timedelta(days=5) \n",
    "        delta = (d2-d1).days\n",
    "        for i in range(delta):\n",
    "            day = d1+timedelta(days=i)\n",
    "            NuTweets = len(tweets.loc[tweets['Date']==day]) \n",
    "            tweet_day[i]=tweet_day[i]+NuTweets\n",
    "\n",
    "    # getting the average\n",
    "    tweet_day =[x/len(dates) for x in tweet_day]\n",
    "\n",
    "    # normalising\n",
    "    #tweet_day =[x/max(tweet_day) for x in tweet_day]\n",
    "\n",
    "    # Getting the average of the sets\n",
    "    average1 = [sum(tweet_day)/len(tweet_day)]*10\n",
    "\n",
    "    # this is just for the x axis\n",
    "    date = list(range(1,10+1))\n",
    "\n",
    "\n",
    "    plt.plot(date,tweet_day, \"-r\", label=\"Tweets\")\n",
    "    plt.plot(date,average1,\"-b\", label=\"Average Over All Set Dates\")\n",
    "    plt.axvline(x = 5, color = 'y', label = 'Centre (location of protest/non-protests)')\n",
    "    plt.legend(loc=\"upper left\")\n",
    "    plt.ylabel('Number of Tweets')\n",
    "    plt.xlabel('Date')\n",
    "    plt.show()"
   ]
  },
  {
   "cell_type": "code",
   "execution_count": 911,
   "metadata": {},
   "outputs": [],
   "source": [
    "def tweet_rate2(dates, tweets):\n",
    "    for date in dates:\n",
    "        day = date\n",
    "        d1 = day - timedelta(days=5) \n",
    "        d2 = day + timedelta(days=5) \n",
    "        date2 = []\n",
    "        tweet_day = []\n",
    "        delta = (d2-d1).days\n",
    "\n",
    "        for i in range(delta):\n",
    "            day = d1+timedelta(days=i)\n",
    "            NuTweets = len(tweets.loc[tweets['Date']==day]) \n",
    "            date2.append(i)\n",
    "            tweet_day.append(NuTweets)\n",
    "\n",
    "        # Normalising\n",
    "        tweet_day =[x/max(tweet_day) for x in tweet_day]\n",
    "        plt.plot(date2,tweet_day)\n",
    "        plt.ylabel('Number of Tweets')\n",
    "        plt.xlabel('Date') "
   ]
  },
  {
   "cell_type": "markdown",
   "metadata": {},
   "source": [
    "### Dates"
   ]
  },
  {
   "cell_type": "code",
   "execution_count": 912,
   "metadata": {},
   "outputs": [],
   "source": [
    "def get_dates(protests,tweets):\n",
    "    start = tweets.tail(1)['Date'].to_list()\n",
    "    start = start[0]\n",
    "    end = tweets.head(1)['Date'].to_list()\n",
    "    end = end[0]\n",
    "\n",
    "    delta = (end-start).days\n",
    "    delta = delta\n",
    "    yes = []\n",
    "    no = []\n",
    "    protests2 = []\n",
    "    for i in range(delta):\n",
    "        date = start + timedelta(days=i)\n",
    "        temp = protests.loc[protests['Date']==date]\n",
    "        if len(temp) == 0:\n",
    "            no.append(date)\n",
    "        else:\n",
    "            yes.append(date)\n",
    "\n",
    "    return(yes, no)"
   ]
  },
  {
   "cell_type": "markdown",
   "metadata": {},
   "source": [
    "### Training set"
   ]
  },
  {
   "cell_type": "code",
   "execution_count": 913,
   "metadata": {},
   "outputs": [],
   "source": [
    "def get_start(protests, tweets):\n",
    "    dates = get_dates(protests, tweets)\n",
    "    yes = dates[0]\n",
    "    no = dates[1]\n",
    "\n",
    "    res = [1]*len(yes)\n",
    "    data = {'Protest':res,'Date':yes}\n",
    "    yes = pd.DataFrame(data)\n",
    "\n",
    "    res = [0]*len(no)\n",
    "    data = {'Protest':res,'Date':no}\n",
    "    no = pd.DataFrame(data)\n",
    "\n",
    "    # randomly sampling len(yes) samples from no such that there is an equal number of \n",
    "    # protests to non protest\n",
    "    no = no.sample(len(yes))\n",
    "\n",
    "    # Joining the dataframes, resetting the index and randomising the rows. \n",
    "    data = pd.concat([yes,no])\n",
    "    data = data.sample(frac=0.7)\n",
    "    data = data.reset_index(drop=True)\n",
    "\n",
    "    return(data)"
   ]
  },
  {
   "cell_type": "code",
   "execution_count": 914,
   "metadata": {},
   "outputs": [],
   "source": [
    "# return(tweet_day,average,specifiedTweets,length)\n",
    "# return(likes,followers,retweets,replies,Subjectivity,Polarity)\n",
    "# return(centre)"
   ]
  },
  {
   "cell_type": "code",
   "execution_count": 915,
   "metadata": {},
   "outputs": [],
   "source": [
    "def get_tweets(date, tweets):\n",
    "    day = date\n",
    "    d1 = day - timedelta(days=5) \n",
    "    d2 = day + timedelta(days=5) \n",
    "    delta = (d2-d1).days\n",
    "    delta = int(delta)\n",
    "    tweet_day = [0]*(int(5*2))\n",
    "    for i in range(10):\n",
    "        day = d1+timedelta(days=i)\n",
    "        NuTweets = len(tweets.loc[tweets['Date']==day]) \n",
    "        tweet_day[i]=tweet_day[i]+NuTweets\n",
    "    # average \n",
    "    average = sum(tweet_day)/len(tweet_day)\n",
    "    # normalising\n",
    "    tweet_day =[x/max(tweet_day) for x in tweet_day]\n",
    "    # # average \n",
    "    # average = sum(tweet_day)/len(tweet_day)\n",
    "    # specific tweets.\n",
    "    specifiedTweets = tweets[((tweets['Date'] >d1)&(tweets['Date'] <d2))]\n",
    "    specifiedTweets = specifiedTweets.reset_index(drop=True)\n",
    "    length = len(specifiedTweets)\n",
    "\n",
    "    return(tweet_day,average,specifiedTweets,length)"
   ]
  },
  {
   "cell_type": "code",
   "execution_count": 916,
   "metadata": {},
   "outputs": [],
   "source": [
    "def tweet_metrics(tweets):\n",
    "    length = len(tweets)\n",
    "    followers = (tweets['author_followers'].sum())/length\n",
    "    retweets = (tweets['retweets'].sum())/length\n",
    "    replies = (tweets['replies'].sum())/length\n",
    "    likes = (tweets['likes'].sum())/length\n",
    "    Subjectivity = (tweets['Subjectivity'].sum())/length\n",
    "    Polarity = (tweets['Polarity'].sum())/length\n",
    "\n",
    "\n",
    "    return(likes,followers,retweets,replies,Subjectivity,Polarity)"
   ]
  },
  {
   "cell_type": "code",
   "execution_count": 917,
   "metadata": {},
   "outputs": [],
   "source": [
    "def get_centre(tweets):\n",
    "    # locations = tweets['geometry'].centroid\n",
    "    # print(locations.head())\n",
    "    # locations = locations.reset_index(drop=True)\n",
    "    # centre = locations.centriod\n",
    "\n",
    "    # its not working for now\n",
    "    # centre = 'too bad'\n",
    "    # return(centre)\n",
    "    \n",
    "\n",
    "    # We are going to return the place\n",
    "    place = tweets['Place1'].value_counts().idxmax()\n",
    "    return(place)\n",
    "    "
   ]
  },
  {
   "cell_type": "markdown",
   "metadata": {},
   "source": [
    "# Training Data"
   ]
  },
  {
   "cell_type": "code",
   "execution_count": 918,
   "metadata": {},
   "outputs": [],
   "source": [
    "def get_training(data, tweets):\n",
    "    NuTweets = []\n",
    "    average = []\n",
    "    d1 = []\n",
    "    d2 = []\n",
    "    d3 = []\n",
    "    d4 = []\n",
    "    d5 = []\n",
    "    d6 = []\n",
    "    d7 = []\n",
    "    d8 = []\n",
    "    d9 = []\n",
    "    d10 = []\n",
    "\n",
    "    likes = []\n",
    "    followers = []\n",
    "    retweets = []\n",
    "    replies = []\n",
    "    sub = []\n",
    "    pol = []\n",
    "\n",
    "    centre = []\n",
    "\n",
    "\n",
    "    for index, row in data.iterrows():\n",
    "        date = row['Date']\n",
    "        \n",
    "        res1 = get_tweets(date,tweets)\n",
    "        res2 = tweet_metrics(res1[2])\n",
    "        res3 = get_centre(res1[2])\n",
    "\n",
    "\n",
    "        average.append(res1[1])\n",
    "        NuTweets.append(res1[3])\n",
    "        d1.append(res1[0][0])\n",
    "        d2.append(res1[0][1])\n",
    "        d3.append(res1[0][2])\n",
    "        d4.append(res1[0][3])\n",
    "        d5.append(res1[0][4])\n",
    "        d6.append(res1[0][5])\n",
    "        d7.append(res1[0][6])\n",
    "        d8.append(res1[0][7])\n",
    "        d9.append(res1[0][8])\n",
    "        d10.append(res1[0][9])\n",
    "\n",
    "\n",
    "        likes.append(res2[0])\n",
    "        followers.append(res2[1])\n",
    "        retweets.append(res2[2])\n",
    "        replies.append(res2[3])\n",
    "        sub.append(res2[4])\n",
    "        pol.append(res2[5])\n",
    "\n",
    "        centre.append(res3)\n",
    "\n",
    "    \n",
    "\n",
    "    metrics = {'NuTweets':NuTweets,'d1':d1,'d2':d2,'d3':d3,'d4':d4,'d5':d5,'d6':d6,'d7':d7,'d8':d8,'d9':d9,'d10':d10,'average':average,'likes':likes,'followers':followers,'retweets':retweets,'replies':replies,'sub':sub,'pol':pol,'place':centre}\n",
    "    metrics = pd.DataFrame(metrics)\n",
    "\n",
    "        \n",
    "    training = pd.concat([data,metrics.reindex(data.index)], axis=1)\n",
    "    training = training.drop(['Date'], axis = 1)\n",
    "    return(training)"
   ]
  },
  {
   "cell_type": "markdown",
   "metadata": {},
   "source": [
    "# Models"
   ]
  },
  {
   "cell_type": "code",
   "execution_count": 919,
   "metadata": {},
   "outputs": [],
   "source": [
    "def logisticRegression(training):\n",
    "    X_train,X_test,y_train,y_test = train_test_split(training.drop(['Protest','place'],axis = 1), training['Protest'],test_size = 0.3,random_state=7)\n",
    "    # training the model\n",
    "    logreg =  LogisticRegression(solver='lbfgs')\n",
    "    logreg.fit(X_train,y_train)\n",
    "    score = logreg.score(X_test,y_test)\n",
    "    return(logreg,score)"
   ]
  },
  {
   "cell_type": "code",
   "execution_count": 920,
   "metadata": {},
   "outputs": [],
   "source": [
    "def niave(training):\n",
    "    X_train,X_test,y_train,y_test = train_test_split(training.drop(['Protest','place'],axis = 1), training['Protest'],test_size = 0.2)\n",
    "    naive = GaussianNB()\n",
    "    naive.fit(X_train,y_train)\n",
    "    score = naive.score(X_test,y_test)\n",
    "    return(naive,score)"
   ]
  },
  {
   "cell_type": "code",
   "execution_count": 921,
   "metadata": {},
   "outputs": [],
   "source": [
    "def linearSVM(training):\n",
    "    from sklearn.svm import LinearSVC\n",
    "    X_train,X_test,y_train,y_test = train_test_split(training.drop(['Protest','place'],axis = 1), training['Protest'],test_size = 0.2)\n",
    "    svm = LinearSVC()\n",
    "    svm.fit(X_train,y_train)\n",
    "    score = svm.score(X_test,y_test)\n",
    "    return(svm,score)"
   ]
  },
  {
   "cell_type": "markdown",
   "metadata": {},
   "source": [
    "# MAIN"
   ]
  },
  {
   "cell_type": "markdown",
   "metadata": {},
   "source": [
    "### Downloading tweets and protests"
   ]
  },
  {
   "cell_type": "code",
   "execution_count": 922,
   "metadata": {},
   "outputs": [],
   "source": [
    "tweets = pd.read_csv('DATA/tweets.csv')\n",
    "tweets['geometry'] = gpd.GeoSeries.from_wkt(tweets['geometry'])\n",
    "tweets['Date']=pd.to_datetime(tweets['Date'], format='%Y %m %d')\n",
    "tweets = tweets.drop(['Unnamed: 0','Analysis'],axis=1)"
   ]
  },
  {
   "cell_type": "code",
   "execution_count": 923,
   "metadata": {},
   "outputs": [],
   "source": [
    "protests = pd.read_csv('DATA/protests.csv')\n",
    "protests['geometry'] = gpd.GeoSeries.from_wkt(protests['geometry'])\n",
    "protests['Date']=pd.to_datetime(protests['Date'], format='%Y %m %d')\n",
    "protests = protests.drop(['Unnamed: 0'],axis=1)"
   ]
  },
  {
   "cell_type": "code",
   "execution_count": 924,
   "metadata": {},
   "outputs": [
    {
     "data": {
      "text/html": [
       "<div>\n",
       "<style scoped>\n",
       "    .dataframe tbody tr th:only-of-type {\n",
       "        vertical-align: middle;\n",
       "    }\n",
       "\n",
       "    .dataframe tbody tr th {\n",
       "        vertical-align: top;\n",
       "    }\n",
       "\n",
       "    .dataframe thead th {\n",
       "        text-align: right;\n",
       "    }\n",
       "</style>\n",
       "<table border=\"1\" class=\"dataframe\">\n",
       "  <thead>\n",
       "    <tr style=\"text-align: right;\">\n",
       "      <th></th>\n",
       "      <th>text</th>\n",
       "      <th>Date</th>\n",
       "      <th>geometry</th>\n",
       "      <th>author_followers</th>\n",
       "      <th>retweets</th>\n",
       "      <th>replies</th>\n",
       "      <th>likes</th>\n",
       "      <th>quote_count</th>\n",
       "      <th>Subjectivity</th>\n",
       "      <th>Polarity</th>\n",
       "      <th>Place0</th>\n",
       "      <th>Place1</th>\n",
       "      <th>Place2</th>\n",
       "      <th>Place3</th>\n",
       "    </tr>\n",
       "  </thead>\n",
       "  <tbody>\n",
       "    <tr>\n",
       "      <th>0</th>\n",
       "      <td>@unisa the 3rd January registration is it for ...</td>\n",
       "      <td>2017-12-31</td>\n",
       "      <td>POINT (30.64532 -29.81931)</td>\n",
       "      <td>1100</td>\n",
       "      <td>0</td>\n",
       "      <td>0</td>\n",
       "      <td>0</td>\n",
       "      <td>0</td>\n",
       "      <td>0.7</td>\n",
       "      <td>0.0</td>\n",
       "      <td>KwaZulu-Natal</td>\n",
       "      <td>eThekwini</td>\n",
       "      <td>eThekwini</td>\n",
       "      <td>6</td>\n",
       "    </tr>\n",
       "  </tbody>\n",
       "</table>\n",
       "</div>"
      ],
      "text/plain": [
       "                                                text       Date  \\\n",
       "0  @unisa the 3rd January registration is it for ... 2017-12-31   \n",
       "\n",
       "                     geometry  author_followers  retweets  replies  likes  \\\n",
       "0  POINT (30.64532 -29.81931)              1100         0        0      0   \n",
       "\n",
       "   quote_count  Subjectivity  Polarity         Place0     Place1     Place2  \\\n",
       "0            0           0.7       0.0  KwaZulu-Natal  eThekwini  eThekwini   \n",
       "\n",
       "   Place3  \n",
       "0       6  "
      ]
     },
     "execution_count": 924,
     "metadata": {},
     "output_type": "execute_result"
    }
   ],
   "source": [
    "tweets.head(1)"
   ]
  },
  {
   "cell_type": "code",
   "execution_count": 925,
   "metadata": {},
   "outputs": [
    {
     "data": {
      "text/html": [
       "<div>\n",
       "<style scoped>\n",
       "    .dataframe tbody tr th:only-of-type {\n",
       "        vertical-align: middle;\n",
       "    }\n",
       "\n",
       "    .dataframe tbody tr th {\n",
       "        vertical-align: top;\n",
       "    }\n",
       "\n",
       "    .dataframe thead th {\n",
       "        text-align: right;\n",
       "    }\n",
       "</style>\n",
       "<table border=\"1\" class=\"dataframe\">\n",
       "  <thead>\n",
       "    <tr style=\"text-align: right;\">\n",
       "      <th></th>\n",
       "      <th>Date</th>\n",
       "      <th>notes</th>\n",
       "      <th>geometry</th>\n",
       "      <th>Place0</th>\n",
       "      <th>Place1</th>\n",
       "      <th>Place2</th>\n",
       "      <th>Place3</th>\n",
       "    </tr>\n",
       "  </thead>\n",
       "  <tbody>\n",
       "    <tr>\n",
       "      <th>0</th>\n",
       "      <td>2017-10-25</td>\n",
       "      <td>A few hundred Fees Must Fall protesters attemp...</td>\n",
       "      <td>POINT (18.47640 -33.96330)</td>\n",
       "      <td>Western Cape</td>\n",
       "      <td>City of Cape Town</td>\n",
       "      <td>City of Cape Town</td>\n",
       "      <td>58</td>\n",
       "    </tr>\n",
       "  </tbody>\n",
       "</table>\n",
       "</div>"
      ],
      "text/plain": [
       "        Date                                              notes  \\\n",
       "0 2017-10-25  A few hundred Fees Must Fall protesters attemp...   \n",
       "\n",
       "                     geometry        Place0             Place1  \\\n",
       "0  POINT (18.47640 -33.96330)  Western Cape  City of Cape Town   \n",
       "\n",
       "              Place2  Place3  \n",
       "0  City of Cape Town      58  "
      ]
     },
     "execution_count": 925,
     "metadata": {},
     "output_type": "execute_result"
    }
   ],
   "source": [
    "protests.head(1)"
   ]
  },
  {
   "cell_type": "markdown",
   "metadata": {},
   "source": [
    "# Lets test protest in a chosen place"
   ]
  },
  {
   "cell_type": "code",
   "execution_count": 926,
   "metadata": {},
   "outputs": [
    {
     "name": "stdout",
     "output_type": "stream",
     "text": [
      "['KwaZulu-Natal' 'Gauteng' 'Western Cape' 'Eastern Cape' 'Limpopo'\n",
      " 'Free State' 'Mpumalanga' 'North West' 'Nothern Cape' '0']\n"
     ]
    }
   ],
   "source": [
    "places = tweets['Place0'].unique()\n",
    "print(places)"
   ]
  },
  {
   "cell_type": "code",
   "execution_count": 927,
   "metadata": {},
   "outputs": [],
   "source": [
    "place = 'Western Cape'"
   ]
  },
  {
   "cell_type": "code",
   "execution_count": 928,
   "metadata": {},
   "outputs": [],
   "source": [
    "protests = protests.loc[protests['Place0']==place]\n",
    "tweets = tweets.loc[tweets['Place0']==place]"
   ]
  },
  {
   "cell_type": "code",
   "execution_count": 929,
   "metadata": {},
   "outputs": [
    {
     "data": {
      "text/html": [
       "<div>\n",
       "<style scoped>\n",
       "    .dataframe tbody tr th:only-of-type {\n",
       "        vertical-align: middle;\n",
       "    }\n",
       "\n",
       "    .dataframe tbody tr th {\n",
       "        vertical-align: top;\n",
       "    }\n",
       "\n",
       "    .dataframe thead th {\n",
       "        text-align: right;\n",
       "    }\n",
       "</style>\n",
       "<table border=\"1\" class=\"dataframe\">\n",
       "  <thead>\n",
       "    <tr style=\"text-align: right;\">\n",
       "      <th></th>\n",
       "      <th>Protest</th>\n",
       "      <th>NuTweets</th>\n",
       "      <th>d1</th>\n",
       "      <th>d2</th>\n",
       "      <th>d3</th>\n",
       "      <th>d4</th>\n",
       "      <th>d5</th>\n",
       "      <th>d6</th>\n",
       "      <th>d7</th>\n",
       "      <th>d8</th>\n",
       "      <th>d9</th>\n",
       "      <th>d10</th>\n",
       "      <th>average</th>\n",
       "      <th>likes</th>\n",
       "      <th>followers</th>\n",
       "      <th>retweets</th>\n",
       "      <th>replies</th>\n",
       "      <th>sub</th>\n",
       "      <th>pol</th>\n",
       "      <th>place</th>\n",
       "    </tr>\n",
       "  </thead>\n",
       "  <tbody>\n",
       "    <tr>\n",
       "      <th>0</th>\n",
       "      <td>1</td>\n",
       "      <td>78</td>\n",
       "      <td>0.230769</td>\n",
       "      <td>0.846154</td>\n",
       "      <td>0.846154</td>\n",
       "      <td>1.000000</td>\n",
       "      <td>0.307692</td>\n",
       "      <td>0.615385</td>\n",
       "      <td>0.307692</td>\n",
       "      <td>0.307692</td>\n",
       "      <td>1.000000</td>\n",
       "      <td>0.769231</td>\n",
       "      <td>8.1</td>\n",
       "      <td>6.423077</td>\n",
       "      <td>28463.294872</td>\n",
       "      <td>6.782051</td>\n",
       "      <td>0.833333</td>\n",
       "      <td>0.371863</td>\n",
       "      <td>0.080902</td>\n",
       "      <td>City of Cape Town</td>\n",
       "    </tr>\n",
       "    <tr>\n",
       "      <th>1</th>\n",
       "      <td>0</td>\n",
       "      <td>24</td>\n",
       "      <td>0.000000</td>\n",
       "      <td>0.250000</td>\n",
       "      <td>0.375000</td>\n",
       "      <td>1.000000</td>\n",
       "      <td>0.500000</td>\n",
       "      <td>0.125000</td>\n",
       "      <td>0.375000</td>\n",
       "      <td>0.000000</td>\n",
       "      <td>0.375000</td>\n",
       "      <td>0.000000</td>\n",
       "      <td>2.4</td>\n",
       "      <td>0.833333</td>\n",
       "      <td>5999.833333</td>\n",
       "      <td>0.708333</td>\n",
       "      <td>0.333333</td>\n",
       "      <td>0.229398</td>\n",
       "      <td>0.089583</td>\n",
       "      <td>City of Cape Town</td>\n",
       "    </tr>\n",
       "    <tr>\n",
       "      <th>2</th>\n",
       "      <td>0</td>\n",
       "      <td>16</td>\n",
       "      <td>0.666667</td>\n",
       "      <td>1.000000</td>\n",
       "      <td>0.333333</td>\n",
       "      <td>0.000000</td>\n",
       "      <td>0.666667</td>\n",
       "      <td>1.000000</td>\n",
       "      <td>0.666667</td>\n",
       "      <td>1.000000</td>\n",
       "      <td>0.666667</td>\n",
       "      <td>0.000000</td>\n",
       "      <td>1.8</td>\n",
       "      <td>0.625000</td>\n",
       "      <td>5359.000000</td>\n",
       "      <td>0.375000</td>\n",
       "      <td>0.062500</td>\n",
       "      <td>0.000000</td>\n",
       "      <td>0.000000</td>\n",
       "      <td>City of Cape Town</td>\n",
       "    </tr>\n",
       "    <tr>\n",
       "      <th>3</th>\n",
       "      <td>1</td>\n",
       "      <td>46</td>\n",
       "      <td>0.750000</td>\n",
       "      <td>0.166667</td>\n",
       "      <td>0.250000</td>\n",
       "      <td>0.583333</td>\n",
       "      <td>0.500000</td>\n",
       "      <td>0.500000</td>\n",
       "      <td>1.000000</td>\n",
       "      <td>0.583333</td>\n",
       "      <td>0.166667</td>\n",
       "      <td>0.083333</td>\n",
       "      <td>5.5</td>\n",
       "      <td>1.239130</td>\n",
       "      <td>35274.673913</td>\n",
       "      <td>2.021739</td>\n",
       "      <td>0.347826</td>\n",
       "      <td>0.345430</td>\n",
       "      <td>0.077727</td>\n",
       "      <td>City of Cape Town</td>\n",
       "    </tr>\n",
       "    <tr>\n",
       "      <th>4</th>\n",
       "      <td>0</td>\n",
       "      <td>31</td>\n",
       "      <td>0.571429</td>\n",
       "      <td>0.428571</td>\n",
       "      <td>0.571429</td>\n",
       "      <td>0.285714</td>\n",
       "      <td>1.000000</td>\n",
       "      <td>0.428571</td>\n",
       "      <td>0.857143</td>\n",
       "      <td>0.142857</td>\n",
       "      <td>0.428571</td>\n",
       "      <td>0.285714</td>\n",
       "      <td>3.5</td>\n",
       "      <td>0.709677</td>\n",
       "      <td>39820.225806</td>\n",
       "      <td>0.483871</td>\n",
       "      <td>0.225806</td>\n",
       "      <td>0.214863</td>\n",
       "      <td>0.026845</td>\n",
       "      <td>City of Cape Town</td>\n",
       "    </tr>\n",
       "  </tbody>\n",
       "</table>\n",
       "</div>"
      ],
      "text/plain": [
       "   Protest  NuTweets        d1        d2        d3        d4        d5  \\\n",
       "0        1        78  0.230769  0.846154  0.846154  1.000000  0.307692   \n",
       "1        0        24  0.000000  0.250000  0.375000  1.000000  0.500000   \n",
       "2        0        16  0.666667  1.000000  0.333333  0.000000  0.666667   \n",
       "3        1        46  0.750000  0.166667  0.250000  0.583333  0.500000   \n",
       "4        0        31  0.571429  0.428571  0.571429  0.285714  1.000000   \n",
       "\n",
       "         d6        d7        d8        d9       d10  average     likes  \\\n",
       "0  0.615385  0.307692  0.307692  1.000000  0.769231      8.1  6.423077   \n",
       "1  0.125000  0.375000  0.000000  0.375000  0.000000      2.4  0.833333   \n",
       "2  1.000000  0.666667  1.000000  0.666667  0.000000      1.8  0.625000   \n",
       "3  0.500000  1.000000  0.583333  0.166667  0.083333      5.5  1.239130   \n",
       "4  0.428571  0.857143  0.142857  0.428571  0.285714      3.5  0.709677   \n",
       "\n",
       "      followers  retweets   replies       sub       pol              place  \n",
       "0  28463.294872  6.782051  0.833333  0.371863  0.080902  City of Cape Town  \n",
       "1   5999.833333  0.708333  0.333333  0.229398  0.089583  City of Cape Town  \n",
       "2   5359.000000  0.375000  0.062500  0.000000  0.000000  City of Cape Town  \n",
       "3  35274.673913  2.021739  0.347826  0.345430  0.077727  City of Cape Town  \n",
       "4  39820.225806  0.483871  0.225806  0.214863  0.026845  City of Cape Town  "
      ]
     },
     "execution_count": 929,
     "metadata": {},
     "output_type": "execute_result"
    }
   ],
   "source": [
    "data = get_start(protests,tweets)\n",
    "training = get_training(data,tweets)\n",
    "training.head(5)"
   ]
  },
  {
   "cell_type": "code",
   "execution_count": 930,
   "metadata": {},
   "outputs": [
    {
     "data": {
      "text/plain": [
       "45"
      ]
     },
     "execution_count": 930,
     "metadata": {},
     "output_type": "execute_result"
    }
   ],
   "source": [
    "len(training)"
   ]
  },
  {
   "cell_type": "markdown",
   "metadata": {},
   "source": [
    "# Creating a simple model"
   ]
  },
  {
   "cell_type": "code",
   "execution_count": 931,
   "metadata": {},
   "outputs": [
    {
     "name": "stderr",
     "output_type": "stream",
     "text": [
      "c:\\Users\\Joseph\\anaconda3\\envs\\geo-env\\lib\\site-packages\\sklearn\\linear_model\\_logistic.py:444: ConvergenceWarning: lbfgs failed to converge (status=1):\n",
      "STOP: TOTAL NO. of ITERATIONS REACHED LIMIT.\n",
      "\n",
      "Increase the number of iterations (max_iter) or scale the data as shown in:\n",
      "    https://scikit-learn.org/stable/modules/preprocessing.html\n",
      "Please also refer to the documentation for alternative solver options:\n",
      "    https://scikit-learn.org/stable/modules/linear_model.html#logistic-regression\n",
      "  n_iter_i = _check_optimize_result(\n"
     ]
    },
    {
     "data": {
      "text/plain": [
       "0.7857142857142857"
      ]
     },
     "execution_count": 931,
     "metadata": {},
     "output_type": "execute_result"
    }
   ],
   "source": [
    "log = logisticRegression(training)\n",
    "log[1]"
   ]
  },
  {
   "cell_type": "code",
   "execution_count": 932,
   "metadata": {},
   "outputs": [],
   "source": [
    "# log = naive(training)\n",
    "# log[1]"
   ]
  },
  {
   "cell_type": "code",
   "execution_count": 933,
   "metadata": {},
   "outputs": [
    {
     "name": "stderr",
     "output_type": "stream",
     "text": [
      "c:\\Users\\Joseph\\anaconda3\\envs\\geo-env\\lib\\site-packages\\sklearn\\svm\\_base.py:1225: ConvergenceWarning: Liblinear failed to converge, increase the number of iterations.\n",
      "  warnings.warn(\n"
     ]
    },
    {
     "data": {
      "text/plain": [
       "0.1111111111111111"
      ]
     },
     "execution_count": 933,
     "metadata": {},
     "output_type": "execute_result"
    }
   ],
   "source": [
    "log = linearSVM(training)\n",
    "log[1]"
   ]
  }
 ],
 "metadata": {
  "kernelspec": {
   "display_name": "Python 3.10.4 64-bit",
   "language": "python",
   "name": "python3"
  },
  "language_info": {
   "codemirror_mode": {
    "name": "ipython",
    "version": 3
   },
   "file_extension": ".py",
   "mimetype": "text/x-python",
   "name": "python",
   "nbconvert_exporter": "python",
   "pygments_lexer": "ipython3",
   "version": "3.10.4"
  },
  "orig_nbformat": 4,
  "vscode": {
   "interpreter": {
    "hash": "eb1e2aa17c9c03522ea469ed025d74c8a00b3c7801d0496b408e209436a13f2e"
   }
  }
 },
 "nbformat": 4,
 "nbformat_minor": 2
}
