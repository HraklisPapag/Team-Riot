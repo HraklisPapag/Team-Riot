{
 "cells": [
  {
   "cell_type": "markdown",
   "metadata": {},
   "source": [
    "# Create training dataset"
   ]
  },
  {
   "cell_type": "code",
   "execution_count": 332,
   "metadata": {},
   "outputs": [],
   "source": [
    "import geopandas as gpd\n",
    "import pandas as pd\n",
    "import matplotlib.pyplot as plt\n",
    "from datetime import datetime\n",
    "from datetime import timedelta\n",
    "\n",
    "\n",
    "from sklearn.model_selection import train_test_split\n",
    "from sklearn.linear_model import LinearRegression\n",
    "from sklearn.linear_model import LogisticRegression\n",
    "from sklearn.naive_bayes import GaussianNB\n",
    "from sklearn.svm import LinearSVC\n",
    "from statistics import multimode\n",
    "from cmath import nan\n",
    "pd.set_option(\"display.max_rows\", None, \"display.max_columns\", None)\n",
    "\n"
   ]
  },
  {
   "cell_type": "markdown",
   "metadata": {},
   "source": [
    "# Functions"
   ]
  },
  {
   "cell_type": "code",
   "execution_count": 333,
   "metadata": {},
   "outputs": [],
   "source": [
    "def split_string(string):\n",
    "    if string == string:\n",
    "        string = string.replace(\"'\", \"\")\n",
    "        out = string.strip('][').split(', ')\n",
    "        return out\n",
    "    else:\n",
    "        return nan"
   ]
  },
  {
   "cell_type": "code",
   "execution_count": 334,
   "metadata": {},
   "outputs": [],
   "source": [
    "def get_subregion(dist1, dist2, place):\n",
    "    row = dist1.loc[dist1['Place0']==place]\n",
    "    shape = row['geometry'].to_list()\n",
    "    shape = shape[0]\n",
    "\n",
    "    places = dist2['geometry']\n",
    "    res = places.within(shape)\n",
    "    res = res.to_list()\n",
    "    temp = dist2\n",
    "    temp['res'] = res\n",
    "    temp = temp.loc[temp['res']==True]\n",
    "    return(temp)"
   ]
  },
  {
   "cell_type": "markdown",
   "metadata": {},
   "source": [
    "### tweets"
   ]
  },
  {
   "cell_type": "code",
   "execution_count": 335,
   "metadata": {},
   "outputs": [],
   "source": [
    "def plot_Tweets(dist, tweets, n):    \n",
    "    Nu_Tweets = []\n",
    "    for index, row in dist.iterrows():\n",
    "        size = len(tweets.loc[tweets['Place' + str(n)]==row['Place'+ str(n)]])\n",
    "\n",
    "        Nu_Tweets.append(size)\n",
    "\n",
    "    Nu_Tweets\n",
    "    dist['Tweets'] = Nu_Tweets\n",
    "\n",
    "    plot = dist.explore(\n",
    "        column=\"Tweets\", # make choropleth based on \"Data\" column\n",
    "        tooltip=['Place'+ str(n),'Tweets'], # show \"Province, Data\" value in tooltip (on hover)\n",
    "        popup=True, # show all values in popup (on click)\n",
    "        tiles=\"CartoDB positron\", # use \"CartoDB positron\" tiles\n",
    "        cmap=\"Paired\", # https://matplotlib.org/stable/tutorials/colors/colormaps.html\n",
    "        style_kwds=dict(color=\"black\") # use black outline\n",
    "        )\n",
    "    return(plot)"
   ]
  },
  {
   "cell_type": "code",
   "execution_count": 336,
   "metadata": {},
   "outputs": [],
   "source": [
    "def tweet_rate_av2(dates, tweets):\n",
    "    tweet_day = [0]*10\n",
    "    for i, date in enumerate(dates):\n",
    "        day = date\n",
    "        d1 = day - timedelta(days=5) \n",
    "        d2 = day + timedelta(days=5) \n",
    "        delta = (d2-d1).days\n",
    "        for i in range(delta):\n",
    "            day = d1+timedelta(days=i)\n",
    "            NuTweets = len(tweets.loc[tweets['Date']==day]) \n",
    "            tweet_day[i]=tweet_day[i]+NuTweets\n",
    "\n",
    "    # getting the average\n",
    "    tweet_day =[x/len(dates) for x in tweet_day]\n",
    "\n",
    "    # normalising\n",
    "    #tweet_day =[x/max(tweet_day) for x in tweet_day]\n",
    "\n",
    "    # Getting the average of the sets\n",
    "    average1 = [sum(tweet_day)/len(tweet_day)]*10\n",
    "\n",
    "    # this is just for the x axis\n",
    "    date = list(range(1,10+1))\n",
    "\n",
    "\n",
    "    plt.plot(date,tweet_day, \"-r\", label=\"Tweets\")\n",
    "    plt.plot(date,average1,\"-b\", label=\"Average Over All Set Dates\")\n",
    "    plt.axvline(x = 5, color = 'y', label = 'Centre (location of protest/non-protests)')\n",
    "    plt.legend(loc=\"upper left\")\n",
    "    plt.ylabel('Number of Tweets')\n",
    "    plt.xlabel('Date')\n",
    "    plt.show()"
   ]
  },
  {
   "cell_type": "code",
   "execution_count": 337,
   "metadata": {},
   "outputs": [],
   "source": [
    "def tweet_rate2(dates, tweets):\n",
    "    for date in dates:\n",
    "        day = date\n",
    "        d1 = day - timedelta(days=5) \n",
    "        d2 = day + timedelta(days=5) \n",
    "        date2 = []\n",
    "        tweet_day = []\n",
    "        delta = (d2-d1).days\n",
    "\n",
    "        for i in range(delta):\n",
    "            day = d1+timedelta(days=i)\n",
    "            NuTweets = len(tweets.loc[tweets['Date']==day]) \n",
    "            date2.append(i)\n",
    "            tweet_day.append(NuTweets)\n",
    "\n",
    "        # Normalising\n",
    "        tweet_day =[x/max(tweet_day) for x in tweet_day]\n",
    "        plt.plot(date2,tweet_day)\n",
    "        plt.ylabel('Number of Tweets')\n",
    "        plt.xlabel('Date') "
   ]
  },
  {
   "cell_type": "markdown",
   "metadata": {},
   "source": [
    "### Dates"
   ]
  },
  {
   "cell_type": "code",
   "execution_count": 338,
   "metadata": {},
   "outputs": [],
   "source": [
    "def get_dates(protests,tweets):\n",
    "    start = tweets.tail(1)['Date'].to_list()\n",
    "    start = start[0]\n",
    "    end = tweets.head(1)['Date'].to_list()\n",
    "    end = end[0]\n",
    "\n",
    "    delta = (end-start).days\n",
    "    delta = delta\n",
    "    yes = []\n",
    "    no = []\n",
    "    protests2 = []\n",
    "\n",
    "    for i in range(delta):\n",
    "        date = start + timedelta(days=i)\n",
    "        temp = protests.loc[protests['Date']==date]\n",
    "        if temp.empty:\n",
    "            no.append(date)\n",
    "        else:\n",
    "            yes.append(date)\n",
    "    return(yes, no)"
   ]
  },
  {
   "cell_type": "markdown",
   "metadata": {},
   "source": [
    "### Training set"
   ]
  },
  {
   "cell_type": "code",
   "execution_count": 339,
   "metadata": {},
   "outputs": [],
   "source": [
    "def get_start(protests, tweets):\n",
    "    dates = get_dates(protests, tweets)\n",
    "    yes = dates[0]\n",
    "    no = dates[1]\n",
    "\n",
    "\n",
    "    res = [1]*len(yes)\n",
    "    data = {'Protest':res,'Date':yes}\n",
    "    yes = pd.DataFrame(data)\n",
    "\n",
    "    res = [0]*len(no)\n",
    "    data = {'Protest':res,'Date':no}\n",
    "    no = pd.DataFrame(data)\n",
    "\n",
    "    # randomly sampling len(yes) samples from no such that there is an equal number of \n",
    "    # protests to non protest\n",
    "    x = 46 # 0.83 & 0.75\n",
    "    # x = 54 # 0.87 0.53\n",
    "\n",
    "\n",
    "    no = no.sample(len(yes), random_state = x)\n",
    "\n",
    "    # Joining the dataframes, resetting the index and randomising the rows. \n",
    "    data = pd.concat([yes,no])\n",
    "    data = data.sample(frac=1, random_state = x)\n",
    "    data = data.reset_index(drop=True)\n",
    "\n",
    "    return(data)"
   ]
  },
  {
   "cell_type": "code",
   "execution_count": 340,
   "metadata": {},
   "outputs": [],
   "source": [
    "# return(tweet_day,average,specifiedTweets,length)\n",
    "# return(likes,followers,retweets,replies,Subjectivity,Polarity)\n",
    "# return(centre)"
   ]
  },
  {
   "cell_type": "code",
   "execution_count": 341,
   "metadata": {},
   "outputs": [],
   "source": [
    "def get_tweets(date, tweets):\n",
    "    day = date\n",
    "    d1 = day - timedelta(days=5) \n",
    "    d2 = day + timedelta(days=5) \n",
    "    delta = (d2-d1).days\n",
    "    delta = int(delta)\n",
    "    tweet_day = [0]*(int(5*2))\n",
    "    for i in range(10):\n",
    "        day = d1+timedelta(days=i)\n",
    "        NuTweets = len(tweets.loc[tweets['Date']==day]) \n",
    "        tweet_day[i]=tweet_day[i]+NuTweets\n",
    "    # average \n",
    "    average = sum(tweet_day)/len(tweet_day)\n",
    "    # normalising\n",
    "    tweet_day =[x/max(tweet_day) for x in tweet_day]\n",
    "    # # average \n",
    "    # average = sum(tweet_day)/len(tweet_day)\n",
    "    # specific tweets.\n",
    "    specifiedTweets = tweets[((tweets['Date'] >d1)&(tweets['Date'] <d2))]\n",
    "    specifiedTweets = specifiedTweets.reset_index(drop=True)\n",
    "    length = len(specifiedTweets)\n",
    "\n",
    "    return(tweet_day,average,specifiedTweets,length)"
   ]
  },
  {
   "cell_type": "code",
   "execution_count": 342,
   "metadata": {},
   "outputs": [],
   "source": [
    "def concat_lists_to_list(column_name, df):\n",
    "    content_list  = []\n",
    "    for iter_t, tweet in df.iterrows():\n",
    "        if tweet[column_name] == tweet[column_name]:\n",
    "            for content in tweet[column_name]:\n",
    "                content_list.append(content)\n",
    "    return content_list"
   ]
  },
  {
   "cell_type": "code",
   "execution_count": 343,
   "metadata": {},
   "outputs": [],
   "source": [
    "def tweet_metrics(tweets):\n",
    "    length = len(tweets)\n",
    "    if length == 0:\n",
    "        length = 1\n",
    "    followers = (tweets['author_followers'].sum())/length\n",
    "    retweets = (tweets['retweets'].sum())/length\n",
    "    replies = (tweets['replies'].sum())/length\n",
    "    likes = (tweets['likes'].sum())/length\n",
    "    Subjectivity = (tweets['Subjectivity'].sum())/length\n",
    "    Polarity = (tweets['Polarity'].sum())/length\n",
    "    \n",
    "\n",
    "    grievance_list = concat_lists_to_list('grievances', tweets)\n",
    "    greivance_mode = multimode(grievance_list)\n",
    "\n",
    "    triggers_list = concat_lists_to_list('triggers', tweets)\n",
    "    triggers_mode = multimode(triggers_list)\n",
    "\n",
    "    tactics_list = concat_lists_to_list('tactics', tweets)\n",
    "    tactics_mode = multimode(tactics_list)\n",
    "\n",
    "    actors_list = concat_lists_to_list('actors', tweets)\n",
    "    actors_mode = multimode(actors_list)\n",
    "\n",
    "    locations_list = concat_lists_to_list('locations', tweets)\n",
    "    locations_mode = multimode(locations_list)\n",
    "\n",
    "    weapons_list = concat_lists_to_list('weapons', tweets)\n",
    "    weapons_mode = multimode(weapons_list)\n",
    "\n",
    "    eventualities_list = concat_lists_to_list('eventualities', tweets)\n",
    "    eventualities_mode = multimode(eventualities_list)\n",
    "\n",
    "    curiosities_list = concat_lists_to_list('curiosities', tweets)\n",
    "    curiosities_mode = multimode(curiosities_list)\n",
    "\n",
    "    non_protests_list = concat_lists_to_list('non_protests', tweets)\n",
    "    non_protests_mode = multimode(non_protests_list)\n",
    "\n",
    "    universities_list = concat_lists_to_list('universities', tweets)\n",
    "    universities_mode = multimode(universities_list)\n",
    "\n",
    "\n",
    "    return(likes,followers,retweets,replies,Subjectivity,Polarity,greivance_mode,triggers_mode,\n",
    "            tactics_mode,actors_mode,locations_mode,weapons_mode,eventualities_mode,\n",
    "            curiosities_mode,non_protests_mode,universities_mode)"
   ]
  },
  {
   "cell_type": "code",
   "execution_count": 344,
   "metadata": {},
   "outputs": [],
   "source": [
    "def get_centre(tweets):\n",
    "    # locations = tweets['geometry'].centroid\n",
    "    # print(locations.head())\n",
    "    # locations = locations.reset_index(drop=True)\n",
    "    # centre = locations.centriod\n",
    "\n",
    "    # its not working for now\n",
    "    # centre = 'too bad'\n",
    "    # return(centre)\n",
    "    \n",
    "\n",
    "    # We are going to return the place\n",
    "    place = tweets['Place1'].value_counts().idxmax()\n",
    "    return(place)\n",
    "    "
   ]
  },
  {
   "cell_type": "markdown",
   "metadata": {},
   "source": [
    "# Training Data"
   ]
  },
  {
   "cell_type": "code",
   "execution_count": 345,
   "metadata": {},
   "outputs": [],
   "source": [
    "def get_training(data, tweets):\n",
    "    NuTweets = []\n",
    "    average = []\n",
    "    d1 = []\n",
    "    d2 = []\n",
    "    d3 = []\n",
    "    d4 = []\n",
    "    d5 = []\n",
    "    d6 = []\n",
    "    d7 = []\n",
    "    d8 = []\n",
    "    d9 = []\n",
    "    d10 = []\n",
    "\n",
    "    likes = []\n",
    "    followers = []\n",
    "    retweets = []\n",
    "    replies = []\n",
    "    sub = []\n",
    "    pol = []\n",
    "    griev = []\n",
    "    trigg = []\n",
    "    tact = []\n",
    "    act = []\n",
    "    loca = []\n",
    "    weap = []\n",
    "    even = []\n",
    "    curi = []\n",
    "    nonp = []\n",
    "    uni = []\n",
    "\n",
    "    centre = []\n",
    "\n",
    "\n",
    "    for index, row in data.iterrows():\n",
    "        date = row['Date']\n",
    "        \n",
    "        res1 = get_tweets(date,tweets)\n",
    "        res2 = tweet_metrics(res1[2])\n",
    "        res3 = get_centre(res1[2])\n",
    "\n",
    "\n",
    "        average.append(res1[1])\n",
    "        NuTweets.append(res1[3])\n",
    "        d1.append(res1[0][0])\n",
    "        d2.append(res1[0][1])\n",
    "        d3.append(res1[0][2])\n",
    "        d4.append(res1[0][3])\n",
    "        d5.append(res1[0][4])\n",
    "        d6.append(res1[0][5])\n",
    "        d7.append(res1[0][6])\n",
    "        d8.append(res1[0][7])\n",
    "        d9.append(res1[0][8])\n",
    "        d10.append(res1[0][9])\n",
    "\n",
    "\n",
    "        likes.append(res2[0])\n",
    "        followers.append(res2[1])\n",
    "        retweets.append(res2[2])\n",
    "        replies.append(res2[3])\n",
    "        sub.append(res2[4])\n",
    "        pol.append(res2[5])\n",
    "        griev.append(res2[6])\n",
    "        trigg.append(res2[7])\n",
    "        tact.append(res2[8])\n",
    "        act.append(res2[9])\n",
    "        loca.append(res2[10])\n",
    "        weap.append(res2[11])\n",
    "        even.append(res2[12])\n",
    "        curi.append(res2[13])\n",
    "        nonp.append(res2[14])\n",
    "        uni.append(res2[15])\n",
    "        \n",
    "\n",
    "        centre.append(res3)\n",
    "\n",
    "    \n",
    "\n",
    "    metrics = {'NuTweets':NuTweets,'d1':d1,'d2':d2,'d3':d3,'d4':d4,\n",
    "               'd5':d5,'d6':d6,'d7':d7,'d8':d8,'d9':d9,'d10':d10,\n",
    "               'average':average,'likes':likes,'followers':followers,\n",
    "               'retweets':retweets,'replies':replies,'sub':sub,'pol':pol,\n",
    "               'place':centre,'grievances':griev, 'triggers': trigg,\n",
    "               'tactics': tact, 'actors': act, 'locations': loca,\n",
    "               'weapons': weap, 'eventualities': even, 'curiosities': curi,\n",
    "               'non_protests':nonp, 'universities':uni}\n",
    "    metrics = pd.DataFrame(metrics)\n",
    "\n",
    "        \n",
    "    training = pd.concat([data,metrics.reindex(data.index)], axis=1)\n",
    "    training = training.drop(['Date'], axis = 1)\n",
    "    return(training)"
   ]
  },
  {
   "cell_type": "markdown",
   "metadata": {},
   "source": [
    "# Models"
   ]
  },
  {
   "cell_type": "code",
   "execution_count": 346,
   "metadata": {},
   "outputs": [],
   "source": [
    "def logistic_regression(training):\n",
    "    X_train,X_test,y_train,y_test = train_test_split(training.drop(['Protest','place', 'grievances', 'triggers', 'tactics', 'actors', 'locations', 'weapons', 'eventualities', 'curiosities', 'non_protests', 'universities'],axis = 1), training['Protest'],test_size = 0.3,random_state=1)\n",
    "    # training the model\n",
    "    logreg =  LogisticRegression(solver='lbfgs')\n",
    "    logreg.fit(X_train,y_train)\n",
    "    score = logreg.score(X_test,y_test)\n",
    "    return(logreg,score)"
   ]
  },
  {
   "cell_type": "code",
   "execution_count": 347,
   "metadata": {},
   "outputs": [],
   "source": [
    "def niave(training):\n",
    "    X_train,X_test,y_train,y_test = train_test_split(training.drop(['Protest','place', 'grievances', 'triggers', 'tactics', 'actors', 'locations', 'weapons', 'eventualities', 'curiosities', 'non_protests', 'universities'],axis = 1), training['Protest'],test_size = 0.2)\n",
    "    naive = GaussianNB()\n",
    "    naive.fit(X_train,y_train)\n",
    "    score = naive.score(X_test,y_test)\n",
    "    return(naive,score)"
   ]
  },
  {
   "cell_type": "code",
   "execution_count": 348,
   "metadata": {},
   "outputs": [],
   "source": [
    "def linearSVM(training):\n",
    "    from sklearn.svm import LinearSVC\n",
    "    X_train,X_test,y_train,y_test = train_test_split(training.drop(['Protest','place', 'grievances', 'triggers', 'tactics', 'actors', 'locations', 'weapons', 'eventualities', 'curiosities', 'non_protests', 'universities'],axis = 1), training['Protest'],test_size = 0.2)\n",
    "    svm = LinearSVC()\n",
    "    svm.fit(X_train,y_train)\n",
    "    score = svm.score(X_test,y_test)\n",
    "    return(svm,score)"
   ]
  },
  {
   "cell_type": "markdown",
   "metadata": {},
   "source": [
    "# MAIN"
   ]
  },
  {
   "cell_type": "markdown",
   "metadata": {},
   "source": [
    "### Downloading tweets and protests"
   ]
  },
  {
   "cell_type": "code",
   "execution_count": 349,
   "metadata": {},
   "outputs": [],
   "source": [
    "tweets = pd.read_csv('DATA/tweets.csv')"
   ]
  },
  {
   "cell_type": "code",
   "execution_count": 350,
   "metadata": {},
   "outputs": [],
   "source": [
    "tweets['grievances'] = tweets['grievances'].apply(lambda x: split_string(x))\n",
    "tweets['triggers'] = tweets['triggers'].apply(lambda x: split_string(x)) \n",
    "tweets['tactics'] = tweets['tactics'].apply(lambda x: split_string(x)) \n",
    "tweets['actors'] = tweets['actors'].apply(lambda x: split_string(x)) \n",
    "tweets['locations'] = tweets['locations'].apply(lambda x: split_string(x)) \n",
    "tweets['weapons'] = tweets['weapons'].apply(lambda x: split_string(x)) \n",
    "tweets['eventualities'] = tweets['eventualities'].apply(lambda x: split_string(x)) \n",
    "tweets['curiosities'] = tweets['curiosities'].apply(lambda x: split_string(x)) \n",
    "tweets['non_protests'] = tweets['non_protests'].apply(lambda x: split_string(x)) \n",
    "tweets['universities'] = tweets['universities'].apply(lambda x: split_string(x))"
   ]
  },
  {
   "cell_type": "code",
   "execution_count": 351,
   "metadata": {},
   "outputs": [],
   "source": [
    "\n",
    "tweets['geometry'] = gpd.GeoSeries.from_wkt(tweets['geometry'])\n",
    "tweets['Date']=pd.to_datetime(tweets['Date'], format='%Y %m %d')\n",
    "tweets = tweets.drop(['Unnamed: 0','Analysis'],axis=1)"
   ]
  },
  {
   "cell_type": "code",
   "execution_count": 352,
   "metadata": {},
   "outputs": [
    {
     "name": "stdout",
     "output_type": "stream",
     "text": [
      "99\n"
     ]
    }
   ],
   "source": [
    "protests = pd.read_csv('DATA/protests.csv')\n",
    "protests['geometry'] = gpd.GeoSeries.from_wkt(protests['geometry'])\n",
    "protests['Date']=pd.to_datetime(protests['Date'], format='%Y %m %d')\n",
    "protests = protests.drop(['Unnamed: 0'],axis=1)\n",
    "protests.drop_duplicates(['Date','Place0'],keep= 'first',inplace =True)\n",
    "print(len(protests))"
   ]
  },
  {
   "cell_type": "code",
   "execution_count": 353,
   "metadata": {},
   "outputs": [
    {
     "data": {
      "text/html": [
       "<div>\n",
       "<style scoped>\n",
       "    .dataframe tbody tr th:only-of-type {\n",
       "        vertical-align: middle;\n",
       "    }\n",
       "\n",
       "    .dataframe tbody tr th {\n",
       "        vertical-align: top;\n",
       "    }\n",
       "\n",
       "    .dataframe thead th {\n",
       "        text-align: right;\n",
       "    }\n",
       "</style>\n",
       "<table border=\"1\" class=\"dataframe\">\n",
       "  <thead>\n",
       "    <tr style=\"text-align: right;\">\n",
       "      <th></th>\n",
       "      <th>text</th>\n",
       "      <th>Date</th>\n",
       "      <th>geometry</th>\n",
       "      <th>author_followers</th>\n",
       "      <th>retweets</th>\n",
       "      <th>replies</th>\n",
       "      <th>likes</th>\n",
       "      <th>quote_count</th>\n",
       "      <th>Subjectivity</th>\n",
       "      <th>Polarity</th>\n",
       "      <th>grievances</th>\n",
       "      <th>triggers</th>\n",
       "      <th>tactics</th>\n",
       "      <th>actors</th>\n",
       "      <th>locations</th>\n",
       "      <th>weapons</th>\n",
       "      <th>eventualities</th>\n",
       "      <th>curiosities</th>\n",
       "      <th>non_protests</th>\n",
       "      <th>universities</th>\n",
       "      <th>Place0</th>\n",
       "      <th>Place1</th>\n",
       "      <th>Place2</th>\n",
       "      <th>Place3</th>\n",
       "    </tr>\n",
       "  </thead>\n",
       "  <tbody>\n",
       "    <tr>\n",
       "      <th>0</th>\n",
       "      <td>#KZN We are on thee way! Hitting up Richards B...</td>\n",
       "      <td>2017-12-31</td>\n",
       "      <td>POINT (28.23140 -25.75450)</td>\n",
       "      <td>437807</td>\n",
       "      <td>0</td>\n",
       "      <td>1</td>\n",
       "      <td>21</td>\n",
       "      <td>0</td>\n",
       "      <td>0.066667</td>\n",
       "      <td>0.0</td>\n",
       "      <td>NaN</td>\n",
       "      <td>NaN</td>\n",
       "      <td>[Gathering]</td>\n",
       "      <td>[Political Party]</td>\n",
       "      <td>NaN</td>\n",
       "      <td>NaN</td>\n",
       "      <td>NaN</td>\n",
       "      <td>NaN</td>\n",
       "      <td>NaN</td>\n",
       "      <td>[University of Pretoria]</td>\n",
       "      <td>Gauteng</td>\n",
       "      <td>City of Tshwane</td>\n",
       "      <td>City of Tshwane</td>\n",
       "      <td>56</td>\n",
       "    </tr>\n",
       "  </tbody>\n",
       "</table>\n",
       "</div>"
      ],
      "text/plain": [
       "                                                text       Date  \\\n",
       "0  #KZN We are on thee way! Hitting up Richards B... 2017-12-31   \n",
       "\n",
       "                     geometry  author_followers  retweets  replies  likes  \\\n",
       "0  POINT (28.23140 -25.75450)            437807         0        1     21   \n",
       "\n",
       "   quote_count  Subjectivity  Polarity grievances triggers      tactics  \\\n",
       "0            0      0.066667       0.0        NaN      NaN  [Gathering]   \n",
       "\n",
       "              actors locations weapons eventualities curiosities non_protests  \\\n",
       "0  [Political Party]       NaN     NaN           NaN         NaN          NaN   \n",
       "\n",
       "               universities   Place0           Place1           Place2  Place3  \n",
       "0  [University of Pretoria]  Gauteng  City of Tshwane  City of Tshwane      56  "
      ]
     },
     "execution_count": 353,
     "metadata": {},
     "output_type": "execute_result"
    }
   ],
   "source": [
    "tweets.head(1)"
   ]
  },
  {
   "cell_type": "code",
   "execution_count": 354,
   "metadata": {},
   "outputs": [
    {
     "data": {
      "text/html": [
       "<div>\n",
       "<style scoped>\n",
       "    .dataframe tbody tr th:only-of-type {\n",
       "        vertical-align: middle;\n",
       "    }\n",
       "\n",
       "    .dataframe tbody tr th {\n",
       "        vertical-align: top;\n",
       "    }\n",
       "\n",
       "    .dataframe thead th {\n",
       "        text-align: right;\n",
       "    }\n",
       "</style>\n",
       "<table border=\"1\" class=\"dataframe\">\n",
       "  <thead>\n",
       "    <tr style=\"text-align: right;\">\n",
       "      <th></th>\n",
       "      <th>Date</th>\n",
       "      <th>notes</th>\n",
       "      <th>geometry</th>\n",
       "      <th>Place0</th>\n",
       "      <th>Place1</th>\n",
       "      <th>Place2</th>\n",
       "      <th>Place3</th>\n",
       "    </tr>\n",
       "  </thead>\n",
       "  <tbody>\n",
       "    <tr>\n",
       "      <th>0</th>\n",
       "      <td>2017-10-25</td>\n",
       "      <td>A few hundred Fees Must Fall protesters attemp...</td>\n",
       "      <td>POINT (18.47640 -33.96330)</td>\n",
       "      <td>Western Cape</td>\n",
       "      <td>City of Cape Town</td>\n",
       "      <td>City of Cape Town</td>\n",
       "      <td>58</td>\n",
       "    </tr>\n",
       "  </tbody>\n",
       "</table>\n",
       "</div>"
      ],
      "text/plain": [
       "        Date                                              notes  \\\n",
       "0 2017-10-25  A few hundred Fees Must Fall protesters attemp...   \n",
       "\n",
       "                     geometry        Place0             Place1  \\\n",
       "0  POINT (18.47640 -33.96330)  Western Cape  City of Cape Town   \n",
       "\n",
       "              Place2  Place3  \n",
       "0  City of Cape Town      58  "
      ]
     },
     "execution_count": 354,
     "metadata": {},
     "output_type": "execute_result"
    }
   ],
   "source": [
    "protests.head(1)"
   ]
  },
  {
   "cell_type": "markdown",
   "metadata": {},
   "source": [
    "# Lets test protest in a chosen place"
   ]
  },
  {
   "cell_type": "code",
   "execution_count": 355,
   "metadata": {},
   "outputs": [
    {
     "name": "stdout",
     "output_type": "stream",
     "text": [
      "['Western Cape' 'KwaZulu-Natal' 'Gauteng' 'Eastern Cape' 'Free State'\n",
      " 'North West' 'Limpopo']\n"
     ]
    }
   ],
   "source": [
    "places = protests['Place0'].unique()\n",
    "print(places)"
   ]
  },
  {
   "cell_type": "code",
   "execution_count": 356,
   "metadata": {},
   "outputs": [
    {
     "name": "stdout",
     "output_type": "stream",
     "text": [
      "['Gauteng' 'KwaZulu-Natal' 'Western Cape' 'Free State' 'Eastern Cape'\n",
      " 'Mpumalanga' 'North West' 'Limpopo' 'Nothern Cape' '0']\n"
     ]
    }
   ],
   "source": [
    "print(tweets['Place0'].unique())"
   ]
  },
  {
   "cell_type": "code",
   "execution_count": 357,
   "metadata": {},
   "outputs": [],
   "source": [
    "sa_training = pd.DataFrame()\n",
    "for place in places:\n",
    "    p = protests.loc[(protests['Place0'] == place)]\n",
    "    t = tweets.loc[(tweets['Place0'] == place)]\n",
    "    if p.empty == False:\n",
    "        data = get_start(p, t)\n",
    "        training = get_training(data, t)\n",
    "        sa_training = pd.concat([sa_training, training])\n",
    "sa_training.reset_index(drop = True, inplace = True)\n"
   ]
  },
  {
   "cell_type": "code",
   "execution_count": 358,
   "metadata": {},
   "outputs": [],
   "source": [
    "# Expected Time for 20k tweets = seconds\n",
    "# data = get_start(protests,tweets)\n",
    "# training = get_training(data,tweets)\n",
    "# training.head(5)"
   ]
  },
  {
   "cell_type": "code",
   "execution_count": 359,
   "metadata": {},
   "outputs": [],
   "source": [
    "sa_training.to_csv('DATA/training_data.csv')"
   ]
  },
  {
   "cell_type": "code",
   "execution_count": 360,
   "metadata": {},
   "outputs": [
    {
     "data": {
      "text/plain": [
       "(198, 30)"
      ]
     },
     "execution_count": 360,
     "metadata": {},
     "output_type": "execute_result"
    }
   ],
   "source": [
    "sa_training.shape"
   ]
  },
  {
   "cell_type": "markdown",
   "metadata": {},
   "source": [
    "# Creating a simple model"
   ]
  },
  {
   "cell_type": "code",
   "execution_count": 361,
   "metadata": {},
   "outputs": [
    {
     "data": {
      "text/plain": [
       "0.8333333333333334"
      ]
     },
     "execution_count": 361,
     "metadata": {},
     "output_type": "execute_result"
    }
   ],
   "source": [
    "log = logistic_regression(sa_training)\n",
    "log[1]"
   ]
  },
  {
   "cell_type": "code",
   "execution_count": 362,
   "metadata": {},
   "outputs": [
    {
     "name": "stderr",
     "output_type": "stream",
     "text": [
      "c:\\Users\\papag\\AppData\\Local\\Programs\\Python\\Python310\\lib\\site-packages\\sklearn\\naive_bayes.py:487: RuntimeWarning: divide by zero encountered in log\n",
      "  n_ij = -0.5 * np.sum(np.log(2.0 * np.pi * self.var_[i, :]))\n",
      "c:\\Users\\papag\\AppData\\Local\\Programs\\Python\\Python310\\lib\\site-packages\\sklearn\\naive_bayes.py:488: RuntimeWarning: divide by zero encountered in divide\n",
      "  n_ij -= 0.5 * np.sum(((X - self.theta_[i, :]) ** 2) / (self.var_[i, :]), 1)\n",
      "c:\\Users\\papag\\AppData\\Local\\Programs\\Python\\Python310\\lib\\site-packages\\sklearn\\naive_bayes.py:488: RuntimeWarning: invalid value encountered in divide\n",
      "  n_ij -= 0.5 * np.sum(((X - self.theta_[i, :]) ** 2) / (self.var_[i, :]), 1)\n"
     ]
    },
    {
     "data": {
      "text/plain": [
       "0.0"
      ]
     },
     "execution_count": 362,
     "metadata": {},
     "output_type": "execute_result"
    }
   ],
   "source": [
    "log = niave(training)\n",
    "log[1]"
   ]
  },
  {
   "cell_type": "code",
   "execution_count": 363,
   "metadata": {},
   "outputs": [
    {
     "name": "stderr",
     "output_type": "stream",
     "text": [
      "c:\\Users\\papag\\AppData\\Local\\Programs\\Python\\Python310\\lib\\site-packages\\sklearn\\svm\\_base.py:1225: ConvergenceWarning: Liblinear failed to converge, increase the number of iterations.\n",
      "  warnings.warn(\n"
     ]
    },
    {
     "data": {
      "text/plain": [
       "0.7"
      ]
     },
     "execution_count": 363,
     "metadata": {},
     "output_type": "execute_result"
    }
   ],
   "source": [
    "log = linearSVM(sa_training)\n",
    "log[1]"
   ]
  },
  {
   "cell_type": "code",
   "execution_count": 364,
   "metadata": {},
   "outputs": [
    {
     "data": {
      "text/html": [
       "<div>\n",
       "<style scoped>\n",
       "    .dataframe tbody tr th:only-of-type {\n",
       "        vertical-align: middle;\n",
       "    }\n",
       "\n",
       "    .dataframe tbody tr th {\n",
       "        vertical-align: top;\n",
       "    }\n",
       "\n",
       "    .dataframe thead th {\n",
       "        text-align: right;\n",
       "    }\n",
       "</style>\n",
       "<table border=\"1\" class=\"dataframe\">\n",
       "  <thead>\n",
       "    <tr style=\"text-align: right;\">\n",
       "      <th></th>\n",
       "      <th>Protest</th>\n",
       "      <th>NuTweets</th>\n",
       "      <th>d1</th>\n",
       "      <th>d2</th>\n",
       "      <th>d3</th>\n",
       "      <th>d4</th>\n",
       "      <th>d5</th>\n",
       "      <th>d6</th>\n",
       "      <th>d7</th>\n",
       "      <th>d8</th>\n",
       "      <th>d9</th>\n",
       "      <th>d10</th>\n",
       "      <th>average</th>\n",
       "      <th>likes</th>\n",
       "      <th>followers</th>\n",
       "      <th>retweets</th>\n",
       "      <th>replies</th>\n",
       "      <th>sub</th>\n",
       "      <th>pol</th>\n",
       "      <th>place</th>\n",
       "      <th>grievances</th>\n",
       "      <th>triggers</th>\n",
       "      <th>tactics</th>\n",
       "      <th>actors</th>\n",
       "      <th>locations</th>\n",
       "      <th>weapons</th>\n",
       "      <th>eventualities</th>\n",
       "      <th>curiosities</th>\n",
       "      <th>non_protests</th>\n",
       "      <th>universities</th>\n",
       "    </tr>\n",
       "  </thead>\n",
       "  <tbody>\n",
       "    <tr>\n",
       "      <th>0</th>\n",
       "      <td>1</td>\n",
       "      <td>156</td>\n",
       "      <td>0.409091</td>\n",
       "      <td>0.181818</td>\n",
       "      <td>0.068182</td>\n",
       "      <td>0.068182</td>\n",
       "      <td>0.500000</td>\n",
       "      <td>1.000000</td>\n",
       "      <td>0.500000</td>\n",
       "      <td>0.545455</td>\n",
       "      <td>0.454545</td>\n",
       "      <td>0.227273</td>\n",
       "      <td>17.4</td>\n",
       "      <td>0.801282</td>\n",
       "      <td>11181.128205</td>\n",
       "      <td>0.826923</td>\n",
       "      <td>0.262821</td>\n",
       "      <td>0.468301</td>\n",
       "      <td>0.092900</td>\n",
       "      <td>City of Cape Town</td>\n",
       "      <td>[Education]</td>\n",
       "      <td>[Court hearing]</td>\n",
       "      <td>[Gathering]</td>\n",
       "      <td>[Political Party]</td>\n",
       "      <td>[Tertiary Edu]</td>\n",
       "      <td>[Police weapons, Crowd projectiles, Crowd weap...</td>\n",
       "      <td>[Police attack]</td>\n",
       "      <td>[Special Keywords]</td>\n",
       "      <td>[Football matches, Other sport, Election campa...</td>\n",
       "      <td>[Stellenbosh University]</td>\n",
       "    </tr>\n",
       "    <tr>\n",
       "      <th>1</th>\n",
       "      <td>0</td>\n",
       "      <td>38</td>\n",
       "      <td>0.222222</td>\n",
       "      <td>0.555556</td>\n",
       "      <td>0.444444</td>\n",
       "      <td>0.444444</td>\n",
       "      <td>0.444444</td>\n",
       "      <td>0.111111</td>\n",
       "      <td>0.444444</td>\n",
       "      <td>0.111111</td>\n",
       "      <td>1.000000</td>\n",
       "      <td>0.666667</td>\n",
       "      <td>4.0</td>\n",
       "      <td>1.078947</td>\n",
       "      <td>31909.263158</td>\n",
       "      <td>0.763158</td>\n",
       "      <td>0.236842</td>\n",
       "      <td>0.297430</td>\n",
       "      <td>0.090393</td>\n",
       "      <td>City of Cape Town</td>\n",
       "      <td>[Education]</td>\n",
       "      <td>[Wage disputes]</td>\n",
       "      <td>[Gathering]</td>\n",
       "      <td>[Political Party]</td>\n",
       "      <td>[Tertiary Edu]</td>\n",
       "      <td>[]</td>\n",
       "      <td>[]</td>\n",
       "      <td>[]</td>\n",
       "      <td>[Election campaigns, Exhibitions, Other sport]</td>\n",
       "      <td>[Stellenbosh University]</td>\n",
       "    </tr>\n",
       "    <tr>\n",
       "      <th>2</th>\n",
       "      <td>1</td>\n",
       "      <td>128</td>\n",
       "      <td>0.176471</td>\n",
       "      <td>0.941176</td>\n",
       "      <td>1.000000</td>\n",
       "      <td>0.823529</td>\n",
       "      <td>0.823529</td>\n",
       "      <td>0.882353</td>\n",
       "      <td>0.588235</td>\n",
       "      <td>0.647059</td>\n",
       "      <td>0.823529</td>\n",
       "      <td>1.000000</td>\n",
       "      <td>13.1</td>\n",
       "      <td>1.054688</td>\n",
       "      <td>17116.125000</td>\n",
       "      <td>1.828125</td>\n",
       "      <td>0.304688</td>\n",
       "      <td>0.459057</td>\n",
       "      <td>0.100919</td>\n",
       "      <td>City of Cape Town</td>\n",
       "      <td>[Education]</td>\n",
       "      <td>[Project begin]</td>\n",
       "      <td>[Disrupt, Gathering]</td>\n",
       "      <td>[Political Party]</td>\n",
       "      <td>[Tertiary Edu]</td>\n",
       "      <td>[Police weapons]</td>\n",
       "      <td>[Police attack]</td>\n",
       "      <td>[Special Keywords]</td>\n",
       "      <td>[Election campaigns]</td>\n",
       "      <td>[Stellenbosh University]</td>\n",
       "    </tr>\n",
       "    <tr>\n",
       "      <th>3</th>\n",
       "      <td>0</td>\n",
       "      <td>40</td>\n",
       "      <td>0.222222</td>\n",
       "      <td>0.444444</td>\n",
       "      <td>0.555556</td>\n",
       "      <td>0.666667</td>\n",
       "      <td>0.222222</td>\n",
       "      <td>0.111111</td>\n",
       "      <td>0.222222</td>\n",
       "      <td>1.000000</td>\n",
       "      <td>0.444444</td>\n",
       "      <td>0.777778</td>\n",
       "      <td>4.2</td>\n",
       "      <td>1.450000</td>\n",
       "      <td>8602.425000</td>\n",
       "      <td>1.075000</td>\n",
       "      <td>0.425000</td>\n",
       "      <td>0.293188</td>\n",
       "      <td>0.086130</td>\n",
       "      <td>Cape Winelands</td>\n",
       "      <td>[Education]</td>\n",
       "      <td>[Court hearing]</td>\n",
       "      <td>[Gathering]</td>\n",
       "      <td>[Political Party]</td>\n",
       "      <td>[School]</td>\n",
       "      <td>[Crowd projectiles]</td>\n",
       "      <td>[]</td>\n",
       "      <td>[Special Keywords]</td>\n",
       "      <td>[Election campaigns, 16 Days of activism]</td>\n",
       "      <td>[Stellenbosh University]</td>\n",
       "    </tr>\n",
       "    <tr>\n",
       "      <th>4</th>\n",
       "      <td>1</td>\n",
       "      <td>164</td>\n",
       "      <td>0.204545</td>\n",
       "      <td>0.409091</td>\n",
       "      <td>0.181818</td>\n",
       "      <td>0.068182</td>\n",
       "      <td>0.068182</td>\n",
       "      <td>0.500000</td>\n",
       "      <td>1.000000</td>\n",
       "      <td>0.500000</td>\n",
       "      <td>0.545455</td>\n",
       "      <td>0.454545</td>\n",
       "      <td>17.3</td>\n",
       "      <td>0.768293</td>\n",
       "      <td>11386.274390</td>\n",
       "      <td>0.817073</td>\n",
       "      <td>0.262195</td>\n",
       "      <td>0.464095</td>\n",
       "      <td>0.089726</td>\n",
       "      <td>City of Cape Town</td>\n",
       "      <td>[Education]</td>\n",
       "      <td>[Court hearing]</td>\n",
       "      <td>[Gathering]</td>\n",
       "      <td>[Political Party]</td>\n",
       "      <td>[Tertiary Edu]</td>\n",
       "      <td>[Crowd projectiles, Crowd weapons]</td>\n",
       "      <td>[Police attack]</td>\n",
       "      <td>[Special Keywords]</td>\n",
       "      <td>[Football matches, Other sport, Election campa...</td>\n",
       "      <td>[Stellenbosh University]</td>\n",
       "    </tr>\n",
       "  </tbody>\n",
       "</table>\n",
       "</div>"
      ],
      "text/plain": [
       "   Protest  NuTweets        d1        d2        d3        d4        d5  \\\n",
       "0        1       156  0.409091  0.181818  0.068182  0.068182  0.500000   \n",
       "1        0        38  0.222222  0.555556  0.444444  0.444444  0.444444   \n",
       "2        1       128  0.176471  0.941176  1.000000  0.823529  0.823529   \n",
       "3        0        40  0.222222  0.444444  0.555556  0.666667  0.222222   \n",
       "4        1       164  0.204545  0.409091  0.181818  0.068182  0.068182   \n",
       "\n",
       "         d6        d7        d8        d9       d10  average     likes  \\\n",
       "0  1.000000  0.500000  0.545455  0.454545  0.227273     17.4  0.801282   \n",
       "1  0.111111  0.444444  0.111111  1.000000  0.666667      4.0  1.078947   \n",
       "2  0.882353  0.588235  0.647059  0.823529  1.000000     13.1  1.054688   \n",
       "3  0.111111  0.222222  1.000000  0.444444  0.777778      4.2  1.450000   \n",
       "4  0.500000  1.000000  0.500000  0.545455  0.454545     17.3  0.768293   \n",
       "\n",
       "      followers  retweets   replies       sub       pol              place  \\\n",
       "0  11181.128205  0.826923  0.262821  0.468301  0.092900  City of Cape Town   \n",
       "1  31909.263158  0.763158  0.236842  0.297430  0.090393  City of Cape Town   \n",
       "2  17116.125000  1.828125  0.304688  0.459057  0.100919  City of Cape Town   \n",
       "3   8602.425000  1.075000  0.425000  0.293188  0.086130     Cape Winelands   \n",
       "4  11386.274390  0.817073  0.262195  0.464095  0.089726  City of Cape Town   \n",
       "\n",
       "    grievances         triggers               tactics             actors  \\\n",
       "0  [Education]  [Court hearing]           [Gathering]  [Political Party]   \n",
       "1  [Education]  [Wage disputes]           [Gathering]  [Political Party]   \n",
       "2  [Education]  [Project begin]  [Disrupt, Gathering]  [Political Party]   \n",
       "3  [Education]  [Court hearing]           [Gathering]  [Political Party]   \n",
       "4  [Education]  [Court hearing]           [Gathering]  [Political Party]   \n",
       "\n",
       "        locations                                            weapons  \\\n",
       "0  [Tertiary Edu]  [Police weapons, Crowd projectiles, Crowd weap...   \n",
       "1  [Tertiary Edu]                                                 []   \n",
       "2  [Tertiary Edu]                                   [Police weapons]   \n",
       "3        [School]                                [Crowd projectiles]   \n",
       "4  [Tertiary Edu]                 [Crowd projectiles, Crowd weapons]   \n",
       "\n",
       "     eventualities         curiosities  \\\n",
       "0  [Police attack]  [Special Keywords]   \n",
       "1               []                  []   \n",
       "2  [Police attack]  [Special Keywords]   \n",
       "3               []  [Special Keywords]   \n",
       "4  [Police attack]  [Special Keywords]   \n",
       "\n",
       "                                        non_protests              universities  \n",
       "0  [Football matches, Other sport, Election campa...  [Stellenbosh University]  \n",
       "1     [Election campaigns, Exhibitions, Other sport]  [Stellenbosh University]  \n",
       "2                               [Election campaigns]  [Stellenbosh University]  \n",
       "3          [Election campaigns, 16 Days of activism]  [Stellenbosh University]  \n",
       "4  [Football matches, Other sport, Election campa...  [Stellenbosh University]  "
      ]
     },
     "execution_count": 364,
     "metadata": {},
     "output_type": "execute_result"
    }
   ],
   "source": [
    "sa_training.head()"
   ]
  }
 ],
 "metadata": {
  "kernelspec": {
   "display_name": "Python 3.10.4 64-bit",
   "language": "python",
   "name": "python3"
  },
  "language_info": {
   "codemirror_mode": {
    "name": "ipython",
    "version": 3
   },
   "file_extension": ".py",
   "mimetype": "text/x-python",
   "name": "python",
   "nbconvert_exporter": "python",
   "pygments_lexer": "ipython3",
   "version": "3.10.4"
  },
  "orig_nbformat": 4,
  "vscode": {
   "interpreter": {
    "hash": "eb1e2aa17c9c03522ea469ed025d74c8a00b3c7801d0496b408e209436a13f2e"
   }
  }
 },
 "nbformat": 4,
 "nbformat_minor": 2
}
