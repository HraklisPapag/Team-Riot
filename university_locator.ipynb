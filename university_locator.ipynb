{
 "cells": [
  {
   "cell_type": "markdown",
   "metadata": {},
   "source": [
    "# Updating Loctions to university locations"
   ]
  },
  {
   "cell_type": "markdown",
   "metadata": {},
   "source": [
    "### Import Libraries"
   ]
  },
  {
   "cell_type": "code",
   "execution_count": 805,
   "metadata": {},
   "outputs": [],
   "source": [
    "import numpy as np\n",
    "import pandas as pd\n",
    "from cmath import nan"
   ]
  },
  {
   "cell_type": "markdown",
   "metadata": {},
   "source": [
    "### Load in University-Location data"
   ]
  },
  {
   "cell_type": "code",
   "execution_count": 806,
   "metadata": {},
   "outputs": [],
   "source": [
    "universities = pd.read_excel('DATA/South African Universities.xlsx')"
   ]
  },
  {
   "cell_type": "code",
   "execution_count": 807,
   "metadata": {},
   "outputs": [
    {
     "data": {
      "text/html": [
       "<div>\n",
       "<style scoped>\n",
       "    .dataframe tbody tr th:only-of-type {\n",
       "        vertical-align: middle;\n",
       "    }\n",
       "\n",
       "    .dataframe tbody tr th {\n",
       "        vertical-align: top;\n",
       "    }\n",
       "\n",
       "    .dataframe thead th {\n",
       "        text-align: right;\n",
       "    }\n",
       "</style>\n",
       "<table border=\"1\" class=\"dataframe\">\n",
       "  <thead>\n",
       "    <tr style=\"text-align: right;\">\n",
       "      <th></th>\n",
       "      <th>Universities</th>\n",
       "      <th>Abbriviation</th>\n",
       "      <th>Nickname</th>\n",
       "      <th>Province</th>\n",
       "      <th>Latitude</th>\n",
       "      <th>Longitude</th>\n",
       "    </tr>\n",
       "  </thead>\n",
       "  <tbody>\n",
       "    <tr>\n",
       "      <th>0</th>\n",
       "      <td>University of Cape Town</td>\n",
       "      <td>UCT,IKEYS</td>\n",
       "      <td>NaN</td>\n",
       "      <td>Western Cape</td>\n",
       "      <td>-33.9577</td>\n",
       "      <td>18.4612</td>\n",
       "    </tr>\n",
       "    <tr>\n",
       "      <th>1</th>\n",
       "      <td>Stellenbosh University</td>\n",
       "      <td>SU</td>\n",
       "      <td>Stellies,Maties</td>\n",
       "      <td>Western Cape</td>\n",
       "      <td>-33.9328</td>\n",
       "      <td>18.8644</td>\n",
       "    </tr>\n",
       "    <tr>\n",
       "      <th>2</th>\n",
       "      <td>University of Pretoria</td>\n",
       "      <td>UP</td>\n",
       "      <td>Tuks,Tukkies</td>\n",
       "      <td>Gauteng</td>\n",
       "      <td>-25.7545</td>\n",
       "      <td>28.2314</td>\n",
       "    </tr>\n",
       "    <tr>\n",
       "      <th>3</th>\n",
       "      <td>University of the Witwatersrand</td>\n",
       "      <td>NaN</td>\n",
       "      <td>Wits</td>\n",
       "      <td>Gauteng</td>\n",
       "      <td>-26.1929</td>\n",
       "      <td>28.0305</td>\n",
       "    </tr>\n",
       "    <tr>\n",
       "      <th>4</th>\n",
       "      <td>University of Kwazulu Natal</td>\n",
       "      <td>UKZN</td>\n",
       "      <td>Impi</td>\n",
       "      <td>KwaZulu-Natal</td>\n",
       "      <td>-29.8674</td>\n",
       "      <td>30.9807</td>\n",
       "    </tr>\n",
       "  </tbody>\n",
       "</table>\n",
       "</div>"
      ],
      "text/plain": [
       "                      Universities Abbriviation         Nickname  \\\n",
       "0         University of Cape Town     UCT,IKEYS              NaN   \n",
       "1           Stellenbosh University           SU  Stellies,Maties   \n",
       "2           University of Pretoria           UP     Tuks,Tukkies   \n",
       "3  University of the Witwatersrand          NaN             Wits   \n",
       "4      University of Kwazulu Natal         UKZN             Impi   \n",
       "\n",
       "        Province  Latitude  Longitude  \n",
       "0   Western Cape  -33.9577    18.4612  \n",
       "1   Western Cape  -33.9328    18.8644  \n",
       "2        Gauteng  -25.7545    28.2314  \n",
       "3        Gauteng  -26.1929    28.0305  \n",
       "4  KwaZulu-Natal  -29.8674    30.9807  "
      ]
     },
     "execution_count": 807,
     "metadata": {},
     "output_type": "execute_result"
    }
   ],
   "source": [
    "universities.head(5)"
   ]
  },
  {
   "cell_type": "code",
   "execution_count": 808,
   "metadata": {},
   "outputs": [
    {
     "data": {
      "text/html": [
       "<div>\n",
       "<style scoped>\n",
       "    .dataframe tbody tr th:only-of-type {\n",
       "        vertical-align: middle;\n",
       "    }\n",
       "\n",
       "    .dataframe tbody tr th {\n",
       "        vertical-align: top;\n",
       "    }\n",
       "\n",
       "    .dataframe thead th {\n",
       "        text-align: right;\n",
       "    }\n",
       "</style>\n",
       "<table border=\"1\" class=\"dataframe\">\n",
       "  <thead>\n",
       "    <tr style=\"text-align: right;\">\n",
       "      <th></th>\n",
       "      <th>Unnamed: 0.1</th>\n",
       "      <th>Unnamed: 0</th>\n",
       "      <th>tweet_id</th>\n",
       "      <th>author_followers</th>\n",
       "      <th>text</th>\n",
       "      <th>created_at</th>\n",
       "      <th>retweets</th>\n",
       "      <th>replies</th>\n",
       "      <th>likes</th>\n",
       "      <th>quote_count</th>\n",
       "      <th>place_id</th>\n",
       "      <th>place_name</th>\n",
       "      <th>cleaned_text</th>\n",
       "      <th>geometry</th>\n",
       "    </tr>\n",
       "  </thead>\n",
       "  <tbody>\n",
       "    <tr>\n",
       "      <th>0</th>\n",
       "      <td>0</td>\n",
       "      <td>0</td>\n",
       "      <td>923322201125916672</td>\n",
       "      <td>1074</td>\n",
       "      <td>Idk if these niggas are singing struggle songs...</td>\n",
       "      <td>2017-10-25 22:55:41+00:00</td>\n",
       "      <td>0</td>\n",
       "      <td>0</td>\n",
       "      <td>0</td>\n",
       "      <td>0</td>\n",
       "      <td>{'place_id': 'e564d30dc173d2a8'}</td>\n",
       "      <td>Johannesburg, South Africa</td>\n",
       "      <td>idk nigga sing struggle song coz they’re drunk...</td>\n",
       "      <td>POINT (27.968098050000002 -26.276138500000002)</td>\n",
       "    </tr>\n",
       "    <tr>\n",
       "      <th>1</th>\n",
       "      <td>1</td>\n",
       "      <td>1</td>\n",
       "      <td>923320610373107712</td>\n",
       "      <td>3938</td>\n",
       "      <td>@Pali_Matli So nawe stop associating Wits with...</td>\n",
       "      <td>2017-10-25 22:49:22+00:00</td>\n",
       "      <td>0</td>\n",
       "      <td>0</td>\n",
       "      <td>0</td>\n",
       "      <td>0</td>\n",
       "      <td>{'place_id': '810e12ec4af983de'}</td>\n",
       "      <td>Bloemfontein, South Africa</td>\n",
       "      <td>nawe stop associate wit ufs,because also know ...</td>\n",
       "      <td>POINT (26.213109600000003 -29.10658805)</td>\n",
       "    </tr>\n",
       "  </tbody>\n",
       "</table>\n",
       "</div>"
      ],
      "text/plain": [
       "   Unnamed: 0.1  Unnamed: 0            tweet_id  author_followers  \\\n",
       "0             0           0  923322201125916672              1074   \n",
       "1             1           1  923320610373107712              3938   \n",
       "\n",
       "                                                text  \\\n",
       "0  Idk if these niggas are singing struggle songs...   \n",
       "1  @Pali_Matli So nawe stop associating Wits with...   \n",
       "\n",
       "                  created_at  retweets  replies  likes  quote_count  \\\n",
       "0  2017-10-25 22:55:41+00:00         0        0      0            0   \n",
       "1  2017-10-25 22:49:22+00:00         0        0      0            0   \n",
       "\n",
       "                           place_id                  place_name  \\\n",
       "0  {'place_id': 'e564d30dc173d2a8'}  Johannesburg, South Africa   \n",
       "1  {'place_id': '810e12ec4af983de'}  Bloemfontein, South Africa   \n",
       "\n",
       "                                        cleaned_text  \\\n",
       "0  idk nigga sing struggle song coz they’re drunk...   \n",
       "1  nawe stop associate wit ufs,because also know ...   \n",
       "\n",
       "                                         geometry  \n",
       "0  POINT (27.968098050000002 -26.276138500000002)  \n",
       "1         POINT (26.213109600000003 -29.10658805)  "
      ]
     },
     "execution_count": 808,
     "metadata": {},
     "output_type": "execute_result"
    }
   ],
   "source": [
    "tweets = pd.read_csv('DATA/Clean_Tweets_All_Info.csv')\n",
    "tweets.head(2)"
   ]
  },
  {
   "cell_type": "markdown",
   "metadata": {},
   "source": [
    "### Convert String Representation of a List to an Actual List of Strings"
   ]
  },
  {
   "cell_type": "code",
   "execution_count": 809,
   "metadata": {},
   "outputs": [],
   "source": [
    "def split_string(string):\n",
    "    if string == string:\n",
    "        string = string.replace(\"'\", \"\")\n",
    "        out = string.strip('][').split(',')\n",
    "        return out\n",
    "    else:\n",
    "        return nan"
   ]
  },
  {
   "cell_type": "markdown",
   "metadata": {},
   "source": [
    "### String extractor (same as method in content analysis)"
   ]
  },
  {
   "cell_type": "code",
   "execution_count": 810,
   "metadata": {},
   "outputs": [],
   "source": [
    "def string_substring(string, substring):\n",
    "    # Lower ensures that the vocab is case insensitive\n",
    "    string = string.lower()\n",
    "    substring = substring.lower()\n",
    "\n",
    "    if substring in string:\n",
    "        return True\n",
    "    else:\n",
    "        return False"
   ]
  },
  {
   "cell_type": "markdown",
   "metadata": {},
   "source": [
    "### String Extractor that is case sensitive (For University Abbreviations)"
   ]
  },
  {
   "cell_type": "code",
   "execution_count": 811,
   "metadata": {},
   "outputs": [],
   "source": [
    "def string_substring_case_sensitive(string, substring):\n",
    "    # Lower ensures that the vocab is case insensitive\n",
    "    if substring in string:\n",
    "        return True\n",
    "    else:\n",
    "        return False"
   ]
  },
  {
   "cell_type": "code",
   "execution_count": 812,
   "metadata": {},
   "outputs": [],
   "source": [
    "universities['Nickname'] = universities['Nickname'].apply(lambda x: split_string(x))\n",
    "universities['Abbriviation'] = universities['Abbriviation'].apply(lambda x: split_string(x))"
   ]
  },
  {
   "cell_type": "code",
   "execution_count": 813,
   "metadata": {},
   "outputs": [
    {
     "name": "stderr",
     "output_type": "stream",
     "text": [
      "C:\\Users\\papag\\AppData\\Local\\Temp\\ipykernel_8112\\3873432201.py:2: SettingWithCopyWarning: \n",
      "A value is trying to be set on a copy of a slice from a DataFrame\n",
      "\n",
      "See the caveats in the documentation: https://pandas.pydata.org/pandas-docs/stable/user_guide/indexing.html#returning-a-view-versus-a-copy\n",
      "  tweets['text'][0] += 'University of cape Town UCT IKEYS'\n"
     ]
    }
   ],
   "source": [
    "### Testing Specfic Cases\n",
    "tweets['text'][0] += 'University of cape Town UCT IKEYS'"
   ]
  },
  {
   "cell_type": "code",
   "execution_count": 814,
   "metadata": {},
   "outputs": [],
   "source": [
    "def university_locator():\n",
    "    addition = []\n",
    "    for iter_t, tweet in tweets.iterrows():\n",
    "        coords = []\n",
    "        words = []\n",
    "        for iter_u, uni in universities.iterrows():\n",
    "            if uni['Nickname'] == uni['Nickname']:\n",
    "                for nickname in uni['Nickname']:\n",
    "                    if string_substring(tweet['text'], nickname):\n",
    "                        # coords = [uni['Latitude'], uni['Longitude']]#lat, long\n",
    "                        words.append(uni['Universities'])\n",
    "            if uni['Abbriviation'] == uni['Abbriviation']:        \n",
    "                for abbr in uni['Abbriviation']:\n",
    "                    if string_substring_case_sensitive(tweet['text'], abbr):\n",
    "                        words.append(uni['Universities'])\n",
    "                \n",
    "                if string_substring(tweet['text'], uni['Universities']):\n",
    "                    words.append(uni['Universities'])\n",
    "        words = list(set(words))\n",
    "        if len(words) == 0:\n",
    "            words = nan\n",
    "        addition.append(words)\n",
    "\n",
    "    return addition"
   ]
  },
  {
   "cell_type": "code",
   "execution_count": 815,
   "metadata": {},
   "outputs": [],
   "source": [
    "tweets['universities'] = university_locator()"
   ]
  },
  {
   "cell_type": "code",
   "execution_count": 816,
   "metadata": {},
   "outputs": [],
   "source": [
    "#tweets['CHECK'] = 0"
   ]
  },
  {
   "cell_type": "code",
   "execution_count": 817,
   "metadata": {},
   "outputs": [],
   "source": [
    "def change_coords():\n",
    "    for iter_t, tweet in tweets.iterrows():\n",
    "        if tweet['universities'] == tweet['universities']:\n",
    "            if len(tweet['universities']) == 1:\n",
    "                new_lat = (list(universities.loc[universities['Universities'] == tweet['universities'][0], 'Latitude']))[0]\n",
    "                new_long = (list(universities.loc[universities['Universities'] == tweet['universities'][0], 'Longitude']))[0]\n",
    "                new_geometry = 'POINT (' + str(new_long) + ' ' + str(new_lat) + ')'\n",
    "                tweets['geometry'][iter_t] = new_geometry\n",
    "                #tweets['CHECK'][iter_t] = 1"
   ]
  },
  {
   "cell_type": "code",
   "execution_count": 818,
   "metadata": {},
   "outputs": [
    {
     "name": "stderr",
     "output_type": "stream",
     "text": [
      "C:\\Users\\papag\\AppData\\Local\\Temp\\ipykernel_8112\\3095318024.py:8: SettingWithCopyWarning: \n",
      "A value is trying to be set on a copy of a slice from a DataFrame\n",
      "\n",
      "See the caveats in the documentation: https://pandas.pydata.org/pandas-docs/stable/user_guide/indexing.html#returning-a-view-versus-a-copy\n",
      "  tweets['geometry'][iter_t] = new_geometry\n"
     ]
    }
   ],
   "source": [
    "change_coords()"
   ]
  },
  {
   "cell_type": "code",
   "execution_count": 819,
   "metadata": {},
   "outputs": [],
   "source": [
    "tweets.to_csv('DATA/University_Locations.csv')"
   ]
  }
 ],
 "metadata": {
  "kernelspec": {
   "display_name": "Python 3.10.4 64-bit",
   "language": "python",
   "name": "python3"
  },
  "language_info": {
   "codemirror_mode": {
    "name": "ipython",
    "version": 3
   },
   "file_extension": ".py",
   "mimetype": "text/x-python",
   "name": "python",
   "nbconvert_exporter": "python",
   "pygments_lexer": "ipython3",
   "version": "3.10.4"
  },
  "orig_nbformat": 4,
  "vscode": {
   "interpreter": {
    "hash": "eb1e2aa17c9c03522ea469ed025d74c8a00b3c7801d0496b408e209436a13f2e"
   }
  }
 },
 "nbformat": 4,
 "nbformat_minor": 2
}
