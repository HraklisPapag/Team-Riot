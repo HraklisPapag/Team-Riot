{
 "cells": [
  {
   "cell_type": "code",
   "execution_count": 48,
   "metadata": {},
   "outputs": [],
   "source": [
    "import pandas as pd\n",
    "import csv\n",
    "import numpy as np\n",
    "import pandas as pd\n",
    "import plotly.graph_objs as go\n",
    "import chart_studio.plotly.plotly as py\n"
   ]
  },
  {
   "cell_type": "code",
   "execution_count": 35,
   "metadata": {},
   "outputs": [],
   "source": [
    "protests = pd.read_csv('DATA/protests.csv')\n",
    "protests.drop('Unnamed: 0', axis=1, inplace=True)"
   ]
  },
  {
   "cell_type": "code",
   "execution_count": 36,
   "metadata": {},
   "outputs": [
    {
     "data": {
      "text/html": [
       "<div>\n",
       "<style scoped>\n",
       "    .dataframe tbody tr th:only-of-type {\n",
       "        vertical-align: middle;\n",
       "    }\n",
       "\n",
       "    .dataframe tbody tr th {\n",
       "        vertical-align: top;\n",
       "    }\n",
       "\n",
       "    .dataframe thead th {\n",
       "        text-align: right;\n",
       "    }\n",
       "</style>\n",
       "<table border=\"1\" class=\"dataframe\">\n",
       "  <thead>\n",
       "    <tr style=\"text-align: right;\">\n",
       "      <th></th>\n",
       "      <th>Date</th>\n",
       "      <th>notes</th>\n",
       "      <th>geometry</th>\n",
       "      <th>Place0</th>\n",
       "      <th>Place1</th>\n",
       "      <th>Place2</th>\n",
       "      <th>Place3</th>\n",
       "    </tr>\n",
       "  </thead>\n",
       "  <tbody>\n",
       "    <tr>\n",
       "      <th>0</th>\n",
       "      <td>2017-10-25</td>\n",
       "      <td>A few hundred Fees Must Fall protesters attemp...</td>\n",
       "      <td>POINT (18.4764 -33.9633)</td>\n",
       "      <td>Western Cape</td>\n",
       "      <td>City of Cape Town</td>\n",
       "      <td>City of Cape Town</td>\n",
       "      <td>58</td>\n",
       "    </tr>\n",
       "    <tr>\n",
       "      <th>1</th>\n",
       "      <td>2017-09-19</td>\n",
       "      <td>A group of #FeesMustFall students has stormed ...</td>\n",
       "      <td>POINT (18.4764 -33.9633)</td>\n",
       "      <td>Western Cape</td>\n",
       "      <td>City of Cape Town</td>\n",
       "      <td>City of Cape Town</td>\n",
       "      <td>58</td>\n",
       "    </tr>\n",
       "    <tr>\n",
       "      <th>2</th>\n",
       "      <td>2017-06-19</td>\n",
       "      <td>A team made up of UWC students acting under th...</td>\n",
       "      <td>POINT (18.6333 -33.9)</td>\n",
       "      <td>Western Cape</td>\n",
       "      <td>City of Cape Town</td>\n",
       "      <td>City of Cape Town</td>\n",
       "      <td>10</td>\n",
       "    </tr>\n",
       "    <tr>\n",
       "      <th>3</th>\n",
       "      <td>2017-02-24</td>\n",
       "      <td>Students marched to protest for the #feesmustf...</td>\n",
       "      <td>POINT (31.0292 -29.8579)</td>\n",
       "      <td>KwaZulu-Natal</td>\n",
       "      <td>eThekwini</td>\n",
       "      <td>eThekwini</td>\n",
       "      <td>28</td>\n",
       "    </tr>\n",
       "    <tr>\n",
       "      <th>4</th>\n",
       "      <td>2017-01-19</td>\n",
       "      <td>There was a small contingent of supporters for...</td>\n",
       "      <td>POINT (31.0292 -29.8579)</td>\n",
       "      <td>KwaZulu-Natal</td>\n",
       "      <td>eThekwini</td>\n",
       "      <td>eThekwini</td>\n",
       "      <td>28</td>\n",
       "    </tr>\n",
       "  </tbody>\n",
       "</table>\n",
       "</div>"
      ],
      "text/plain": [
       "         Date                                              notes  \\\n",
       "0  2017-10-25  A few hundred Fees Must Fall protesters attemp...   \n",
       "1  2017-09-19  A group of #FeesMustFall students has stormed ...   \n",
       "2  2017-06-19  A team made up of UWC students acting under th...   \n",
       "3  2017-02-24  Students marched to protest for the #feesmustf...   \n",
       "4  2017-01-19  There was a small contingent of supporters for...   \n",
       "\n",
       "                   geometry         Place0             Place1  \\\n",
       "0  POINT (18.4764 -33.9633)   Western Cape  City of Cape Town   \n",
       "1  POINT (18.4764 -33.9633)   Western Cape  City of Cape Town   \n",
       "2     POINT (18.6333 -33.9)   Western Cape  City of Cape Town   \n",
       "3  POINT (31.0292 -29.8579)  KwaZulu-Natal          eThekwini   \n",
       "4  POINT (31.0292 -29.8579)  KwaZulu-Natal          eThekwini   \n",
       "\n",
       "              Place2  Place3  \n",
       "0  City of Cape Town      58  \n",
       "1  City of Cape Town      58  \n",
       "2  City of Cape Town      10  \n",
       "3          eThekwini      28  \n",
       "4          eThekwini      28  "
      ]
     },
     "execution_count": 36,
     "metadata": {},
     "output_type": "execute_result"
    }
   ],
   "source": [
    "protests.head()"
   ]
  },
  {
   "cell_type": "code",
   "execution_count": 37,
   "metadata": {},
   "outputs": [],
   "source": [
    "def get_year(date_string):\n",
    "    return int(date_string[:4])"
   ]
  },
  {
   "cell_type": "code",
   "execution_count": 38,
   "metadata": {},
   "outputs": [],
   "source": [
    "protests['years'] = protests['Date'].apply(lambda x: get_year(x))"
   ]
  },
  {
   "cell_type": "code",
   "execution_count": 39,
   "metadata": {},
   "outputs": [],
   "source": [
    "protests['count'] = 1"
   ]
  },
  {
   "cell_type": "code",
   "execution_count": 40,
   "metadata": {},
   "outputs": [],
   "source": [
    "# min year in your dataset\n",
    "year = 2015"
   ]
  },
  {
   "cell_type": "code",
   "execution_count": 41,
   "metadata": {},
   "outputs": [],
   "source": [
    "# your color-scale\n",
    "scl = [[0.0, '#ffffff'],[0.2, '#b4a8ce'],[0.4, '#8573a9'],\n",
    "       [0.6, '#7159a3'],[0.8, '#5732a1'],[1.0, '#2c0579']] # purples"
   ]
  },
  {
   "cell_type": "code",
   "execution_count": 42,
   "metadata": {},
   "outputs": [
    {
     "name": "stderr",
     "output_type": "stream",
     "text": [
      "C:\\Users\\papag\\AppData\\Local\\Temp\\ipykernel_9896\\525554081.py:6: SettingWithCopyWarning: \n",
      "A value is trying to be set on a copy of a slice from a DataFrame.\n",
      "Try using .loc[row_indexer,col_indexer] = value instead\n",
      "\n",
      "See the caveats in the documentation: https://pandas.pydata.org/pandas-docs/stable/user_guide/indexing.html#returning-a-view-versus-a-copy\n",
      "  df_segmented[col] = df_segmented[col].astype(str)\n"
     ]
    }
   ],
   "source": [
    "data_slider = []\n",
    "for year in protests['years'].unique():\n",
    "    df_segmented =  protests[(protests['years']== year)]\n",
    "\n",
    "    for col in df_segmented.columns:\n",
    "        df_segmented[col] = df_segmented[col].astype(str)\n",
    "\n",
    "    data_each_yr = dict(\n",
    "                        type='choropleth',\n",
    "                        locations = df_segmented['Place0'],\n",
    "                        z=df_segmented['count'].astype(float),\n",
    "                        locationmode='South Africa-provinces',\n",
    "                        colorscale = scl,\n",
    "                        colorbar= {'title':'# Protests'})\n",
    "\n",
    "    data_slider.append(data_each_yr)\n"
   ]
  },
  {
   "cell_type": "code",
   "execution_count": 43,
   "metadata": {},
   "outputs": [],
   "source": [
    "steps = []\n",
    "for i in range(len(data_slider)):\n",
    "    step = dict(method='restyle',\n",
    "                args=['visible', [False] * len(data_slider)],\n",
    "                label='Year {}'.format(i + 1998))\n",
    "    step['args'][1][i] = True\n",
    "    steps.append(step)"
   ]
  },
  {
   "cell_type": "code",
   "execution_count": 44,
   "metadata": {},
   "outputs": [],
   "source": [
    "sliders = [dict(active=0, pad={\"t\": 1}, steps=steps)]"
   ]
  },
  {
   "cell_type": "code",
   "execution_count": 45,
   "metadata": {},
   "outputs": [],
   "source": [
    "layout = dict(title ='UFO Sightings by State Since 1998', geo=dict(scope='usa',\n",
    "                       projection={'type': 'albers usa'}),\n",
    "              sliders=sliders)"
   ]
  },
  {
   "cell_type": "code",
   "execution_count": 46,
   "metadata": {},
   "outputs": [
    {
     "ename": "NameError",
     "evalue": "name 'periscope' is not defined",
     "output_type": "error",
     "traceback": [
      "\u001b[1;31m---------------------------------------------------------------------------\u001b[0m",
      "\u001b[1;31mNameError\u001b[0m                                 Traceback (most recent call last)",
      "\u001b[1;32me:\\2022\\Sem 1\\ELEN4002 Capstone Project\\Code\\Team-Riot\\map.ipynb Cell 13\u001b[0m in \u001b[0;36m<cell line: 2>\u001b[1;34m()\u001b[0m\n\u001b[0;32m      <a href='vscode-notebook-cell:/e%3A/2022/Sem%201/ELEN4002%20Capstone%20Project/Code/Team-Riot/map.ipynb#X20sZmlsZQ%3D%3D?line=0'>1</a>\u001b[0m fig \u001b[39m=\u001b[39m \u001b[39mdict\u001b[39m(data\u001b[39m=\u001b[39mdata_slider, layout\u001b[39m=\u001b[39mlayout)\n\u001b[1;32m----> <a href='vscode-notebook-cell:/e%3A/2022/Sem%201/ELEN4002%20Capstone%20Project/Code/Team-Riot/map.ipynb#X20sZmlsZQ%3D%3D?line=1'>2</a>\u001b[0m periscope\u001b[39m.\u001b[39mplotly(fig)\n",
      "\u001b[1;31mNameError\u001b[0m: name 'periscope' is not defined"
     ]
    }
   ],
   "source": [
    "fig = dict(data=data_slider, layout=layout)\n",
    "periscope.plotly(fig)"
   ]
  }
 ],
 "metadata": {
  "kernelspec": {
   "display_name": "Python 3.10.4 64-bit",
   "language": "python",
   "name": "python3"
  },
  "language_info": {
   "codemirror_mode": {
    "name": "ipython",
    "version": 3
   },
   "file_extension": ".py",
   "mimetype": "text/x-python",
   "name": "python",
   "nbconvert_exporter": "python",
   "pygments_lexer": "ipython3",
   "version": "3.10.4"
  },
  "orig_nbformat": 4,
  "vscode": {
   "interpreter": {
    "hash": "eb1e2aa17c9c03522ea469ed025d74c8a00b3c7801d0496b408e209436a13f2e"
   }
  }
 },
 "nbformat": 4,
 "nbformat_minor": 2
}
