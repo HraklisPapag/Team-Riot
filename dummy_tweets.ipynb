{
 "cells": [
  {
   "cell_type": "markdown",
   "metadata": {},
   "source": [
    "# Dummy Tweet Scraping"
   ]
  },
  {
   "cell_type": "markdown",
   "metadata": {},
   "source": [
    "### Import Libraries"
   ]
  },
  {
   "cell_type": "code",
   "execution_count": 101,
   "metadata": {},
   "outputs": [],
   "source": [
    "from tweepy import Stream\n",
    "from tweepy import OAuthHandler\n",
    "#from tweepy.streaming import StreamListener\n",
    "import tweepy\n",
    "import json\n",
    "import pandas as pd\n",
    "import csv\n",
    "import string\n",
    "import time\n",
    "import datetime\n",
    "import numpy as np\n",
    "from cmath import nan"
   ]
  },
  {
   "cell_type": "markdown",
   "metadata": {},
   "source": [
    "### Account Authentification"
   ]
  },
  {
   "cell_type": "code",
   "execution_count": 102,
   "metadata": {},
   "outputs": [],
   "source": [
    "# Authenticating Twitter API\n",
    "# Obtain your Twitter credentials from your twitter developer account\n",
    "\n",
    "bearer_token = 'AAAAAAAAAAAAAAAAAAAAAEGchQEAAAAAZSYFv1nyLDV81YAKEfDr1fVrlho%3DWKBvyLhQ4CeHrlBRtecAetYkB1ZnAjI3Zydb1516fkIzKhS4vh'\n",
    "\n",
    "client = tweepy.Client(bearer_token, wait_on_rate_limit=True)"
   ]
  },
  {
   "cell_type": "markdown",
   "metadata": {},
   "source": [
    "### Search Criteria\n",
    "This is just an arbitary search criteria for Dummy results with the word protest in them"
   ]
  },
  {
   "cell_type": "code",
   "execution_count": 103,
   "metadata": {},
   "outputs": [],
   "source": [
    "search_words = '(protest OR strike OR march OR rally OR #feesmustfall OR #zumamustfall) -is:retweet lang:en place_country:ZA'\n",
    "#search_words = 'protest -is:retweet lang:en place_country:ZA'\n",
    "date_since = datetime.datetime(2021,1,1)\n",
    "date_before = datetime.datetime(2022,9,30)\n",
    "numTweets = 500"
   ]
  },
  {
   "cell_type": "markdown",
   "metadata": {},
   "source": [
    "Scrape Tweets"
   ]
  },
  {
   "cell_type": "code",
   "execution_count": 104,
   "metadata": {},
   "outputs": [],
   "source": [
    "# Scrape Tweets\n",
    "# Note for the final versions we should use -> until_id -> allos to resume scraping from a particualar tweet ID\n",
    "protest_tweets = []\n",
    "count = 0 \n",
    "for response in tweepy.Paginator(client.search_all_tweets, \n",
    "                                 query = search_words,\n",
    "                                 user_fields = ['public_metrics'],\n",
    "                                 tweet_fields = ['created_at', 'geo', 'public_metrics', 'text'],\n",
    "                                 place_fields = ['id', 'geo', 'name', 'country_code', 'place_type', 'full_name', 'country'],\n",
    "                                 expansions = ['author_id', 'geo.place_id'],\n",
    "                                 start_time = date_since,\n",
    "                                 end_time = date_before,\n",
    "                                 max_results=numTweets\n",
    "                              ):\n",
    "   time.sleep(1)\n",
    "   protest_tweets.append(response)"
   ]
  },
  {
   "cell_type": "markdown",
   "metadata": {},
   "source": [
    "Populate Dataframe with tweet data"
   ]
  },
  {
   "cell_type": "code",
   "execution_count": null,
   "metadata": {},
   "outputs": [
    {
     "name": "stdout",
     "output_type": "stream",
     "text": [
      "5  result(s) were excluded due to invalid data points.\n"
     ]
    }
   ],
   "source": [
    "error_count = 0\n",
    "result = []\n",
    "user_dict = {}\n",
    "place_dict = {}\n",
    "# Loop through each response object\n",
    "for response in protest_tweets:\n",
    "    # Take all of the users, and put them into a dictionary of dictionaries with the info we want to keep\n",
    "    for user in response.includes['users']:\n",
    "        user_dict[user.id] = {'followers': user.public_metrics['followers_count'],\n",
    "                              'tweets': user.public_metrics['tweet_count'],\n",
    "                             }\n",
    "    \n",
    "    place_dict = {p['id']: p for p in response.includes['places']}\n",
    "\n",
    "    for tweet in response.data:\n",
    "        # For each tweet, find the author's information\n",
    "        author_info = user_dict[tweet.author_id]\n",
    "        # Put all of the information we want to keep in a single dictionary for each tweet\n",
    "\n",
    "        try:\n",
    "            if place_dict[tweet.geo['place_id']]:\n",
    "                place = place_dict[tweet.geo['place_id']]   \n",
    "            else:\n",
    "                place = nan\n",
    "\n",
    "            result.append({'tweet_id': tweet.id,\n",
    "                       'author_id': tweet.author_id, \n",
    "                       'author_followers': author_info['followers'],\n",
    "                       'text': tweet.text,\n",
    "                       'created_at': tweet.created_at,\n",
    "                       'retweets': tweet.public_metrics['retweet_count'],\n",
    "                       'replies': tweet.public_metrics['reply_count'],\n",
    "                       'likes': tweet.public_metrics['like_count'],\n",
    "                       'quote_count': tweet.public_metrics['quote_count'],\n",
    "                       'place_id': tweet.geo,\n",
    "                       'place_name': place.full_name,\n",
    "                       'bbox': place.geo['bbox']\n",
    "\n",
    "                      })\n",
    "\n",
    "        except:\n",
    "            error_count = error_count + 1\n",
    "\n",
    "\n",
    "print(error_count, \" result(s) were excluded due to invalid data points.\")        \n",
    "\n",
    "# Change this list of dictionaries into a dataframe             \n",
    "df = pd.DataFrame(result)                "
   ]
  },
  {
   "cell_type": "code",
   "execution_count": null,
   "metadata": {},
   "outputs": [
    {
     "data": {
      "text/plain": [
       "(21686, 12)"
      ]
     },
     "execution_count": 97,
     "metadata": {},
     "output_type": "execute_result"
    }
   ],
   "source": [
    "# (number of tweets, number of attributes)\n",
    "df.shape"
   ]
  },
  {
   "cell_type": "markdown",
   "metadata": {},
   "source": [
    "Save data to csv"
   ]
  },
  {
   "cell_type": "code",
   "execution_count": null,
   "metadata": {},
   "outputs": [
    {
     "name": "stdout",
     "output_type": "stream",
     "text": [
      "<class 'pandas.core.frame.DataFrame'>\n",
      "RangeIndex: 21686 entries, 0 to 21685\n",
      "Data columns (total 12 columns):\n",
      " #   Column            Non-Null Count  Dtype              \n",
      "---  ------            --------------  -----              \n",
      " 0   tweet_id          21686 non-null  int64              \n",
      " 1   author_id         21686 non-null  int64              \n",
      " 2   author_followers  21686 non-null  int64              \n",
      " 3   text              21686 non-null  object             \n",
      " 4   created_at        21686 non-null  datetime64[ns, UTC]\n",
      " 5   retweets          21686 non-null  int64              \n",
      " 6   replies           21686 non-null  int64              \n",
      " 7   likes             21686 non-null  int64              \n",
      " 8   quote_count       21686 non-null  int64              \n",
      " 9   place_id          21686 non-null  object             \n",
      " 10  place_name        21686 non-null  object             \n",
      " 11  bbox              21686 non-null  object             \n",
      "dtypes: datetime64[ns, UTC](1), int64(7), object(4)\n",
      "memory usage: 2.0+ MB\n"
     ]
    }
   ],
   "source": [
    "df.info()"
   ]
  },
  {
   "cell_type": "code",
   "execution_count": null,
   "metadata": {},
   "outputs": [
    {
     "data": {
      "text/html": [
       "<div>\n",
       "<style scoped>\n",
       "    .dataframe tbody tr th:only-of-type {\n",
       "        vertical-align: middle;\n",
       "    }\n",
       "\n",
       "    .dataframe tbody tr th {\n",
       "        vertical-align: top;\n",
       "    }\n",
       "\n",
       "    .dataframe thead th {\n",
       "        text-align: right;\n",
       "    }\n",
       "</style>\n",
       "<table border=\"1\" class=\"dataframe\">\n",
       "  <thead>\n",
       "    <tr style=\"text-align: right;\">\n",
       "      <th></th>\n",
       "      <th>tweet_id</th>\n",
       "      <th>author_id</th>\n",
       "      <th>author_followers</th>\n",
       "      <th>text</th>\n",
       "      <th>created_at</th>\n",
       "      <th>retweets</th>\n",
       "      <th>replies</th>\n",
       "      <th>likes</th>\n",
       "      <th>quote_count</th>\n",
       "      <th>place_id</th>\n",
       "      <th>place_name</th>\n",
       "      <th>bbox</th>\n",
       "    </tr>\n",
       "  </thead>\n",
       "  <tbody>\n",
       "    <tr>\n",
       "      <th>0</th>\n",
       "      <td>1575571139358691329</td>\n",
       "      <td>1353804645580353537</td>\n",
       "      <td>1436</td>\n",
       "      <td>Go shota R1000 ya registration \\n\\nBlesser: +R...</td>\n",
       "      <td>2022-09-29 19:40:06+00:00</td>\n",
       "      <td>0</td>\n",
       "      <td>0</td>\n",
       "      <td>1</td>\n",
       "      <td>0</td>\n",
       "      <td>{'place_id': 'dd9c0d7d7e07eb49'}</td>\n",
       "      <td>South Africa</td>\n",
       "      <td>[16.4475932, -34.8342468, 32.8922934, -22.1247...</td>\n",
       "    </tr>\n",
       "    <tr>\n",
       "      <th>1</th>\n",
       "      <td>1575489974316584961</td>\n",
       "      <td>1258457287120818182</td>\n",
       "      <td>1326</td>\n",
       "      <td>Spx yesterday's rally\\nPoof gone https://t.co/...</td>\n",
       "      <td>2022-09-29 14:17:35+00:00</td>\n",
       "      <td>0</td>\n",
       "      <td>0</td>\n",
       "      <td>1</td>\n",
       "      <td>0</td>\n",
       "      <td>{'place_id': 'a02e6c261fa62b42'}</td>\n",
       "      <td>Benoni, South Africa</td>\n",
       "      <td>[28.2722463, -26.2315204, 28.4449594, -26.0681...</td>\n",
       "    </tr>\n",
       "  </tbody>\n",
       "</table>\n",
       "</div>"
      ],
      "text/plain": [
       "              tweet_id            author_id  author_followers  \\\n",
       "0  1575571139358691329  1353804645580353537              1436   \n",
       "1  1575489974316584961  1258457287120818182              1326   \n",
       "\n",
       "                                                text  \\\n",
       "0  Go shota R1000 ya registration \\n\\nBlesser: +R...   \n",
       "1  Spx yesterday's rally\\nPoof gone https://t.co/...   \n",
       "\n",
       "                 created_at  retweets  replies  likes  quote_count  \\\n",
       "0 2022-09-29 19:40:06+00:00         0        0      1            0   \n",
       "1 2022-09-29 14:17:35+00:00         0        0      1            0   \n",
       "\n",
       "                           place_id            place_name  \\\n",
       "0  {'place_id': 'dd9c0d7d7e07eb49'}          South Africa   \n",
       "1  {'place_id': 'a02e6c261fa62b42'}  Benoni, South Africa   \n",
       "\n",
       "                                                bbox  \n",
       "0  [16.4475932, -34.8342468, 32.8922934, -22.1247...  \n",
       "1  [28.2722463, -26.2315204, 28.4449594, -26.0681...  "
      ]
     },
     "execution_count": 99,
     "metadata": {},
     "output_type": "execute_result"
    }
   ],
   "source": [
    "df.head(2)"
   ]
  },
  {
   "cell_type": "code",
   "execution_count": null,
   "metadata": {},
   "outputs": [],
   "source": [
    "df.to_csv('CSV/Scrape_Tweets.csv')"
   ]
  }
 ],
 "metadata": {
  "kernelspec": {
   "display_name": "Python 3.10.4 64-bit",
   "language": "python",
   "name": "python3"
  },
  "language_info": {
   "codemirror_mode": {
    "name": "ipython",
    "version": 3
   },
   "file_extension": ".py",
   "mimetype": "text/x-python",
   "name": "python",
   "nbconvert_exporter": "python",
   "pygments_lexer": "ipython3",
   "version": "3.10.4"
  },
  "orig_nbformat": 4,
  "vscode": {
   "interpreter": {
    "hash": "eb1e2aa17c9c03522ea469ed025d74c8a00b3c7801d0496b408e209436a13f2e"
   }
  }
 },
 "nbformat": 4,
 "nbformat_minor": 2
}
