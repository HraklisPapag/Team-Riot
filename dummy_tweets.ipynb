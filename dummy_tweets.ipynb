{
 "cells": [
  {
   "cell_type": "markdown",
   "metadata": {},
   "source": [
    "# Dummy Tweet Scraping"
   ]
  },
  {
   "cell_type": "markdown",
   "metadata": {},
   "source": [
    "### Import Libraries"
   ]
  },
  {
   "cell_type": "code",
   "execution_count": 1,
   "metadata": {},
   "outputs": [],
   "source": [
    "from tweepy import Stream\n",
    "from tweepy import OAuthHandler\n",
    "#from tweepy.streaming import StreamListener\n",
    "import tweepy\n",
    "import json\n",
    "import pandas as pd\n",
    "import csv\n",
    "import string\n",
    "import time\n",
    "import datetime\n",
    "import numpy as np\n",
    "from cmath import nan"
   ]
  },
  {
   "cell_type": "markdown",
   "metadata": {},
   "source": [
    "### Account Authentification"
   ]
  },
  {
   "cell_type": "code",
   "execution_count": 2,
   "metadata": {},
   "outputs": [],
   "source": [
    "# Authenticating Twitter API\n",
    "# Obtain your Twitter credentials from your twitter developer account\n",
    "\n",
    "bearer_token = 'AAAAAAAAAAAAAAAAAAAAAEGchQEAAAAAZSYFv1nyLDV81YAKEfDr1fVrlho%3DWKBvyLhQ4CeHrlBRtecAetYkB1ZnAjI3Zydb1516fkIzKhS4vh'\n",
    "\n",
    "client = tweepy.Client(bearer_token, wait_on_rate_limit=True)"
   ]
  },
  {
   "cell_type": "markdown",
   "metadata": {},
   "source": [
    "### Search Criteria\n",
    "This is just an arbitary search criteria for Dummy results with the word protest in them"
   ]
  },
  {
   "cell_type": "code",
   "execution_count": 3,
   "metadata": {},
   "outputs": [],
   "source": [
    "#search_words = '(protest OR strike OR march OR rally OR #feesmustfall OR #zumamustfall) -is:retweet lang:en place_country:ZA'\n",
    "#search_words = 'protest -is:retweet lang:en place_country:ZA'\n",
    "search_words = '-is:retweet lang:en place_country:ZA'\n",
    "date_since = datetime.datetime(2022,9,23)\n",
    "date_before = datetime.datetime(2022,9,30)\n",
    "numTweets = 500"
   ]
  },
  {
   "cell_type": "markdown",
   "metadata": {},
   "source": [
    "Scrape Tweets"
   ]
  },
  {
   "cell_type": "code",
   "execution_count": 4,
   "metadata": {},
   "outputs": [],
   "source": [
    "# Scrape Tweets\n",
    "# Note for the final versions we should use -> until_id -> allos to resume scraping from a particualar tweet ID\n",
    "protest_tweets = []\n",
    "count = 0 \n",
    "for response in tweepy.Paginator(client.search_all_tweets, \n",
    "                                 query = search_words,\n",
    "                                 user_fields = ['public_metrics'],\n",
    "                                 tweet_fields = ['created_at', 'geo', 'public_metrics', 'text'],\n",
    "                                 place_fields = ['id', 'geo', 'name', 'country_code', 'place_type', 'full_name', 'country'],\n",
    "                                 expansions = ['author_id', 'geo.place_id'],\n",
    "                                 start_time = date_since,\n",
    "                                 end_time = date_before,\n",
    "                                 max_results=numTweets\n",
    "                              ):\n",
    "   time.sleep(1)\n",
    "   protest_tweets.append(response)"
   ]
  },
  {
   "cell_type": "markdown",
   "metadata": {},
   "source": [
    "Populate Dataframe with tweet data"
   ]
  },
  {
   "cell_type": "code",
   "execution_count": 5,
   "metadata": {},
   "outputs": [
    {
     "name": "stdout",
     "output_type": "stream",
     "text": [
      "0  result(s) were excluded due to invalid data points.\n"
     ]
    }
   ],
   "source": [
    "error_count = 0\n",
    "result = []\n",
    "user_dict = {}\n",
    "place_dict = {}\n",
    "# Loop through each response object\n",
    "for response in protest_tweets:\n",
    "    # Take all of the users, and put them into a dictionary of dictionaries with the info we want to keep\n",
    "    for user in response.includes['users']:\n",
    "        user_dict[user.id] = {'followers': user.public_metrics['followers_count'],\n",
    "                              'tweets': user.public_metrics['tweet_count'],\n",
    "                             }\n",
    "    \n",
    "    place_dict = {p['id']: p for p in response.includes['places']}\n",
    "\n",
    "    for tweet in response.data:\n",
    "        # For each tweet, find the author's information\n",
    "        author_info = user_dict[tweet.author_id]\n",
    "        # Put all of the information we want to keep in a single dictionary for each tweet\n",
    "\n",
    "        try:\n",
    "            if place_dict[tweet.geo['place_id']]:\n",
    "                place = place_dict[tweet.geo['place_id']]   \n",
    "            else:\n",
    "                place = nan\n",
    "\n",
    "            result.append({'tweet_id': tweet.id,\n",
    "                       'author_followers': author_info['followers'],\n",
    "                       'text': tweet.text,\n",
    "                       'created_at': tweet.created_at,\n",
    "                       'retweets': tweet.public_metrics['retweet_count'],\n",
    "                       'replies': tweet.public_metrics['reply_count'],\n",
    "                       'likes': tweet.public_metrics['like_count'],\n",
    "                       'quote_count': tweet.public_metrics['quote_count'],\n",
    "                       'place_id': tweet.geo,\n",
    "                       'place_name': place.full_name,\n",
    "                       'bbox': place.geo['bbox']\n",
    "\n",
    "                      })\n",
    "\n",
    "        except:\n",
    "            error_count = error_count + 1\n",
    "\n",
    "\n",
    "print(error_count, \" result(s) were excluded due to invalid data points.\")        \n",
    "\n",
    "# Change this list of dictionaries into a dataframe             \n",
    "df = pd.DataFrame(result)                "
   ]
  },
  {
   "cell_type": "code",
   "execution_count": 6,
   "metadata": {},
   "outputs": [
    {
     "data": {
      "text/plain": [
       "(128910, 12)"
      ]
     },
     "execution_count": 6,
     "metadata": {},
     "output_type": "execute_result"
    }
   ],
   "source": [
    "# (number of tweets, number of attributes)\n",
    "df.shape"
   ]
  },
  {
   "cell_type": "markdown",
   "metadata": {},
   "source": [
    "Save data to csv"
   ]
  },
  {
   "cell_type": "code",
   "execution_count": 7,
   "metadata": {},
   "outputs": [
    {
     "name": "stdout",
     "output_type": "stream",
     "text": [
      "<class 'pandas.core.frame.DataFrame'>\n",
      "RangeIndex: 128910 entries, 0 to 128909\n",
      "Data columns (total 12 columns):\n",
      " #   Column            Non-Null Count   Dtype              \n",
      "---  ------            --------------   -----              \n",
      " 0   tweet_id          128910 non-null  int64              \n",
      " 1   author_id         128910 non-null  int64              \n",
      " 2   author_followers  128910 non-null  int64              \n",
      " 3   text              128910 non-null  object             \n",
      " 4   created_at        128910 non-null  datetime64[ns, UTC]\n",
      " 5   retweets          128910 non-null  int64              \n",
      " 6   replies           128910 non-null  int64              \n",
      " 7   likes             128910 non-null  int64              \n",
      " 8   quote_count       128910 non-null  int64              \n",
      " 9   place_id          128910 non-null  object             \n",
      " 10  place_name        128910 non-null  object             \n",
      " 11  bbox              128910 non-null  object             \n",
      "dtypes: datetime64[ns, UTC](1), int64(7), object(4)\n",
      "memory usage: 11.8+ MB\n"
     ]
    }
   ],
   "source": [
    "df.info()"
   ]
  },
  {
   "cell_type": "code",
   "execution_count": 8,
   "metadata": {},
   "outputs": [
    {
     "data": {
      "text/html": [
       "<div>\n",
       "<style scoped>\n",
       "    .dataframe tbody tr th:only-of-type {\n",
       "        vertical-align: middle;\n",
       "    }\n",
       "\n",
       "    .dataframe tbody tr th {\n",
       "        vertical-align: top;\n",
       "    }\n",
       "\n",
       "    .dataframe thead th {\n",
       "        text-align: right;\n",
       "    }\n",
       "</style>\n",
       "<table border=\"1\" class=\"dataframe\">\n",
       "  <thead>\n",
       "    <tr style=\"text-align: right;\">\n",
       "      <th></th>\n",
       "      <th>tweet_id</th>\n",
       "      <th>author_id</th>\n",
       "      <th>author_followers</th>\n",
       "      <th>text</th>\n",
       "      <th>created_at</th>\n",
       "      <th>retweets</th>\n",
       "      <th>replies</th>\n",
       "      <th>likes</th>\n",
       "      <th>quote_count</th>\n",
       "      <th>place_id</th>\n",
       "      <th>place_name</th>\n",
       "      <th>bbox</th>\n",
       "    </tr>\n",
       "  </thead>\n",
       "  <tbody>\n",
       "    <tr>\n",
       "      <th>0</th>\n",
       "      <td>1575636537294737408</td>\n",
       "      <td>1005713558955610112</td>\n",
       "      <td>3276</td>\n",
       "      <td>@NduLindani Thank you I’ll go to the doctor ag...</td>\n",
       "      <td>2022-09-29 23:59:59+00:00</td>\n",
       "      <td>0</td>\n",
       "      <td>1</td>\n",
       "      <td>0</td>\n",
       "      <td>0</td>\n",
       "      <td>{'place_id': '9d7cae88ff6a29f5'}</td>\n",
       "      <td>Durban, South Africa</td>\n",
       "      <td>[30.8789097, -30.055938, 31.0662492, -29.7453336]</td>\n",
       "    </tr>\n",
       "    <tr>\n",
       "      <th>1</th>\n",
       "      <td>1575636504185274369</td>\n",
       "      <td>343624915</td>\n",
       "      <td>138</td>\n",
       "      <td>@RiebvJanbeeck @marcel__za Always good</td>\n",
       "      <td>2022-09-29 23:59:51+00:00</td>\n",
       "      <td>0</td>\n",
       "      <td>0</td>\n",
       "      <td>1</td>\n",
       "      <td>0</td>\n",
       "      <td>{'place_id': '46c1b1ab24d7e11a'}</td>\n",
       "      <td>Midrand, South Africa</td>\n",
       "      <td>[28.0140761, -26.0572574, 28.1930256, -25.9195...</td>\n",
       "    </tr>\n",
       "  </tbody>\n",
       "</table>\n",
       "</div>"
      ],
      "text/plain": [
       "              tweet_id            author_id  author_followers  \\\n",
       "0  1575636537294737408  1005713558955610112              3276   \n",
       "1  1575636504185274369            343624915               138   \n",
       "\n",
       "                                                text  \\\n",
       "0  @NduLindani Thank you I’ll go to the doctor ag...   \n",
       "1             @RiebvJanbeeck @marcel__za Always good   \n",
       "\n",
       "                 created_at  retweets  replies  likes  quote_count  \\\n",
       "0 2022-09-29 23:59:59+00:00         0        1      0            0   \n",
       "1 2022-09-29 23:59:51+00:00         0        0      1            0   \n",
       "\n",
       "                           place_id             place_name  \\\n",
       "0  {'place_id': '9d7cae88ff6a29f5'}   Durban, South Africa   \n",
       "1  {'place_id': '46c1b1ab24d7e11a'}  Midrand, South Africa   \n",
       "\n",
       "                                                bbox  \n",
       "0  [30.8789097, -30.055938, 31.0662492, -29.7453336]  \n",
       "1  [28.0140761, -26.0572574, 28.1930256, -25.9195...  "
      ]
     },
     "execution_count": 8,
     "metadata": {},
     "output_type": "execute_result"
    }
   ],
   "source": [
    "df.head(2)"
   ]
  },
  {
   "cell_type": "code",
   "execution_count": 9,
   "metadata": {},
   "outputs": [],
   "source": [
    "df.to_csv('CSV/Scrape_Tweets.csv')"
   ]
  }
 ],
 "metadata": {
  "kernelspec": {
   "display_name": "Python 3.10.4 64-bit",
   "language": "python",
   "name": "python3"
  },
  "language_info": {
   "codemirror_mode": {
    "name": "ipython",
    "version": 3
   },
   "file_extension": ".py",
   "mimetype": "text/x-python",
   "name": "python",
   "nbconvert_exporter": "python",
   "pygments_lexer": "ipython3",
   "version": "3.10.4"
  },
  "orig_nbformat": 4,
  "vscode": {
   "interpreter": {
    "hash": "eb1e2aa17c9c03522ea469ed025d74c8a00b3c7801d0496b408e209436a13f2e"
   }
  }
 },
 "nbformat": 4,
 "nbformat_minor": 2
}
