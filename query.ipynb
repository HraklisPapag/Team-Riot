{
 "cells": [
  {
   "cell_type": "markdown",
   "metadata": {},
   "source": [
    "# Extract Query from data"
   ]
  },
  {
   "cell_type": "code",
   "execution_count": 9,
   "metadata": {},
   "outputs": [],
   "source": [
    "import numpy as np\n",
    "import pandas as pd\n",
    "from cmath import nan"
   ]
  },
  {
   "cell_type": "code",
   "execution_count": 10,
   "metadata": {},
   "outputs": [],
   "source": [
    "query_df = pd.read_excel('DATA/Protest-Query.xlsx')"
   ]
  },
  {
   "cell_type": "code",
   "execution_count": 11,
   "metadata": {},
   "outputs": [
    {
     "data": {
      "text/html": [
       "<div>\n",
       "<style scoped>\n",
       "    .dataframe tbody tr th:only-of-type {\n",
       "        vertical-align: middle;\n",
       "    }\n",
       "\n",
       "    .dataframe tbody tr th {\n",
       "        vertical-align: top;\n",
       "    }\n",
       "\n",
       "    .dataframe thead th {\n",
       "        text-align: right;\n",
       "    }\n",
       "</style>\n",
       "<table border=\"1\" class=\"dataframe\">\n",
       "  <thead>\n",
       "    <tr style=\"text-align: right;\">\n",
       "      <th></th>\n",
       "      <th>University Key Words</th>\n",
       "      <th>List of Universities</th>\n",
       "      <th>Actions</th>\n",
       "      <th>Other</th>\n",
       "    </tr>\n",
       "  </thead>\n",
       "  <tbody>\n",
       "    <tr>\n",
       "      <th>0</th>\n",
       "      <td>accommodation</td>\n",
       "      <td>CUT</td>\n",
       "      <td>abuse</td>\n",
       "      <td>court</td>\n",
       "    </tr>\n",
       "    <tr>\n",
       "      <th>1</th>\n",
       "      <td>boarding%house</td>\n",
       "      <td>DUT</td>\n",
       "      <td>amandla</td>\n",
       "      <td>fee</td>\n",
       "    </tr>\n",
       "    <tr>\n",
       "      <th>2</th>\n",
       "      <td>campus</td>\n",
       "      <td>Maties</td>\n",
       "      <td>angry</td>\n",
       "      <td>free%education</td>\n",
       "    </tr>\n",
       "    <tr>\n",
       "      <th>3</th>\n",
       "      <td>education</td>\n",
       "      <td>NMMU</td>\n",
       "      <td>arrest</td>\n",
       "      <td>must%fall</td>\n",
       "    </tr>\n",
       "    <tr>\n",
       "      <th>4</th>\n",
       "      <td>hostel</td>\n",
       "      <td>NWU</td>\n",
       "      <td>barricad</td>\n",
       "      <td>mustfall</td>\n",
       "    </tr>\n",
       "  </tbody>\n",
       "</table>\n",
       "</div>"
      ],
      "text/plain": [
       "  University Key Words List of Universities   Actions           Other\n",
       "0        accommodation                  CUT     abuse           court\n",
       "1       boarding%house                  DUT   amandla             fee\n",
       "2               campus               Maties     angry  free%education\n",
       "3            education                 NMMU    arrest       must%fall\n",
       "4               hostel                  NWU  barricad        mustfall"
      ]
     },
     "execution_count": 11,
     "metadata": {},
     "output_type": "execute_result"
    }
   ],
   "source": [
    "query_df.head()"
   ]
  },
  {
   "cell_type": "code",
   "execution_count": 12,
   "metadata": {},
   "outputs": [],
   "source": [
    "def list_to_or(l):\n",
    "    out = ''\n",
    "    for index, word in enumerate(l):\n",
    "        if word == word:\n",
    "            out += word + ' OR '\n",
    "\n",
    "    out = out[:(len(out)-4)]\n",
    "    return out"
   ]
  },
  {
   "cell_type": "code",
   "execution_count": 13,
   "metadata": {},
   "outputs": [],
   "source": [
    "uni_kw= list(query_df['University Key Words'])\n",
    "uni_kw_string = list_to_or(uni_kw)\n",
    "\n",
    "unis= list(query_df['List of Universities'])\n",
    "unis_string = list_to_or(unis)\n",
    "\n",
    "actions= list(query_df['Actions'])\n",
    "actions_string = list_to_or(actions)\n",
    "\n",
    "other= list(query_df['Other'])\n",
    "other_string = list_to_or(other)"
   ]
  },
  {
   "cell_type": "code",
   "execution_count": 14,
   "metadata": {},
   "outputs": [],
   "source": [
    "query = ('((' + uni_kw_string + ' OR '\n",
    "            + unis_string + ') ('\n",
    "            + actions_string + ' OR '\n",
    "            + other_string + '))')"
   ]
  },
  {
   "cell_type": "code",
   "execution_count": 15,
   "metadata": {},
   "outputs": [],
   "source": [
    "query += ' -is:retweet lang:en place_country:ZA'"
   ]
  },
  {
   "cell_type": "code",
   "execution_count": 16,
   "metadata": {},
   "outputs": [
    {
     "name": "stdout",
     "output_type": "stream",
     "text": [
      "((accommodation OR boarding%house OR campus OR education OR hostel OR lecture OR res OR school OR Student OR teacher OR tech OR Universit OR varsit OR CUT OR DUT OR Maties OR NMMU OR NWU OR Potch OR Rhodes OR RU OR SMU OR Stellies OR SU OR Tuks OR TUT OR UCT OR UFH OR UFS OR UJ OR UKZN OR UNISA OR UP OR UWC OR VUT OR Wits OR WSU) (abuse OR amandla OR angry OR arrest OR barricad OR battle OR block OR bomb OR boycot OR burn OR chant OR clash OR crowd OR damage OR dance OR demand OR demonstrate OR demonstration OR disrupt OR gathering OR grenade OR gun OR march OR mass%meeting OR occupy OR picket OR protest OR rallies OR rally OR riot OR rubber%bulet OR SAPS OR security OR shut%down OR shutdown OR sing OR smash OR stoned OR stormed OR strike OR struggle OR tear%gas OR throw OR toyi OR unhappy OR vandal OR violence OR court OR fee OR free%education OR must%fall OR mustfall OR police OR registration OR SRC OR costs OR policy OR results OR permission OR NEHAWU )) -is:retweet lang:en place_country:ZA\n"
     ]
    }
   ],
   "source": [
    "print(query)"
   ]
  }
 ],
 "metadata": {
  "kernelspec": {
   "display_name": "Python 3.10.4 64-bit",
   "language": "python",
   "name": "python3"
  },
  "language_info": {
   "codemirror_mode": {
    "name": "ipython",
    "version": 3
   },
   "file_extension": ".py",
   "mimetype": "text/x-python",
   "name": "python",
   "nbconvert_exporter": "python",
   "pygments_lexer": "ipython3",
   "version": "3.10.4"
  },
  "orig_nbformat": 4,
  "vscode": {
   "interpreter": {
    "hash": "eb1e2aa17c9c03522ea469ed025d74c8a00b3c7801d0496b408e209436a13f2e"
   }
  }
 },
 "nbformat": 4,
 "nbformat_minor": 2
}
