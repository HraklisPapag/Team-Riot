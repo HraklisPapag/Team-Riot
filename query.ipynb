{
 "cells": [
  {
   "cell_type": "markdown",
   "metadata": {},
   "source": [
    "# Extract Query from data"
   ]
  },
  {
   "cell_type": "code",
   "execution_count": 11,
   "metadata": {},
   "outputs": [],
   "source": [
    "import numpy as np\n",
    "import pandas as pd\n",
    "from cmath import nan"
   ]
  },
  {
   "cell_type": "code",
   "execution_count": 12,
   "metadata": {},
   "outputs": [],
   "source": [
    "query_df = pd.read_excel('DATA/Protest-Query.xlsx')"
   ]
  },
  {
   "cell_type": "code",
   "execution_count": 13,
   "metadata": {},
   "outputs": [
    {
     "data": {
      "text/html": [
       "<div>\n",
       "<style scoped>\n",
       "    .dataframe tbody tr th:only-of-type {\n",
       "        vertical-align: middle;\n",
       "    }\n",
       "\n",
       "    .dataframe tbody tr th {\n",
       "        vertical-align: top;\n",
       "    }\n",
       "\n",
       "    .dataframe thead th {\n",
       "        text-align: right;\n",
       "    }\n",
       "</style>\n",
       "<table border=\"1\" class=\"dataframe\">\n",
       "  <thead>\n",
       "    <tr style=\"text-align: right;\">\n",
       "      <th></th>\n",
       "      <th>University Key Words</th>\n",
       "      <th>List of Universities</th>\n",
       "      <th>Actions</th>\n",
       "      <th>Other</th>\n",
       "    </tr>\n",
       "  </thead>\n",
       "  <tbody>\n",
       "    <tr>\n",
       "      <th>0</th>\n",
       "      <td>University</td>\n",
       "      <td>Wits</td>\n",
       "      <td>demonstration</td>\n",
       "      <td>fee</td>\n",
       "    </tr>\n",
       "    <tr>\n",
       "      <th>1</th>\n",
       "      <td>Universities</td>\n",
       "      <td>UJ</td>\n",
       "      <td>protest</td>\n",
       "      <td>must fall</td>\n",
       "    </tr>\n",
       "    <tr>\n",
       "      <th>2</th>\n",
       "      <td>Student</td>\n",
       "      <td>Tuks</td>\n",
       "      <td>riot</td>\n",
       "      <td>SRC</td>\n",
       "    </tr>\n",
       "    <tr>\n",
       "      <th>3</th>\n",
       "      <td>tech</td>\n",
       "      <td>UCT</td>\n",
       "      <td>strike</td>\n",
       "      <td>registration</td>\n",
       "    </tr>\n",
       "    <tr>\n",
       "      <th>4</th>\n",
       "      <td>school</td>\n",
       "      <td>UWC</td>\n",
       "      <td>march</td>\n",
       "      <td>free%education</td>\n",
       "    </tr>\n",
       "  </tbody>\n",
       "</table>\n",
       "</div>"
      ],
      "text/plain": [
       "  University Key Words List of Universities        Actions           Other\n",
       "0           University                 Wits  demonstration             fee\n",
       "1         Universities                   UJ        protest       must fall\n",
       "2              Student                 Tuks           riot             SRC\n",
       "3                 tech                  UCT         strike    registration\n",
       "4               school                  UWC          march  free%education"
      ]
     },
     "execution_count": 13,
     "metadata": {},
     "output_type": "execute_result"
    }
   ],
   "source": [
    "query_df.head()"
   ]
  },
  {
   "cell_type": "code",
   "execution_count": 14,
   "metadata": {},
   "outputs": [],
   "source": [
    "def list_to_or(l):\n",
    "    out = ''\n",
    "    for index, word in enumerate(l):\n",
    "        if word == word:\n",
    "            out += word + ' OR '\n",
    "\n",
    "    out = out[:(len(out)-4)]\n",
    "    return out"
   ]
  },
  {
   "cell_type": "code",
   "execution_count": 15,
   "metadata": {},
   "outputs": [
    {
     "name": "stdout",
     "output_type": "stream",
     "text": [
      "['A', 'B', 'C', 'D']\n"
     ]
    }
   ],
   "source": [
    "test = ['A', 'B', 'C', 'D']\n",
    "print(test)"
   ]
  },
  {
   "cell_type": "code",
   "execution_count": 16,
   "metadata": {},
   "outputs": [
    {
     "data": {
      "text/plain": [
       "'A OR B OR C OR D'"
      ]
     },
     "execution_count": 16,
     "metadata": {},
     "output_type": "execute_result"
    }
   ],
   "source": [
    "list_to_or(test)"
   ]
  },
  {
   "cell_type": "code",
   "execution_count": 17,
   "metadata": {},
   "outputs": [],
   "source": [
    "uni_kw= list(query_df['University Key Words'])\n",
    "uni_kw_string = list_to_or(uni_kw)\n",
    "\n",
    "unis= list(query_df['List of Universities'])\n",
    "unis_string = list_to_or(unis)\n",
    "\n",
    "actions= list(query_df['Actions'])\n",
    "actions_string = list_to_or(actions)\n",
    "\n",
    "other= list(query_df['Other'])\n",
    "other_string = list_to_or(other)"
   ]
  },
  {
   "cell_type": "code",
   "execution_count": 18,
   "metadata": {},
   "outputs": [],
   "source": [
    "query = ('((' + uni_kw_string + ' OR '\n",
    "            + unis_string + ') ('\n",
    "            + actions_string + ' OR '\n",
    "            + other_string + '))')"
   ]
  },
  {
   "cell_type": "code",
   "execution_count": 19,
   "metadata": {},
   "outputs": [],
   "source": [
    "query += ' -is:retweet lang:en place_country:ZA'"
   ]
  },
  {
   "cell_type": "code",
   "execution_count": 20,
   "metadata": {},
   "outputs": [
    {
     "name": "stdout",
     "output_type": "stream",
     "text": [
      "((University OR Universities OR Student OR tech OR school OR lecture OR res OR campus OR education OR teacher OR lecturer OR accommodation OR Wits OR UJ OR Tuks OR UCT OR UWC OR Rhodes OR Stellies OR Maties OR UNISA OR UKZN OR NWU OR UFS OR DUT OR NMMU OR CUT) (demonstration OR protest OR riot OR strike OR march OR rally OR rallies OR burning OR barricade OR vandal OR struggle OR shutdown OR boycot OR demonstrate OR disrupt OR occupy OR throw OR burn OR block OR damage OR picket OR gathering OR dance OR sing OR toyi OR chant OR amandla OR mass%meeting OR fee OR must fall OR SRC OR registration OR free%education)) -is:retweet lang:en place_country:ZA\n"
     ]
    }
   ],
   "source": [
    "print(query)"
   ]
  }
 ],
 "metadata": {
  "kernelspec": {
   "display_name": "Python 3.10.4 64-bit",
   "language": "python",
   "name": "python3"
  },
  "language_info": {
   "codemirror_mode": {
    "name": "ipython",
    "version": 3
   },
   "file_extension": ".py",
   "mimetype": "text/x-python",
   "name": "python",
   "nbconvert_exporter": "python",
   "pygments_lexer": "ipython3",
   "version": "3.10.4"
  },
  "orig_nbformat": 4,
  "vscode": {
   "interpreter": {
    "hash": "eb1e2aa17c9c03522ea469ed025d74c8a00b3c7801d0496b408e209436a13f2e"
   }
  }
 },
 "nbformat": 4,
 "nbformat_minor": 2
}
