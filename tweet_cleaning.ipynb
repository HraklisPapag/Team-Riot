{
 "cells": [
  {
   "cell_type": "markdown",
   "metadata": {},
   "source": [
    "# Tweet Cleaning"
   ]
  },
  {
   "cell_type": "markdown",
   "metadata": {},
   "source": [
    "### Import Libraries"
   ]
  },
  {
   "cell_type": "code",
   "execution_count": 1,
   "metadata": {},
   "outputs": [],
   "source": [
    "import numpy as np\n",
    "import pandas as pd\n",
    "import os\n",
    "\n",
    "# Word processing libraries\n",
    "import re\n",
    "from nltk.corpus import wordnet\n",
    "import string\n",
    "from nltk import pos_tag\n",
    "from nltk.corpus import stopwords\n",
    "from nltk.tokenize import WhitespaceTokenizer\n",
    "from nltk.stem import WordNetLemmatizer\n",
    "from shapely.geometry import LineString\n",
    "from geopandas import GeoDataFrame\n",
    "from shapely.geometry import Point, Polygon\n",
    "import folium\n",
    "\n",
    "#Nan\n",
    "from cmath import nan"
   ]
  },
  {
   "cell_type": "markdown",
   "metadata": {},
   "source": [
    "### Read Tweets from CSV - Provided by scraping"
   ]
  },
  {
   "cell_type": "code",
   "execution_count": 3,
   "metadata": {},
   "outputs": [],
   "source": [
    "tweets = pd.read_csv('DATA/Scrape Tweets.csv')"
   ]
  },
  {
   "cell_type": "code",
   "execution_count": 202,
   "metadata": {},
   "outputs": [
    {
     "data": {
      "text/plain": [
       "(61, 12)"
      ]
     },
     "execution_count": 202,
     "metadata": {},
     "output_type": "execute_result"
    }
   ],
   "source": [
    "tweets.shape"
   ]
  },
  {
   "cell_type": "code",
   "execution_count": 203,
   "metadata": {},
   "outputs": [
    {
     "data": {
      "text/html": [
       "<div>\n",
       "<style scoped>\n",
       "    .dataframe tbody tr th:only-of-type {\n",
       "        vertical-align: middle;\n",
       "    }\n",
       "\n",
       "    .dataframe tbody tr th {\n",
       "        vertical-align: top;\n",
       "    }\n",
       "\n",
       "    .dataframe thead th {\n",
       "        text-align: right;\n",
       "    }\n",
       "</style>\n",
       "<table border=\"1\" class=\"dataframe\">\n",
       "  <thead>\n",
       "    <tr style=\"text-align: right;\">\n",
       "      <th></th>\n",
       "      <th>tweet_id</th>\n",
       "      <th>author_followers</th>\n",
       "      <th>text</th>\n",
       "      <th>created_at</th>\n",
       "      <th>retweets</th>\n",
       "      <th>replies</th>\n",
       "      <th>likes</th>\n",
       "      <th>quote_count</th>\n",
       "      <th>place_id</th>\n",
       "      <th>place_name</th>\n",
       "      <th>bbox</th>\n",
       "    </tr>\n",
       "  </thead>\n",
       "  <tbody>\n",
       "    <tr>\n",
       "      <th>0</th>\n",
       "      <td>923322201125916672</td>\n",
       "      <td>1074</td>\n",
       "      <td>Idk if these niggas are singing struggle songs...</td>\n",
       "      <td>2017-10-25 22:55:41+00:00</td>\n",
       "      <td>0</td>\n",
       "      <td>0</td>\n",
       "      <td>0</td>\n",
       "      <td>0</td>\n",
       "      <td>{'place_id': 'e564d30dc173d2a8'}</td>\n",
       "      <td>Johannesburg, South Africa</td>\n",
       "      <td>[27.7518557, -26.5126489, 28.1843404, -26.0396...</td>\n",
       "    </tr>\n",
       "    <tr>\n",
       "      <th>1</th>\n",
       "      <td>923320610373107712</td>\n",
       "      <td>3938</td>\n",
       "      <td>@Pali_Matli So nawe stop associating Wits with...</td>\n",
       "      <td>2017-10-25 22:49:22+00:00</td>\n",
       "      <td>0</td>\n",
       "      <td>0</td>\n",
       "      <td>0</td>\n",
       "      <td>0</td>\n",
       "      <td>{'place_id': '810e12ec4af983de'}</td>\n",
       "      <td>Bloemfontein, South Africa</td>\n",
       "      <td>[26.0019056, -29.2319585, 26.4243136, -28.9812...</td>\n",
       "    </tr>\n",
       "    <tr>\n",
       "      <th>2</th>\n",
       "      <td>923287512633798656</td>\n",
       "      <td>60191</td>\n",
       "      <td>Please RT for Awareness.This kid deserves free...</td>\n",
       "      <td>2017-10-25 20:37:51+00:00</td>\n",
       "      <td>0</td>\n",
       "      <td>0</td>\n",
       "      <td>1</td>\n",
       "      <td>0</td>\n",
       "      <td>{'place_id': 'd3d46bdc072ad347'}</td>\n",
       "      <td>Vryburg, South Africa</td>\n",
       "      <td>[24.6565185, -27.0016931, 24.7703747, -26.894228]</td>\n",
       "    </tr>\n",
       "    <tr>\n",
       "      <th>3</th>\n",
       "      <td>923282795048460288</td>\n",
       "      <td>2322</td>\n",
       "      <td>No vision for what or where the institution is...</td>\n",
       "      <td>2017-10-25 20:19:06+00:00</td>\n",
       "      <td>0</td>\n",
       "      <td>1</td>\n",
       "      <td>1</td>\n",
       "      <td>0</td>\n",
       "      <td>{'place_id': '8b9ec16fdc0d7e55'}</td>\n",
       "      <td>Cape Town, South Africa</td>\n",
       "      <td>[18.3180332, -34.35839, 18.6600898, -33.8849254]</td>\n",
       "    </tr>\n",
       "    <tr>\n",
       "      <th>4</th>\n",
       "      <td>923243015740837893</td>\n",
       "      <td>796552</td>\n",
       "      <td>UCT students have disrupted some classes on th...</td>\n",
       "      <td>2017-10-25 17:41:02+00:00</td>\n",
       "      <td>1</td>\n",
       "      <td>0</td>\n",
       "      <td>3</td>\n",
       "      <td>0</td>\n",
       "      <td>{'place_id': 'e564d30dc173d2a8'}</td>\n",
       "      <td>Johannesburg, South Africa</td>\n",
       "      <td>[27.7518557, -26.5126489, 28.1843404, -26.0396...</td>\n",
       "    </tr>\n",
       "  </tbody>\n",
       "</table>\n",
       "</div>"
      ],
      "text/plain": [
       "             tweet_id  author_followers  \\\n",
       "0  923322201125916672              1074   \n",
       "1  923320610373107712              3938   \n",
       "2  923287512633798656             60191   \n",
       "3  923282795048460288              2322   \n",
       "4  923243015740837893            796552   \n",
       "\n",
       "                                                text  \\\n",
       "0  Idk if these niggas are singing struggle songs...   \n",
       "1  @Pali_Matli So nawe stop associating Wits with...   \n",
       "2  Please RT for Awareness.This kid deserves free...   \n",
       "3  No vision for what or where the institution is...   \n",
       "4  UCT students have disrupted some classes on th...   \n",
       "\n",
       "                  created_at  retweets  replies  likes  quote_count  \\\n",
       "0  2017-10-25 22:55:41+00:00         0        0      0            0   \n",
       "1  2017-10-25 22:49:22+00:00         0        0      0            0   \n",
       "2  2017-10-25 20:37:51+00:00         0        0      1            0   \n",
       "3  2017-10-25 20:19:06+00:00         0        1      1            0   \n",
       "4  2017-10-25 17:41:02+00:00         1        0      3            0   \n",
       "\n",
       "                           place_id                  place_name  \\\n",
       "0  {'place_id': 'e564d30dc173d2a8'}  Johannesburg, South Africa   \n",
       "1  {'place_id': '810e12ec4af983de'}  Bloemfontein, South Africa   \n",
       "2  {'place_id': 'd3d46bdc072ad347'}       Vryburg, South Africa   \n",
       "3  {'place_id': '8b9ec16fdc0d7e55'}     Cape Town, South Africa   \n",
       "4  {'place_id': 'e564d30dc173d2a8'}  Johannesburg, South Africa   \n",
       "\n",
       "                                                bbox  \n",
       "0  [27.7518557, -26.5126489, 28.1843404, -26.0396...  \n",
       "1  [26.0019056, -29.2319585, 26.4243136, -28.9812...  \n",
       "2  [24.6565185, -27.0016931, 24.7703747, -26.894228]  \n",
       "3   [18.3180332, -34.35839, 18.6600898, -33.8849254]  \n",
       "4  [27.7518557, -26.5126489, 28.1843404, -26.0396...  "
      ]
     },
     "execution_count": 203,
     "metadata": {},
     "output_type": "execute_result"
    }
   ],
   "source": [
    "tweets = tweets.drop(['Unnamed: 0'], axis=1)\n",
    "tweets.head()"
   ]
  },
  {
   "cell_type": "code",
   "execution_count": 204,
   "metadata": {},
   "outputs": [
    {
     "name": "stdout",
     "output_type": "stream",
     "text": [
      "<class 'pandas.core.frame.DataFrame'>\n",
      "RangeIndex: 61 entries, 0 to 60\n",
      "Data columns (total 11 columns):\n",
      " #   Column            Non-Null Count  Dtype \n",
      "---  ------            --------------  ----- \n",
      " 0   tweet_id          61 non-null     int64 \n",
      " 1   author_followers  61 non-null     int64 \n",
      " 2   text              61 non-null     object\n",
      " 3   created_at        61 non-null     object\n",
      " 4   retweets          61 non-null     int64 \n",
      " 5   replies           61 non-null     int64 \n",
      " 6   likes             61 non-null     int64 \n",
      " 7   quote_count       61 non-null     int64 \n",
      " 8   place_id          61 non-null     object\n",
      " 9   place_name        61 non-null     object\n",
      " 10  bbox              61 non-null     object\n",
      "dtypes: int64(6), object(5)\n",
      "memory usage: 5.4+ KB\n"
     ]
    }
   ],
   "source": [
    "tweets.info()"
   ]
  },
  {
   "cell_type": "markdown",
   "metadata": {},
   "source": [
    "### Remove Duplicates\n",
    "If entry is the same then drop it</br>\n",
    "There should't be duplicates"
   ]
  },
  {
   "cell_type": "code",
   "execution_count": 205,
   "metadata": {},
   "outputs": [
    {
     "name": "stdout",
     "output_type": "stream",
     "text": [
      "Initial size of dataset before dropping duplicated rows: (61, 11)\n",
      "Current size of dataset after dropping duplicated rows, if any, is: (61, 11)\n"
     ]
    }
   ],
   "source": [
    "print('Initial size of dataset before dropping duplicated rows:', tweets.shape)\n",
    "tweets.drop_duplicates(keep = False, inplace = True)\n",
    "\n",
    "print('Current size of dataset after dropping duplicated rows, if any, is:', tweets.shape)"
   ]
  },
  {
   "cell_type": "markdown",
   "metadata": {},
   "source": [
    "### Remove Empty Tweets\n",
    "If tweet content is empty/Nan then drop it"
   ]
  },
  {
   "cell_type": "code",
   "execution_count": 206,
   "metadata": {},
   "outputs": [],
   "source": [
    "tweets.dropna(subset = ['text'], inplace = True)"
   ]
  },
  {
   "cell_type": "code",
   "execution_count": 207,
   "metadata": {},
   "outputs": [
    {
     "data": {
      "text/plain": [
       "61"
      ]
     },
     "execution_count": 207,
     "metadata": {},
     "output_type": "execute_result"
    }
   ],
   "source": [
    "len(tweets)"
   ]
  },
  {
   "cell_type": "markdown",
   "metadata": {},
   "source": [
    "### Collect @Users in Text\n",
    "Identify all mentions of other users using @ </br>\n",
    "Create new feature containg all mentions (@s)</br>\n",
    "Remove all mentions from text - done in next section"
   ]
  },
  {
   "cell_type": "code",
   "execution_count": 208,
   "metadata": {},
   "outputs": [],
   "source": [
    "def mentioned_users(string):\n",
    "    usernames = re.findall('@[^\\s]+', string)\n",
    "    if usernames == []:\n",
    "        return nan\n",
    "    return usernames"
   ]
  },
  {
   "cell_type": "code",
   "execution_count": 209,
   "metadata": {},
   "outputs": [],
   "source": [
    "# tweets['mentioned_users'] = tweets['text'].apply(lambda x: mentioned_users(x))\n",
    "# tweets.head()"
   ]
  },
  {
   "cell_type": "markdown",
   "metadata": {},
   "source": [
    "### Collect #Hashtags in Text\n",
    "Identify all hashtags using # </br>\n",
    "Create new feature containg all hashtags (#s)</br>\n",
    "Remove all hashtags from text - done in next section"
   ]
  },
  {
   "cell_type": "code",
   "execution_count": 210,
   "metadata": {},
   "outputs": [],
   "source": [
    "def hashtags(string):\n",
    "    hashtags = re.findall('#[^\\s]+', string)\n",
    "    if hashtags == []:\n",
    "        return nan\n",
    "    return hashtags"
   ]
  },
  {
   "cell_type": "code",
   "execution_count": 211,
   "metadata": {},
   "outputs": [],
   "source": [
    "# tweets['hashtags'] = tweets['text'].apply(lambda x: hashtags(x))\n",
    "# tweets.head()"
   ]
  },
  {
   "cell_type": "markdown",
   "metadata": {},
   "source": [
    "### Collect Emojis in text\n",
    "Identify all emojis using unicode value</br>\n",
    "Create new feature containg all emojis</br>\n",
    "Remove all emojis from text - done in next section</br>\n",
    "Note: We could identify our own emojis that could be useful instead of all emojis and put them in a dictionary"
   ]
  },
  {
   "cell_type": "code",
   "execution_count": 212,
   "metadata": {},
   "outputs": [],
   "source": [
    "from cmath import nan\n",
    "import advertools as adv\n",
    "def extract_emojis(string):\n",
    "    list = [string]\n",
    "    emoji_dict = adv.extract_emoji(list)\n",
    "    emojis = emoji_dict['emoji'][0]\n",
    "    if(emojis == []):\n",
    "        return nan\n",
    "    return emojis"
   ]
  },
  {
   "cell_type": "code",
   "execution_count": 213,
   "metadata": {},
   "outputs": [],
   "source": [
    "# For if an error saying float can not be changed to lower is called!\n",
    "#tweets.text=tweets.text.astype(str)"
   ]
  },
  {
   "cell_type": "code",
   "execution_count": 214,
   "metadata": {},
   "outputs": [],
   "source": [
    "# tweets['emojis'] = tweets['text'].apply(lambda x: extract_emojis(x))\n",
    "# tweets.head()"
   ]
  },
  {
   "cell_type": "markdown",
   "metadata": {},
   "source": [
    "### Collect Links in text\n",
    "Identify all links using a URL</br>\n",
    "Create new feature containg all Links</br>\n",
    "Remove all links from text - done in next section</br>\n",
    "Maybe look into if 'www' syntax must also be used"
   ]
  },
  {
   "cell_type": "code",
   "execution_count": 215,
   "metadata": {},
   "outputs": [],
   "source": [
    "def find_urls(string):\n",
    "    try:\n",
    "        urls = re.search(\"(?P<url>https?://[^\\s]+)\", string).group(\"url\")\n",
    "    except:\n",
    "        return nan\n",
    "    return urls"
   ]
  },
  {
   "cell_type": "code",
   "execution_count": 216,
   "metadata": {},
   "outputs": [],
   "source": [
    "# tweets['urls'] = tweets['text'].apply(lambda x: find_urls(x))\n",
    "# tweets.head()"
   ]
  },
  {
   "cell_type": "code",
   "execution_count": 217,
   "metadata": {},
   "outputs": [
    {
     "name": "stdout",
     "output_type": "stream",
     "text": [
      "<class 'pandas.core.frame.DataFrame'>\n",
      "Int64Index: 61 entries, 0 to 60\n",
      "Data columns (total 11 columns):\n",
      " #   Column            Non-Null Count  Dtype \n",
      "---  ------            --------------  ----- \n",
      " 0   tweet_id          61 non-null     int64 \n",
      " 1   author_followers  61 non-null     int64 \n",
      " 2   text              61 non-null     object\n",
      " 3   created_at        61 non-null     object\n",
      " 4   retweets          61 non-null     int64 \n",
      " 5   replies           61 non-null     int64 \n",
      " 6   likes             61 non-null     int64 \n",
      " 7   quote_count       61 non-null     int64 \n",
      " 8   place_id          61 non-null     object\n",
      " 9   place_name        61 non-null     object\n",
      " 10  bbox              61 non-null     object\n",
      "dtypes: int64(6), object(5)\n",
      "memory usage: 5.7+ KB\n"
     ]
    }
   ],
   "source": [
    "tweets.info()"
   ]
  },
  {
   "cell_type": "markdown",
   "metadata": {},
   "source": [
    "### Remove Unwanted Information and Clean Tweet text\n",
    "To Clean Text:\n",
    "* Convert to Lowercase\n",
    "* Tokenise\n",
    "* Tag Text\n",
    "* Lemmatise Text\n",
    "\n",
    "This includes:\n",
    "* @mentions\n",
    "* URLs\n",
    "* Hashtags\n",
    "* Emojis\n",
    "* Punctuation\n",
    "* Numbers\n",
    "* Stop Words\n",
    "* Single Letter Words\n",
    "* Empty Tokens\n"
   ]
  },
  {
   "cell_type": "code",
   "execution_count": 218,
   "metadata": {},
   "outputs": [],
   "source": [
    "# Define Emoji_patterns\n",
    "emoji_pattern = re.compile(\"[\"\n",
    "         u\"\\U0001F600-\\U0001F64F\"  # emoticons\n",
    "         u\"\\U0001F300-\\U0001F5FF\"  # symbols & pictographs\n",
    "         u\"\\U0001F680-\\U0001F6FF\"  # transport & map symbols\n",
    "         u\"\\U0001F1E0-\\U0001F1FF\"  # flags (iOS)\n",
    "         u\"\\U00002702-\\U000027B0\"\n",
    "         u\"\\U000024C2-\\U0001F251\"\n",
    "         \"]+\", flags=re.UNICODE)"
   ]
  },
  {
   "cell_type": "code",
   "execution_count": 219,
   "metadata": {},
   "outputs": [],
   "source": [
    "# Define the function to implement POS tagging:\n",
    "def get_wordnet_pos(pos_tag):\n",
    "    if pos_tag.startswith('J'):\n",
    "        return wordnet.ADJ\n",
    "    elif pos_tag.startswith('V'):\n",
    "        return wordnet.VERB\n",
    "    elif pos_tag.startswith('N'):\n",
    "        return wordnet.NOUN\n",
    "    elif pos_tag.startswith('R'):\n",
    "        return wordnet.ADV\n",
    "    else:\n",
    "        return wordnet.NOUN\n",
    "\n",
    "\n",
    "# Define the main function to clean text in various ways:\n",
    "def clean_text(text):\n",
    "    \n",
    "    # Apply regex expressions first before converting string to list of tokens/words:\n",
    "    # 1. remove @usernames\n",
    "    text = re.sub('@[^\\s]+', '', text)\n",
    "    \n",
    "    # 2. remove URLs\n",
    "    text = re.sub('((www\\.[^\\s]+)|(https?://[^\\s]+))', '', text)\n",
    "    \n",
    "    # 3. remove hashtags entirely i.e. #hashtags\n",
    "    text = re.sub(r'#([^\\s]+)', '', text)\n",
    "    \n",
    "    # 4. remove emojis\n",
    "    text = emoji_pattern.sub(r'', text)\n",
    "    \n",
    "    # 5. Convert text to lowercase\n",
    "    text = text.lower()\n",
    "    \n",
    "    # 6. tokenize text and remove punctuation\n",
    "    text = [word.strip(string.punctuation) for word in text.split(\" \")]\n",
    "    \n",
    "    # 7. remove numbers\n",
    "    text = [word for word in text if not any(c.isdigit() for c in word)]\n",
    "    \n",
    "    # 8. remove stop words\n",
    "    stop = stopwords.words('english')\n",
    "    text = [x for x in text if x not in stop]\n",
    "    \n",
    "    # 9. remove empty tokens\n",
    "    text = [t for t in text if len(t) > 0]\n",
    "    \n",
    "    # 10. pos tag text and lemmatize text\n",
    "    pos_tags = pos_tag(text)\n",
    "    text = [WordNetLemmatizer().lemmatize(t[0], get_wordnet_pos(t[1])) for t in pos_tags]\n",
    "    \n",
    "    # 11. remove words with only one letter\n",
    "    text = [t for t in text if len(t) > 1]\n",
    "    \n",
    "    # join all\n",
    "    text = \" \".join(text)\n",
    "    \n",
    "    return(text)"
   ]
  },
  {
   "cell_type": "code",
   "execution_count": 220,
   "metadata": {},
   "outputs": [
    {
     "data": {
      "text/html": [
       "<div>\n",
       "<style scoped>\n",
       "    .dataframe tbody tr th:only-of-type {\n",
       "        vertical-align: middle;\n",
       "    }\n",
       "\n",
       "    .dataframe tbody tr th {\n",
       "        vertical-align: top;\n",
       "    }\n",
       "\n",
       "    .dataframe thead th {\n",
       "        text-align: right;\n",
       "    }\n",
       "</style>\n",
       "<table border=\"1\" class=\"dataframe\">\n",
       "  <thead>\n",
       "    <tr style=\"text-align: right;\">\n",
       "      <th></th>\n",
       "      <th>tweet_id</th>\n",
       "      <th>author_followers</th>\n",
       "      <th>text</th>\n",
       "      <th>created_at</th>\n",
       "      <th>retweets</th>\n",
       "      <th>replies</th>\n",
       "      <th>likes</th>\n",
       "      <th>quote_count</th>\n",
       "      <th>place_id</th>\n",
       "      <th>place_name</th>\n",
       "      <th>bbox</th>\n",
       "      <th>cleaned_text</th>\n",
       "    </tr>\n",
       "  </thead>\n",
       "  <tbody>\n",
       "    <tr>\n",
       "      <th>0</th>\n",
       "      <td>923322201125916672</td>\n",
       "      <td>1074</td>\n",
       "      <td>Idk if these niggas are singing struggle songs...</td>\n",
       "      <td>2017-10-25 22:55:41+00:00</td>\n",
       "      <td>0</td>\n",
       "      <td>0</td>\n",
       "      <td>0</td>\n",
       "      <td>0</td>\n",
       "      <td>{'place_id': 'e564d30dc173d2a8'}</td>\n",
       "      <td>Johannesburg, South Africa</td>\n",
       "      <td>[27.7518557, -26.5126489, 28.1843404, -26.0396...</td>\n",
       "      <td>idk nigga sing struggle song coz they’re drunk...</td>\n",
       "    </tr>\n",
       "    <tr>\n",
       "      <th>1</th>\n",
       "      <td>923320610373107712</td>\n",
       "      <td>3938</td>\n",
       "      <td>@Pali_Matli So nawe stop associating Wits with...</td>\n",
       "      <td>2017-10-25 22:49:22+00:00</td>\n",
       "      <td>0</td>\n",
       "      <td>0</td>\n",
       "      <td>0</td>\n",
       "      <td>0</td>\n",
       "      <td>{'place_id': '810e12ec4af983de'}</td>\n",
       "      <td>Bloemfontein, South Africa</td>\n",
       "      <td>[26.0019056, -29.2319585, 26.4243136, -28.9812...</td>\n",
       "      <td>nawe stop associate wit ufs,because also know ...</td>\n",
       "    </tr>\n",
       "    <tr>\n",
       "      <th>2</th>\n",
       "      <td>923287512633798656</td>\n",
       "      <td>60191</td>\n",
       "      <td>Please RT for Awareness.This kid deserves free...</td>\n",
       "      <td>2017-10-25 20:37:51+00:00</td>\n",
       "      <td>0</td>\n",
       "      <td>0</td>\n",
       "      <td>1</td>\n",
       "      <td>0</td>\n",
       "      <td>{'place_id': 'd3d46bdc072ad347'}</td>\n",
       "      <td>Vryburg, South Africa</td>\n",
       "      <td>[24.6565185, -27.0016931, 24.7703747, -26.894228]</td>\n",
       "      <td>please rt awareness.this kid deserve free educ...</td>\n",
       "    </tr>\n",
       "    <tr>\n",
       "      <th>3</th>\n",
       "      <td>923282795048460288</td>\n",
       "      <td>2322</td>\n",
       "      <td>No vision for what or where the institution is...</td>\n",
       "      <td>2017-10-25 20:19:06+00:00</td>\n",
       "      <td>0</td>\n",
       "      <td>1</td>\n",
       "      <td>1</td>\n",
       "      <td>0</td>\n",
       "      <td>{'place_id': '8b9ec16fdc0d7e55'}</td>\n",
       "      <td>Cape Town, South Africa</td>\n",
       "      <td>[18.3180332, -34.35839, 18.6600898, -33.8849254]</td>\n",
       "      <td>vision institution go struggle locate pulse uc...</td>\n",
       "    </tr>\n",
       "    <tr>\n",
       "      <th>4</th>\n",
       "      <td>923243015740837893</td>\n",
       "      <td>796552</td>\n",
       "      <td>UCT students have disrupted some classes on th...</td>\n",
       "      <td>2017-10-25 17:41:02+00:00</td>\n",
       "      <td>1</td>\n",
       "      <td>0</td>\n",
       "      <td>3</td>\n",
       "      <td>0</td>\n",
       "      <td>{'place_id': 'e564d30dc173d2a8'}</td>\n",
       "      <td>Johannesburg, South Africa</td>\n",
       "      <td>[27.7518557, -26.5126489, 28.1843404, -26.0396...</td>\n",
       "      <td>uct student disrupt class institution's main c...</td>\n",
       "    </tr>\n",
       "  </tbody>\n",
       "</table>\n",
       "</div>"
      ],
      "text/plain": [
       "             tweet_id  author_followers  \\\n",
       "0  923322201125916672              1074   \n",
       "1  923320610373107712              3938   \n",
       "2  923287512633798656             60191   \n",
       "3  923282795048460288              2322   \n",
       "4  923243015740837893            796552   \n",
       "\n",
       "                                                text  \\\n",
       "0  Idk if these niggas are singing struggle songs...   \n",
       "1  @Pali_Matli So nawe stop associating Wits with...   \n",
       "2  Please RT for Awareness.This kid deserves free...   \n",
       "3  No vision for what or where the institution is...   \n",
       "4  UCT students have disrupted some classes on th...   \n",
       "\n",
       "                  created_at  retweets  replies  likes  quote_count  \\\n",
       "0  2017-10-25 22:55:41+00:00         0        0      0            0   \n",
       "1  2017-10-25 22:49:22+00:00         0        0      0            0   \n",
       "2  2017-10-25 20:37:51+00:00         0        0      1            0   \n",
       "3  2017-10-25 20:19:06+00:00         0        1      1            0   \n",
       "4  2017-10-25 17:41:02+00:00         1        0      3            0   \n",
       "\n",
       "                           place_id                  place_name  \\\n",
       "0  {'place_id': 'e564d30dc173d2a8'}  Johannesburg, South Africa   \n",
       "1  {'place_id': '810e12ec4af983de'}  Bloemfontein, South Africa   \n",
       "2  {'place_id': 'd3d46bdc072ad347'}       Vryburg, South Africa   \n",
       "3  {'place_id': '8b9ec16fdc0d7e55'}     Cape Town, South Africa   \n",
       "4  {'place_id': 'e564d30dc173d2a8'}  Johannesburg, South Africa   \n",
       "\n",
       "                                                bbox  \\\n",
       "0  [27.7518557, -26.5126489, 28.1843404, -26.0396...   \n",
       "1  [26.0019056, -29.2319585, 26.4243136, -28.9812...   \n",
       "2  [24.6565185, -27.0016931, 24.7703747, -26.894228]   \n",
       "3   [18.3180332, -34.35839, 18.6600898, -33.8849254]   \n",
       "4  [27.7518557, -26.5126489, 28.1843404, -26.0396...   \n",
       "\n",
       "                                        cleaned_text  \n",
       "0  idk nigga sing struggle song coz they’re drunk...  \n",
       "1  nawe stop associate wit ufs,because also know ...  \n",
       "2  please rt awareness.this kid deserve free educ...  \n",
       "3  vision institution go struggle locate pulse uc...  \n",
       "4  uct student disrupt class institution's main c...  "
      ]
     },
     "execution_count": 220,
     "metadata": {},
     "output_type": "execute_result"
    }
   ],
   "source": [
    "# Apply function on the column 'text':\n",
    "tweets['cleaned_text'] = tweets['text'].apply(lambda x: clean_text(x))\n",
    "tweets.head()"
   ]
  },
  {
   "cell_type": "markdown",
   "metadata": {},
   "source": [
    "We can now remove the original tweet text because the cleaned text is all that is needed.\n",
    "Actually Keep for Content Analysis"
   ]
  },
  {
   "cell_type": "code",
   "execution_count": 221,
   "metadata": {},
   "outputs": [],
   "source": [
    "#tweets = tweets.drop('text', axis = 1)"
   ]
  },
  {
   "cell_type": "code",
   "execution_count": 222,
   "metadata": {},
   "outputs": [
    {
     "name": "stdout",
     "output_type": "stream",
     "text": [
      "<class 'pandas.core.frame.DataFrame'>\n",
      "Int64Index: 61 entries, 0 to 60\n",
      "Data columns (total 12 columns):\n",
      " #   Column            Non-Null Count  Dtype \n",
      "---  ------            --------------  ----- \n",
      " 0   tweet_id          61 non-null     int64 \n",
      " 1   author_followers  61 non-null     int64 \n",
      " 2   text              61 non-null     object\n",
      " 3   created_at        61 non-null     object\n",
      " 4   retweets          61 non-null     int64 \n",
      " 5   replies           61 non-null     int64 \n",
      " 6   likes             61 non-null     int64 \n",
      " 7   quote_count       61 non-null     int64 \n",
      " 8   place_id          61 non-null     object\n",
      " 9   place_name        61 non-null     object\n",
      " 10  bbox              61 non-null     object\n",
      " 11  cleaned_text      61 non-null     object\n",
      "dtypes: int64(6), object(6)\n",
      "memory usage: 6.2+ KB\n"
     ]
    }
   ],
   "source": [
    "tweets.info()"
   ]
  },
  {
   "cell_type": "markdown",
   "metadata": {},
   "source": [
    "### Convert Boundry Box to a set of coordinates of Latitude and Longitude\n",
    "There are a few ways of doing this\n",
    "* Take an average and find the middle of the Boundry Box\n",
    "* Indentify where the location is using another API based on place_name\n",
    "* Keep the location as a polygon and then place each user into a munucipality in hich the area is largest\n",
    "\n",
    "The way we will do it here is using centroid of the boundry box"
   ]
  },
  {
   "cell_type": "code",
   "execution_count": 225,
   "metadata": {},
   "outputs": [],
   "source": [
    "def bbox_to_coords(bbox):\n",
    "    all_coords = bbox.split()\n",
    "    coords = []\n",
    "    for coordinate in all_coords:\n",
    "        coordinate = coordinate.replace('[','')\n",
    "        coordinate = coordinate.replace(']','')\n",
    "        coordinate = coordinate.replace(',','')\n",
    "        coord = float(coordinate)\n",
    "        coords.append(coord)\n",
    "\n",
    "    return coords"
   ]
  },
  {
   "cell_type": "code",
   "execution_count": 226,
   "metadata": {},
   "outputs": [],
   "source": [
    "tweets['coords'] = tweets['bbox'].apply(lambda x: bbox_to_coords(x))"
   ]
  },
  {
   "cell_type": "code",
   "execution_count": 227,
   "metadata": {},
   "outputs": [],
   "source": [
    "tweets['longitude_1'] = tweets['coords'].apply(lambda x: x[0])\n",
    "tweets['latitude_1'] = tweets['coords'].apply(lambda x: x[1])\n",
    "tweets['longitude_2'] = tweets['coords'].apply(lambda x: x[2])\n",
    "tweets['latitude_2'] = tweets['coords'].apply(lambda x: x[3])"
   ]
  },
  {
   "cell_type": "code",
   "execution_count": 228,
   "metadata": {},
   "outputs": [
    {
     "data": {
      "text/html": [
       "<div>\n",
       "<style scoped>\n",
       "    .dataframe tbody tr th:only-of-type {\n",
       "        vertical-align: middle;\n",
       "    }\n",
       "\n",
       "    .dataframe tbody tr th {\n",
       "        vertical-align: top;\n",
       "    }\n",
       "\n",
       "    .dataframe thead th {\n",
       "        text-align: right;\n",
       "    }\n",
       "</style>\n",
       "<table border=\"1\" class=\"dataframe\">\n",
       "  <thead>\n",
       "    <tr style=\"text-align: right;\">\n",
       "      <th></th>\n",
       "      <th>Unnamed: 0</th>\n",
       "      <th>tweet_id</th>\n",
       "      <th>author_followers</th>\n",
       "      <th>text</th>\n",
       "      <th>created_at</th>\n",
       "      <th>retweets</th>\n",
       "      <th>replies</th>\n",
       "      <th>likes</th>\n",
       "      <th>quote_count</th>\n",
       "      <th>place_id</th>\n",
       "      <th>place_name</th>\n",
       "      <th>bbox</th>\n",
       "      <th>cleaned_text</th>\n",
       "      <th>coords</th>\n",
       "      <th>longitude_1</th>\n",
       "      <th>latitude_1</th>\n",
       "      <th>longitude_2</th>\n",
       "      <th>latitude_2</th>\n",
       "    </tr>\n",
       "  </thead>\n",
       "  <tbody>\n",
       "    <tr>\n",
       "      <th>0</th>\n",
       "      <td>0</td>\n",
       "      <td>923322201125916672</td>\n",
       "      <td>1074</td>\n",
       "      <td>Idk if these niggas are singing struggle songs...</td>\n",
       "      <td>2017-10-25 22:55:41+00:00</td>\n",
       "      <td>0</td>\n",
       "      <td>0</td>\n",
       "      <td>0</td>\n",
       "      <td>0</td>\n",
       "      <td>{'place_id': 'e564d30dc173d2a8'}</td>\n",
       "      <td>Johannesburg, South Africa</td>\n",
       "      <td>[27.7518557, -26.5126489, 28.1843404, -26.0396...</td>\n",
       "      <td>idk nigga sing struggle song coz they’re drunk...</td>\n",
       "      <td>[27.7518557, -26.5126489, 28.1843404, -26.0396...</td>\n",
       "      <td>27.751856</td>\n",
       "      <td>-26.512649</td>\n",
       "      <td>28.184340</td>\n",
       "      <td>-26.039628</td>\n",
       "    </tr>\n",
       "    <tr>\n",
       "      <th>1</th>\n",
       "      <td>1</td>\n",
       "      <td>923320610373107712</td>\n",
       "      <td>3938</td>\n",
       "      <td>@Pali_Matli So nawe stop associating Wits with...</td>\n",
       "      <td>2017-10-25 22:49:22+00:00</td>\n",
       "      <td>0</td>\n",
       "      <td>0</td>\n",
       "      <td>0</td>\n",
       "      <td>0</td>\n",
       "      <td>{'place_id': '810e12ec4af983de'}</td>\n",
       "      <td>Bloemfontein, South Africa</td>\n",
       "      <td>[26.0019056, -29.2319585, 26.4243136, -28.9812...</td>\n",
       "      <td>nawe stop associate wit ufs,because also know ...</td>\n",
       "      <td>[26.0019056, -29.2319585, 26.4243136, -28.9812...</td>\n",
       "      <td>26.001906</td>\n",
       "      <td>-29.231959</td>\n",
       "      <td>26.424314</td>\n",
       "      <td>-28.981218</td>\n",
       "    </tr>\n",
       "    <tr>\n",
       "      <th>2</th>\n",
       "      <td>2</td>\n",
       "      <td>923287512633798656</td>\n",
       "      <td>60191</td>\n",
       "      <td>Please RT for Awareness.This kid deserves free...</td>\n",
       "      <td>2017-10-25 20:37:51+00:00</td>\n",
       "      <td>0</td>\n",
       "      <td>0</td>\n",
       "      <td>1</td>\n",
       "      <td>0</td>\n",
       "      <td>{'place_id': 'd3d46bdc072ad347'}</td>\n",
       "      <td>Vryburg, South Africa</td>\n",
       "      <td>[24.6565185, -27.0016931, 24.7703747, -26.894228]</td>\n",
       "      <td>please rt awareness.this kid deserve free educ...</td>\n",
       "      <td>[24.6565185, -27.0016931, 24.7703747, -26.894228]</td>\n",
       "      <td>24.656519</td>\n",
       "      <td>-27.001693</td>\n",
       "      <td>24.770375</td>\n",
       "      <td>-26.894228</td>\n",
       "    </tr>\n",
       "  </tbody>\n",
       "</table>\n",
       "</div>"
      ],
      "text/plain": [
       "   Unnamed: 0            tweet_id  author_followers  \\\n",
       "0           0  923322201125916672              1074   \n",
       "1           1  923320610373107712              3938   \n",
       "2           2  923287512633798656             60191   \n",
       "\n",
       "                                                text  \\\n",
       "0  Idk if these niggas are singing struggle songs...   \n",
       "1  @Pali_Matli So nawe stop associating Wits with...   \n",
       "2  Please RT for Awareness.This kid deserves free...   \n",
       "\n",
       "                  created_at  retweets  replies  likes  quote_count  \\\n",
       "0  2017-10-25 22:55:41+00:00         0        0      0            0   \n",
       "1  2017-10-25 22:49:22+00:00         0        0      0            0   \n",
       "2  2017-10-25 20:37:51+00:00         0        0      1            0   \n",
       "\n",
       "                           place_id                  place_name  \\\n",
       "0  {'place_id': 'e564d30dc173d2a8'}  Johannesburg, South Africa   \n",
       "1  {'place_id': '810e12ec4af983de'}  Bloemfontein, South Africa   \n",
       "2  {'place_id': 'd3d46bdc072ad347'}       Vryburg, South Africa   \n",
       "\n",
       "                                                bbox  \\\n",
       "0  [27.7518557, -26.5126489, 28.1843404, -26.0396...   \n",
       "1  [26.0019056, -29.2319585, 26.4243136, -28.9812...   \n",
       "2  [24.6565185, -27.0016931, 24.7703747, -26.894228]   \n",
       "\n",
       "                                        cleaned_text  \\\n",
       "0  idk nigga sing struggle song coz they’re drunk...   \n",
       "1  nawe stop associate wit ufs,because also know ...   \n",
       "2  please rt awareness.this kid deserve free educ...   \n",
       "\n",
       "                                              coords  longitude_1  latitude_1  \\\n",
       "0  [27.7518557, -26.5126489, 28.1843404, -26.0396...    27.751856  -26.512649   \n",
       "1  [26.0019056, -29.2319585, 26.4243136, -28.9812...    26.001906  -29.231959   \n",
       "2  [24.6565185, -27.0016931, 24.7703747, -26.894228]    24.656519  -27.001693   \n",
       "\n",
       "   longitude_2  latitude_2  \n",
       "0    28.184340  -26.039628  \n",
       "1    26.424314  -28.981218  \n",
       "2    24.770375  -26.894228  "
      ]
     },
     "execution_count": 228,
     "metadata": {},
     "output_type": "execute_result"
    }
   ],
   "source": [
    "tweets.head(3)"
   ]
  },
  {
   "cell_type": "code",
   "execution_count": 229,
   "metadata": {},
   "outputs": [],
   "source": [
    "tweets = tweets.drop('bbox', axis=1)"
   ]
  },
  {
   "cell_type": "code",
   "execution_count": 230,
   "metadata": {},
   "outputs": [],
   "source": [
    "def find_centroid(coords):\n",
    "    geometry = LineString([(coords[0], coords[1]),(coords[2], coords[3])])\n",
    "    centroid = geometry.centroid\n",
    "    return centroid"
   ]
  },
  {
   "cell_type": "code",
   "execution_count": 231,
   "metadata": {},
   "outputs": [],
   "source": [
    "tweets['centroid'] = tweets['coords'].apply(lambda x: find_centroid(x))"
   ]
  },
  {
   "cell_type": "code",
   "execution_count": 232,
   "metadata": {},
   "outputs": [],
   "source": [
    "tweets['centroid_long'] = tweets['centroid'].apply(lambda z: z.x)\n",
    "tweets['centroid_lat'] = tweets['centroid'].apply(lambda z: z.y)"
   ]
  },
  {
   "cell_type": "code",
   "execution_count": 233,
   "metadata": {},
   "outputs": [
    {
     "data": {
      "text/html": [
       "<div>\n",
       "<style scoped>\n",
       "    .dataframe tbody tr th:only-of-type {\n",
       "        vertical-align: middle;\n",
       "    }\n",
       "\n",
       "    .dataframe tbody tr th {\n",
       "        vertical-align: top;\n",
       "    }\n",
       "\n",
       "    .dataframe thead th {\n",
       "        text-align: right;\n",
       "    }\n",
       "</style>\n",
       "<table border=\"1\" class=\"dataframe\">\n",
       "  <thead>\n",
       "    <tr style=\"text-align: right;\">\n",
       "      <th></th>\n",
       "      <th>Unnamed: 0</th>\n",
       "      <th>tweet_id</th>\n",
       "      <th>author_followers</th>\n",
       "      <th>text</th>\n",
       "      <th>created_at</th>\n",
       "      <th>retweets</th>\n",
       "      <th>replies</th>\n",
       "      <th>likes</th>\n",
       "      <th>quote_count</th>\n",
       "      <th>place_id</th>\n",
       "      <th>place_name</th>\n",
       "      <th>cleaned_text</th>\n",
       "      <th>coords</th>\n",
       "      <th>longitude_1</th>\n",
       "      <th>latitude_1</th>\n",
       "      <th>longitude_2</th>\n",
       "      <th>latitude_2</th>\n",
       "      <th>centroid_long</th>\n",
       "      <th>centroid_lat</th>\n",
       "    </tr>\n",
       "  </thead>\n",
       "  <tbody>\n",
       "    <tr>\n",
       "      <th>0</th>\n",
       "      <td>0</td>\n",
       "      <td>923322201125916672</td>\n",
       "      <td>1074</td>\n",
       "      <td>Idk if these niggas are singing struggle songs...</td>\n",
       "      <td>2017-10-25 22:55:41+00:00</td>\n",
       "      <td>0</td>\n",
       "      <td>0</td>\n",
       "      <td>0</td>\n",
       "      <td>0</td>\n",
       "      <td>{'place_id': 'e564d30dc173d2a8'}</td>\n",
       "      <td>Johannesburg, South Africa</td>\n",
       "      <td>idk nigga sing struggle song coz they’re drunk...</td>\n",
       "      <td>[27.7518557, -26.5126489, 28.1843404, -26.0396...</td>\n",
       "      <td>27.751856</td>\n",
       "      <td>-26.512649</td>\n",
       "      <td>28.184340</td>\n",
       "      <td>-26.039628</td>\n",
       "      <td>27.968098</td>\n",
       "      <td>-26.276139</td>\n",
       "    </tr>\n",
       "    <tr>\n",
       "      <th>1</th>\n",
       "      <td>1</td>\n",
       "      <td>923320610373107712</td>\n",
       "      <td>3938</td>\n",
       "      <td>@Pali_Matli So nawe stop associating Wits with...</td>\n",
       "      <td>2017-10-25 22:49:22+00:00</td>\n",
       "      <td>0</td>\n",
       "      <td>0</td>\n",
       "      <td>0</td>\n",
       "      <td>0</td>\n",
       "      <td>{'place_id': '810e12ec4af983de'}</td>\n",
       "      <td>Bloemfontein, South Africa</td>\n",
       "      <td>nawe stop associate wit ufs,because also know ...</td>\n",
       "      <td>[26.0019056, -29.2319585, 26.4243136, -28.9812...</td>\n",
       "      <td>26.001906</td>\n",
       "      <td>-29.231959</td>\n",
       "      <td>26.424314</td>\n",
       "      <td>-28.981218</td>\n",
       "      <td>26.213110</td>\n",
       "      <td>-29.106588</td>\n",
       "    </tr>\n",
       "    <tr>\n",
       "      <th>2</th>\n",
       "      <td>2</td>\n",
       "      <td>923287512633798656</td>\n",
       "      <td>60191</td>\n",
       "      <td>Please RT for Awareness.This kid deserves free...</td>\n",
       "      <td>2017-10-25 20:37:51+00:00</td>\n",
       "      <td>0</td>\n",
       "      <td>0</td>\n",
       "      <td>1</td>\n",
       "      <td>0</td>\n",
       "      <td>{'place_id': 'd3d46bdc072ad347'}</td>\n",
       "      <td>Vryburg, South Africa</td>\n",
       "      <td>please rt awareness.this kid deserve free educ...</td>\n",
       "      <td>[24.6565185, -27.0016931, 24.7703747, -26.894228]</td>\n",
       "      <td>24.656519</td>\n",
       "      <td>-27.001693</td>\n",
       "      <td>24.770375</td>\n",
       "      <td>-26.894228</td>\n",
       "      <td>24.713447</td>\n",
       "      <td>-26.947961</td>\n",
       "    </tr>\n",
       "  </tbody>\n",
       "</table>\n",
       "</div>"
      ],
      "text/plain": [
       "   Unnamed: 0            tweet_id  author_followers  \\\n",
       "0           0  923322201125916672              1074   \n",
       "1           1  923320610373107712              3938   \n",
       "2           2  923287512633798656             60191   \n",
       "\n",
       "                                                text  \\\n",
       "0  Idk if these niggas are singing struggle songs...   \n",
       "1  @Pali_Matli So nawe stop associating Wits with...   \n",
       "2  Please RT for Awareness.This kid deserves free...   \n",
       "\n",
       "                  created_at  retweets  replies  likes  quote_count  \\\n",
       "0  2017-10-25 22:55:41+00:00         0        0      0            0   \n",
       "1  2017-10-25 22:49:22+00:00         0        0      0            0   \n",
       "2  2017-10-25 20:37:51+00:00         0        0      1            0   \n",
       "\n",
       "                           place_id                  place_name  \\\n",
       "0  {'place_id': 'e564d30dc173d2a8'}  Johannesburg, South Africa   \n",
       "1  {'place_id': '810e12ec4af983de'}  Bloemfontein, South Africa   \n",
       "2  {'place_id': 'd3d46bdc072ad347'}       Vryburg, South Africa   \n",
       "\n",
       "                                        cleaned_text  \\\n",
       "0  idk nigga sing struggle song coz they’re drunk...   \n",
       "1  nawe stop associate wit ufs,because also know ...   \n",
       "2  please rt awareness.this kid deserve free educ...   \n",
       "\n",
       "                                              coords  longitude_1  latitude_1  \\\n",
       "0  [27.7518557, -26.5126489, 28.1843404, -26.0396...    27.751856  -26.512649   \n",
       "1  [26.0019056, -29.2319585, 26.4243136, -28.9812...    26.001906  -29.231959   \n",
       "2  [24.6565185, -27.0016931, 24.7703747, -26.894228]    24.656519  -27.001693   \n",
       "\n",
       "   longitude_2  latitude_2  centroid_long  centroid_lat  \n",
       "0    28.184340  -26.039628      27.968098    -26.276139  \n",
       "1    26.424314  -28.981218      26.213110    -29.106588  \n",
       "2    24.770375  -26.894228      24.713447    -26.947961  "
      ]
     },
     "execution_count": 233,
     "metadata": {},
     "output_type": "execute_result"
    }
   ],
   "source": [
    "tweets = tweets.drop('centroid', axis =1)\n",
    "tweets.head(3)"
   ]
  },
  {
   "cell_type": "markdown",
   "metadata": {},
   "source": [
    "### Fix Edge Cases\n",
    "* Cape Town\n",
    "* Betty's Bay\n",
    "* Bloubergstrand\n",
    "* Mdumbi Beach \n",
    "</br>\n",
    "Using: https://www.distancesto.com/coordinates/za/bloubergstrand-latitude-longitude/history/76385.html"
   ]
  },
  {
   "cell_type": "code",
   "execution_count": 234,
   "metadata": {},
   "outputs": [],
   "source": [
    "tweets.loc[tweets.place_name == 'Cape Town, South Africa', ['centroid_long', 'centroid_lat']] = 18.4241, -33.9249\n",
    "tweets.loc[tweets.place_name == 'Mdumbi Beach', ['centroid_long', 'centroid_lat']] = 29.215369, -31.933896\n",
    "tweets.loc[tweets.place_name == \"Betty's Bay, South Africa\", ['centroid_long', 'centroid_lat']] = 18.92051, -34.34747\n",
    "tweets.loc[tweets.place_name == 'Bloubergstrand', ['centroid_long', 'centroid_lat']] = 18.46173, -33.800418"
   ]
  },
  {
   "cell_type": "code",
   "execution_count": 235,
   "metadata": {},
   "outputs": [],
   "source": [
    "geometry = [Point(xy) for xy in zip(tweets['centroid_long'], tweets['centroid_lat'])]\n",
    "gdf = GeoDataFrame(tweets, geometry=geometry)  "
   ]
  },
  {
   "cell_type": "code",
   "execution_count": 236,
   "metadata": {},
   "outputs": [
    {
     "data": {
      "text/html": [
       "<div>\n",
       "<style scoped>\n",
       "    .dataframe tbody tr th:only-of-type {\n",
       "        vertical-align: middle;\n",
       "    }\n",
       "\n",
       "    .dataframe tbody tr th {\n",
       "        vertical-align: top;\n",
       "    }\n",
       "\n",
       "    .dataframe thead th {\n",
       "        text-align: right;\n",
       "    }\n",
       "</style>\n",
       "<table border=\"1\" class=\"dataframe\">\n",
       "  <thead>\n",
       "    <tr style=\"text-align: right;\">\n",
       "      <th></th>\n",
       "      <th>Unnamed: 0</th>\n",
       "      <th>tweet_id</th>\n",
       "      <th>author_followers</th>\n",
       "      <th>text</th>\n",
       "      <th>created_at</th>\n",
       "      <th>retweets</th>\n",
       "      <th>replies</th>\n",
       "      <th>likes</th>\n",
       "      <th>quote_count</th>\n",
       "      <th>place_id</th>\n",
       "      <th>place_name</th>\n",
       "      <th>cleaned_text</th>\n",
       "      <th>coords</th>\n",
       "      <th>geometry</th>\n",
       "    </tr>\n",
       "  </thead>\n",
       "  <tbody>\n",
       "    <tr>\n",
       "      <th>0</th>\n",
       "      <td>0</td>\n",
       "      <td>923322201125916672</td>\n",
       "      <td>1074</td>\n",
       "      <td>Idk if these niggas are singing struggle songs...</td>\n",
       "      <td>2017-10-25 22:55:41+00:00</td>\n",
       "      <td>0</td>\n",
       "      <td>0</td>\n",
       "      <td>0</td>\n",
       "      <td>0</td>\n",
       "      <td>{'place_id': 'e564d30dc173d2a8'}</td>\n",
       "      <td>Johannesburg, South Africa</td>\n",
       "      <td>idk nigga sing struggle song coz they’re drunk...</td>\n",
       "      <td>[27.7518557, -26.5126489, 28.1843404, -26.0396...</td>\n",
       "      <td>POINT (27.96810 -26.27614)</td>\n",
       "    </tr>\n",
       "    <tr>\n",
       "      <th>1</th>\n",
       "      <td>1</td>\n",
       "      <td>923320610373107712</td>\n",
       "      <td>3938</td>\n",
       "      <td>@Pali_Matli So nawe stop associating Wits with...</td>\n",
       "      <td>2017-10-25 22:49:22+00:00</td>\n",
       "      <td>0</td>\n",
       "      <td>0</td>\n",
       "      <td>0</td>\n",
       "      <td>0</td>\n",
       "      <td>{'place_id': '810e12ec4af983de'}</td>\n",
       "      <td>Bloemfontein, South Africa</td>\n",
       "      <td>nawe stop associate wit ufs,because also know ...</td>\n",
       "      <td>[26.0019056, -29.2319585, 26.4243136, -28.9812...</td>\n",
       "      <td>POINT (26.21311 -29.10659)</td>\n",
       "    </tr>\n",
       "  </tbody>\n",
       "</table>\n",
       "</div>"
      ],
      "text/plain": [
       "   Unnamed: 0            tweet_id  author_followers  \\\n",
       "0           0  923322201125916672              1074   \n",
       "1           1  923320610373107712              3938   \n",
       "\n",
       "                                                text  \\\n",
       "0  Idk if these niggas are singing struggle songs...   \n",
       "1  @Pali_Matli So nawe stop associating Wits with...   \n",
       "\n",
       "                  created_at  retweets  replies  likes  quote_count  \\\n",
       "0  2017-10-25 22:55:41+00:00         0        0      0            0   \n",
       "1  2017-10-25 22:49:22+00:00         0        0      0            0   \n",
       "\n",
       "                           place_id                  place_name  \\\n",
       "0  {'place_id': 'e564d30dc173d2a8'}  Johannesburg, South Africa   \n",
       "1  {'place_id': '810e12ec4af983de'}  Bloemfontein, South Africa   \n",
       "\n",
       "                                        cleaned_text  \\\n",
       "0  idk nigga sing struggle song coz they’re drunk...   \n",
       "1  nawe stop associate wit ufs,because also know ...   \n",
       "\n",
       "                                              coords  \\\n",
       "0  [27.7518557, -26.5126489, 28.1843404, -26.0396...   \n",
       "1  [26.0019056, -29.2319585, 26.4243136, -28.9812...   \n",
       "\n",
       "                     geometry  \n",
       "0  POINT (27.96810 -26.27614)  \n",
       "1  POINT (26.21311 -29.10659)  "
      ]
     },
     "execution_count": 236,
     "metadata": {},
     "output_type": "execute_result"
    }
   ],
   "source": [
    "tweets = tweets.drop('longitude_1', axis=1)\n",
    "tweets = tweets.drop('longitude_2', axis=1)\n",
    "tweets = tweets.drop('latitude_1', axis=1)\n",
    "tweets = tweets.drop('latitude_2', axis=1)\n",
    "tweets = tweets.drop('centroid_long', axis=1)\n",
    "tweets = tweets.drop('centroid_lat', axis=1)\n",
    "tweets.head(2)"
   ]
  },
  {
   "cell_type": "markdown",
   "metadata": {},
   "source": [
    "### Remove Useless locations\n",
    "Drop row where location is = South Africa, since this location is not specfic enough and offers little value."
   ]
  },
  {
   "cell_type": "code",
   "execution_count": 237,
   "metadata": {},
   "outputs": [
    {
     "data": {
      "text/plain": [
       "(61, 14)"
      ]
     },
     "execution_count": 237,
     "metadata": {},
     "output_type": "execute_result"
    }
   ],
   "source": [
    "tweets.shape"
   ]
  },
  {
   "cell_type": "code",
   "execution_count": 238,
   "metadata": {},
   "outputs": [],
   "source": [
    "tweets = tweets[tweets['place_name'] != 'South Africa']"
   ]
  },
  {
   "cell_type": "code",
   "execution_count": 239,
   "metadata": {},
   "outputs": [
    {
     "data": {
      "text/plain": [
       "(61, 14)"
      ]
     },
     "execution_count": 239,
     "metadata": {},
     "output_type": "execute_result"
    }
   ],
   "source": [
    "tweets.shape"
   ]
  },
  {
   "cell_type": "code",
   "execution_count": 240,
   "metadata": {},
   "outputs": [
    {
     "data": {
      "text/html": [
       "<div>\n",
       "<style scoped>\n",
       "    .dataframe tbody tr th:only-of-type {\n",
       "        vertical-align: middle;\n",
       "    }\n",
       "\n",
       "    .dataframe tbody tr th {\n",
       "        vertical-align: top;\n",
       "    }\n",
       "\n",
       "    .dataframe thead th {\n",
       "        text-align: right;\n",
       "    }\n",
       "</style>\n",
       "<table border=\"1\" class=\"dataframe\">\n",
       "  <thead>\n",
       "    <tr style=\"text-align: right;\">\n",
       "      <th></th>\n",
       "      <th>Unnamed: 0</th>\n",
       "      <th>tweet_id</th>\n",
       "      <th>author_followers</th>\n",
       "      <th>text</th>\n",
       "      <th>created_at</th>\n",
       "      <th>retweets</th>\n",
       "      <th>replies</th>\n",
       "      <th>likes</th>\n",
       "      <th>quote_count</th>\n",
       "      <th>place_id</th>\n",
       "      <th>place_name</th>\n",
       "      <th>cleaned_text</th>\n",
       "      <th>coords</th>\n",
       "      <th>geometry</th>\n",
       "    </tr>\n",
       "  </thead>\n",
       "  <tbody>\n",
       "    <tr>\n",
       "      <th>0</th>\n",
       "      <td>0</td>\n",
       "      <td>923322201125916672</td>\n",
       "      <td>1074</td>\n",
       "      <td>Idk if these niggas are singing struggle songs...</td>\n",
       "      <td>2017-10-25 22:55:41+00:00</td>\n",
       "      <td>0</td>\n",
       "      <td>0</td>\n",
       "      <td>0</td>\n",
       "      <td>0</td>\n",
       "      <td>{'place_id': 'e564d30dc173d2a8'}</td>\n",
       "      <td>Johannesburg, South Africa</td>\n",
       "      <td>idk nigga sing struggle song coz they’re drunk...</td>\n",
       "      <td>[27.7518557, -26.5126489, 28.1843404, -26.0396...</td>\n",
       "      <td>POINT (27.96810 -26.27614)</td>\n",
       "    </tr>\n",
       "    <tr>\n",
       "      <th>1</th>\n",
       "      <td>1</td>\n",
       "      <td>923320610373107712</td>\n",
       "      <td>3938</td>\n",
       "      <td>@Pali_Matli So nawe stop associating Wits with...</td>\n",
       "      <td>2017-10-25 22:49:22+00:00</td>\n",
       "      <td>0</td>\n",
       "      <td>0</td>\n",
       "      <td>0</td>\n",
       "      <td>0</td>\n",
       "      <td>{'place_id': '810e12ec4af983de'}</td>\n",
       "      <td>Bloemfontein, South Africa</td>\n",
       "      <td>nawe stop associate wit ufs,because also know ...</td>\n",
       "      <td>[26.0019056, -29.2319585, 26.4243136, -28.9812...</td>\n",
       "      <td>POINT (26.21311 -29.10659)</td>\n",
       "    </tr>\n",
       "  </tbody>\n",
       "</table>\n",
       "</div>"
      ],
      "text/plain": [
       "   Unnamed: 0            tweet_id  author_followers  \\\n",
       "0           0  923322201125916672              1074   \n",
       "1           1  923320610373107712              3938   \n",
       "\n",
       "                                                text  \\\n",
       "0  Idk if these niggas are singing struggle songs...   \n",
       "1  @Pali_Matli So nawe stop associating Wits with...   \n",
       "\n",
       "                  created_at  retweets  replies  likes  quote_count  \\\n",
       "0  2017-10-25 22:55:41+00:00         0        0      0            0   \n",
       "1  2017-10-25 22:49:22+00:00         0        0      0            0   \n",
       "\n",
       "                           place_id                  place_name  \\\n",
       "0  {'place_id': 'e564d30dc173d2a8'}  Johannesburg, South Africa   \n",
       "1  {'place_id': '810e12ec4af983de'}  Bloemfontein, South Africa   \n",
       "\n",
       "                                        cleaned_text  \\\n",
       "0  idk nigga sing struggle song coz they’re drunk...   \n",
       "1  nawe stop associate wit ufs,because also know ...   \n",
       "\n",
       "                                              coords  \\\n",
       "0  [27.7518557, -26.5126489, 28.1843404, -26.0396...   \n",
       "1  [26.0019056, -29.2319585, 26.4243136, -28.9812...   \n",
       "\n",
       "                     geometry  \n",
       "0  POINT (27.96810 -26.27614)  \n",
       "1  POINT (26.21311 -29.10659)  "
      ]
     },
     "execution_count": 240,
     "metadata": {},
     "output_type": "execute_result"
    }
   ],
   "source": [
    "tweets.head(2)"
   ]
  },
  {
   "cell_type": "code",
   "execution_count": 241,
   "metadata": {},
   "outputs": [],
   "source": [
    "tweets.drop('coords', axis=1, inplace=True)"
   ]
  },
  {
   "cell_type": "code",
   "execution_count": 242,
   "metadata": {},
   "outputs": [],
   "source": [
    "tweets.to_csv('DATA/Clean_Tweets_All_Info.csv')"
   ]
  },
  {
   "cell_type": "markdown",
   "metadata": {},
   "source": [
    "### Set up tweet dataframe into a normalised relational database\n",
    "Use the following databases:\n",
    "* Tweet Database - Contains all the information about each tweet\n",
    "* Location Database - Contains all the information about each location\n",
    "* Author Database - Contains all the information specfic to each author\n",
    "* Relational Database - Contains the relations between all the above databases"
   ]
  },
  {
   "cell_type": "markdown",
   "metadata": {},
   "source": [
    "#### Location Database"
   ]
  },
  {
   "cell_type": "code",
   "execution_count": 243,
   "metadata": {},
   "outputs": [
    {
     "name": "stdout",
     "output_type": "stream",
     "text": [
      "(61, 3)\n",
      "(15, 3)\n"
     ]
    },
    {
     "data": {
      "text/html": [
       "<div>\n",
       "<style scoped>\n",
       "    .dataframe tbody tr th:only-of-type {\n",
       "        vertical-align: middle;\n",
       "    }\n",
       "\n",
       "    .dataframe tbody tr th {\n",
       "        vertical-align: top;\n",
       "    }\n",
       "\n",
       "    .dataframe thead th {\n",
       "        text-align: right;\n",
       "    }\n",
       "</style>\n",
       "<table border=\"1\" class=\"dataframe\">\n",
       "  <thead>\n",
       "    <tr style=\"text-align: right;\">\n",
       "      <th></th>\n",
       "      <th>place_name</th>\n",
       "      <th>geometry</th>\n",
       "    </tr>\n",
       "    <tr>\n",
       "      <th>place_id</th>\n",
       "      <th></th>\n",
       "      <th></th>\n",
       "    </tr>\n",
       "  </thead>\n",
       "  <tbody>\n",
       "    <tr>\n",
       "      <th>{'place_id': 'e564d30dc173d2a8'}</th>\n",
       "      <td>Johannesburg, South Africa</td>\n",
       "      <td>POINT (27.96810 -26.27614)</td>\n",
       "    </tr>\n",
       "    <tr>\n",
       "      <th>{'place_id': '810e12ec4af983de'}</th>\n",
       "      <td>Bloemfontein, South Africa</td>\n",
       "      <td>POINT (26.21311 -29.10659)</td>\n",
       "    </tr>\n",
       "    <tr>\n",
       "      <th>{'place_id': 'd3d46bdc072ad347'}</th>\n",
       "      <td>Vryburg, South Africa</td>\n",
       "      <td>POINT (24.71345 -26.94796)</td>\n",
       "    </tr>\n",
       "  </tbody>\n",
       "</table>\n",
       "</div>"
      ],
      "text/plain": [
       "                                                  place_name  \\\n",
       "place_id                                                       \n",
       "{'place_id': 'e564d30dc173d2a8'}  Johannesburg, South Africa   \n",
       "{'place_id': '810e12ec4af983de'}  Bloemfontein, South Africa   \n",
       "{'place_id': 'd3d46bdc072ad347'}       Vryburg, South Africa   \n",
       "\n",
       "                                                    geometry  \n",
       "place_id                                                      \n",
       "{'place_id': 'e564d30dc173d2a8'}  POINT (27.96810 -26.27614)  \n",
       "{'place_id': '810e12ec4af983de'}  POINT (26.21311 -29.10659)  \n",
       "{'place_id': 'd3d46bdc072ad347'}  POINT (24.71345 -26.94796)  "
      ]
     },
     "execution_count": 243,
     "metadata": {},
     "output_type": "execute_result"
    }
   ],
   "source": [
    "locations = GeoDataFrame()\n",
    "locations['place_id'] = tweets['place_id']\n",
    "locations['place_name'] = tweets['place_name']\n",
    "# locations['coords'] = tweets['coords']\n",
    "locations['geometry'] = tweets['geometry']\n",
    "print(locations.shape)\n",
    "locations = locations.loc[locations.astype(str).drop_duplicates().index]\n",
    "print(locations.shape)\n",
    "locations = locations.set_index('place_id')\n",
    "locations.head(3)\n"
   ]
  },
  {
   "cell_type": "code",
   "execution_count": 244,
   "metadata": {},
   "outputs": [
    {
     "data": {
      "text/plain": [
       "(15, 2)"
      ]
     },
     "execution_count": 244,
     "metadata": {},
     "output_type": "execute_result"
    }
   ],
   "source": [
    "locations.shape"
   ]
  },
  {
   "cell_type": "markdown",
   "metadata": {},
   "source": [
    "#### Tweet Database"
   ]
  },
  {
   "cell_type": "code",
   "execution_count": 245,
   "metadata": {},
   "outputs": [
    {
     "data": {
      "text/html": [
       "<div>\n",
       "<style scoped>\n",
       "    .dataframe tbody tr th:only-of-type {\n",
       "        vertical-align: middle;\n",
       "    }\n",
       "\n",
       "    .dataframe tbody tr th {\n",
       "        vertical-align: top;\n",
       "    }\n",
       "\n",
       "    .dataframe thead th {\n",
       "        text-align: right;\n",
       "    }\n",
       "</style>\n",
       "<table border=\"1\" class=\"dataframe\">\n",
       "  <thead>\n",
       "    <tr style=\"text-align: right;\">\n",
       "      <th></th>\n",
       "      <th>Unnamed: 0</th>\n",
       "      <th>author_followers</th>\n",
       "      <th>text</th>\n",
       "      <th>created_at</th>\n",
       "      <th>retweets</th>\n",
       "      <th>replies</th>\n",
       "      <th>likes</th>\n",
       "      <th>quote_count</th>\n",
       "      <th>cleaned_text</th>\n",
       "    </tr>\n",
       "    <tr>\n",
       "      <th>tweet_id</th>\n",
       "      <th></th>\n",
       "      <th></th>\n",
       "      <th></th>\n",
       "      <th></th>\n",
       "      <th></th>\n",
       "      <th></th>\n",
       "      <th></th>\n",
       "      <th></th>\n",
       "      <th></th>\n",
       "    </tr>\n",
       "  </thead>\n",
       "  <tbody>\n",
       "    <tr>\n",
       "      <th>923322201125916672</th>\n",
       "      <td>0</td>\n",
       "      <td>1074</td>\n",
       "      <td>Idk if these niggas are singing struggle songs...</td>\n",
       "      <td>2017-10-25 22:55:41+00:00</td>\n",
       "      <td>0</td>\n",
       "      <td>0</td>\n",
       "      <td>0</td>\n",
       "      <td>0</td>\n",
       "      <td>idk nigga sing struggle song coz they’re drunk...</td>\n",
       "    </tr>\n",
       "    <tr>\n",
       "      <th>923320610373107712</th>\n",
       "      <td>1</td>\n",
       "      <td>3938</td>\n",
       "      <td>@Pali_Matli So nawe stop associating Wits with...</td>\n",
       "      <td>2017-10-25 22:49:22+00:00</td>\n",
       "      <td>0</td>\n",
       "      <td>0</td>\n",
       "      <td>0</td>\n",
       "      <td>0</td>\n",
       "      <td>nawe stop associate wit ufs,because also know ...</td>\n",
       "    </tr>\n",
       "    <tr>\n",
       "      <th>923287512633798656</th>\n",
       "      <td>2</td>\n",
       "      <td>60191</td>\n",
       "      <td>Please RT for Awareness.This kid deserves free...</td>\n",
       "      <td>2017-10-25 20:37:51+00:00</td>\n",
       "      <td>0</td>\n",
       "      <td>0</td>\n",
       "      <td>1</td>\n",
       "      <td>0</td>\n",
       "      <td>please rt awareness.this kid deserve free educ...</td>\n",
       "    </tr>\n",
       "  </tbody>\n",
       "</table>\n",
       "</div>"
      ],
      "text/plain": [
       "                    Unnamed: 0  author_followers  \\\n",
       "tweet_id                                           \n",
       "923322201125916672           0              1074   \n",
       "923320610373107712           1              3938   \n",
       "923287512633798656           2             60191   \n",
       "\n",
       "                                                                 text  \\\n",
       "tweet_id                                                                \n",
       "923322201125916672  Idk if these niggas are singing struggle songs...   \n",
       "923320610373107712  @Pali_Matli So nawe stop associating Wits with...   \n",
       "923287512633798656  Please RT for Awareness.This kid deserves free...   \n",
       "\n",
       "                                   created_at  retweets  replies  likes  \\\n",
       "tweet_id                                                                  \n",
       "923322201125916672  2017-10-25 22:55:41+00:00         0        0      0   \n",
       "923320610373107712  2017-10-25 22:49:22+00:00         0        0      0   \n",
       "923287512633798656  2017-10-25 20:37:51+00:00         0        0      1   \n",
       "\n",
       "                    quote_count  \\\n",
       "tweet_id                          \n",
       "923322201125916672            0   \n",
       "923320610373107712            0   \n",
       "923287512633798656            0   \n",
       "\n",
       "                                                         cleaned_text  \n",
       "tweet_id                                                               \n",
       "923322201125916672  idk nigga sing struggle song coz they’re drunk...  \n",
       "923320610373107712  nawe stop associate wit ufs,because also know ...  \n",
       "923287512633798656  please rt awareness.this kid deserve free educ...  "
      ]
     },
     "execution_count": 245,
     "metadata": {},
     "output_type": "execute_result"
    }
   ],
   "source": [
    "just_tweets = tweets\n",
    "just_tweets = just_tweets.drop('place_name', axis = 1)\n",
    "# just_tweets = just_tweets.drop('coords', axis = 1)\n",
    "just_tweets = just_tweets.drop('geometry', axis = 1)\n",
    "just_tweets = just_tweets.drop('place_id', axis = 1)\n",
    "# just_tweets = just_tweets.drop('author_id', axis = 1)\n",
    "just_tweets = just_tweets.set_index('tweet_id')\n",
    "just_tweets.head(3)"
   ]
  },
  {
   "cell_type": "code",
   "execution_count": 246,
   "metadata": {},
   "outputs": [
    {
     "data": {
      "text/plain": [
       "(61, 9)"
      ]
     },
     "execution_count": 246,
     "metadata": {},
     "output_type": "execute_result"
    }
   ],
   "source": [
    "just_tweets.shape"
   ]
  },
  {
   "cell_type": "markdown",
   "metadata": {},
   "source": [
    "#### Relational Database"
   ]
  },
  {
   "cell_type": "code",
   "execution_count": 247,
   "metadata": {},
   "outputs": [
    {
     "data": {
      "text/html": [
       "<div>\n",
       "<style scoped>\n",
       "    .dataframe tbody tr th:only-of-type {\n",
       "        vertical-align: middle;\n",
       "    }\n",
       "\n",
       "    .dataframe tbody tr th {\n",
       "        vertical-align: top;\n",
       "    }\n",
       "\n",
       "    .dataframe thead th {\n",
       "        text-align: right;\n",
       "    }\n",
       "</style>\n",
       "<table border=\"1\" class=\"dataframe\">\n",
       "  <thead>\n",
       "    <tr style=\"text-align: right;\">\n",
       "      <th></th>\n",
       "      <th>place_id</th>\n",
       "    </tr>\n",
       "    <tr>\n",
       "      <th>tweet_id</th>\n",
       "      <th></th>\n",
       "    </tr>\n",
       "  </thead>\n",
       "  <tbody>\n",
       "    <tr>\n",
       "      <th>923322201125916672</th>\n",
       "      <td>{'place_id': 'e564d30dc173d2a8'}</td>\n",
       "    </tr>\n",
       "    <tr>\n",
       "      <th>923320610373107712</th>\n",
       "      <td>{'place_id': '810e12ec4af983de'}</td>\n",
       "    </tr>\n",
       "    <tr>\n",
       "      <th>923287512633798656</th>\n",
       "      <td>{'place_id': 'd3d46bdc072ad347'}</td>\n",
       "    </tr>\n",
       "    <tr>\n",
       "      <th>923282795048460288</th>\n",
       "      <td>{'place_id': '8b9ec16fdc0d7e55'}</td>\n",
       "    </tr>\n",
       "    <tr>\n",
       "      <th>923243015740837893</th>\n",
       "      <td>{'place_id': 'e564d30dc173d2a8'}</td>\n",
       "    </tr>\n",
       "  </tbody>\n",
       "</table>\n",
       "</div>"
      ],
      "text/plain": [
       "                                            place_id\n",
       "tweet_id                                            \n",
       "923322201125916672  {'place_id': 'e564d30dc173d2a8'}\n",
       "923320610373107712  {'place_id': '810e12ec4af983de'}\n",
       "923287512633798656  {'place_id': 'd3d46bdc072ad347'}\n",
       "923282795048460288  {'place_id': '8b9ec16fdc0d7e55'}\n",
       "923243015740837893  {'place_id': 'e564d30dc173d2a8'}"
      ]
     },
     "execution_count": 247,
     "metadata": {},
     "output_type": "execute_result"
    }
   ],
   "source": [
    "relations = pd.DataFrame()\n",
    "relations['tweet_id'] = tweets['tweet_id']\n",
    "relations['place_id'] = tweets['place_id']\n",
    "relations = relations.loc[relations.astype(str).drop_duplicates().index]\n",
    "relations = relations.set_index('tweet_id')\n",
    "relations.head()"
   ]
  },
  {
   "cell_type": "code",
   "execution_count": 248,
   "metadata": {},
   "outputs": [
    {
     "data": {
      "text/plain": [
       "(61, 1)"
      ]
     },
     "execution_count": 248,
     "metadata": {},
     "output_type": "execute_result"
    }
   ],
   "source": [
    "relations.shape"
   ]
  },
  {
   "cell_type": "markdown",
   "metadata": {},
   "source": [
    "#### Create csv for each database"
   ]
  },
  {
   "cell_type": "code",
   "execution_count": 249,
   "metadata": {},
   "outputs": [],
   "source": [
    "just_tweets.to_csv('DATA/Relational_Databases/just_tweets.csv')\n",
    "locations.to_csv('DATA/Relational_Databases/locations.csv')\n",
    "relations.to_csv('DATA/Relational_Databases/relations.csv')"
   ]
  },
  {
   "cell_type": "markdown",
   "metadata": {},
   "source": [
    "### Possible Still to do Cleaning\n",
    "ensure that there are no NaN values, this can be done by either creating a custom value possibly using an average or alike. </br>\n",
    "Or filling in a value such as n/a indicating that no value is available or provided."
   ]
  }
 ],
 "metadata": {
  "kernelspec": {
   "display_name": "Python 3.10.4 64-bit",
   "language": "python",
   "name": "python3"
  },
  "language_info": {
   "codemirror_mode": {
    "name": "ipython",
    "version": 3
   },
   "file_extension": ".py",
   "mimetype": "text/x-python",
   "name": "python",
   "nbconvert_exporter": "python",
   "pygments_lexer": "ipython3",
   "version": "3.10.4"
  },
  "orig_nbformat": 4,
  "vscode": {
   "interpreter": {
    "hash": "eb1e2aa17c9c03522ea469ed025d74c8a00b3c7801d0496b408e209436a13f2e"
   }
  }
 },
 "nbformat": 4,
 "nbformat_minor": 2
}
