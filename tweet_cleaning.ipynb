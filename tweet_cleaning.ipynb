{
 "cells": [
  {
   "cell_type": "markdown",
   "metadata": {},
   "source": [
    "# Tweet Cleaning"
   ]
  },
  {
   "cell_type": "markdown",
   "metadata": {},
   "source": [
    "### Import Libraries"
   ]
  },
  {
   "cell_type": "code",
   "execution_count": 50,
   "metadata": {},
   "outputs": [],
   "source": [
    "import numpy as np\n",
    "import pandas as pd\n",
    "import os\n",
    "\n",
    "# Word processing libraries\n",
    "import re\n",
    "from nltk.corpus import wordnet\n",
    "import string\n",
    "from nltk import pos_tag\n",
    "from nltk.corpus import stopwords\n",
    "from nltk.tokenize import WhitespaceTokenizer\n",
    "from nltk.stem import WordNetLemmatizer\n",
    "from shapely.geometry import LineString\n",
    "from geopandas import GeoDataFrame\n",
    "from shapely.geometry import Point, Polygon\n",
    "import folium\n",
    "\n",
    "#Nan\n",
    "from cmath import nan"
   ]
  },
  {
   "cell_type": "markdown",
   "metadata": {},
   "source": [
    "### Read Tweets from CSV - Provided by scraping"
   ]
  },
  {
   "cell_type": "code",
   "execution_count": 51,
   "metadata": {},
   "outputs": [],
   "source": [
    "tweets = pd.read_csv('DATA/Test_Protest.csv')"
   ]
  },
  {
   "cell_type": "code",
   "execution_count": 52,
   "metadata": {},
   "outputs": [
    {
     "data": {
      "text/plain": [
       "(49886, 12)"
      ]
     },
     "execution_count": 52,
     "metadata": {},
     "output_type": "execute_result"
    }
   ],
   "source": [
    "tweets.shape"
   ]
  },
  {
   "cell_type": "code",
   "execution_count": 53,
   "metadata": {},
   "outputs": [
    {
     "data": {
      "text/html": [
       "<div>\n",
       "<style scoped>\n",
       "    .dataframe tbody tr th:only-of-type {\n",
       "        vertical-align: middle;\n",
       "    }\n",
       "\n",
       "    .dataframe tbody tr th {\n",
       "        vertical-align: top;\n",
       "    }\n",
       "\n",
       "    .dataframe thead th {\n",
       "        text-align: right;\n",
       "    }\n",
       "</style>\n",
       "<table border=\"1\" class=\"dataframe\">\n",
       "  <thead>\n",
       "    <tr style=\"text-align: right;\">\n",
       "      <th></th>\n",
       "      <th>tweet_id</th>\n",
       "      <th>author_followers</th>\n",
       "      <th>text</th>\n",
       "      <th>created_at</th>\n",
       "      <th>retweets</th>\n",
       "      <th>replies</th>\n",
       "      <th>likes</th>\n",
       "      <th>quote_count</th>\n",
       "      <th>place_id</th>\n",
       "      <th>place_name</th>\n",
       "      <th>bbox</th>\n",
       "    </tr>\n",
       "  </thead>\n",
       "  <tbody>\n",
       "    <tr>\n",
       "      <th>0</th>\n",
       "      <td>923338307890708480</td>\n",
       "      <td>1715</td>\n",
       "      <td>have to start watching Narcos again</td>\n",
       "      <td>2017-10-25 23:59:42+00:00</td>\n",
       "      <td>0</td>\n",
       "      <td>0</td>\n",
       "      <td>1</td>\n",
       "      <td>0</td>\n",
       "      <td>{'place_id': 'dd9c0d7d7e07eb49'}</td>\n",
       "      <td>South Africa</td>\n",
       "      <td>[16.4475932, -34.8342468, 32.8922934, -22.1247...</td>\n",
       "    </tr>\n",
       "    <tr>\n",
       "      <th>1</th>\n",
       "      <td>923338250261008386</td>\n",
       "      <td>9188</td>\n",
       "      <td>Thatha celebrity https://t.co/aykbdCw1Pf</td>\n",
       "      <td>2017-10-25 23:59:28+00:00</td>\n",
       "      <td>0</td>\n",
       "      <td>1</td>\n",
       "      <td>0</td>\n",
       "      <td>0</td>\n",
       "      <td>{'place_id': 'e564d30dc173d2a8'}</td>\n",
       "      <td>Johannesburg, South Africa</td>\n",
       "      <td>[27.7518557, -26.5126489, 28.1843404, -26.0396...</td>\n",
       "    </tr>\n",
       "    <tr>\n",
       "      <th>2</th>\n",
       "      <td>923338197563854848</td>\n",
       "      <td>598</td>\n",
       "      <td>@Baba_Bangude Shoda is a kakist😂</td>\n",
       "      <td>2017-10-25 23:59:15+00:00</td>\n",
       "      <td>0</td>\n",
       "      <td>0</td>\n",
       "      <td>0</td>\n",
       "      <td>0</td>\n",
       "      <td>{'place_id': '557dd67203c6e04c'}</td>\n",
       "      <td>Vereeniging, South Africa</td>\n",
       "      <td>[27.8525058, -26.7255165, 28.0249225, -26.5247...</td>\n",
       "    </tr>\n",
       "    <tr>\n",
       "      <th>3</th>\n",
       "      <td>923338139451772929</td>\n",
       "      <td>5590</td>\n",
       "      <td>My Zulu comprehension doesn't allow me to enjo...</td>\n",
       "      <td>2017-10-25 23:59:01+00:00</td>\n",
       "      <td>0</td>\n",
       "      <td>0</td>\n",
       "      <td>0</td>\n",
       "      <td>0</td>\n",
       "      <td>{'place_id': '8b9ec16fdc0d7e55'}</td>\n",
       "      <td>Cape Town, South Africa</td>\n",
       "      <td>[18.3180332, -34.35839, 18.6600898, -33.8849254]</td>\n",
       "    </tr>\n",
       "    <tr>\n",
       "      <th>4</th>\n",
       "      <td>923338012288782336</td>\n",
       "      <td>9188</td>\n",
       "      <td>Today is going to be a beautiful day 😊 https:/...</td>\n",
       "      <td>2017-10-25 23:58:31+00:00</td>\n",
       "      <td>0</td>\n",
       "      <td>0</td>\n",
       "      <td>0</td>\n",
       "      <td>1</td>\n",
       "      <td>{'place_id': 'e564d30dc173d2a8'}</td>\n",
       "      <td>Johannesburg, South Africa</td>\n",
       "      <td>[27.7518557, -26.5126489, 28.1843404, -26.0396...</td>\n",
       "    </tr>\n",
       "  </tbody>\n",
       "</table>\n",
       "</div>"
      ],
      "text/plain": [
       "             tweet_id  author_followers  \\\n",
       "0  923338307890708480              1715   \n",
       "1  923338250261008386              9188   \n",
       "2  923338197563854848               598   \n",
       "3  923338139451772929              5590   \n",
       "4  923338012288782336              9188   \n",
       "\n",
       "                                                text  \\\n",
       "0                have to start watching Narcos again   \n",
       "1           Thatha celebrity https://t.co/aykbdCw1Pf   \n",
       "2                   @Baba_Bangude Shoda is a kakist😂   \n",
       "3  My Zulu comprehension doesn't allow me to enjo...   \n",
       "4  Today is going to be a beautiful day 😊 https:/...   \n",
       "\n",
       "                  created_at  retweets  replies  likes  quote_count  \\\n",
       "0  2017-10-25 23:59:42+00:00         0        0      1            0   \n",
       "1  2017-10-25 23:59:28+00:00         0        1      0            0   \n",
       "2  2017-10-25 23:59:15+00:00         0        0      0            0   \n",
       "3  2017-10-25 23:59:01+00:00         0        0      0            0   \n",
       "4  2017-10-25 23:58:31+00:00         0        0      0            1   \n",
       "\n",
       "                           place_id                  place_name  \\\n",
       "0  {'place_id': 'dd9c0d7d7e07eb49'}                South Africa   \n",
       "1  {'place_id': 'e564d30dc173d2a8'}  Johannesburg, South Africa   \n",
       "2  {'place_id': '557dd67203c6e04c'}   Vereeniging, South Africa   \n",
       "3  {'place_id': '8b9ec16fdc0d7e55'}     Cape Town, South Africa   \n",
       "4  {'place_id': 'e564d30dc173d2a8'}  Johannesburg, South Africa   \n",
       "\n",
       "                                                bbox  \n",
       "0  [16.4475932, -34.8342468, 32.8922934, -22.1247...  \n",
       "1  [27.7518557, -26.5126489, 28.1843404, -26.0396...  \n",
       "2  [27.8525058, -26.7255165, 28.0249225, -26.5247...  \n",
       "3   [18.3180332, -34.35839, 18.6600898, -33.8849254]  \n",
       "4  [27.7518557, -26.5126489, 28.1843404, -26.0396...  "
      ]
     },
     "execution_count": 53,
     "metadata": {},
     "output_type": "execute_result"
    }
   ],
   "source": [
    "tweets = tweets.drop(['Unnamed: 0'], axis=1)\n",
    "tweets.head()"
   ]
  },
  {
   "cell_type": "code",
   "execution_count": 54,
   "metadata": {},
   "outputs": [
    {
     "name": "stdout",
     "output_type": "stream",
     "text": [
      "<class 'pandas.core.frame.DataFrame'>\n",
      "RangeIndex: 49886 entries, 0 to 49885\n",
      "Data columns (total 11 columns):\n",
      " #   Column            Non-Null Count  Dtype \n",
      "---  ------            --------------  ----- \n",
      " 0   tweet_id          49886 non-null  int64 \n",
      " 1   author_followers  49886 non-null  int64 \n",
      " 2   text              49886 non-null  object\n",
      " 3   created_at        49886 non-null  object\n",
      " 4   retweets          49886 non-null  int64 \n",
      " 5   replies           49886 non-null  int64 \n",
      " 6   likes             49886 non-null  int64 \n",
      " 7   quote_count       49886 non-null  int64 \n",
      " 8   place_id          49886 non-null  object\n",
      " 9   place_name        49886 non-null  object\n",
      " 10  bbox              49886 non-null  object\n",
      "dtypes: int64(6), object(5)\n",
      "memory usage: 4.2+ MB\n"
     ]
    }
   ],
   "source": [
    "tweets.info()"
   ]
  },
  {
   "cell_type": "markdown",
   "metadata": {},
   "source": [
    "### Remove Duplicates\n",
    "If entry is the same then drop it</br>\n",
    "There should't be duplicates"
   ]
  },
  {
   "cell_type": "code",
   "execution_count": 55,
   "metadata": {},
   "outputs": [
    {
     "name": "stdout",
     "output_type": "stream",
     "text": [
      "Initial size of dataset before dropping duplicated rows: (49886, 11)\n",
      "Current size of dataset after dropping duplicated rows, if any, is: (49886, 11)\n"
     ]
    }
   ],
   "source": [
    "print('Initial size of dataset before dropping duplicated rows:', tweets.shape)\n",
    "tweets.drop_duplicates(keep = False, inplace = True)\n",
    "\n",
    "print('Current size of dataset after dropping duplicated rows, if any, is:', tweets.shape)"
   ]
  },
  {
   "cell_type": "markdown",
   "metadata": {},
   "source": [
    "### Remove Empty Tweets\n",
    "If tweet content is empty/Nan then drop it"
   ]
  },
  {
   "cell_type": "code",
   "execution_count": 56,
   "metadata": {},
   "outputs": [],
   "source": [
    "tweets.dropna(subset = ['text'], inplace = True)"
   ]
  },
  {
   "cell_type": "code",
   "execution_count": 57,
   "metadata": {},
   "outputs": [
    {
     "data": {
      "text/plain": [
       "49886"
      ]
     },
     "execution_count": 57,
     "metadata": {},
     "output_type": "execute_result"
    }
   ],
   "source": [
    "len(tweets)"
   ]
  },
  {
   "cell_type": "markdown",
   "metadata": {},
   "source": [
    "### Collect @Users in Text\n",
    "Identify all mentions of other users using @ </br>\n",
    "Create new feature containg all mentions (@s)</br>\n",
    "Remove all mentions from text - done in next section"
   ]
  },
  {
   "cell_type": "code",
   "execution_count": 58,
   "metadata": {},
   "outputs": [],
   "source": [
    "def mentioned_users(string):\n",
    "    usernames = re.findall('@[^\\s]+', string)\n",
    "    if usernames == []:\n",
    "        return nan\n",
    "    return usernames"
   ]
  },
  {
   "cell_type": "code",
   "execution_count": 59,
   "metadata": {},
   "outputs": [],
   "source": [
    "# tweets['mentioned_users'] = tweets['text'].apply(lambda x: mentioned_users(x))\n",
    "# tweets.head()"
   ]
  },
  {
   "cell_type": "markdown",
   "metadata": {},
   "source": [
    "### Collect #Hashtags in Text\n",
    "Identify all hashtags using # </br>\n",
    "Create new feature containg all hashtags (#s)</br>\n",
    "Remove all hashtags from text - done in next section"
   ]
  },
  {
   "cell_type": "code",
   "execution_count": 60,
   "metadata": {},
   "outputs": [],
   "source": [
    "def hashtags(string):\n",
    "    hashtags = re.findall('#[^\\s]+', string)\n",
    "    if hashtags == []:\n",
    "        return nan\n",
    "    return hashtags"
   ]
  },
  {
   "cell_type": "code",
   "execution_count": 61,
   "metadata": {},
   "outputs": [],
   "source": [
    "# tweets['hashtags'] = tweets['text'].apply(lambda x: hashtags(x))\n",
    "# tweets.head()"
   ]
  },
  {
   "cell_type": "markdown",
   "metadata": {},
   "source": [
    "### Collect Emojis in text\n",
    "Identify all emojis using unicode value</br>\n",
    "Create new feature containg all emojis</br>\n",
    "Remove all emojis from text - done in next section</br>\n",
    "Note: We could identify our own emojis that could be useful instead of all emojis and put them in a dictionary"
   ]
  },
  {
   "cell_type": "code",
   "execution_count": 62,
   "metadata": {},
   "outputs": [],
   "source": [
    "from cmath import nan\n",
    "import advertools as adv\n",
    "def extract_emojis(string):\n",
    "    list = [string]\n",
    "    emoji_dict = adv.extract_emoji(list)\n",
    "    emojis = emoji_dict['emoji'][0]\n",
    "    if(emojis == []):\n",
    "        return nan\n",
    "    return emojis"
   ]
  },
  {
   "cell_type": "code",
   "execution_count": 63,
   "metadata": {},
   "outputs": [],
   "source": [
    "# For if an error saying float can not be changed to lower is called!\n",
    "#tweets.text=tweets.text.astype(str)"
   ]
  },
  {
   "cell_type": "code",
   "execution_count": 64,
   "metadata": {},
   "outputs": [],
   "source": [
    "# tweets['emojis'] = tweets['text'].apply(lambda x: extract_emojis(x))\n",
    "# tweets.head()"
   ]
  },
  {
   "cell_type": "markdown",
   "metadata": {},
   "source": [
    "### Collect Links in text\n",
    "Identify all links using a URL</br>\n",
    "Create new feature containg all Links</br>\n",
    "Remove all links from text - done in next section</br>\n",
    "Maybe look into if 'www' syntax must also be used"
   ]
  },
  {
   "cell_type": "code",
   "execution_count": 65,
   "metadata": {},
   "outputs": [],
   "source": [
    "def find_urls(string):\n",
    "    try:\n",
    "        urls = re.search(\"(?P<url>https?://[^\\s]+)\", string).group(\"url\")\n",
    "    except:\n",
    "        return nan\n",
    "    return urls"
   ]
  },
  {
   "cell_type": "code",
   "execution_count": 66,
   "metadata": {},
   "outputs": [],
   "source": [
    "# tweets['urls'] = tweets['text'].apply(lambda x: find_urls(x))\n",
    "# tweets.head()"
   ]
  },
  {
   "cell_type": "code",
   "execution_count": 67,
   "metadata": {},
   "outputs": [
    {
     "name": "stdout",
     "output_type": "stream",
     "text": [
      "<class 'pandas.core.frame.DataFrame'>\n",
      "Int64Index: 49886 entries, 0 to 49885\n",
      "Data columns (total 11 columns):\n",
      " #   Column            Non-Null Count  Dtype \n",
      "---  ------            --------------  ----- \n",
      " 0   tweet_id          49886 non-null  int64 \n",
      " 1   author_followers  49886 non-null  int64 \n",
      " 2   text              49886 non-null  object\n",
      " 3   created_at        49886 non-null  object\n",
      " 4   retweets          49886 non-null  int64 \n",
      " 5   replies           49886 non-null  int64 \n",
      " 6   likes             49886 non-null  int64 \n",
      " 7   quote_count       49886 non-null  int64 \n",
      " 8   place_id          49886 non-null  object\n",
      " 9   place_name        49886 non-null  object\n",
      " 10  bbox              49886 non-null  object\n",
      "dtypes: int64(6), object(5)\n",
      "memory usage: 4.6+ MB\n"
     ]
    }
   ],
   "source": [
    "tweets.info()"
   ]
  },
  {
   "cell_type": "markdown",
   "metadata": {},
   "source": [
    "### Remove Unwanted Information and Clean Tweet text\n",
    "To Clean Text:\n",
    "* Convert to Lowercase\n",
    "* Tokenise\n",
    "* Tag Text\n",
    "* Lemmatise Text\n",
    "\n",
    "This includes:\n",
    "* @mentions\n",
    "* URLs\n",
    "* Hashtags\n",
    "* Emojis\n",
    "* Punctuation\n",
    "* Numbers\n",
    "* Stop Words\n",
    "* Single Letter Words\n",
    "* Empty Tokens\n"
   ]
  },
  {
   "cell_type": "code",
   "execution_count": 68,
   "metadata": {},
   "outputs": [],
   "source": [
    "# Define Emoji_patterns\n",
    "emoji_pattern = re.compile(\"[\"\n",
    "         u\"\\U0001F600-\\U0001F64F\"  # emoticons\n",
    "         u\"\\U0001F300-\\U0001F5FF\"  # symbols & pictographs\n",
    "         u\"\\U0001F680-\\U0001F6FF\"  # transport & map symbols\n",
    "         u\"\\U0001F1E0-\\U0001F1FF\"  # flags (iOS)\n",
    "         u\"\\U00002702-\\U000027B0\"\n",
    "         u\"\\U000024C2-\\U0001F251\"\n",
    "         \"]+\", flags=re.UNICODE)"
   ]
  },
  {
   "cell_type": "code",
   "execution_count": 69,
   "metadata": {},
   "outputs": [],
   "source": [
    "# Define the function to implement POS tagging:\n",
    "def get_wordnet_pos(pos_tag):\n",
    "    if pos_tag.startswith('J'):\n",
    "        return wordnet.ADJ\n",
    "    elif pos_tag.startswith('V'):\n",
    "        return wordnet.VERB\n",
    "    elif pos_tag.startswith('N'):\n",
    "        return wordnet.NOUN\n",
    "    elif pos_tag.startswith('R'):\n",
    "        return wordnet.ADV\n",
    "    else:\n",
    "        return wordnet.NOUN\n",
    "\n",
    "\n",
    "# Define the main function to clean text in various ways:\n",
    "def clean_text(text):\n",
    "    \n",
    "    # Apply regex expressions first before converting string to list of tokens/words:\n",
    "    # 1. remove @usernames\n",
    "    text = re.sub('@[^\\s]+', '', text)\n",
    "    \n",
    "    # 2. remove URLs\n",
    "    text = re.sub('((www\\.[^\\s]+)|(https?://[^\\s]+))', '', text)\n",
    "    \n",
    "    # 3. remove hashtags entirely i.e. #hashtags\n",
    "    text = re.sub(r'#([^\\s]+)', '', text)\n",
    "    \n",
    "    # 4. remove emojis\n",
    "    text = emoji_pattern.sub(r'', text)\n",
    "    \n",
    "    # 5. Convert text to lowercase\n",
    "    text = text.lower()\n",
    "    \n",
    "    # 6. tokenize text and remove punctuation\n",
    "    text = [word.strip(string.punctuation) for word in text.split(\" \")]\n",
    "    \n",
    "    # 7. remove numbers\n",
    "    text = [word for word in text if not any(c.isdigit() for c in word)]\n",
    "    \n",
    "    # 8. remove stop words\n",
    "    stop = stopwords.words('english')\n",
    "    text = [x for x in text if x not in stop]\n",
    "    \n",
    "    # 9. remove empty tokens\n",
    "    text = [t for t in text if len(t) > 0]\n",
    "    \n",
    "    # 10. pos tag text and lemmatize text\n",
    "    pos_tags = pos_tag(text)\n",
    "    text = [WordNetLemmatizer().lemmatize(t[0], get_wordnet_pos(t[1])) for t in pos_tags]\n",
    "    \n",
    "    # 11. remove words with only one letter\n",
    "    text = [t for t in text if len(t) > 1]\n",
    "    \n",
    "    # join all\n",
    "    text = \" \".join(text)\n",
    "    \n",
    "    return(text)"
   ]
  },
  {
   "cell_type": "code",
   "execution_count": 70,
   "metadata": {},
   "outputs": [
    {
     "data": {
      "text/html": [
       "<div>\n",
       "<style scoped>\n",
       "    .dataframe tbody tr th:only-of-type {\n",
       "        vertical-align: middle;\n",
       "    }\n",
       "\n",
       "    .dataframe tbody tr th {\n",
       "        vertical-align: top;\n",
       "    }\n",
       "\n",
       "    .dataframe thead th {\n",
       "        text-align: right;\n",
       "    }\n",
       "</style>\n",
       "<table border=\"1\" class=\"dataframe\">\n",
       "  <thead>\n",
       "    <tr style=\"text-align: right;\">\n",
       "      <th></th>\n",
       "      <th>tweet_id</th>\n",
       "      <th>author_followers</th>\n",
       "      <th>text</th>\n",
       "      <th>created_at</th>\n",
       "      <th>retweets</th>\n",
       "      <th>replies</th>\n",
       "      <th>likes</th>\n",
       "      <th>quote_count</th>\n",
       "      <th>place_id</th>\n",
       "      <th>place_name</th>\n",
       "      <th>bbox</th>\n",
       "      <th>cleaned_text</th>\n",
       "    </tr>\n",
       "  </thead>\n",
       "  <tbody>\n",
       "    <tr>\n",
       "      <th>0</th>\n",
       "      <td>923338307890708480</td>\n",
       "      <td>1715</td>\n",
       "      <td>have to start watching Narcos again</td>\n",
       "      <td>2017-10-25 23:59:42+00:00</td>\n",
       "      <td>0</td>\n",
       "      <td>0</td>\n",
       "      <td>1</td>\n",
       "      <td>0</td>\n",
       "      <td>{'place_id': 'dd9c0d7d7e07eb49'}</td>\n",
       "      <td>South Africa</td>\n",
       "      <td>[16.4475932, -34.8342468, 32.8922934, -22.1247...</td>\n",
       "      <td>start watch narcos</td>\n",
       "    </tr>\n",
       "    <tr>\n",
       "      <th>1</th>\n",
       "      <td>923338250261008386</td>\n",
       "      <td>9188</td>\n",
       "      <td>Thatha celebrity https://t.co/aykbdCw1Pf</td>\n",
       "      <td>2017-10-25 23:59:28+00:00</td>\n",
       "      <td>0</td>\n",
       "      <td>1</td>\n",
       "      <td>0</td>\n",
       "      <td>0</td>\n",
       "      <td>{'place_id': 'e564d30dc173d2a8'}</td>\n",
       "      <td>Johannesburg, South Africa</td>\n",
       "      <td>[27.7518557, -26.5126489, 28.1843404, -26.0396...</td>\n",
       "      <td>thatha celebrity</td>\n",
       "    </tr>\n",
       "    <tr>\n",
       "      <th>2</th>\n",
       "      <td>923338197563854848</td>\n",
       "      <td>598</td>\n",
       "      <td>@Baba_Bangude Shoda is a kakist😂</td>\n",
       "      <td>2017-10-25 23:59:15+00:00</td>\n",
       "      <td>0</td>\n",
       "      <td>0</td>\n",
       "      <td>0</td>\n",
       "      <td>0</td>\n",
       "      <td>{'place_id': '557dd67203c6e04c'}</td>\n",
       "      <td>Vereeniging, South Africa</td>\n",
       "      <td>[27.8525058, -26.7255165, 28.0249225, -26.5247...</td>\n",
       "      <td>shoda kakist</td>\n",
       "    </tr>\n",
       "    <tr>\n",
       "      <th>3</th>\n",
       "      <td>923338139451772929</td>\n",
       "      <td>5590</td>\n",
       "      <td>My Zulu comprehension doesn't allow me to enjo...</td>\n",
       "      <td>2017-10-25 23:59:01+00:00</td>\n",
       "      <td>0</td>\n",
       "      <td>0</td>\n",
       "      <td>0</td>\n",
       "      <td>0</td>\n",
       "      <td>{'place_id': '8b9ec16fdc0d7e55'}</td>\n",
       "      <td>Cape Town, South Africa</td>\n",
       "      <td>[18.3180332, -34.35839, 18.6600898, -33.8849254]</td>\n",
       "      <td>zulu comprehension allow enjoy lyricism amanca...</td>\n",
       "    </tr>\n",
       "    <tr>\n",
       "      <th>4</th>\n",
       "      <td>923338012288782336</td>\n",
       "      <td>9188</td>\n",
       "      <td>Today is going to be a beautiful day 😊 https:/...</td>\n",
       "      <td>2017-10-25 23:58:31+00:00</td>\n",
       "      <td>0</td>\n",
       "      <td>0</td>\n",
       "      <td>0</td>\n",
       "      <td>1</td>\n",
       "      <td>{'place_id': 'e564d30dc173d2a8'}</td>\n",
       "      <td>Johannesburg, South Africa</td>\n",
       "      <td>[27.7518557, -26.5126489, 28.1843404, -26.0396...</td>\n",
       "      <td>today go beautiful day</td>\n",
       "    </tr>\n",
       "  </tbody>\n",
       "</table>\n",
       "</div>"
      ],
      "text/plain": [
       "             tweet_id  author_followers  \\\n",
       "0  923338307890708480              1715   \n",
       "1  923338250261008386              9188   \n",
       "2  923338197563854848               598   \n",
       "3  923338139451772929              5590   \n",
       "4  923338012288782336              9188   \n",
       "\n",
       "                                                text  \\\n",
       "0                have to start watching Narcos again   \n",
       "1           Thatha celebrity https://t.co/aykbdCw1Pf   \n",
       "2                   @Baba_Bangude Shoda is a kakist😂   \n",
       "3  My Zulu comprehension doesn't allow me to enjo...   \n",
       "4  Today is going to be a beautiful day 😊 https:/...   \n",
       "\n",
       "                  created_at  retweets  replies  likes  quote_count  \\\n",
       "0  2017-10-25 23:59:42+00:00         0        0      1            0   \n",
       "1  2017-10-25 23:59:28+00:00         0        1      0            0   \n",
       "2  2017-10-25 23:59:15+00:00         0        0      0            0   \n",
       "3  2017-10-25 23:59:01+00:00         0        0      0            0   \n",
       "4  2017-10-25 23:58:31+00:00         0        0      0            1   \n",
       "\n",
       "                           place_id                  place_name  \\\n",
       "0  {'place_id': 'dd9c0d7d7e07eb49'}                South Africa   \n",
       "1  {'place_id': 'e564d30dc173d2a8'}  Johannesburg, South Africa   \n",
       "2  {'place_id': '557dd67203c6e04c'}   Vereeniging, South Africa   \n",
       "3  {'place_id': '8b9ec16fdc0d7e55'}     Cape Town, South Africa   \n",
       "4  {'place_id': 'e564d30dc173d2a8'}  Johannesburg, South Africa   \n",
       "\n",
       "                                                bbox  \\\n",
       "0  [16.4475932, -34.8342468, 32.8922934, -22.1247...   \n",
       "1  [27.7518557, -26.5126489, 28.1843404, -26.0396...   \n",
       "2  [27.8525058, -26.7255165, 28.0249225, -26.5247...   \n",
       "3   [18.3180332, -34.35839, 18.6600898, -33.8849254]   \n",
       "4  [27.7518557, -26.5126489, 28.1843404, -26.0396...   \n",
       "\n",
       "                                        cleaned_text  \n",
       "0                                 start watch narcos  \n",
       "1                                   thatha celebrity  \n",
       "2                                       shoda kakist  \n",
       "3  zulu comprehension allow enjoy lyricism amanca...  \n",
       "4                             today go beautiful day  "
      ]
     },
     "execution_count": 70,
     "metadata": {},
     "output_type": "execute_result"
    }
   ],
   "source": [
    "# Apply function on the column 'text':\n",
    "tweets['cleaned_text'] = tweets['text'].apply(lambda x: clean_text(x))\n",
    "tweets.head()"
   ]
  },
  {
   "cell_type": "markdown",
   "metadata": {},
   "source": [
    "We can now remove the original tweet text because the cleaned text is all that is needed.\n",
    "Actually Keep for Content Analysis"
   ]
  },
  {
   "cell_type": "code",
   "execution_count": 71,
   "metadata": {},
   "outputs": [],
   "source": [
    "#tweets = tweets.drop('text', axis = 1)"
   ]
  },
  {
   "cell_type": "code",
   "execution_count": 72,
   "metadata": {},
   "outputs": [
    {
     "name": "stdout",
     "output_type": "stream",
     "text": [
      "<class 'pandas.core.frame.DataFrame'>\n",
      "Int64Index: 49886 entries, 0 to 49885\n",
      "Data columns (total 12 columns):\n",
      " #   Column            Non-Null Count  Dtype \n",
      "---  ------            --------------  ----- \n",
      " 0   tweet_id          49886 non-null  int64 \n",
      " 1   author_followers  49886 non-null  int64 \n",
      " 2   text              49886 non-null  object\n",
      " 3   created_at        49886 non-null  object\n",
      " 4   retweets          49886 non-null  int64 \n",
      " 5   replies           49886 non-null  int64 \n",
      " 6   likes             49886 non-null  int64 \n",
      " 7   quote_count       49886 non-null  int64 \n",
      " 8   place_id          49886 non-null  object\n",
      " 9   place_name        49886 non-null  object\n",
      " 10  bbox              49886 non-null  object\n",
      " 11  cleaned_text      49886 non-null  object\n",
      "dtypes: int64(6), object(6)\n",
      "memory usage: 4.9+ MB\n"
     ]
    }
   ],
   "source": [
    "tweets.info()"
   ]
  },
  {
   "cell_type": "code",
   "execution_count": 73,
   "metadata": {},
   "outputs": [],
   "source": [
    "tweets.to_csv('DATA/MISC/temp.csv')"
   ]
  },
  {
   "cell_type": "code",
   "execution_count": 74,
   "metadata": {},
   "outputs": [],
   "source": [
    "tweets = pd.read_csv('DATA/MISC/temp.csv')"
   ]
  },
  {
   "cell_type": "markdown",
   "metadata": {},
   "source": [
    "### Convert Boundry Box to a set of coordinates of Latitude and Longitude\n",
    "There are a few ways of doing this\n",
    "* Take an average and find the middle of the Boundry Box\n",
    "* Indentify where the location is using another API based on place_name\n",
    "* Keep the location as a polygon and then place each user into a munucipality in hich the area is largest\n",
    "\n",
    "The way we will do it here is using centroid of the boundry box"
   ]
  },
  {
   "cell_type": "code",
   "execution_count": 75,
   "metadata": {},
   "outputs": [],
   "source": [
    "def bbox_to_coords(bbox):\n",
    "    all_coords = bbox.split()\n",
    "    coords = []\n",
    "    for coordinate in all_coords:\n",
    "        coordinate = coordinate.replace('[','')\n",
    "        coordinate = coordinate.replace(']','')\n",
    "        coordinate = coordinate.replace(',','')\n",
    "        coord = float(coordinate)\n",
    "        coords.append(coord)\n",
    "\n",
    "    return coords"
   ]
  },
  {
   "cell_type": "code",
   "execution_count": 76,
   "metadata": {},
   "outputs": [],
   "source": [
    "tweets['coords'] = tweets['bbox'].apply(lambda x: bbox_to_coords(x))"
   ]
  },
  {
   "cell_type": "code",
   "execution_count": 77,
   "metadata": {},
   "outputs": [],
   "source": [
    "tweets['longitude_1'] = tweets['coords'].apply(lambda x: x[0])\n",
    "tweets['latitude_1'] = tweets['coords'].apply(lambda x: x[1])\n",
    "tweets['longitude_2'] = tweets['coords'].apply(lambda x: x[2])\n",
    "tweets['latitude_2'] = tweets['coords'].apply(lambda x: x[3])"
   ]
  },
  {
   "cell_type": "code",
   "execution_count": 78,
   "metadata": {},
   "outputs": [
    {
     "data": {
      "text/html": [
       "<div>\n",
       "<style scoped>\n",
       "    .dataframe tbody tr th:only-of-type {\n",
       "        vertical-align: middle;\n",
       "    }\n",
       "\n",
       "    .dataframe tbody tr th {\n",
       "        vertical-align: top;\n",
       "    }\n",
       "\n",
       "    .dataframe thead th {\n",
       "        text-align: right;\n",
       "    }\n",
       "</style>\n",
       "<table border=\"1\" class=\"dataframe\">\n",
       "  <thead>\n",
       "    <tr style=\"text-align: right;\">\n",
       "      <th></th>\n",
       "      <th>Unnamed: 0</th>\n",
       "      <th>tweet_id</th>\n",
       "      <th>author_followers</th>\n",
       "      <th>text</th>\n",
       "      <th>created_at</th>\n",
       "      <th>retweets</th>\n",
       "      <th>replies</th>\n",
       "      <th>likes</th>\n",
       "      <th>quote_count</th>\n",
       "      <th>place_id</th>\n",
       "      <th>place_name</th>\n",
       "      <th>bbox</th>\n",
       "      <th>cleaned_text</th>\n",
       "      <th>coords</th>\n",
       "      <th>longitude_1</th>\n",
       "      <th>latitude_1</th>\n",
       "      <th>longitude_2</th>\n",
       "      <th>latitude_2</th>\n",
       "    </tr>\n",
       "  </thead>\n",
       "  <tbody>\n",
       "    <tr>\n",
       "      <th>0</th>\n",
       "      <td>0</td>\n",
       "      <td>923338307890708480</td>\n",
       "      <td>1715</td>\n",
       "      <td>have to start watching Narcos again</td>\n",
       "      <td>2017-10-25 23:59:42+00:00</td>\n",
       "      <td>0</td>\n",
       "      <td>0</td>\n",
       "      <td>1</td>\n",
       "      <td>0</td>\n",
       "      <td>{'place_id': 'dd9c0d7d7e07eb49'}</td>\n",
       "      <td>South Africa</td>\n",
       "      <td>[16.4475932, -34.8342468, 32.8922934, -22.1247...</td>\n",
       "      <td>start watch narcos</td>\n",
       "      <td>[16.4475932, -34.8342468, 32.8922934, -22.1247...</td>\n",
       "      <td>16.447593</td>\n",
       "      <td>-34.834247</td>\n",
       "      <td>32.892293</td>\n",
       "      <td>-22.124724</td>\n",
       "    </tr>\n",
       "    <tr>\n",
       "      <th>1</th>\n",
       "      <td>1</td>\n",
       "      <td>923338250261008386</td>\n",
       "      <td>9188</td>\n",
       "      <td>Thatha celebrity https://t.co/aykbdCw1Pf</td>\n",
       "      <td>2017-10-25 23:59:28+00:00</td>\n",
       "      <td>0</td>\n",
       "      <td>1</td>\n",
       "      <td>0</td>\n",
       "      <td>0</td>\n",
       "      <td>{'place_id': 'e564d30dc173d2a8'}</td>\n",
       "      <td>Johannesburg, South Africa</td>\n",
       "      <td>[27.7518557, -26.5126489, 28.1843404, -26.0396...</td>\n",
       "      <td>thatha celebrity</td>\n",
       "      <td>[27.7518557, -26.5126489, 28.1843404, -26.0396...</td>\n",
       "      <td>27.751856</td>\n",
       "      <td>-26.512649</td>\n",
       "      <td>28.184340</td>\n",
       "      <td>-26.039628</td>\n",
       "    </tr>\n",
       "    <tr>\n",
       "      <th>2</th>\n",
       "      <td>2</td>\n",
       "      <td>923338197563854848</td>\n",
       "      <td>598</td>\n",
       "      <td>@Baba_Bangude Shoda is a kakist😂</td>\n",
       "      <td>2017-10-25 23:59:15+00:00</td>\n",
       "      <td>0</td>\n",
       "      <td>0</td>\n",
       "      <td>0</td>\n",
       "      <td>0</td>\n",
       "      <td>{'place_id': '557dd67203c6e04c'}</td>\n",
       "      <td>Vereeniging, South Africa</td>\n",
       "      <td>[27.8525058, -26.7255165, 28.0249225, -26.5247...</td>\n",
       "      <td>shoda kakist</td>\n",
       "      <td>[27.8525058, -26.7255165, 28.0249225, -26.5247...</td>\n",
       "      <td>27.852506</td>\n",
       "      <td>-26.725517</td>\n",
       "      <td>28.024922</td>\n",
       "      <td>-26.524795</td>\n",
       "    </tr>\n",
       "  </tbody>\n",
       "</table>\n",
       "</div>"
      ],
      "text/plain": [
       "   Unnamed: 0            tweet_id  author_followers  \\\n",
       "0           0  923338307890708480              1715   \n",
       "1           1  923338250261008386              9188   \n",
       "2           2  923338197563854848               598   \n",
       "\n",
       "                                       text                 created_at  \\\n",
       "0       have to start watching Narcos again  2017-10-25 23:59:42+00:00   \n",
       "1  Thatha celebrity https://t.co/aykbdCw1Pf  2017-10-25 23:59:28+00:00   \n",
       "2          @Baba_Bangude Shoda is a kakist😂  2017-10-25 23:59:15+00:00   \n",
       "\n",
       "   retweets  replies  likes  quote_count                          place_id  \\\n",
       "0         0        0      1            0  {'place_id': 'dd9c0d7d7e07eb49'}   \n",
       "1         0        1      0            0  {'place_id': 'e564d30dc173d2a8'}   \n",
       "2         0        0      0            0  {'place_id': '557dd67203c6e04c'}   \n",
       "\n",
       "                   place_name  \\\n",
       "0                South Africa   \n",
       "1  Johannesburg, South Africa   \n",
       "2   Vereeniging, South Africa   \n",
       "\n",
       "                                                bbox        cleaned_text  \\\n",
       "0  [16.4475932, -34.8342468, 32.8922934, -22.1247...  start watch narcos   \n",
       "1  [27.7518557, -26.5126489, 28.1843404, -26.0396...    thatha celebrity   \n",
       "2  [27.8525058, -26.7255165, 28.0249225, -26.5247...        shoda kakist   \n",
       "\n",
       "                                              coords  longitude_1  latitude_1  \\\n",
       "0  [16.4475932, -34.8342468, 32.8922934, -22.1247...    16.447593  -34.834247   \n",
       "1  [27.7518557, -26.5126489, 28.1843404, -26.0396...    27.751856  -26.512649   \n",
       "2  [27.8525058, -26.7255165, 28.0249225, -26.5247...    27.852506  -26.725517   \n",
       "\n",
       "   longitude_2  latitude_2  \n",
       "0    32.892293  -22.124724  \n",
       "1    28.184340  -26.039628  \n",
       "2    28.024922  -26.524795  "
      ]
     },
     "execution_count": 78,
     "metadata": {},
     "output_type": "execute_result"
    }
   ],
   "source": [
    "tweets.head(3)"
   ]
  },
  {
   "cell_type": "code",
   "execution_count": 79,
   "metadata": {},
   "outputs": [],
   "source": [
    "tweets = tweets.drop('bbox', axis=1)"
   ]
  },
  {
   "cell_type": "code",
   "execution_count": 80,
   "metadata": {},
   "outputs": [],
   "source": [
    "def find_centroid(coords):\n",
    "    geometry = LineString([(coords[0], coords[1]),(coords[2], coords[3])])\n",
    "    centroid = geometry.centroid\n",
    "    return centroid"
   ]
  },
  {
   "cell_type": "code",
   "execution_count": 81,
   "metadata": {},
   "outputs": [],
   "source": [
    "tweets['centroid'] = tweets['coords'].apply(lambda x: find_centroid(x))"
   ]
  },
  {
   "cell_type": "code",
   "execution_count": 82,
   "metadata": {},
   "outputs": [],
   "source": [
    "tweets['centroid_long'] = tweets['centroid'].apply(lambda z: z.x)\n",
    "tweets['centroid_lat'] = tweets['centroid'].apply(lambda z: z.y)"
   ]
  },
  {
   "cell_type": "code",
   "execution_count": 83,
   "metadata": {},
   "outputs": [
    {
     "data": {
      "text/html": [
       "<div>\n",
       "<style scoped>\n",
       "    .dataframe tbody tr th:only-of-type {\n",
       "        vertical-align: middle;\n",
       "    }\n",
       "\n",
       "    .dataframe tbody tr th {\n",
       "        vertical-align: top;\n",
       "    }\n",
       "\n",
       "    .dataframe thead th {\n",
       "        text-align: right;\n",
       "    }\n",
       "</style>\n",
       "<table border=\"1\" class=\"dataframe\">\n",
       "  <thead>\n",
       "    <tr style=\"text-align: right;\">\n",
       "      <th></th>\n",
       "      <th>Unnamed: 0</th>\n",
       "      <th>tweet_id</th>\n",
       "      <th>author_followers</th>\n",
       "      <th>text</th>\n",
       "      <th>created_at</th>\n",
       "      <th>retweets</th>\n",
       "      <th>replies</th>\n",
       "      <th>likes</th>\n",
       "      <th>quote_count</th>\n",
       "      <th>place_id</th>\n",
       "      <th>place_name</th>\n",
       "      <th>cleaned_text</th>\n",
       "      <th>coords</th>\n",
       "      <th>longitude_1</th>\n",
       "      <th>latitude_1</th>\n",
       "      <th>longitude_2</th>\n",
       "      <th>latitude_2</th>\n",
       "      <th>centroid_long</th>\n",
       "      <th>centroid_lat</th>\n",
       "    </tr>\n",
       "  </thead>\n",
       "  <tbody>\n",
       "    <tr>\n",
       "      <th>0</th>\n",
       "      <td>0</td>\n",
       "      <td>923338307890708480</td>\n",
       "      <td>1715</td>\n",
       "      <td>have to start watching Narcos again</td>\n",
       "      <td>2017-10-25 23:59:42+00:00</td>\n",
       "      <td>0</td>\n",
       "      <td>0</td>\n",
       "      <td>1</td>\n",
       "      <td>0</td>\n",
       "      <td>{'place_id': 'dd9c0d7d7e07eb49'}</td>\n",
       "      <td>South Africa</td>\n",
       "      <td>start watch narcos</td>\n",
       "      <td>[16.4475932, -34.8342468, 32.8922934, -22.1247...</td>\n",
       "      <td>16.447593</td>\n",
       "      <td>-34.834247</td>\n",
       "      <td>32.892293</td>\n",
       "      <td>-22.124724</td>\n",
       "      <td>24.669943</td>\n",
       "      <td>-28.479485</td>\n",
       "    </tr>\n",
       "    <tr>\n",
       "      <th>1</th>\n",
       "      <td>1</td>\n",
       "      <td>923338250261008386</td>\n",
       "      <td>9188</td>\n",
       "      <td>Thatha celebrity https://t.co/aykbdCw1Pf</td>\n",
       "      <td>2017-10-25 23:59:28+00:00</td>\n",
       "      <td>0</td>\n",
       "      <td>1</td>\n",
       "      <td>0</td>\n",
       "      <td>0</td>\n",
       "      <td>{'place_id': 'e564d30dc173d2a8'}</td>\n",
       "      <td>Johannesburg, South Africa</td>\n",
       "      <td>thatha celebrity</td>\n",
       "      <td>[27.7518557, -26.5126489, 28.1843404, -26.0396...</td>\n",
       "      <td>27.751856</td>\n",
       "      <td>-26.512649</td>\n",
       "      <td>28.184340</td>\n",
       "      <td>-26.039628</td>\n",
       "      <td>27.968098</td>\n",
       "      <td>-26.276139</td>\n",
       "    </tr>\n",
       "    <tr>\n",
       "      <th>2</th>\n",
       "      <td>2</td>\n",
       "      <td>923338197563854848</td>\n",
       "      <td>598</td>\n",
       "      <td>@Baba_Bangude Shoda is a kakist😂</td>\n",
       "      <td>2017-10-25 23:59:15+00:00</td>\n",
       "      <td>0</td>\n",
       "      <td>0</td>\n",
       "      <td>0</td>\n",
       "      <td>0</td>\n",
       "      <td>{'place_id': '557dd67203c6e04c'}</td>\n",
       "      <td>Vereeniging, South Africa</td>\n",
       "      <td>shoda kakist</td>\n",
       "      <td>[27.8525058, -26.7255165, 28.0249225, -26.5247...</td>\n",
       "      <td>27.852506</td>\n",
       "      <td>-26.725517</td>\n",
       "      <td>28.024922</td>\n",
       "      <td>-26.524795</td>\n",
       "      <td>27.938714</td>\n",
       "      <td>-26.625156</td>\n",
       "    </tr>\n",
       "  </tbody>\n",
       "</table>\n",
       "</div>"
      ],
      "text/plain": [
       "   Unnamed: 0            tweet_id  author_followers  \\\n",
       "0           0  923338307890708480              1715   \n",
       "1           1  923338250261008386              9188   \n",
       "2           2  923338197563854848               598   \n",
       "\n",
       "                                       text                 created_at  \\\n",
       "0       have to start watching Narcos again  2017-10-25 23:59:42+00:00   \n",
       "1  Thatha celebrity https://t.co/aykbdCw1Pf  2017-10-25 23:59:28+00:00   \n",
       "2          @Baba_Bangude Shoda is a kakist😂  2017-10-25 23:59:15+00:00   \n",
       "\n",
       "   retweets  replies  likes  quote_count                          place_id  \\\n",
       "0         0        0      1            0  {'place_id': 'dd9c0d7d7e07eb49'}   \n",
       "1         0        1      0            0  {'place_id': 'e564d30dc173d2a8'}   \n",
       "2         0        0      0            0  {'place_id': '557dd67203c6e04c'}   \n",
       "\n",
       "                   place_name        cleaned_text  \\\n",
       "0                South Africa  start watch narcos   \n",
       "1  Johannesburg, South Africa    thatha celebrity   \n",
       "2   Vereeniging, South Africa        shoda kakist   \n",
       "\n",
       "                                              coords  longitude_1  latitude_1  \\\n",
       "0  [16.4475932, -34.8342468, 32.8922934, -22.1247...    16.447593  -34.834247   \n",
       "1  [27.7518557, -26.5126489, 28.1843404, -26.0396...    27.751856  -26.512649   \n",
       "2  [27.8525058, -26.7255165, 28.0249225, -26.5247...    27.852506  -26.725517   \n",
       "\n",
       "   longitude_2  latitude_2  centroid_long  centroid_lat  \n",
       "0    32.892293  -22.124724      24.669943    -28.479485  \n",
       "1    28.184340  -26.039628      27.968098    -26.276139  \n",
       "2    28.024922  -26.524795      27.938714    -26.625156  "
      ]
     },
     "execution_count": 83,
     "metadata": {},
     "output_type": "execute_result"
    }
   ],
   "source": [
    "tweets = tweets.drop('centroid', axis =1)\n",
    "tweets.head(3)"
   ]
  },
  {
   "cell_type": "markdown",
   "metadata": {},
   "source": [
    "### Fix Edge Cases\n",
    "* Cape Town\n",
    "* Betty's Bay\n",
    "* Bloubergstrand\n",
    "* Mdumbi Beach \n",
    "</br>\n",
    "Using: https://www.distancesto.com/coordinates/za/bloubergstrand-latitude-longitude/history/76385.html"
   ]
  },
  {
   "cell_type": "code",
   "execution_count": 84,
   "metadata": {},
   "outputs": [],
   "source": [
    "tweets.loc[tweets.place_name == 'Cape Town, South Africa', ['centroid_long', 'centroid_lat']] = 18.4241, -33.9249\n",
    "tweets.loc[tweets.place_name == 'Mdumbi Beach', ['centroid_long', 'centroid_lat']] = 29.215369, -31.933896\n",
    "tweets.loc[tweets.place_name == \"Betty's Bay, South Africa\", ['centroid_long', 'centroid_lat']] = 18.92051, -34.34747\n",
    "tweets.loc[tweets.place_name == 'Bloubergstrand', ['centroid_long', 'centroid_lat']] = 18.46173, -33.800418"
   ]
  },
  {
   "cell_type": "code",
   "execution_count": 85,
   "metadata": {},
   "outputs": [],
   "source": [
    "geometry = [Point(xy) for xy in zip(tweets['centroid_long'], tweets['centroid_lat'])]\n",
    "gdf = GeoDataFrame(tweets, geometry=geometry)  "
   ]
  },
  {
   "cell_type": "code",
   "execution_count": 86,
   "metadata": {},
   "outputs": [
    {
     "data": {
      "text/html": [
       "<div>\n",
       "<style scoped>\n",
       "    .dataframe tbody tr th:only-of-type {\n",
       "        vertical-align: middle;\n",
       "    }\n",
       "\n",
       "    .dataframe tbody tr th {\n",
       "        vertical-align: top;\n",
       "    }\n",
       "\n",
       "    .dataframe thead th {\n",
       "        text-align: right;\n",
       "    }\n",
       "</style>\n",
       "<table border=\"1\" class=\"dataframe\">\n",
       "  <thead>\n",
       "    <tr style=\"text-align: right;\">\n",
       "      <th></th>\n",
       "      <th>Unnamed: 0</th>\n",
       "      <th>tweet_id</th>\n",
       "      <th>author_followers</th>\n",
       "      <th>text</th>\n",
       "      <th>created_at</th>\n",
       "      <th>retweets</th>\n",
       "      <th>replies</th>\n",
       "      <th>likes</th>\n",
       "      <th>quote_count</th>\n",
       "      <th>place_id</th>\n",
       "      <th>place_name</th>\n",
       "      <th>cleaned_text</th>\n",
       "      <th>coords</th>\n",
       "      <th>geometry</th>\n",
       "    </tr>\n",
       "  </thead>\n",
       "  <tbody>\n",
       "    <tr>\n",
       "      <th>0</th>\n",
       "      <td>0</td>\n",
       "      <td>923338307890708480</td>\n",
       "      <td>1715</td>\n",
       "      <td>have to start watching Narcos again</td>\n",
       "      <td>2017-10-25 23:59:42+00:00</td>\n",
       "      <td>0</td>\n",
       "      <td>0</td>\n",
       "      <td>1</td>\n",
       "      <td>0</td>\n",
       "      <td>{'place_id': 'dd9c0d7d7e07eb49'}</td>\n",
       "      <td>South Africa</td>\n",
       "      <td>start watch narcos</td>\n",
       "      <td>[16.4475932, -34.8342468, 32.8922934, -22.1247...</td>\n",
       "      <td>POINT (24.66994 -28.47949)</td>\n",
       "    </tr>\n",
       "    <tr>\n",
       "      <th>1</th>\n",
       "      <td>1</td>\n",
       "      <td>923338250261008386</td>\n",
       "      <td>9188</td>\n",
       "      <td>Thatha celebrity https://t.co/aykbdCw1Pf</td>\n",
       "      <td>2017-10-25 23:59:28+00:00</td>\n",
       "      <td>0</td>\n",
       "      <td>1</td>\n",
       "      <td>0</td>\n",
       "      <td>0</td>\n",
       "      <td>{'place_id': 'e564d30dc173d2a8'}</td>\n",
       "      <td>Johannesburg, South Africa</td>\n",
       "      <td>thatha celebrity</td>\n",
       "      <td>[27.7518557, -26.5126489, 28.1843404, -26.0396...</td>\n",
       "      <td>POINT (27.96810 -26.27614)</td>\n",
       "    </tr>\n",
       "  </tbody>\n",
       "</table>\n",
       "</div>"
      ],
      "text/plain": [
       "   Unnamed: 0            tweet_id  author_followers  \\\n",
       "0           0  923338307890708480              1715   \n",
       "1           1  923338250261008386              9188   \n",
       "\n",
       "                                       text                 created_at  \\\n",
       "0       have to start watching Narcos again  2017-10-25 23:59:42+00:00   \n",
       "1  Thatha celebrity https://t.co/aykbdCw1Pf  2017-10-25 23:59:28+00:00   \n",
       "\n",
       "   retweets  replies  likes  quote_count                          place_id  \\\n",
       "0         0        0      1            0  {'place_id': 'dd9c0d7d7e07eb49'}   \n",
       "1         0        1      0            0  {'place_id': 'e564d30dc173d2a8'}   \n",
       "\n",
       "                   place_name        cleaned_text  \\\n",
       "0                South Africa  start watch narcos   \n",
       "1  Johannesburg, South Africa    thatha celebrity   \n",
       "\n",
       "                                              coords  \\\n",
       "0  [16.4475932, -34.8342468, 32.8922934, -22.1247...   \n",
       "1  [27.7518557, -26.5126489, 28.1843404, -26.0396...   \n",
       "\n",
       "                     geometry  \n",
       "0  POINT (24.66994 -28.47949)  \n",
       "1  POINT (27.96810 -26.27614)  "
      ]
     },
     "execution_count": 86,
     "metadata": {},
     "output_type": "execute_result"
    }
   ],
   "source": [
    "tweets = tweets.drop('longitude_1', axis=1)\n",
    "tweets = tweets.drop('longitude_2', axis=1)\n",
    "tweets = tweets.drop('latitude_1', axis=1)\n",
    "tweets = tweets.drop('latitude_2', axis=1)\n",
    "tweets = tweets.drop('centroid_long', axis=1)\n",
    "tweets = tweets.drop('centroid_lat', axis=1)\n",
    "tweets.head(2)"
   ]
  },
  {
   "cell_type": "markdown",
   "metadata": {},
   "source": [
    "### Remove Useless locations\n",
    "Drop row where location is = South Africa, since this location is not specfic enough and offers little value."
   ]
  },
  {
   "cell_type": "code",
   "execution_count": 87,
   "metadata": {},
   "outputs": [
    {
     "data": {
      "text/plain": [
       "(49886, 14)"
      ]
     },
     "execution_count": 87,
     "metadata": {},
     "output_type": "execute_result"
    }
   ],
   "source": [
    "tweets.shape"
   ]
  },
  {
   "cell_type": "code",
   "execution_count": 88,
   "metadata": {},
   "outputs": [],
   "source": [
    "tweets = tweets[tweets['place_name'] != 'South Africa']"
   ]
  },
  {
   "cell_type": "code",
   "execution_count": 89,
   "metadata": {},
   "outputs": [
    {
     "data": {
      "text/plain": [
       "(46601, 14)"
      ]
     },
     "execution_count": 89,
     "metadata": {},
     "output_type": "execute_result"
    }
   ],
   "source": [
    "tweets.shape"
   ]
  },
  {
   "cell_type": "code",
   "execution_count": 90,
   "metadata": {},
   "outputs": [
    {
     "data": {
      "text/html": [
       "<div>\n",
       "<style scoped>\n",
       "    .dataframe tbody tr th:only-of-type {\n",
       "        vertical-align: middle;\n",
       "    }\n",
       "\n",
       "    .dataframe tbody tr th {\n",
       "        vertical-align: top;\n",
       "    }\n",
       "\n",
       "    .dataframe thead th {\n",
       "        text-align: right;\n",
       "    }\n",
       "</style>\n",
       "<table border=\"1\" class=\"dataframe\">\n",
       "  <thead>\n",
       "    <tr style=\"text-align: right;\">\n",
       "      <th></th>\n",
       "      <th>Unnamed: 0</th>\n",
       "      <th>tweet_id</th>\n",
       "      <th>author_followers</th>\n",
       "      <th>text</th>\n",
       "      <th>created_at</th>\n",
       "      <th>retweets</th>\n",
       "      <th>replies</th>\n",
       "      <th>likes</th>\n",
       "      <th>quote_count</th>\n",
       "      <th>place_id</th>\n",
       "      <th>place_name</th>\n",
       "      <th>cleaned_text</th>\n",
       "      <th>coords</th>\n",
       "      <th>geometry</th>\n",
       "    </tr>\n",
       "  </thead>\n",
       "  <tbody>\n",
       "    <tr>\n",
       "      <th>1</th>\n",
       "      <td>1</td>\n",
       "      <td>923338250261008386</td>\n",
       "      <td>9188</td>\n",
       "      <td>Thatha celebrity https://t.co/aykbdCw1Pf</td>\n",
       "      <td>2017-10-25 23:59:28+00:00</td>\n",
       "      <td>0</td>\n",
       "      <td>1</td>\n",
       "      <td>0</td>\n",
       "      <td>0</td>\n",
       "      <td>{'place_id': 'e564d30dc173d2a8'}</td>\n",
       "      <td>Johannesburg, South Africa</td>\n",
       "      <td>thatha celebrity</td>\n",
       "      <td>[27.7518557, -26.5126489, 28.1843404, -26.0396...</td>\n",
       "      <td>POINT (27.96810 -26.27614)</td>\n",
       "    </tr>\n",
       "    <tr>\n",
       "      <th>2</th>\n",
       "      <td>2</td>\n",
       "      <td>923338197563854848</td>\n",
       "      <td>598</td>\n",
       "      <td>@Baba_Bangude Shoda is a kakist😂</td>\n",
       "      <td>2017-10-25 23:59:15+00:00</td>\n",
       "      <td>0</td>\n",
       "      <td>0</td>\n",
       "      <td>0</td>\n",
       "      <td>0</td>\n",
       "      <td>{'place_id': '557dd67203c6e04c'}</td>\n",
       "      <td>Vereeniging, South Africa</td>\n",
       "      <td>shoda kakist</td>\n",
       "      <td>[27.8525058, -26.7255165, 28.0249225, -26.5247...</td>\n",
       "      <td>POINT (27.93871 -26.62516)</td>\n",
       "    </tr>\n",
       "  </tbody>\n",
       "</table>\n",
       "</div>"
      ],
      "text/plain": [
       "   Unnamed: 0            tweet_id  author_followers  \\\n",
       "1           1  923338250261008386              9188   \n",
       "2           2  923338197563854848               598   \n",
       "\n",
       "                                       text                 created_at  \\\n",
       "1  Thatha celebrity https://t.co/aykbdCw1Pf  2017-10-25 23:59:28+00:00   \n",
       "2          @Baba_Bangude Shoda is a kakist😂  2017-10-25 23:59:15+00:00   \n",
       "\n",
       "   retweets  replies  likes  quote_count                          place_id  \\\n",
       "1         0        1      0            0  {'place_id': 'e564d30dc173d2a8'}   \n",
       "2         0        0      0            0  {'place_id': '557dd67203c6e04c'}   \n",
       "\n",
       "                   place_name      cleaned_text  \\\n",
       "1  Johannesburg, South Africa  thatha celebrity   \n",
       "2   Vereeniging, South Africa      shoda kakist   \n",
       "\n",
       "                                              coords  \\\n",
       "1  [27.7518557, -26.5126489, 28.1843404, -26.0396...   \n",
       "2  [27.8525058, -26.7255165, 28.0249225, -26.5247...   \n",
       "\n",
       "                     geometry  \n",
       "1  POINT (27.96810 -26.27614)  \n",
       "2  POINT (27.93871 -26.62516)  "
      ]
     },
     "execution_count": 90,
     "metadata": {},
     "output_type": "execute_result"
    }
   ],
   "source": [
    "tweets.head(2)"
   ]
  },
  {
   "cell_type": "code",
   "execution_count": 91,
   "metadata": {},
   "outputs": [],
   "source": [
    "tweets.to_csv('DATA/Clean_Tweets_All_Info.csv')"
   ]
  },
  {
   "cell_type": "markdown",
   "metadata": {},
   "source": [
    "### Set up tweet dataframe into a normalised relational database\n",
    "Use the following databases:\n",
    "* Tweet Database - Contains all the information about each tweet\n",
    "* Location Database - Contains all the information about each location\n",
    "* Author Database - Contains all the information specfic to each author\n",
    "* Relational Database - Contains the relations between all the above databases"
   ]
  },
  {
   "cell_type": "markdown",
   "metadata": {},
   "source": [
    "#### Location Database"
   ]
  },
  {
   "cell_type": "code",
   "execution_count": 92,
   "metadata": {},
   "outputs": [
    {
     "name": "stdout",
     "output_type": "stream",
     "text": [
      "(46601, 4)\n",
      "(2131, 4)\n"
     ]
    },
    {
     "data": {
      "text/html": [
       "<div>\n",
       "<style scoped>\n",
       "    .dataframe tbody tr th:only-of-type {\n",
       "        vertical-align: middle;\n",
       "    }\n",
       "\n",
       "    .dataframe tbody tr th {\n",
       "        vertical-align: top;\n",
       "    }\n",
       "\n",
       "    .dataframe thead th {\n",
       "        text-align: right;\n",
       "    }\n",
       "</style>\n",
       "<table border=\"1\" class=\"dataframe\">\n",
       "  <thead>\n",
       "    <tr style=\"text-align: right;\">\n",
       "      <th></th>\n",
       "      <th>place_name</th>\n",
       "      <th>coords</th>\n",
       "      <th>geometry</th>\n",
       "    </tr>\n",
       "    <tr>\n",
       "      <th>place_id</th>\n",
       "      <th></th>\n",
       "      <th></th>\n",
       "      <th></th>\n",
       "    </tr>\n",
       "  </thead>\n",
       "  <tbody>\n",
       "    <tr>\n",
       "      <th>{'place_id': 'e564d30dc173d2a8'}</th>\n",
       "      <td>Johannesburg, South Africa</td>\n",
       "      <td>[27.7518557, -26.5126489, 28.1843404, -26.0396...</td>\n",
       "      <td>POINT (27.96810 -26.27614)</td>\n",
       "    </tr>\n",
       "    <tr>\n",
       "      <th>{'place_id': '557dd67203c6e04c'}</th>\n",
       "      <td>Vereeniging, South Africa</td>\n",
       "      <td>[27.8525058, -26.7255165, 28.0249225, -26.5247...</td>\n",
       "      <td>POINT (27.93871 -26.62516)</td>\n",
       "    </tr>\n",
       "    <tr>\n",
       "      <th>{'place_id': '8b9ec16fdc0d7e55'}</th>\n",
       "      <td>Cape Town, South Africa</td>\n",
       "      <td>[18.3180332, -34.35839, 18.6600898, -33.8849254]</td>\n",
       "      <td>POINT (18.42410 -33.92490)</td>\n",
       "    </tr>\n",
       "  </tbody>\n",
       "</table>\n",
       "</div>"
      ],
      "text/plain": [
       "                                                  place_name  \\\n",
       "place_id                                                       \n",
       "{'place_id': 'e564d30dc173d2a8'}  Johannesburg, South Africa   \n",
       "{'place_id': '557dd67203c6e04c'}   Vereeniging, South Africa   \n",
       "{'place_id': '8b9ec16fdc0d7e55'}     Cape Town, South Africa   \n",
       "\n",
       "                                                                             coords  \\\n",
       "place_id                                                                              \n",
       "{'place_id': 'e564d30dc173d2a8'}  [27.7518557, -26.5126489, 28.1843404, -26.0396...   \n",
       "{'place_id': '557dd67203c6e04c'}  [27.8525058, -26.7255165, 28.0249225, -26.5247...   \n",
       "{'place_id': '8b9ec16fdc0d7e55'}   [18.3180332, -34.35839, 18.6600898, -33.8849254]   \n",
       "\n",
       "                                                    geometry  \n",
       "place_id                                                      \n",
       "{'place_id': 'e564d30dc173d2a8'}  POINT (27.96810 -26.27614)  \n",
       "{'place_id': '557dd67203c6e04c'}  POINT (27.93871 -26.62516)  \n",
       "{'place_id': '8b9ec16fdc0d7e55'}  POINT (18.42410 -33.92490)  "
      ]
     },
     "execution_count": 92,
     "metadata": {},
     "output_type": "execute_result"
    }
   ],
   "source": [
    "locations = GeoDataFrame()\n",
    "locations['place_id'] = tweets['place_id']\n",
    "locations['place_name'] = tweets['place_name']\n",
    "locations['coords'] = tweets['coords']\n",
    "locations['geometry'] = tweets['geometry']\n",
    "print(locations.shape)\n",
    "locations = locations.loc[locations.astype(str).drop_duplicates().index]\n",
    "print(locations.shape)\n",
    "locations = locations.set_index('place_id')\n",
    "locations.head(3)\n"
   ]
  },
  {
   "cell_type": "code",
   "execution_count": 93,
   "metadata": {},
   "outputs": [
    {
     "data": {
      "text/plain": [
       "(2131, 3)"
      ]
     },
     "execution_count": 93,
     "metadata": {},
     "output_type": "execute_result"
    }
   ],
   "source": [
    "locations.shape"
   ]
  },
  {
   "cell_type": "markdown",
   "metadata": {},
   "source": [
    "#### Tweet Database"
   ]
  },
  {
   "cell_type": "code",
   "execution_count": 94,
   "metadata": {},
   "outputs": [
    {
     "data": {
      "text/html": [
       "<div>\n",
       "<style scoped>\n",
       "    .dataframe tbody tr th:only-of-type {\n",
       "        vertical-align: middle;\n",
       "    }\n",
       "\n",
       "    .dataframe tbody tr th {\n",
       "        vertical-align: top;\n",
       "    }\n",
       "\n",
       "    .dataframe thead th {\n",
       "        text-align: right;\n",
       "    }\n",
       "</style>\n",
       "<table border=\"1\" class=\"dataframe\">\n",
       "  <thead>\n",
       "    <tr style=\"text-align: right;\">\n",
       "      <th></th>\n",
       "      <th>Unnamed: 0</th>\n",
       "      <th>author_followers</th>\n",
       "      <th>text</th>\n",
       "      <th>created_at</th>\n",
       "      <th>retweets</th>\n",
       "      <th>replies</th>\n",
       "      <th>likes</th>\n",
       "      <th>quote_count</th>\n",
       "      <th>cleaned_text</th>\n",
       "    </tr>\n",
       "    <tr>\n",
       "      <th>tweet_id</th>\n",
       "      <th></th>\n",
       "      <th></th>\n",
       "      <th></th>\n",
       "      <th></th>\n",
       "      <th></th>\n",
       "      <th></th>\n",
       "      <th></th>\n",
       "      <th></th>\n",
       "      <th></th>\n",
       "    </tr>\n",
       "  </thead>\n",
       "  <tbody>\n",
       "    <tr>\n",
       "      <th>923338250261008386</th>\n",
       "      <td>1</td>\n",
       "      <td>9188</td>\n",
       "      <td>Thatha celebrity https://t.co/aykbdCw1Pf</td>\n",
       "      <td>2017-10-25 23:59:28+00:00</td>\n",
       "      <td>0</td>\n",
       "      <td>1</td>\n",
       "      <td>0</td>\n",
       "      <td>0</td>\n",
       "      <td>thatha celebrity</td>\n",
       "    </tr>\n",
       "    <tr>\n",
       "      <th>923338197563854848</th>\n",
       "      <td>2</td>\n",
       "      <td>598</td>\n",
       "      <td>@Baba_Bangude Shoda is a kakist😂</td>\n",
       "      <td>2017-10-25 23:59:15+00:00</td>\n",
       "      <td>0</td>\n",
       "      <td>0</td>\n",
       "      <td>0</td>\n",
       "      <td>0</td>\n",
       "      <td>shoda kakist</td>\n",
       "    </tr>\n",
       "    <tr>\n",
       "      <th>923338139451772929</th>\n",
       "      <td>3</td>\n",
       "      <td>5590</td>\n",
       "      <td>My Zulu comprehension doesn't allow me to enjo...</td>\n",
       "      <td>2017-10-25 23:59:01+00:00</td>\n",
       "      <td>0</td>\n",
       "      <td>0</td>\n",
       "      <td>0</td>\n",
       "      <td>0</td>\n",
       "      <td>zulu comprehension allow enjoy lyricism amanca...</td>\n",
       "    </tr>\n",
       "  </tbody>\n",
       "</table>\n",
       "</div>"
      ],
      "text/plain": [
       "                    Unnamed: 0  author_followers  \\\n",
       "tweet_id                                           \n",
       "923338250261008386           1              9188   \n",
       "923338197563854848           2               598   \n",
       "923338139451772929           3              5590   \n",
       "\n",
       "                                                                 text  \\\n",
       "tweet_id                                                                \n",
       "923338250261008386           Thatha celebrity https://t.co/aykbdCw1Pf   \n",
       "923338197563854848                   @Baba_Bangude Shoda is a kakist😂   \n",
       "923338139451772929  My Zulu comprehension doesn't allow me to enjo...   \n",
       "\n",
       "                                   created_at  retweets  replies  likes  \\\n",
       "tweet_id                                                                  \n",
       "923338250261008386  2017-10-25 23:59:28+00:00         0        1      0   \n",
       "923338197563854848  2017-10-25 23:59:15+00:00         0        0      0   \n",
       "923338139451772929  2017-10-25 23:59:01+00:00         0        0      0   \n",
       "\n",
       "                    quote_count  \\\n",
       "tweet_id                          \n",
       "923338250261008386            0   \n",
       "923338197563854848            0   \n",
       "923338139451772929            0   \n",
       "\n",
       "                                                         cleaned_text  \n",
       "tweet_id                                                               \n",
       "923338250261008386                                   thatha celebrity  \n",
       "923338197563854848                                       shoda kakist  \n",
       "923338139451772929  zulu comprehension allow enjoy lyricism amanca...  "
      ]
     },
     "execution_count": 94,
     "metadata": {},
     "output_type": "execute_result"
    }
   ],
   "source": [
    "just_tweets = tweets\n",
    "just_tweets = just_tweets.drop('place_name', axis = 1)\n",
    "just_tweets = just_tweets.drop('coords', axis = 1)\n",
    "just_tweets = just_tweets.drop('geometry', axis = 1)\n",
    "just_tweets = just_tweets.drop('place_id', axis = 1)\n",
    "# just_tweets = just_tweets.drop('author_id', axis = 1)\n",
    "just_tweets = just_tweets.set_index('tweet_id')\n",
    "just_tweets.head(3)"
   ]
  },
  {
   "cell_type": "code",
   "execution_count": 95,
   "metadata": {},
   "outputs": [
    {
     "data": {
      "text/plain": [
       "(46601, 9)"
      ]
     },
     "execution_count": 95,
     "metadata": {},
     "output_type": "execute_result"
    }
   ],
   "source": [
    "just_tweets.shape"
   ]
  },
  {
   "cell_type": "markdown",
   "metadata": {},
   "source": [
    "#### Relational Database"
   ]
  },
  {
   "cell_type": "code",
   "execution_count": 96,
   "metadata": {},
   "outputs": [
    {
     "data": {
      "text/html": [
       "<div>\n",
       "<style scoped>\n",
       "    .dataframe tbody tr th:only-of-type {\n",
       "        vertical-align: middle;\n",
       "    }\n",
       "\n",
       "    .dataframe tbody tr th {\n",
       "        vertical-align: top;\n",
       "    }\n",
       "\n",
       "    .dataframe thead th {\n",
       "        text-align: right;\n",
       "    }\n",
       "</style>\n",
       "<table border=\"1\" class=\"dataframe\">\n",
       "  <thead>\n",
       "    <tr style=\"text-align: right;\">\n",
       "      <th></th>\n",
       "      <th>place_id</th>\n",
       "    </tr>\n",
       "    <tr>\n",
       "      <th>tweet_id</th>\n",
       "      <th></th>\n",
       "    </tr>\n",
       "  </thead>\n",
       "  <tbody>\n",
       "    <tr>\n",
       "      <th>923338250261008386</th>\n",
       "      <td>{'place_id': 'e564d30dc173d2a8'}</td>\n",
       "    </tr>\n",
       "    <tr>\n",
       "      <th>923338197563854848</th>\n",
       "      <td>{'place_id': '557dd67203c6e04c'}</td>\n",
       "    </tr>\n",
       "    <tr>\n",
       "      <th>923338139451772929</th>\n",
       "      <td>{'place_id': '8b9ec16fdc0d7e55'}</td>\n",
       "    </tr>\n",
       "    <tr>\n",
       "      <th>923338012288782336</th>\n",
       "      <td>{'place_id': 'e564d30dc173d2a8'}</td>\n",
       "    </tr>\n",
       "    <tr>\n",
       "      <th>923338010984402944</th>\n",
       "      <td>{'place_id': '0e428116fe291283'}</td>\n",
       "    </tr>\n",
       "  </tbody>\n",
       "</table>\n",
       "</div>"
      ],
      "text/plain": [
       "                                            place_id\n",
       "tweet_id                                            \n",
       "923338250261008386  {'place_id': 'e564d30dc173d2a8'}\n",
       "923338197563854848  {'place_id': '557dd67203c6e04c'}\n",
       "923338139451772929  {'place_id': '8b9ec16fdc0d7e55'}\n",
       "923338012288782336  {'place_id': 'e564d30dc173d2a8'}\n",
       "923338010984402944  {'place_id': '0e428116fe291283'}"
      ]
     },
     "execution_count": 96,
     "metadata": {},
     "output_type": "execute_result"
    }
   ],
   "source": [
    "relations = pd.DataFrame()\n",
    "relations['tweet_id'] = tweets['tweet_id']\n",
    "relations['place_id'] = tweets['place_id']\n",
    "relations = relations.loc[relations.astype(str).drop_duplicates().index]\n",
    "relations = relations.set_index('tweet_id')\n",
    "relations.head()"
   ]
  },
  {
   "cell_type": "code",
   "execution_count": 97,
   "metadata": {},
   "outputs": [
    {
     "data": {
      "text/plain": [
       "(46601, 1)"
      ]
     },
     "execution_count": 97,
     "metadata": {},
     "output_type": "execute_result"
    }
   ],
   "source": [
    "relations.shape"
   ]
  },
  {
   "cell_type": "markdown",
   "metadata": {},
   "source": [
    "#### Create csv for each database"
   ]
  },
  {
   "cell_type": "code",
   "execution_count": 98,
   "metadata": {},
   "outputs": [],
   "source": [
    "just_tweets.to_csv('DATA/Relational_Databases/just_tweets.csv')\n",
    "locations.to_csv('DATA/Relational_Databases/locations.csv')\n",
    "relations.to_csv('DATA/Relational_Databases/relations.csv')"
   ]
  },
  {
   "cell_type": "markdown",
   "metadata": {},
   "source": [
    "### Possible Still to do Cleaning\n",
    "ensure that there are no NaN values, this can be done by either creating a custom value possibly using an average or alike. </br>\n",
    "Or filling in a value such as n/a indicating that no value is available or provided."
   ]
  }
 ],
 "metadata": {
  "kernelspec": {
   "display_name": "Python 3.9.13 ('geo-env')",
   "language": "python",
   "name": "python3"
  },
  "language_info": {
   "codemirror_mode": {
    "name": "ipython",
    "version": 3
   },
   "file_extension": ".py",
   "mimetype": "text/x-python",
   "name": "python",
   "nbconvert_exporter": "python",
   "pygments_lexer": "ipython3",
   "version": "3.9.13"
  },
  "orig_nbformat": 4,
  "vscode": {
   "interpreter": {
    "hash": "d62cabfd87325fce8e35bf7a599908de811680efa3678503d8c31f0c2dbb8548"
   }
  }
 },
 "nbformat": 4,
 "nbformat_minor": 2
}
