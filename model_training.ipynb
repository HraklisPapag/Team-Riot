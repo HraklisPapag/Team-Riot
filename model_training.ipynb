{
 "cells": [
  {
   "cell_type": "markdown",
   "metadata": {},
   "source": [
    "# Modeling"
   ]
  },
  {
   "cell_type": "code",
   "execution_count": 134,
   "metadata": {},
   "outputs": [],
   "source": [
    "# This file will train the models.\n",
    "import pandas as pd\n",
    "import matplotlib.pyplot as plt\n",
    "\n",
    "from sklearn.model_selection import train_test_split\n",
    "from sklearn.linear_model import LinearRegression\n",
    "from sklearn.linear_model import LogisticRegression\n",
    "from sklearn.naive_bayes import GaussianNB\n",
    "from sklearn.svm import LinearSVC\n",
    "from sklearn.ensemble import RandomForestClassifier\n",
    "from sklearn.metrics import accuracy_score\n",
    "import pickle\n",
    "from sklearn.feature_selection import SelectFromModel\n",
    "\n",
    "from statistics import multimode\n",
    "from cmath import nan\n",
    "import numpy as np\n",
    "\n",
    "\n",
    "import seaborn as sns\n",
    "pd.set_option(\"display.max_rows\", None, \"display.max_columns\", None)\n",
    "\n",
    "from sklearn.metrics import confusion_matrix \n",
    "from sklearn.model_selection import cross_val_score\n"
   ]
  },
  {
   "cell_type": "markdown",
   "metadata": {},
   "source": [
    "# Functions"
   ]
  },
  {
   "cell_type": "code",
   "execution_count": 135,
   "metadata": {},
   "outputs": [],
   "source": [
    "def models(X_train,Y_train):\n",
    "      \n",
    "  #Using Logistic Regression Algorithm to the Training Set\n",
    "  from sklearn.linear_model import LogisticRegression\n",
    "  log = LogisticRegression(random_state = 0)\n",
    "  log.fit(X_train, Y_train)  \n",
    "  \n",
    "  #Using KNeighborsClassifier Method of neighbors class to use Nearest Neighbor algorithm\n",
    "  from sklearn.tree import DecisionTreeClassifier\n",
    "  tree = DecisionTreeClassifier(criterion = 'entropy', random_state = 0)\n",
    "  tree.fit(X_train, Y_train)\n",
    "\n",
    "  #Using RandomForestClassifier method of ensemble class to use Random Forest Classification algorithm\n",
    "  from sklearn.ensemble import RandomForestClassifier\n",
    "  forest = RandomForestClassifier()\n",
    "  forest.fit(X_train, Y_train)\n",
    "  \n",
    "  # Niave\n",
    "  from sklearn.naive_bayes import GaussianNB\n",
    "  naive = GaussianNB()\n",
    "  naive.fit(X_train, Y_train)\n",
    "\n",
    "  #linearSVM\n",
    "  from sklearn.svm import LinearSVC\n",
    "  svm = LinearSVC()\n",
    "  svm.fit(X_train,Y_train)\n",
    "\n",
    "\n",
    "\n",
    "  #print model accuracy on the training data.\n",
    "  print('[0]Logistic Regression Training Accuracy:', log.score(X_train, Y_train))\n",
    "  print('[1]Decsion Tree Classifier Training Accuracy:', tree.score(X_train, Y_train))\n",
    "  print('[2]Random Forest Classifier Training Accuracy:', forest.score(X_train, Y_train))\n",
    "  print('[3]naive Classifier Training Accuracy:', naive.score(X_train, Y_train))\n",
    "  print('[4]linearSVM Classifier Training Accuracy:', svm.score(X_train, Y_train))\n",
    "\n",
    "  \n",
    "  return log, tree, forest,naive,svm"
   ]
  },
  {
   "cell_type": "code",
   "execution_count": 136,
   "metadata": {},
   "outputs": [],
   "source": [
    "def testSet(set):\n",
    "    test = set.loc[set.Protest == -1]\n",
    "    test.drop('Protest', axis=1, inplace = True)\n",
    "    train = set.loc[set.Protest != -1]\n",
    "    \n",
    "    num_features = 14\n",
    "    X = train.iloc[:, 1:num_features].values \n",
    "    Y = train.iloc[:, 0].values\n",
    "    \n",
    "    # Split the dataset into 80% Training set and 20% Testing set\n",
    "    from sklearn.model_selection import train_test_split\n",
    "    X_train, X_test, Y_train, Y_test = train_test_split(X, Y, test_size = 0.2, random_state = 0)\n",
    "\n",
    "    #Get and train all of the models\n",
    "    model = models(X_train,Y_train)\n",
    "\n",
    "    #Print Confusion Matrices\n",
    "    for i in range(len(model)):\n",
    "        cm = confusion_matrix(Y_test, model[i].predict(X_test)) \n",
    "        #extracting TN, FP, FN, TP\n",
    "        TN, FP, FN, TP = confusion_matrix(Y_test, model[i].predict(X_test)).ravel()\n",
    "        print('Model[{}] Testing Accuracy = \"{} !\"'.format(i,  (TP + TN) / (TP + TN + FN + FP)))"
   ]
  },
  {
   "cell_type": "code",
   "execution_count": 137,
   "metadata": {},
   "outputs": [],
   "source": [
    "def reccommended_features(X_train,Y_train):\n",
    "    forest = RandomForestClassifier(n_estimators = 10, criterion = 'entropy', random_state = 0)\n",
    "    select_forest = SelectFromModel(estimator=forest)\n",
    "    new_X = select_forest.fit(X,Y) \n",
    "    selected_feat= X.columns[(select_forest.get_support())]\n",
    "    len(selected_feat)\n",
    "\n",
    "    print(selected_feat)"
   ]
  },
  {
   "cell_type": "code",
   "execution_count": 138,
   "metadata": {},
   "outputs": [],
   "source": [
    "def get_grid(X_train, Y_train):\n",
    "    from sklearn.pipeline import Pipeline\n",
    "    from sklearn.model_selection import GridSearchCV\n",
    "    import numpy as np\n",
    "\n",
    "    max_features_range = np.arange(1,5,1)\n",
    "    n_estimators_range = np.arange(10,180,10)\n",
    "    random_state_range = np.arange(0,5,1)\n",
    "\n",
    "    param_grid = dict(max_features=max_features_range, \n",
    "                    n_estimators=n_estimators_range)\n",
    "\n",
    "    # Inputting random state here gives better results than when inputting later. \n",
    "    rf = RandomForestClassifier(random_state = 0, criterion = 'entropy')\n",
    "    grid = GridSearchCV(estimator=rf, param_grid=param_grid, cv=5)\n",
    "    grid.fit(X_train, Y_train)\n",
    "    print(\"The best parameters are %s with a score of %0.2f\"\n",
    "      % (grid.best_params_, grid.best_score_))\n",
    "    return(grid)"
   ]
  },
  {
   "cell_type": "code",
   "execution_count": 139,
   "metadata": {},
   "outputs": [],
   "source": [
    "def grid_plot(grid):\n",
    "    import pandas as pd\n",
    "    grid_results = pd.concat([pd.DataFrame(grid.cv_results_[\"params\"]),pd.DataFrame(grid.cv_results_[\"mean_test_score\"], columns=[\"Accuracy\"])],axis=1)\n",
    "    grid_contour = grid_results.groupby(['max_features','n_estimators']).mean()\n",
    "    grid_reset = grid_contour.reset_index()\n",
    "    grid_reset.columns = ['max_features', 'n_estimators',  'Accuracy']\n",
    "    grid_pivot = grid_reset.pivot('max_features', 'n_estimators')\n",
    "    x = grid_pivot.columns.levels[1].values\n",
    "    y = grid_pivot.index.values\n",
    "    z = grid_pivot.values\n",
    "    import plotly.graph_objects as go\n",
    "    # X and Y axes labels\n",
    "    layout = go.Layout(\n",
    "                xaxis=go.layout.XAxis(\n",
    "                title=go.layout.xaxis.Title(\n",
    "                text='n_estimators')\n",
    "                ),\n",
    "                yaxis=go.layout.YAxis(\n",
    "                title=go.layout.yaxis.Title(\n",
    "                text='max_features') \n",
    "                ) )\n",
    "\n",
    "    fig = go.Figure(data= [go.Surface(z=z, y=y, x=x)], layout=layout )\n",
    "    fig.update_layout(title='Hyperparameter tuning',\n",
    "                    scene = dict(\n",
    "                        xaxis_title='n_estimators',\n",
    "                        yaxis_title='max_features',\n",
    "                        zaxis_title='Accuracy'),\n",
    "                    autosize=False,\n",
    "                    width=800, height=800,\n",
    "                    margin=dict(l=65, r=50, b=65, t=90))\n",
    "    fig.show()"
   ]
  },
  {
   "cell_type": "markdown",
   "metadata": {},
   "source": [
    "# Main"
   ]
  },
  {
   "cell_type": "code",
   "execution_count": 140,
   "metadata": {},
   "outputs": [
    {
     "data": {
      "text/html": [
       "<div>\n",
       "<style scoped>\n",
       "    .dataframe tbody tr th:only-of-type {\n",
       "        vertical-align: middle;\n",
       "    }\n",
       "\n",
       "    .dataframe tbody tr th {\n",
       "        vertical-align: top;\n",
       "    }\n",
       "\n",
       "    .dataframe thead th {\n",
       "        text-align: right;\n",
       "    }\n",
       "</style>\n",
       "<table border=\"1\" class=\"dataframe\">\n",
       "  <thead>\n",
       "    <tr style=\"text-align: right;\">\n",
       "      <th></th>\n",
       "      <th>Protest</th>\n",
       "      <th>NuTweets</th>\n",
       "      <th>d1</th>\n",
       "      <th>d2</th>\n",
       "      <th>d3</th>\n",
       "      <th>d4</th>\n",
       "      <th>d5</th>\n",
       "      <th>d6</th>\n",
       "      <th>d7</th>\n",
       "      <th>d8</th>\n",
       "      <th>d9</th>\n",
       "      <th>d10</th>\n",
       "      <th>average</th>\n",
       "      <th>likes</th>\n",
       "      <th>followers</th>\n",
       "      <th>retweets</th>\n",
       "      <th>replies</th>\n",
       "      <th>sub</th>\n",
       "      <th>pol</th>\n",
       "    </tr>\n",
       "  </thead>\n",
       "  <tbody>\n",
       "    <tr>\n",
       "      <th>0</th>\n",
       "      <td>1</td>\n",
       "      <td>55</td>\n",
       "      <td>0.142857</td>\n",
       "      <td>0.071429</td>\n",
       "      <td>0.071429</td>\n",
       "      <td>0.642857</td>\n",
       "      <td>0.857143</td>\n",
       "      <td>1.0</td>\n",
       "      <td>0.428571</td>\n",
       "      <td>0.571429</td>\n",
       "      <td>0.142857</td>\n",
       "      <td>0.142857</td>\n",
       "      <td>5.7</td>\n",
       "      <td>0.563636</td>\n",
       "      <td>76095.436364</td>\n",
       "      <td>1.781818</td>\n",
       "      <td>0.236364</td>\n",
       "      <td>0.392344</td>\n",
       "      <td>0.136253</td>\n",
       "    </tr>\n",
       "  </tbody>\n",
       "</table>\n",
       "</div>"
      ],
      "text/plain": [
       "   Protest  NuTweets        d1        d2        d3        d4        d5   d6  \\\n",
       "0        1        55  0.142857  0.071429  0.071429  0.642857  0.857143  1.0   \n",
       "\n",
       "         d7        d8        d9       d10  average     likes     followers  \\\n",
       "0  0.428571  0.571429  0.142857  0.142857      5.7  0.563636  76095.436364   \n",
       "\n",
       "   retweets   replies       sub       pol  \n",
       "0  1.781818  0.236364  0.392344  0.136253  "
      ]
     },
     "execution_count": 140,
     "metadata": {},
     "output_type": "execute_result"
    }
   ],
   "source": [
    "training = pd.read_csv('DATA/training_data.csv')\n",
    "training = training.drop('Unnamed: 0', axis = 1)\n",
    "training = training[['Protest', 'NuTweets', 'd1', 'd2', 'd3', 'd4', 'd5', 'd6', 'd7', 'd8',\n",
    "       'd9', 'd10', 'average', 'likes', 'followers', 'retweets', 'replies',\n",
    "       'sub', 'pol']]\n",
    "\n",
    "training = training.loc[((training['Protest']== 1) & (training['NuTweets'] > 20) )| (training['Protest']==0)]\n",
    "training.head(1)"
   ]
  },
  {
   "cell_type": "markdown",
   "metadata": {},
   "source": [
    "# Testing"
   ]
  },
  {
   "cell_type": "code",
   "execution_count": 141,
   "metadata": {},
   "outputs": [
    {
     "name": "stderr",
     "output_type": "stream",
     "text": [
      "C:\\Users\\papag\\AppData\\Local\\Temp\\ipykernel_15776\\3156850226.py:3: SettingWithCopyWarning:\n",
      "\n",
      "\n",
      "A value is trying to be set on a copy of a slice from a DataFrame\n",
      "\n",
      "See the caveats in the documentation: https://pandas.pydata.org/pandas-docs/stable/user_guide/indexing.html#returning-a-view-versus-a-copy\n",
      "\n",
      "c:\\Users\\papag\\AppData\\Local\\Programs\\Python\\Python310\\lib\\site-packages\\sklearn\\linear_model\\_logistic.py:444: ConvergenceWarning:\n",
      "\n",
      "lbfgs failed to converge (status=1):\n",
      "STOP: TOTAL NO. of ITERATIONS REACHED LIMIT.\n",
      "\n",
      "Increase the number of iterations (max_iter) or scale the data as shown in:\n",
      "    https://scikit-learn.org/stable/modules/preprocessing.html\n",
      "Please also refer to the documentation for alternative solver options:\n",
      "    https://scikit-learn.org/stable/modules/linear_model.html#logistic-regression\n",
      "\n"
     ]
    },
    {
     "name": "stdout",
     "output_type": "stream",
     "text": [
      "[0]Logistic Regression Training Accuracy: 0.7959183673469388\n",
      "[1]Decsion Tree Classifier Training Accuracy: 1.0\n",
      "[2]Random Forest Classifier Training Accuracy: 1.0\n",
      "[3]naive Classifier Training Accuracy: 0.7551020408163265\n",
      "[4]linearSVM Classifier Training Accuracy: 0.7687074829931972\n",
      "Model[0] Testing Accuracy = \"0.6486486486486487 !\"\n",
      "Model[1] Testing Accuracy = \"0.8378378378378378 !\"\n",
      "Model[2] Testing Accuracy = \"0.8108108108108109 !\"\n",
      "Model[3] Testing Accuracy = \"0.7837837837837838 !\"\n",
      "Model[4] Testing Accuracy = \"0.8108108108108109 !\"\n"
     ]
    },
    {
     "name": "stderr",
     "output_type": "stream",
     "text": [
      "c:\\Users\\papag\\AppData\\Local\\Programs\\Python\\Python310\\lib\\site-packages\\sklearn\\svm\\_base.py:1225: ConvergenceWarning:\n",
      "\n",
      "Liblinear failed to converge, increase the number of iterations.\n",
      "\n"
     ]
    }
   ],
   "source": [
    "testSet(training)"
   ]
  },
  {
   "cell_type": "markdown",
   "metadata": {},
   "source": [
    "# Suggestion maker"
   ]
  },
  {
   "cell_type": "code",
   "execution_count": 142,
   "metadata": {},
   "outputs": [],
   "source": [
    "training = training.loc[((training['Protest']== 1) & (training['NuTweets'] > 20) )| (training['Protest']==0)]\n"
   ]
  },
  {
   "cell_type": "code",
   "execution_count": 143,
   "metadata": {},
   "outputs": [],
   "source": [
    "from sklearn.ensemble import RandomForestClassifier\n",
    "from sklearn.feature_selection import SelectFromModel"
   ]
  },
  {
   "cell_type": "code",
   "execution_count": 144,
   "metadata": {},
   "outputs": [],
   "source": [
    "X = training.drop('Protest',axis = 1)\n",
    "Y = training['Protest']"
   ]
  },
  {
   "cell_type": "code",
   "execution_count": 145,
   "metadata": {},
   "outputs": [
    {
     "name": "stdout",
     "output_type": "stream",
     "text": [
      "Index(['NuTweets', 'average', 'followers', 'retweets', 'sub'], dtype='object')\n"
     ]
    }
   ],
   "source": [
    "reccommended_features(X,Y)"
   ]
  },
  {
   "cell_type": "markdown",
   "metadata": {},
   "source": [
    "# Testing Different Features"
   ]
  },
  {
   "cell_type": "code",
   "execution_count": 146,
   "metadata": {},
   "outputs": [],
   "source": [
    "subs = []\n",
    "\n",
    "# 1\n",
    "temp = training[['Protest', 'NuTweets', 'd1', 'd2', 'd3', 'd4', 'd5', 'd6', 'd7', 'd8',\n",
    "       'd9', 'd10', 'average', 'likes', 'followers', 'retweets', 'replies',\n",
    "       'sub', 'pol']]\n",
    "subs.append(temp)\n",
    "# 2\n",
    "temp = training[['Protest', 'NuTweets', 'd1', 'd2', 'd3', 'd4', 'd5', 'd6', 'd7', 'd8',\n",
    "       'd9', 'd10', 'average']]\n",
    "subs.append(temp)\n",
    "# 3\n",
    "temp = training[['Protest', 'NuTweets',  'average', 'likes', 'followers', 'retweets', 'replies',\n",
    "       'sub', 'pol']]\n",
    "subs.append(temp)\n",
    "# 4\n",
    "temp = training[['Protest', 'NuTweets', 'd7', 'average']]\n",
    "subs.append(temp)\n",
    "# 5\n",
    "temp = training[['Protest', 'NuTweets',  'd3', 'd4', 'd5', 'd6', 'd7', 'average']]\n",
    "subs.append(temp)\n",
    "# 6\n",
    "temp = training[['Protest', 'NuTweets', 'd1', 'd2', 'd3', 'd4', 'd5', 'd6', 'd7', 'd8',\n",
    "       'd9', 'd10', 'average', 'likes', 'followers', 'retweets','sub', 'pol']]\n",
    "subs.append(temp)\n"
   ]
  },
  {
   "cell_type": "code",
   "execution_count": 147,
   "metadata": {},
   "outputs": [
    {
     "name": "stdout",
     "output_type": "stream",
     "text": [
      "Feature secelction [1]  0.8108108108108109\n",
      "Feature secelction [2]  0.7837837837837838\n",
      "Feature secelction [3]  0.8108108108108109\n",
      "Feature secelction [4]  0.7297297297297297\n",
      "Feature secelction [5]  0.7837837837837838\n",
      "Feature secelction [6]  0.7837837837837838\n"
     ]
    }
   ],
   "source": [
    "rf = RandomForestClassifier(max_features=4, n_estimators=100, random_state = 0)\n",
    "count = 0\n",
    "for sub in subs:\n",
    "    X_train, X_test, Y_train, Y_test = train_test_split(sub.drop('Protest',axis=1), training['Protest'], test_size = 0.2, random_state = 13)\n",
    "    rf.fit(X_train, Y_train)\n",
    "    rf.score(X_test, Y_test)\n",
    "    Y_pred = rf.predict(X_test)\n",
    "    count += 1\n",
    "    print('Feature secelction [%i] '%count, accuracy_score(Y_pred, Y_test))"
   ]
  },
  {
   "cell_type": "markdown",
   "metadata": {},
   "source": [
    "### Feature Analysis\n",
    "From the Above results we notice that selections [1] and [2] have the highest accuracy scores.</br>\n",
    "There fore we will use feature selection [1] for the Hyperparam analysis"
   ]
  },
  {
   "cell_type": "markdown",
   "metadata": {},
   "source": [
    "# Hyperparams"
   ]
  },
  {
   "cell_type": "code",
   "execution_count": 148,
   "metadata": {},
   "outputs": [
    {
     "data": {
      "text/html": [
       "<div>\n",
       "<style scoped>\n",
       "    .dataframe tbody tr th:only-of-type {\n",
       "        vertical-align: middle;\n",
       "    }\n",
       "\n",
       "    .dataframe tbody tr th {\n",
       "        vertical-align: top;\n",
       "    }\n",
       "\n",
       "    .dataframe thead th {\n",
       "        text-align: right;\n",
       "    }\n",
       "</style>\n",
       "<table border=\"1\" class=\"dataframe\">\n",
       "  <thead>\n",
       "    <tr style=\"text-align: right;\">\n",
       "      <th></th>\n",
       "      <th>Protest</th>\n",
       "      <th>NuTweets</th>\n",
       "      <th>d1</th>\n",
       "      <th>d2</th>\n",
       "      <th>d3</th>\n",
       "      <th>d4</th>\n",
       "      <th>d5</th>\n",
       "      <th>d6</th>\n",
       "      <th>d7</th>\n",
       "      <th>d8</th>\n",
       "      <th>d9</th>\n",
       "      <th>d10</th>\n",
       "      <th>average</th>\n",
       "      <th>likes</th>\n",
       "      <th>followers</th>\n",
       "      <th>retweets</th>\n",
       "      <th>replies</th>\n",
       "      <th>sub</th>\n",
       "      <th>pol</th>\n",
       "    </tr>\n",
       "  </thead>\n",
       "  <tbody>\n",
       "    <tr>\n",
       "      <th>0</th>\n",
       "      <td>1</td>\n",
       "      <td>55</td>\n",
       "      <td>0.142857</td>\n",
       "      <td>0.071429</td>\n",
       "      <td>0.071429</td>\n",
       "      <td>0.642857</td>\n",
       "      <td>0.857143</td>\n",
       "      <td>1.0</td>\n",
       "      <td>0.428571</td>\n",
       "      <td>0.571429</td>\n",
       "      <td>0.142857</td>\n",
       "      <td>0.142857</td>\n",
       "      <td>5.7</td>\n",
       "      <td>0.563636</td>\n",
       "      <td>76095.436364</td>\n",
       "      <td>1.781818</td>\n",
       "      <td>0.236364</td>\n",
       "      <td>0.392344</td>\n",
       "      <td>0.136253</td>\n",
       "    </tr>\n",
       "  </tbody>\n",
       "</table>\n",
       "</div>"
      ],
      "text/plain": [
       "   Protest  NuTweets        d1        d2        d3        d4        d5   d6  \\\n",
       "0        1        55  0.142857  0.071429  0.071429  0.642857  0.857143  1.0   \n",
       "\n",
       "         d7        d8        d9       d10  average     likes     followers  \\\n",
       "0  0.428571  0.571429  0.142857  0.142857      5.7  0.563636  76095.436364   \n",
       "\n",
       "   retweets   replies       sub       pol  \n",
       "0  1.781818  0.236364  0.392344  0.136253  "
      ]
     },
     "execution_count": 148,
     "metadata": {},
     "output_type": "execute_result"
    }
   ],
   "source": [
    "training.head(1)"
   ]
  },
  {
   "cell_type": "code",
   "execution_count": 149,
   "metadata": {},
   "outputs": [],
   "source": [
    "# X and Y as defined above\n",
    "# Split the dataset into 80% Training set and 20% Testing set\n",
    "from sklearn.model_selection import train_test_split\n",
    "X_train, X_test, Y_train, Y_test = train_test_split(training.drop('Protest',axis=1), training['Protest'], test_size = 0.2, random_state = 0)"
   ]
  },
  {
   "cell_type": "code",
   "execution_count": 150,
   "metadata": {},
   "outputs": [
    {
     "name": "stdout",
     "output_type": "stream",
     "text": [
      "0.8108108108108109\n",
      "0.8108108108108109\n"
     ]
    }
   ],
   "source": [
    "rf = RandomForestClassifier(max_features=4, n_estimators=100, random_state = 0)\n",
    "rf.fit(X_train, Y_train)\n",
    "rf.score(X_test, Y_test)\n",
    "Y_pred = rf.predict(X_test)\n",
    "print(accuracy_score(Y_pred, Y_test))\n",
    "print(rf.score(X_test,Y_test))"
   ]
  },
  {
   "cell_type": "code",
   "execution_count": 151,
   "metadata": {},
   "outputs": [
    {
     "name": "stdout",
     "output_type": "stream",
     "text": [
      "The best parameters are {'max_features': 2, 'n_estimators': 20} with a score of 0.90\n"
     ]
    }
   ],
   "source": [
    "grid = get_grid(X_train,Y_train)"
   ]
  },
  {
   "cell_type": "code",
   "execution_count": 152,
   "metadata": {},
   "outputs": [
    {
     "data": {
      "application/vnd.plotly.v1+json": {
       "config": {
        "plotlyServerURL": "https://plot.ly"
       },
       "data": [
        {
         "type": "surface",
         "x": [
          10,
          20,
          30,
          40,
          50,
          60,
          70,
          80,
          90,
          100,
          110,
          120,
          130,
          140,
          150,
          160,
          170
         ],
         "y": [
          1,
          2,
          3,
          4
         ],
         "z": [
          [
           0.8436781609195403,
           0.8636781609195403,
           0.8565517241379309,
           0.8703448275862069,
           0.870574712643678,
           0.8705747126436781,
           0.8705747126436781,
           0.8708045977011494,
           0.8841379310344827,
           0.8774712643678161,
           0.8774712643678161,
           0.8774712643678161,
           0.8841379310344827,
           0.8910344827586207,
           0.8910344827586207,
           0.8910344827586207,
           0.8910344827586207
          ],
          [
           0.8772413793103448,
           0.8977011494252874,
           0.8977011494252874,
           0.8977011494252874,
           0.8977011494252874,
           0.8977011494252874,
           0.8977011494252874,
           0.8977011494252874,
           0.8977011494252874,
           0.8977011494252874,
           0.8977011494252874,
           0.8977011494252874,
           0.8977011494252874,
           0.8977011494252874,
           0.8977011494252874,
           0.8977011494252874,
           0.8977011494252874
          ],
          [
           0.8770114942528735,
           0.8908045977011494,
           0.8908045977011494,
           0.8908045977011494,
           0.8841379310344827,
           0.8910344827586207,
           0.8841379310344827,
           0.8977011494252874,
           0.8977011494252874,
           0.8977011494252874,
           0.8908045977011494,
           0.8977011494252874,
           0.8977011494252874,
           0.8908045977011494,
           0.8908045977011494,
           0.8839080459770117,
           0.8839080459770117
          ],
          [
           0.8912643678160919,
           0.877241379310345,
           0.877241379310345,
           0.8908045977011494,
           0.8910344827586207,
           0.8910344827586207,
           0.8910344827586207,
           0.8910344827586207,
           0.8910344827586207,
           0.8910344827586207,
           0.8910344827586207,
           0.8910344827586207,
           0.8910344827586207,
           0.8910344827586207,
           0.8910344827586207,
           0.8910344827586207,
           0.8910344827586207
          ]
         ]
        }
       ],
       "layout": {
        "autosize": false,
        "height": 800,
        "margin": {
         "b": 65,
         "l": 65,
         "r": 50,
         "t": 90
        },
        "scene": {
         "xaxis": {
          "title": {
           "text": "n_estimators"
          }
         },
         "yaxis": {
          "title": {
           "text": "max_features"
          }
         },
         "zaxis": {
          "title": {
           "text": "Accuracy"
          }
         }
        },
        "template": {
         "data": {
          "bar": [
           {
            "error_x": {
             "color": "#2a3f5f"
            },
            "error_y": {
             "color": "#2a3f5f"
            },
            "marker": {
             "line": {
              "color": "#E5ECF6",
              "width": 0.5
             },
             "pattern": {
              "fillmode": "overlay",
              "size": 10,
              "solidity": 0.2
             }
            },
            "type": "bar"
           }
          ],
          "barpolar": [
           {
            "marker": {
             "line": {
              "color": "#E5ECF6",
              "width": 0.5
             },
             "pattern": {
              "fillmode": "overlay",
              "size": 10,
              "solidity": 0.2
             }
            },
            "type": "barpolar"
           }
          ],
          "carpet": [
           {
            "aaxis": {
             "endlinecolor": "#2a3f5f",
             "gridcolor": "white",
             "linecolor": "white",
             "minorgridcolor": "white",
             "startlinecolor": "#2a3f5f"
            },
            "baxis": {
             "endlinecolor": "#2a3f5f",
             "gridcolor": "white",
             "linecolor": "white",
             "minorgridcolor": "white",
             "startlinecolor": "#2a3f5f"
            },
            "type": "carpet"
           }
          ],
          "choropleth": [
           {
            "colorbar": {
             "outlinewidth": 0,
             "ticks": ""
            },
            "type": "choropleth"
           }
          ],
          "contour": [
           {
            "colorbar": {
             "outlinewidth": 0,
             "ticks": ""
            },
            "colorscale": [
             [
              0,
              "#0d0887"
             ],
             [
              0.1111111111111111,
              "#46039f"
             ],
             [
              0.2222222222222222,
              "#7201a8"
             ],
             [
              0.3333333333333333,
              "#9c179e"
             ],
             [
              0.4444444444444444,
              "#bd3786"
             ],
             [
              0.5555555555555556,
              "#d8576b"
             ],
             [
              0.6666666666666666,
              "#ed7953"
             ],
             [
              0.7777777777777778,
              "#fb9f3a"
             ],
             [
              0.8888888888888888,
              "#fdca26"
             ],
             [
              1,
              "#f0f921"
             ]
            ],
            "type": "contour"
           }
          ],
          "contourcarpet": [
           {
            "colorbar": {
             "outlinewidth": 0,
             "ticks": ""
            },
            "type": "contourcarpet"
           }
          ],
          "heatmap": [
           {
            "colorbar": {
             "outlinewidth": 0,
             "ticks": ""
            },
            "colorscale": [
             [
              0,
              "#0d0887"
             ],
             [
              0.1111111111111111,
              "#46039f"
             ],
             [
              0.2222222222222222,
              "#7201a8"
             ],
             [
              0.3333333333333333,
              "#9c179e"
             ],
             [
              0.4444444444444444,
              "#bd3786"
             ],
             [
              0.5555555555555556,
              "#d8576b"
             ],
             [
              0.6666666666666666,
              "#ed7953"
             ],
             [
              0.7777777777777778,
              "#fb9f3a"
             ],
             [
              0.8888888888888888,
              "#fdca26"
             ],
             [
              1,
              "#f0f921"
             ]
            ],
            "type": "heatmap"
           }
          ],
          "heatmapgl": [
           {
            "colorbar": {
             "outlinewidth": 0,
             "ticks": ""
            },
            "colorscale": [
             [
              0,
              "#0d0887"
             ],
             [
              0.1111111111111111,
              "#46039f"
             ],
             [
              0.2222222222222222,
              "#7201a8"
             ],
             [
              0.3333333333333333,
              "#9c179e"
             ],
             [
              0.4444444444444444,
              "#bd3786"
             ],
             [
              0.5555555555555556,
              "#d8576b"
             ],
             [
              0.6666666666666666,
              "#ed7953"
             ],
             [
              0.7777777777777778,
              "#fb9f3a"
             ],
             [
              0.8888888888888888,
              "#fdca26"
             ],
             [
              1,
              "#f0f921"
             ]
            ],
            "type": "heatmapgl"
           }
          ],
          "histogram": [
           {
            "marker": {
             "pattern": {
              "fillmode": "overlay",
              "size": 10,
              "solidity": 0.2
             }
            },
            "type": "histogram"
           }
          ],
          "histogram2d": [
           {
            "colorbar": {
             "outlinewidth": 0,
             "ticks": ""
            },
            "colorscale": [
             [
              0,
              "#0d0887"
             ],
             [
              0.1111111111111111,
              "#46039f"
             ],
             [
              0.2222222222222222,
              "#7201a8"
             ],
             [
              0.3333333333333333,
              "#9c179e"
             ],
             [
              0.4444444444444444,
              "#bd3786"
             ],
             [
              0.5555555555555556,
              "#d8576b"
             ],
             [
              0.6666666666666666,
              "#ed7953"
             ],
             [
              0.7777777777777778,
              "#fb9f3a"
             ],
             [
              0.8888888888888888,
              "#fdca26"
             ],
             [
              1,
              "#f0f921"
             ]
            ],
            "type": "histogram2d"
           }
          ],
          "histogram2dcontour": [
           {
            "colorbar": {
             "outlinewidth": 0,
             "ticks": ""
            },
            "colorscale": [
             [
              0,
              "#0d0887"
             ],
             [
              0.1111111111111111,
              "#46039f"
             ],
             [
              0.2222222222222222,
              "#7201a8"
             ],
             [
              0.3333333333333333,
              "#9c179e"
             ],
             [
              0.4444444444444444,
              "#bd3786"
             ],
             [
              0.5555555555555556,
              "#d8576b"
             ],
             [
              0.6666666666666666,
              "#ed7953"
             ],
             [
              0.7777777777777778,
              "#fb9f3a"
             ],
             [
              0.8888888888888888,
              "#fdca26"
             ],
             [
              1,
              "#f0f921"
             ]
            ],
            "type": "histogram2dcontour"
           }
          ],
          "mesh3d": [
           {
            "colorbar": {
             "outlinewidth": 0,
             "ticks": ""
            },
            "type": "mesh3d"
           }
          ],
          "parcoords": [
           {
            "line": {
             "colorbar": {
              "outlinewidth": 0,
              "ticks": ""
             }
            },
            "type": "parcoords"
           }
          ],
          "pie": [
           {
            "automargin": true,
            "type": "pie"
           }
          ],
          "scatter": [
           {
            "fillpattern": {
             "fillmode": "overlay",
             "size": 10,
             "solidity": 0.2
            },
            "type": "scatter"
           }
          ],
          "scatter3d": [
           {
            "line": {
             "colorbar": {
              "outlinewidth": 0,
              "ticks": ""
             }
            },
            "marker": {
             "colorbar": {
              "outlinewidth": 0,
              "ticks": ""
             }
            },
            "type": "scatter3d"
           }
          ],
          "scattercarpet": [
           {
            "marker": {
             "colorbar": {
              "outlinewidth": 0,
              "ticks": ""
             }
            },
            "type": "scattercarpet"
           }
          ],
          "scattergeo": [
           {
            "marker": {
             "colorbar": {
              "outlinewidth": 0,
              "ticks": ""
             }
            },
            "type": "scattergeo"
           }
          ],
          "scattergl": [
           {
            "marker": {
             "colorbar": {
              "outlinewidth": 0,
              "ticks": ""
             }
            },
            "type": "scattergl"
           }
          ],
          "scattermapbox": [
           {
            "marker": {
             "colorbar": {
              "outlinewidth": 0,
              "ticks": ""
             }
            },
            "type": "scattermapbox"
           }
          ],
          "scatterpolar": [
           {
            "marker": {
             "colorbar": {
              "outlinewidth": 0,
              "ticks": ""
             }
            },
            "type": "scatterpolar"
           }
          ],
          "scatterpolargl": [
           {
            "marker": {
             "colorbar": {
              "outlinewidth": 0,
              "ticks": ""
             }
            },
            "type": "scatterpolargl"
           }
          ],
          "scatterternary": [
           {
            "marker": {
             "colorbar": {
              "outlinewidth": 0,
              "ticks": ""
             }
            },
            "type": "scatterternary"
           }
          ],
          "surface": [
           {
            "colorbar": {
             "outlinewidth": 0,
             "ticks": ""
            },
            "colorscale": [
             [
              0,
              "#0d0887"
             ],
             [
              0.1111111111111111,
              "#46039f"
             ],
             [
              0.2222222222222222,
              "#7201a8"
             ],
             [
              0.3333333333333333,
              "#9c179e"
             ],
             [
              0.4444444444444444,
              "#bd3786"
             ],
             [
              0.5555555555555556,
              "#d8576b"
             ],
             [
              0.6666666666666666,
              "#ed7953"
             ],
             [
              0.7777777777777778,
              "#fb9f3a"
             ],
             [
              0.8888888888888888,
              "#fdca26"
             ],
             [
              1,
              "#f0f921"
             ]
            ],
            "type": "surface"
           }
          ],
          "table": [
           {
            "cells": {
             "fill": {
              "color": "#EBF0F8"
             },
             "line": {
              "color": "white"
             }
            },
            "header": {
             "fill": {
              "color": "#C8D4E3"
             },
             "line": {
              "color": "white"
             }
            },
            "type": "table"
           }
          ]
         },
         "layout": {
          "annotationdefaults": {
           "arrowcolor": "#2a3f5f",
           "arrowhead": 0,
           "arrowwidth": 1
          },
          "autotypenumbers": "strict",
          "coloraxis": {
           "colorbar": {
            "outlinewidth": 0,
            "ticks": ""
           }
          },
          "colorscale": {
           "diverging": [
            [
             0,
             "#8e0152"
            ],
            [
             0.1,
             "#c51b7d"
            ],
            [
             0.2,
             "#de77ae"
            ],
            [
             0.3,
             "#f1b6da"
            ],
            [
             0.4,
             "#fde0ef"
            ],
            [
             0.5,
             "#f7f7f7"
            ],
            [
             0.6,
             "#e6f5d0"
            ],
            [
             0.7,
             "#b8e186"
            ],
            [
             0.8,
             "#7fbc41"
            ],
            [
             0.9,
             "#4d9221"
            ],
            [
             1,
             "#276419"
            ]
           ],
           "sequential": [
            [
             0,
             "#0d0887"
            ],
            [
             0.1111111111111111,
             "#46039f"
            ],
            [
             0.2222222222222222,
             "#7201a8"
            ],
            [
             0.3333333333333333,
             "#9c179e"
            ],
            [
             0.4444444444444444,
             "#bd3786"
            ],
            [
             0.5555555555555556,
             "#d8576b"
            ],
            [
             0.6666666666666666,
             "#ed7953"
            ],
            [
             0.7777777777777778,
             "#fb9f3a"
            ],
            [
             0.8888888888888888,
             "#fdca26"
            ],
            [
             1,
             "#f0f921"
            ]
           ],
           "sequentialminus": [
            [
             0,
             "#0d0887"
            ],
            [
             0.1111111111111111,
             "#46039f"
            ],
            [
             0.2222222222222222,
             "#7201a8"
            ],
            [
             0.3333333333333333,
             "#9c179e"
            ],
            [
             0.4444444444444444,
             "#bd3786"
            ],
            [
             0.5555555555555556,
             "#d8576b"
            ],
            [
             0.6666666666666666,
             "#ed7953"
            ],
            [
             0.7777777777777778,
             "#fb9f3a"
            ],
            [
             0.8888888888888888,
             "#fdca26"
            ],
            [
             1,
             "#f0f921"
            ]
           ]
          },
          "colorway": [
           "#636efa",
           "#EF553B",
           "#00cc96",
           "#ab63fa",
           "#FFA15A",
           "#19d3f3",
           "#FF6692",
           "#B6E880",
           "#FF97FF",
           "#FECB52"
          ],
          "font": {
           "color": "#2a3f5f"
          },
          "geo": {
           "bgcolor": "white",
           "lakecolor": "white",
           "landcolor": "#E5ECF6",
           "showlakes": true,
           "showland": true,
           "subunitcolor": "white"
          },
          "hoverlabel": {
           "align": "left"
          },
          "hovermode": "closest",
          "mapbox": {
           "style": "light"
          },
          "paper_bgcolor": "white",
          "plot_bgcolor": "#E5ECF6",
          "polar": {
           "angularaxis": {
            "gridcolor": "white",
            "linecolor": "white",
            "ticks": ""
           },
           "bgcolor": "#E5ECF6",
           "radialaxis": {
            "gridcolor": "white",
            "linecolor": "white",
            "ticks": ""
           }
          },
          "scene": {
           "xaxis": {
            "backgroundcolor": "#E5ECF6",
            "gridcolor": "white",
            "gridwidth": 2,
            "linecolor": "white",
            "showbackground": true,
            "ticks": "",
            "zerolinecolor": "white"
           },
           "yaxis": {
            "backgroundcolor": "#E5ECF6",
            "gridcolor": "white",
            "gridwidth": 2,
            "linecolor": "white",
            "showbackground": true,
            "ticks": "",
            "zerolinecolor": "white"
           },
           "zaxis": {
            "backgroundcolor": "#E5ECF6",
            "gridcolor": "white",
            "gridwidth": 2,
            "linecolor": "white",
            "showbackground": true,
            "ticks": "",
            "zerolinecolor": "white"
           }
          },
          "shapedefaults": {
           "line": {
            "color": "#2a3f5f"
           }
          },
          "ternary": {
           "aaxis": {
            "gridcolor": "white",
            "linecolor": "white",
            "ticks": ""
           },
           "baxis": {
            "gridcolor": "white",
            "linecolor": "white",
            "ticks": ""
           },
           "bgcolor": "#E5ECF6",
           "caxis": {
            "gridcolor": "white",
            "linecolor": "white",
            "ticks": ""
           }
          },
          "title": {
           "x": 0.05
          },
          "xaxis": {
           "automargin": true,
           "gridcolor": "white",
           "linecolor": "white",
           "ticks": "",
           "title": {
            "standoff": 15
           },
           "zerolinecolor": "white",
           "zerolinewidth": 2
          },
          "yaxis": {
           "automargin": true,
           "gridcolor": "white",
           "linecolor": "white",
           "ticks": "",
           "title": {
            "standoff": 15
           },
           "zerolinecolor": "white",
           "zerolinewidth": 2
          }
         }
        },
        "title": {
         "text": "Hyperparameter tuning"
        },
        "width": 800,
        "xaxis": {
         "title": {
          "text": "n_estimators"
         }
        },
        "yaxis": {
         "title": {
          "text": "max_features"
         }
        }
       }
      }
     },
     "metadata": {},
     "output_type": "display_data"
    }
   ],
   "source": [
    "grid_plot(grid)"
   ]
  },
  {
   "cell_type": "markdown",
   "metadata": {},
   "source": [
    "# Model Analysis"
   ]
  },
  {
   "cell_type": "code",
   "execution_count": null,
   "metadata": {},
   "outputs": [],
   "source": [
    "cross "
   ]
  },
  {
   "cell_type": "markdown",
   "metadata": {},
   "source": [
    "# Creating the Fully trained model. "
   ]
  },
  {
   "cell_type": "code",
   "execution_count": 155,
   "metadata": {},
   "outputs": [],
   "source": [
    "X = training.drop('Protest',axis=1)\n",
    "Y = training['Protest']"
   ]
  },
  {
   "cell_type": "code",
   "execution_count": 156,
   "metadata": {},
   "outputs": [],
   "source": [
    "randomforest = RandomForestClassifier(n_estimators = 160, max_features = 3, random_state = 0, criterion = 'entropy')\n",
    "randomforest = randomforest.fit(X,Y)"
   ]
  },
  {
   "cell_type": "code",
   "execution_count": 157,
   "metadata": {},
   "outputs": [],
   "source": [
    "def save_model(model, filename):\n",
    "    pickle.dump(model, open('DATA/'+filename, 'wb'))\n",
    "\n",
    "def load_model(filename):\n",
    "    loaded_model = pickle.load(open('DATA/'+filename, 'rb'))\n",
    "    return(loaded_model)\n",
    "\n"
   ]
  },
  {
   "cell_type": "code",
   "execution_count": 158,
   "metadata": {},
   "outputs": [],
   "source": [
    "save_model(randomforest,'RF')"
   ]
  }
 ],
 "metadata": {
  "kernelspec": {
   "display_name": "Python 3.10.4 64-bit",
   "language": "python",
   "name": "python3"
  },
  "language_info": {
   "codemirror_mode": {
    "name": "ipython",
    "version": 3
   },
   "file_extension": ".py",
   "mimetype": "text/x-python",
   "name": "python",
   "nbconvert_exporter": "python",
   "pygments_lexer": "ipython3",
   "version": "3.10.4"
  },
  "orig_nbformat": 4,
  "vscode": {
   "interpreter": {
    "hash": "eb1e2aa17c9c03522ea469ed025d74c8a00b3c7801d0496b408e209436a13f2e"
   }
  }
 },
 "nbformat": 4,
 "nbformat_minor": 2
}
