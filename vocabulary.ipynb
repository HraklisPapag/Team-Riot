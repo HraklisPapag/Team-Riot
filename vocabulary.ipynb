{
 "cells": [
  {
   "cell_type": "markdown",
   "metadata": {},
   "source": [
    "# Cleaning up and Creating Content Vocabulary"
   ]
  },
  {
   "cell_type": "markdown",
   "metadata": {},
   "source": [
    "### Import Everything\n",
    "Just easier that way"
   ]
  },
  {
   "cell_type": "code",
   "execution_count": 31,
   "metadata": {},
   "outputs": [],
   "source": [
    "import numpy as np\n",
    "import pandas as pd\n",
    "import os\n",
    "\n",
    "# Word processing libraries\n",
    "import re\n",
    "from nltk.corpus import wordnet\n",
    "import string\n",
    "from nltk import pos_tag\n",
    "from nltk.corpus import stopwords\n",
    "from nltk.tokenize import WhitespaceTokenizer\n",
    "from nltk.stem import WordNetLemmatizer\n",
    "\n",
    "#Nan\n",
    "from cmath import nan"
   ]
  },
  {
   "cell_type": "code",
   "execution_count": 32,
   "metadata": {},
   "outputs": [],
   "source": [
    "vocab = pd.read_excel('DATA/Protest is SA   SAS rules V2 - Separated.xlsx')"
   ]
  },
  {
   "cell_type": "code",
   "execution_count": 33,
   "metadata": {},
   "outputs": [
    {
     "data": {
      "text/plain": [
       "(100, 6)"
      ]
     },
     "execution_count": 33,
     "metadata": {},
     "output_type": "execute_result"
    }
   ],
   "source": [
    "vocab.shape"
   ]
  },
  {
   "cell_type": "code",
   "execution_count": 34,
   "metadata": {},
   "outputs": [
    {
     "data": {
      "text/html": [
       "<div>\n",
       "<style scoped>\n",
       "    .dataframe tbody tr th:only-of-type {\n",
       "        vertical-align: middle;\n",
       "    }\n",
       "\n",
       "    .dataframe tbody tr th {\n",
       "        vertical-align: top;\n",
       "    }\n",
       "\n",
       "    .dataframe thead th {\n",
       "        text-align: right;\n",
       "    }\n",
       "</style>\n",
       "<table border=\"1\" class=\"dataframe\">\n",
       "  <thead>\n",
       "    <tr style=\"text-align: right;\">\n",
       "      <th></th>\n",
       "      <th>Label</th>\n",
       "      <th>Concept</th>\n",
       "      <th>Phrases</th>\n",
       "      <th>Conditional Phrases</th>\n",
       "      <th>Afrikaans Phrases</th>\n",
       "      <th>Rule</th>\n",
       "    </tr>\n",
       "  </thead>\n",
       "  <tbody>\n",
       "    <tr>\n",
       "      <th>0</th>\n",
       "      <td>Grievance</td>\n",
       "      <td>Capitalism</td>\n",
       "      <td>Capitalism, neoliberalism, privatisation, priv...</td>\n",
       "      <td>NaN</td>\n",
       "      <td>Kapitalisme, privatisasie, privatiseer, neolib...</td>\n",
       "      <td>Multiple grievances ok</td>\n",
       "    </tr>\n",
       "    <tr>\n",
       "      <th>1</th>\n",
       "      <td>Grievance</td>\n",
       "      <td>Values</td>\n",
       "      <td>Abuse, against xenophobia,</td>\n",
       "      <td>NaN</td>\n",
       "      <td>mishandeling, teen xenofobie</td>\n",
       "      <td>Multiple grievances ok</td>\n",
       "    </tr>\n",
       "    <tr>\n",
       "      <th>2</th>\n",
       "      <td>Grievance</td>\n",
       "      <td>Conditions</td>\n",
       "      <td>poverty, unemployment, jobs,</td>\n",
       "      <td>NaN</td>\n",
       "      <td>armoede, werkloosheid, werke</td>\n",
       "      <td>Multiple grievances ok</td>\n",
       "    </tr>\n",
       "  </tbody>\n",
       "</table>\n",
       "</div>"
      ],
      "text/plain": [
       "       Label     Concept                                            Phrases  \\\n",
       "0  Grievance  Capitalism  Capitalism, neoliberalism, privatisation, priv...   \n",
       "1  Grievance      Values                         Abuse, against xenophobia,   \n",
       "2  Grievance  Conditions                       poverty, unemployment, jobs,   \n",
       "\n",
       "  Conditional Phrases                                  Afrikaans Phrases  \\\n",
       "0                 NaN  Kapitalisme, privatisasie, privatiseer, neolib...   \n",
       "1                 NaN                       mishandeling, teen xenofobie   \n",
       "2                 NaN                       armoede, werkloosheid, werke   \n",
       "\n",
       "                     Rule  \n",
       "0  Multiple grievances ok  \n",
       "1  Multiple grievances ok  \n",
       "2  Multiple grievances ok  "
      ]
     },
     "execution_count": 34,
     "metadata": {},
     "output_type": "execute_result"
    }
   ],
   "source": [
    "vocab.head(3)"
   ]
  },
  {
   "cell_type": "code",
   "execution_count": 35,
   "metadata": {},
   "outputs": [],
   "source": [
    "vocab = vocab.dropna(how = 'all')"
   ]
  },
  {
   "cell_type": "code",
   "execution_count": 36,
   "metadata": {},
   "outputs": [
    {
     "data": {
      "text/plain": [
       "(92, 6)"
      ]
     },
     "execution_count": 36,
     "metadata": {},
     "output_type": "execute_result"
    }
   ],
   "source": [
    "vocab.shape"
   ]
  },
  {
   "cell_type": "code",
   "execution_count": 37,
   "metadata": {},
   "outputs": [
    {
     "data": {
      "text/html": [
       "<div>\n",
       "<style scoped>\n",
       "    .dataframe tbody tr th:only-of-type {\n",
       "        vertical-align: middle;\n",
       "    }\n",
       "\n",
       "    .dataframe tbody tr th {\n",
       "        vertical-align: top;\n",
       "    }\n",
       "\n",
       "    .dataframe thead th {\n",
       "        text-align: right;\n",
       "    }\n",
       "</style>\n",
       "<table border=\"1\" class=\"dataframe\">\n",
       "  <thead>\n",
       "    <tr style=\"text-align: right;\">\n",
       "      <th></th>\n",
       "      <th>Label</th>\n",
       "      <th>Concept</th>\n",
       "      <th>Phrases</th>\n",
       "      <th>Conditional Phrases</th>\n",
       "      <th>Afrikaans Phrases</th>\n",
       "      <th>Rule</th>\n",
       "    </tr>\n",
       "  </thead>\n",
       "  <tbody>\n",
       "    <tr>\n",
       "      <th>9</th>\n",
       "      <td>Grievance</td>\n",
       "      <td>Labour related</td>\n",
       "      <td>Work, workers, Company, Employ, employer, empl...</td>\n",
       "      <td>corrupt, fired, dismissed, policy, other peopl...</td>\n",
       "      <td>NaN</td>\n",
       "      <td>Multiple grievances ok</td>\n",
       "    </tr>\n",
       "  </tbody>\n",
       "</table>\n",
       "</div>"
      ],
      "text/plain": [
       "       Label         Concept  \\\n",
       "9  Grievance  Labour related   \n",
       "\n",
       "                                             Phrases  \\\n",
       "9  Work, workers, Company, Employ, employer, empl...   \n",
       "\n",
       "                                 Conditional Phrases Afrikaans Phrases  \\\n",
       "9  corrupt, fired, dismissed, policy, other peopl...               NaN   \n",
       "\n",
       "                     Rule  \n",
       "9  Multiple grievances ok  "
      ]
     },
     "execution_count": 37,
     "metadata": {},
     "output_type": "execute_result"
    }
   ],
   "source": [
    "vocab[(vocab['Afrikaans Phrases'].isnull())]"
   ]
  },
  {
   "cell_type": "markdown",
   "metadata": {},
   "source": [
    "### Drop Rule\n",
    "Important to take note of what the rule column means: </br>\n",
    "Rule indicates whether text can be grouped into multiple categories </br>\n",
    "Rules are as follows:\n",
    "Can Contain Multiple:\n",
    "* Grievance\n",
    "* Actors\n",
    "* Locations\n",
    "* Weapons\n",
    "* Eventualities\n",
    "* Curiosity\n",
    "\n",
    "Can Only Have 1:\n",
    "* Trigger\n",
    "* Tactic\n",
    "\n",
    "Discard:\n",
    "* Non-protest</br>\n",
    "    Unless it contains:\n",
    "    * Grievance\n",
    "    * Trigger\n",
    "    * Tactic\n",
    "    * Actor -> only for \"16 days of activism\"\n",
    "\n",
    "\n",
    "Now we can drop Rule"
   ]
  },
  {
   "cell_type": "code",
   "execution_count": 38,
   "metadata": {},
   "outputs": [],
   "source": [
    "vocab = vocab.drop('Rule', axis = 1)"
   ]
  },
  {
   "cell_type": "code",
   "execution_count": 39,
   "metadata": {},
   "outputs": [
    {
     "data": {
      "text/html": [
       "<div>\n",
       "<style scoped>\n",
       "    .dataframe tbody tr th:only-of-type {\n",
       "        vertical-align: middle;\n",
       "    }\n",
       "\n",
       "    .dataframe tbody tr th {\n",
       "        vertical-align: top;\n",
       "    }\n",
       "\n",
       "    .dataframe thead th {\n",
       "        text-align: right;\n",
       "    }\n",
       "</style>\n",
       "<table border=\"1\" class=\"dataframe\">\n",
       "  <thead>\n",
       "    <tr style=\"text-align: right;\">\n",
       "      <th></th>\n",
       "      <th>Label</th>\n",
       "      <th>Concept</th>\n",
       "      <th>Phrases</th>\n",
       "      <th>Conditional Phrases</th>\n",
       "      <th>Afrikaans Phrases</th>\n",
       "    </tr>\n",
       "  </thead>\n",
       "  <tbody>\n",
       "    <tr>\n",
       "      <th>0</th>\n",
       "      <td>Grievance</td>\n",
       "      <td>Capitalism</td>\n",
       "      <td>Capitalism, neoliberalism, privatisation, priv...</td>\n",
       "      <td>NaN</td>\n",
       "      <td>Kapitalisme, privatisasie, privatiseer, neolib...</td>\n",
       "    </tr>\n",
       "    <tr>\n",
       "      <th>1</th>\n",
       "      <td>Grievance</td>\n",
       "      <td>Values</td>\n",
       "      <td>Abuse, against xenophobia,</td>\n",
       "      <td>NaN</td>\n",
       "      <td>mishandeling, teen xenofobie</td>\n",
       "    </tr>\n",
       "    <tr>\n",
       "      <th>2</th>\n",
       "      <td>Grievance</td>\n",
       "      <td>Conditions</td>\n",
       "      <td>poverty, unemployment, jobs,</td>\n",
       "      <td>NaN</td>\n",
       "      <td>armoede, werkloosheid, werke</td>\n",
       "    </tr>\n",
       "  </tbody>\n",
       "</table>\n",
       "</div>"
      ],
      "text/plain": [
       "       Label     Concept                                            Phrases  \\\n",
       "0  Grievance  Capitalism  Capitalism, neoliberalism, privatisation, priv...   \n",
       "1  Grievance      Values                         Abuse, against xenophobia,   \n",
       "2  Grievance  Conditions                       poverty, unemployment, jobs,   \n",
       "\n",
       "  Conditional Phrases                                  Afrikaans Phrases  \n",
       "0                 NaN  Kapitalisme, privatisasie, privatiseer, neolib...  \n",
       "1                 NaN                       mishandeling, teen xenofobie  \n",
       "2                 NaN                       armoede, werkloosheid, werke  "
      ]
     },
     "execution_count": 39,
     "metadata": {},
     "output_type": "execute_result"
    }
   ],
   "source": [
    "vocab.head(3)"
   ]
  },
  {
   "cell_type": "markdown",
   "metadata": {},
   "source": [
    "### Drop Afrikaans for now\n",
    "We can always create functionality for it at a later date"
   ]
  },
  {
   "cell_type": "code",
   "execution_count": 40,
   "metadata": {},
   "outputs": [],
   "source": [
    "vocab = vocab.drop('Afrikaans Phrases', axis = 1)"
   ]
  },
  {
   "cell_type": "code",
   "execution_count": 41,
   "metadata": {},
   "outputs": [
    {
     "data": {
      "text/html": [
       "<div>\n",
       "<style scoped>\n",
       "    .dataframe tbody tr th:only-of-type {\n",
       "        vertical-align: middle;\n",
       "    }\n",
       "\n",
       "    .dataframe tbody tr th {\n",
       "        vertical-align: top;\n",
       "    }\n",
       "\n",
       "    .dataframe thead th {\n",
       "        text-align: right;\n",
       "    }\n",
       "</style>\n",
       "<table border=\"1\" class=\"dataframe\">\n",
       "  <thead>\n",
       "    <tr style=\"text-align: right;\">\n",
       "      <th></th>\n",
       "      <th>Label</th>\n",
       "      <th>Concept</th>\n",
       "      <th>Phrases</th>\n",
       "      <th>Conditional Phrases</th>\n",
       "    </tr>\n",
       "  </thead>\n",
       "  <tbody>\n",
       "    <tr>\n",
       "      <th>0</th>\n",
       "      <td>Grievance</td>\n",
       "      <td>Capitalism</td>\n",
       "      <td>Capitalism, neoliberalism, privatisation, priv...</td>\n",
       "      <td>NaN</td>\n",
       "    </tr>\n",
       "    <tr>\n",
       "      <th>1</th>\n",
       "      <td>Grievance</td>\n",
       "      <td>Values</td>\n",
       "      <td>Abuse, against xenophobia,</td>\n",
       "      <td>NaN</td>\n",
       "    </tr>\n",
       "    <tr>\n",
       "      <th>2</th>\n",
       "      <td>Grievance</td>\n",
       "      <td>Conditions</td>\n",
       "      <td>poverty, unemployment, jobs,</td>\n",
       "      <td>NaN</td>\n",
       "    </tr>\n",
       "  </tbody>\n",
       "</table>\n",
       "</div>"
      ],
      "text/plain": [
       "       Label     Concept                                            Phrases  \\\n",
       "0  Grievance  Capitalism  Capitalism, neoliberalism, privatisation, priv...   \n",
       "1  Grievance      Values                         Abuse, against xenophobia,   \n",
       "2  Grievance  Conditions                       poverty, unemployment, jobs,   \n",
       "\n",
       "  Conditional Phrases  \n",
       "0                 NaN  \n",
       "1                 NaN  \n",
       "2                 NaN  "
      ]
     },
     "execution_count": 41,
     "metadata": {},
     "output_type": "execute_result"
    }
   ],
   "source": [
    "vocab.head(3)"
   ]
  },
  {
   "cell_type": "markdown",
   "metadata": {},
   "source": [
    "### Lemmatise Vocabulary so that it can easily be matched to text in tweet"
   ]
  },
  {
   "cell_type": "code",
   "execution_count": 42,
   "metadata": {},
   "outputs": [],
   "source": [
    "# Define the function to implement POS tagging:\n",
    "def get_wordnet_pos(pos_tag):\n",
    "    if pos_tag.startswith('J'):\n",
    "        return wordnet.ADJ\n",
    "    elif pos_tag.startswith('V'):\n",
    "        return wordnet.VERB\n",
    "    elif pos_tag.startswith('N'):\n",
    "        return wordnet.NOUN\n",
    "    elif pos_tag.startswith('R'):\n",
    "        return wordnet.ADV\n",
    "    else:\n",
    "        return wordnet.NOUN\n",
    "\n",
    "\n",
    "# Define the main function to clean text in various ways:\n",
    "def clean_text(text):\n",
    "    \n",
    "    # Apply regex expressions first before converting string to list of tokens/words:\n",
    "    # 1. remove @usernames\n",
    "   \n",
    "    # 5. Convert text to lowercase\n",
    "    text = text.lower()\n",
    "    \n",
    "    # 6. tokenize text and remove punctuation\n",
    "    # text = [word.strip(string.punctuation) for word in text.split(\" \")]\n",
    "    \n",
    "    # 7. remove numbers\n",
    "    text = [word for word in text if not any(c.isdigit() for c in word)]\n",
    "    \n",
    "    # 8. remove stop words\n",
    "    stop = stopwords.words('english')\n",
    "    text = [x for x in text if x not in stop]\n",
    "    \n",
    "    # 9. remove empty tokens\n",
    "    text = [t for t in text if len(t) > 0]\n",
    "    \n",
    "    # 10. pos tag text and lemmatize text\n",
    "    pos_tags = pos_tag(text)\n",
    "    text = [WordNetLemmatizer().lemmatize(t[0], get_wordnet_pos(t[1])) for t in pos_tags]\n",
    "    \n",
    "    # 11. remove words with only one letter\n",
    "    text = [t for t in text if len(t) > 1]\n",
    "    \n",
    "    # join all\n",
    "    text = \" \".join(text)\n",
    "    \n",
    "    return(text)"
   ]
  },
  {
   "cell_type": "markdown",
   "metadata": {},
   "source": [
    "### Matching Content Analysis\n",
    "Do content analysis for both lematised and non lematised text to make sure"
   ]
  },
  {
   "cell_type": "code",
   "execution_count": null,
   "metadata": {},
   "outputs": [],
   "source": []
  },
  {
   "cell_type": "code",
   "execution_count": null,
   "metadata": {},
   "outputs": [],
   "source": []
  },
  {
   "cell_type": "markdown",
   "metadata": {},
   "source": [
    "### Split Up various Labels Into Own Dataframe"
   ]
  },
  {
   "cell_type": "markdown",
   "metadata": {},
   "source": [
    "#### Grievances"
   ]
  },
  {
   "cell_type": "code",
   "execution_count": 43,
   "metadata": {},
   "outputs": [
    {
     "data": {
      "text/plain": [
       "(36, 3)"
      ]
     },
     "execution_count": 43,
     "metadata": {},
     "output_type": "execute_result"
    }
   ],
   "source": [
    "grievances = vocab.loc[vocab['Label'] == 'Grievance']\n",
    "grievances = grievances.drop('Label', axis = 1)\n",
    "grievances.to_excel('DATA/Vocabularies/grievances.xlsx')\n",
    "grievances.shape"
   ]
  },
  {
   "cell_type": "code",
   "execution_count": 44,
   "metadata": {},
   "outputs": [
    {
     "data": {
      "text/html": [
       "<div>\n",
       "<style scoped>\n",
       "    .dataframe tbody tr th:only-of-type {\n",
       "        vertical-align: middle;\n",
       "    }\n",
       "\n",
       "    .dataframe tbody tr th {\n",
       "        vertical-align: top;\n",
       "    }\n",
       "\n",
       "    .dataframe thead th {\n",
       "        text-align: right;\n",
       "    }\n",
       "</style>\n",
       "<table border=\"1\" class=\"dataframe\">\n",
       "  <thead>\n",
       "    <tr style=\"text-align: right;\">\n",
       "      <th></th>\n",
       "      <th>Concept</th>\n",
       "      <th>Phrases</th>\n",
       "      <th>Conditional Phrases</th>\n",
       "    </tr>\n",
       "  </thead>\n",
       "  <tbody>\n",
       "    <tr>\n",
       "      <th>0</th>\n",
       "      <td>Capitalism</td>\n",
       "      <td>Capitalism, neoliberalism, privatisation, priv...</td>\n",
       "      <td>NaN</td>\n",
       "    </tr>\n",
       "    <tr>\n",
       "      <th>1</th>\n",
       "      <td>Values</td>\n",
       "      <td>Abuse, against xenophobia,</td>\n",
       "      <td>NaN</td>\n",
       "    </tr>\n",
       "    <tr>\n",
       "      <th>2</th>\n",
       "      <td>Conditions</td>\n",
       "      <td>poverty, unemployment, jobs,</td>\n",
       "      <td>NaN</td>\n",
       "    </tr>\n",
       "    <tr>\n",
       "      <th>3</th>\n",
       "      <td>Contract end</td>\n",
       "      <td>contracts expire, project end, completed</td>\n",
       "      <td>NaN</td>\n",
       "    </tr>\n",
       "    <tr>\n",
       "      <th>4</th>\n",
       "      <td>Community recognition</td>\n",
       "      <td>their rights, recognition,</td>\n",
       "      <td>NaN</td>\n",
       "    </tr>\n",
       "  </tbody>\n",
       "</table>\n",
       "</div>"
      ],
      "text/plain": [
       "                 Concept                                            Phrases  \\\n",
       "0             Capitalism  Capitalism, neoliberalism, privatisation, priv...   \n",
       "1                 Values                         Abuse, against xenophobia,   \n",
       "2             Conditions                       poverty, unemployment, jobs,   \n",
       "3           Contract end           contracts expire, project end, completed   \n",
       "4  Community recognition                         their rights, recognition,   \n",
       "\n",
       "  Conditional Phrases  \n",
       "0                 NaN  \n",
       "1                 NaN  \n",
       "2                 NaN  \n",
       "3                 NaN  \n",
       "4                 NaN  "
      ]
     },
     "execution_count": 44,
     "metadata": {},
     "output_type": "execute_result"
    }
   ],
   "source": [
    "grievances.head()"
   ]
  },
  {
   "cell_type": "markdown",
   "metadata": {},
   "source": [
    "#### Trigger"
   ]
  },
  {
   "cell_type": "code",
   "execution_count": 45,
   "metadata": {},
   "outputs": [
    {
     "data": {
      "text/plain": [
       "(13, 3)"
      ]
     },
     "execution_count": 45,
     "metadata": {},
     "output_type": "execute_result"
    }
   ],
   "source": [
    "trigger = vocab.loc[vocab['Label'] == 'Trigger']\n",
    "trigger = trigger.drop('Label', axis = 1)\n",
    "trigger.to_excel('DATA/Vocabularies/trigger.xlsx')\n",
    "trigger.shape"
   ]
  },
  {
   "cell_type": "code",
   "execution_count": 46,
   "metadata": {},
   "outputs": [
    {
     "data": {
      "text/html": [
       "<div>\n",
       "<style scoped>\n",
       "    .dataframe tbody tr th:only-of-type {\n",
       "        vertical-align: middle;\n",
       "    }\n",
       "\n",
       "    .dataframe tbody tr th {\n",
       "        vertical-align: top;\n",
       "    }\n",
       "\n",
       "    .dataframe thead th {\n",
       "        text-align: right;\n",
       "    }\n",
       "</style>\n",
       "<table border=\"1\" class=\"dataframe\">\n",
       "  <thead>\n",
       "    <tr style=\"text-align: right;\">\n",
       "      <th></th>\n",
       "      <th>Concept</th>\n",
       "      <th>Phrases</th>\n",
       "      <th>Conditional Phrases</th>\n",
       "    </tr>\n",
       "  </thead>\n",
       "  <tbody>\n",
       "    <tr>\n",
       "      <th>37</th>\n",
       "      <td>Court hearing</td>\n",
       "      <td>court, hearing,</td>\n",
       "      <td>NaN</td>\n",
       "    </tr>\n",
       "    <tr>\n",
       "      <th>38</th>\n",
       "      <td>Project begin</td>\n",
       "      <td>not local, not from area, outside, only be loc...</td>\n",
       "      <td>NaN</td>\n",
       "    </tr>\n",
       "    <tr>\n",
       "      <th>39</th>\n",
       "      <td>National Strike</td>\n",
       "      <td>COSATU, NUMSA, national strike,</td>\n",
       "      <td>NaN</td>\n",
       "    </tr>\n",
       "    <tr>\n",
       "      <th>40</th>\n",
       "      <td>Dismissals</td>\n",
       "      <td>Fired, suspended, dismissed, discipline</td>\n",
       "      <td>NaN</td>\n",
       "    </tr>\n",
       "    <tr>\n",
       "      <th>41</th>\n",
       "      <td>Wage disputes</td>\n",
       "      <td>Payment, salary, cheque, overtime, wage, wages...</td>\n",
       "      <td>NaN</td>\n",
       "    </tr>\n",
       "  </tbody>\n",
       "</table>\n",
       "</div>"
      ],
      "text/plain": [
       "            Concept                                            Phrases  \\\n",
       "37    Court hearing                                   court, hearing,    \n",
       "38    Project begin  not local, not from area, outside, only be loc...   \n",
       "39  National Strike                   COSATU, NUMSA, national strike,    \n",
       "40       Dismissals            Fired, suspended, dismissed, discipline   \n",
       "41    Wage disputes  Payment, salary, cheque, overtime, wage, wages...   \n",
       "\n",
       "   Conditional Phrases  \n",
       "37                 NaN  \n",
       "38                 NaN  \n",
       "39                 NaN  \n",
       "40                 NaN  \n",
       "41                 NaN  "
      ]
     },
     "execution_count": 46,
     "metadata": {},
     "output_type": "execute_result"
    }
   ],
   "source": [
    "trigger.head()"
   ]
  },
  {
   "cell_type": "markdown",
   "metadata": {},
   "source": [
    "#### Tactic"
   ]
  },
  {
   "cell_type": "code",
   "execution_count": 47,
   "metadata": {},
   "outputs": [
    {
     "data": {
      "text/plain": [
       "(14, 3)"
      ]
     },
     "execution_count": 47,
     "metadata": {},
     "output_type": "execute_result"
    }
   ],
   "source": [
    "tactic = vocab.loc[vocab['Label'] == 'Tactic']\n",
    "tactic = tactic.drop('Label', axis = 1)\n",
    "tactic.to_excel('DATA/Vocabularies/tactic.xlsx')\n",
    "tactic.shape"
   ]
  },
  {
   "cell_type": "code",
   "execution_count": 48,
   "metadata": {},
   "outputs": [
    {
     "data": {
      "text/html": [
       "<div>\n",
       "<style scoped>\n",
       "    .dataframe tbody tr th:only-of-type {\n",
       "        vertical-align: middle;\n",
       "    }\n",
       "\n",
       "    .dataframe tbody tr th {\n",
       "        vertical-align: top;\n",
       "    }\n",
       "\n",
       "    .dataframe thead th {\n",
       "        text-align: right;\n",
       "    }\n",
       "</style>\n",
       "<table border=\"1\" class=\"dataframe\">\n",
       "  <thead>\n",
       "    <tr style=\"text-align: right;\">\n",
       "      <th></th>\n",
       "      <th>Concept</th>\n",
       "      <th>Phrases</th>\n",
       "      <th>Conditional Phrases</th>\n",
       "    </tr>\n",
       "  </thead>\n",
       "  <tbody>\n",
       "    <tr>\n",
       "      <th>51</th>\n",
       "      <td>Hostage</td>\n",
       "      <td>Captive, hostage, lock-in</td>\n",
       "      <td>NaN</td>\n",
       "    </tr>\n",
       "    <tr>\n",
       "      <th>52</th>\n",
       "      <td>Attack</td>\n",
       "      <td>Atack, Attack, Throw, threw, pelt, torch, choa...</td>\n",
       "      <td>NaN</td>\n",
       "    </tr>\n",
       "    <tr>\n",
       "      <th>53</th>\n",
       "      <td>Disrupt</td>\n",
       "      <td>Tyre, Block, tire, burn, Fire, Bricks, Stones,...</td>\n",
       "      <td>NaN</td>\n",
       "    </tr>\n",
       "    <tr>\n",
       "      <th>54</th>\n",
       "      <td>M&amp;M</td>\n",
       "      <td>March</td>\n",
       "      <td>Memorandum</td>\n",
       "    </tr>\n",
       "    <tr>\n",
       "      <th>55</th>\n",
       "      <td>Vandalism</td>\n",
       "      <td>damaged, vandalised, break, broke</td>\n",
       "      <td>NaN</td>\n",
       "    </tr>\n",
       "  </tbody>\n",
       "</table>\n",
       "</div>"
      ],
      "text/plain": [
       "      Concept                                            Phrases  \\\n",
       "51    Hostage                          Captive, hostage, lock-in   \n",
       "52     Attack  Atack, Attack, Throw, threw, pelt, torch, choa...   \n",
       "53    Disrupt  Tyre, Block, tire, burn, Fire, Bricks, Stones,...   \n",
       "54        M&M                                              March   \n",
       "55  Vandalism                  damaged, vandalised, break, broke   \n",
       "\n",
       "   Conditional Phrases  \n",
       "51                 NaN  \n",
       "52                 NaN  \n",
       "53                 NaN  \n",
       "54          Memorandum  \n",
       "55                 NaN  "
      ]
     },
     "execution_count": 48,
     "metadata": {},
     "output_type": "execute_result"
    }
   ],
   "source": [
    "tactic.head()"
   ]
  },
  {
   "cell_type": "markdown",
   "metadata": {},
   "source": [
    "#### Actors"
   ]
  },
  {
   "cell_type": "code",
   "execution_count": 49,
   "metadata": {},
   "outputs": [
    {
     "data": {
      "text/plain": [
       "(4, 3)"
      ]
     },
     "execution_count": 49,
     "metadata": {},
     "output_type": "execute_result"
    }
   ],
   "source": [
    "actors = vocab.loc[vocab['Label'] == 'Actors']\n",
    "actors = actors.drop('Label', axis = 1)\n",
    "actors.to_excel('DATA/Vocabularies/actors.xlsx')\n",
    "actors.shape"
   ]
  },
  {
   "cell_type": "code",
   "execution_count": 50,
   "metadata": {},
   "outputs": [
    {
     "data": {
      "text/html": [
       "<div>\n",
       "<style scoped>\n",
       "    .dataframe tbody tr th:only-of-type {\n",
       "        vertical-align: middle;\n",
       "    }\n",
       "\n",
       "    .dataframe tbody tr th {\n",
       "        vertical-align: top;\n",
       "    }\n",
       "\n",
       "    .dataframe thead th {\n",
       "        text-align: right;\n",
       "    }\n",
       "</style>\n",
       "<table border=\"1\" class=\"dataframe\">\n",
       "  <thead>\n",
       "    <tr style=\"text-align: right;\">\n",
       "      <th></th>\n",
       "      <th>Concept</th>\n",
       "      <th>Phrases</th>\n",
       "      <th>Conditional Phrases</th>\n",
       "    </tr>\n",
       "  </thead>\n",
       "  <tbody>\n",
       "    <tr>\n",
       "      <th>66</th>\n",
       "      <td>Union</td>\n",
       "      <td>COSATU, FOSATU, NEHAWU, SATAWU, Allied, AMCU, ...</td>\n",
       "      <td>NaN</td>\n",
       "    </tr>\n",
       "    <tr>\n",
       "      <th>67</th>\n",
       "      <td>Political Party</td>\n",
       "      <td>ANC, Congress, DA, EFF, IFP, NFP, Cope, UDM, S...</td>\n",
       "      <td>NaN</td>\n",
       "    </tr>\n",
       "    <tr>\n",
       "      <th>68</th>\n",
       "      <td>Civic org</td>\n",
       "      <td>association, residents, concerned, ratepayers,...</td>\n",
       "      <td>NaN</td>\n",
       "    </tr>\n",
       "    <tr>\n",
       "      <th>69</th>\n",
       "      <td>Church</td>\n",
       "      <td>church, congregation, believers, temple, mosqu...</td>\n",
       "      <td>NaN</td>\n",
       "    </tr>\n",
       "  </tbody>\n",
       "</table>\n",
       "</div>"
      ],
      "text/plain": [
       "            Concept                                            Phrases  \\\n",
       "66            Union  COSATU, FOSATU, NEHAWU, SATAWU, Allied, AMCU, ...   \n",
       "67  Political Party  ANC, Congress, DA, EFF, IFP, NFP, Cope, UDM, S...   \n",
       "68        Civic org  association, residents, concerned, ratepayers,...   \n",
       "69           Church  church, congregation, believers, temple, mosqu...   \n",
       "\n",
       "   Conditional Phrases  \n",
       "66                 NaN  \n",
       "67                 NaN  \n",
       "68                 NaN  \n",
       "69                 NaN  "
      ]
     },
     "execution_count": 50,
     "metadata": {},
     "output_type": "execute_result"
    }
   ],
   "source": [
    "actors.head()"
   ]
  },
  {
   "cell_type": "markdown",
   "metadata": {},
   "source": [
    "#### Locations"
   ]
  },
  {
   "cell_type": "code",
   "execution_count": 51,
   "metadata": {},
   "outputs": [
    {
     "data": {
      "text/plain": [
       "(7, 3)"
      ]
     },
     "execution_count": 51,
     "metadata": {},
     "output_type": "execute_result"
    }
   ],
   "source": [
    "locations = vocab.loc[vocab['Label'] == 'Location']\n",
    "locations = locations.drop('Label', axis = 1)\n",
    "locations.to_excel('DATA/Vocabularies/locations.xlsx')\n",
    "locations.shape"
   ]
  },
  {
   "cell_type": "code",
   "execution_count": 52,
   "metadata": {},
   "outputs": [
    {
     "data": {
      "text/html": [
       "<div>\n",
       "<style scoped>\n",
       "    .dataframe tbody tr th:only-of-type {\n",
       "        vertical-align: middle;\n",
       "    }\n",
       "\n",
       "    .dataframe tbody tr th {\n",
       "        vertical-align: top;\n",
       "    }\n",
       "\n",
       "    .dataframe thead th {\n",
       "        text-align: right;\n",
       "    }\n",
       "</style>\n",
       "<table border=\"1\" class=\"dataframe\">\n",
       "  <thead>\n",
       "    <tr style=\"text-align: right;\">\n",
       "      <th></th>\n",
       "      <th>Concept</th>\n",
       "      <th>Phrases</th>\n",
       "      <th>Conditional Phrases</th>\n",
       "    </tr>\n",
       "  </thead>\n",
       "  <tbody>\n",
       "    <tr>\n",
       "      <th>71</th>\n",
       "      <td>Informal area</td>\n",
       "      <td>Shacks, sharks, informal, hostel, squatter, ca...</td>\n",
       "      <td>NaN</td>\n",
       "    </tr>\n",
       "    <tr>\n",
       "      <th>72</th>\n",
       "      <td>Court</td>\n",
       "      <td>Court, hearing</td>\n",
       "      <td>NaN</td>\n",
       "    </tr>\n",
       "    <tr>\n",
       "      <th>73</th>\n",
       "      <td>Business premises</td>\n",
       "      <td>company, business, gate, premises, factory,</td>\n",
       "      <td>NaN</td>\n",
       "    </tr>\n",
       "    <tr>\n",
       "      <th>74</th>\n",
       "      <td>Stadium</td>\n",
       "      <td>Stadium, sports field</td>\n",
       "      <td>NaN</td>\n",
       "    </tr>\n",
       "    <tr>\n",
       "      <th>75</th>\n",
       "      <td>Church</td>\n",
       "      <td>church, congregation, believers, temple, musli...</td>\n",
       "      <td>NaN</td>\n",
       "    </tr>\n",
       "  </tbody>\n",
       "</table>\n",
       "</div>"
      ],
      "text/plain": [
       "              Concept                                            Phrases  \\\n",
       "71      Informal area  Shacks, sharks, informal, hostel, squatter, ca...   \n",
       "72              Court                                     Court, hearing   \n",
       "73  Business premises       company, business, gate, premises, factory,    \n",
       "74            Stadium                              Stadium, sports field   \n",
       "75             Church  church, congregation, believers, temple, musli...   \n",
       "\n",
       "   Conditional Phrases  \n",
       "71                 NaN  \n",
       "72                 NaN  \n",
       "73                 NaN  \n",
       "74                 NaN  \n",
       "75                 NaN  "
      ]
     },
     "execution_count": 52,
     "metadata": {},
     "output_type": "execute_result"
    }
   ],
   "source": [
    "locations.head()"
   ]
  },
  {
   "cell_type": "markdown",
   "metadata": {},
   "source": [
    "#### Weapons"
   ]
  },
  {
   "cell_type": "code",
   "execution_count": 53,
   "metadata": {},
   "outputs": [
    {
     "data": {
      "text/plain": [
       "(3, 3)"
      ]
     },
     "execution_count": 53,
     "metadata": {},
     "output_type": "execute_result"
    }
   ],
   "source": [
    "weapons = vocab.loc[vocab['Label'] == 'Weapons']\n",
    "weapons = weapons.drop('Label', axis = 1)\n",
    "weapons.to_excel('DATA/Vocabularies/weapons.xlsx')\n",
    "weapons.shape"
   ]
  },
  {
   "cell_type": "code",
   "execution_count": 54,
   "metadata": {},
   "outputs": [
    {
     "data": {
      "text/html": [
       "<div>\n",
       "<style scoped>\n",
       "    .dataframe tbody tr th:only-of-type {\n",
       "        vertical-align: middle;\n",
       "    }\n",
       "\n",
       "    .dataframe tbody tr th {\n",
       "        vertical-align: top;\n",
       "    }\n",
       "\n",
       "    .dataframe thead th {\n",
       "        text-align: right;\n",
       "    }\n",
       "</style>\n",
       "<table border=\"1\" class=\"dataframe\">\n",
       "  <thead>\n",
       "    <tr style=\"text-align: right;\">\n",
       "      <th></th>\n",
       "      <th>Concept</th>\n",
       "      <th>Phrases</th>\n",
       "      <th>Conditional Phrases</th>\n",
       "    </tr>\n",
       "  </thead>\n",
       "  <tbody>\n",
       "    <tr>\n",
       "      <th>79</th>\n",
       "      <td>Crowd weapons</td>\n",
       "      <td>Weapon, Knife, Traditional weapons, knobkierie...</td>\n",
       "      <td>NaN</td>\n",
       "    </tr>\n",
       "    <tr>\n",
       "      <th>80</th>\n",
       "      <td>Crowd projectiles</td>\n",
       "      <td>Throw, Threw, Attack, attacked</td>\n",
       "      <td>Stones, rocks, bricks, brike</td>\n",
       "    </tr>\n",
       "    <tr>\n",
       "      <th>81</th>\n",
       "      <td>Police weapons</td>\n",
       "      <td>Gun, cannon, canon, shotgun, s/gun, rubber, st...</td>\n",
       "      <td>NaN</td>\n",
       "    </tr>\n",
       "  </tbody>\n",
       "</table>\n",
       "</div>"
      ],
      "text/plain": [
       "              Concept                                            Phrases  \\\n",
       "79      Crowd weapons  Weapon, Knife, Traditional weapons, knobkierie...   \n",
       "80  Crowd projectiles                    Throw, Threw, Attack, attacked    \n",
       "81     Police weapons  Gun, cannon, canon, shotgun, s/gun, rubber, st...   \n",
       "\n",
       "               Conditional Phrases  \n",
       "79                             NaN  \n",
       "80   Stones, rocks, bricks, brike   \n",
       "81                             NaN  "
      ]
     },
     "execution_count": 54,
     "metadata": {},
     "output_type": "execute_result"
    }
   ],
   "source": [
    "weapons.head()"
   ]
  },
  {
   "cell_type": "markdown",
   "metadata": {},
   "source": [
    "#### Eventuality"
   ]
  },
  {
   "cell_type": "code",
   "execution_count": 55,
   "metadata": {},
   "outputs": [
    {
     "data": {
      "text/plain": [
       "(2, 3)"
      ]
     },
     "execution_count": 55,
     "metadata": {},
     "output_type": "execute_result"
    }
   ],
   "source": [
    "eventuality = vocab.loc[vocab['Label'] == 'Eventuality']\n",
    "eventuality = eventuality.drop('Label', axis = 1)\n",
    "eventuality.to_excel('DATA/Vocabularies/eventuality.xlsx')\n",
    "eventuality.shape"
   ]
  },
  {
   "cell_type": "code",
   "execution_count": 56,
   "metadata": {},
   "outputs": [
    {
     "data": {
      "text/html": [
       "<div>\n",
       "<style scoped>\n",
       "    .dataframe tbody tr th:only-of-type {\n",
       "        vertical-align: middle;\n",
       "    }\n",
       "\n",
       "    .dataframe tbody tr th {\n",
       "        vertical-align: top;\n",
       "    }\n",
       "\n",
       "    .dataframe thead th {\n",
       "        text-align: right;\n",
       "    }\n",
       "</style>\n",
       "<table border=\"1\" class=\"dataframe\">\n",
       "  <thead>\n",
       "    <tr style=\"text-align: right;\">\n",
       "      <th></th>\n",
       "      <th>Concept</th>\n",
       "      <th>Phrases</th>\n",
       "      <th>Conditional Phrases</th>\n",
       "    </tr>\n",
       "  </thead>\n",
       "  <tbody>\n",
       "    <tr>\n",
       "      <th>83</th>\n",
       "      <td>Police attack</td>\n",
       "      <td>Police</td>\n",
       "      <td>beat, raid, injury, rubber, stungrenade, stunt...</td>\n",
       "    </tr>\n",
       "    <tr>\n",
       "      <th>84</th>\n",
       "      <td>Vigilantism</td>\n",
       "      <td>Beat, beating, mob justice, necklace, necklaci...</td>\n",
       "      <td>NaN</td>\n",
       "    </tr>\n",
       "  </tbody>\n",
       "</table>\n",
       "</div>"
      ],
      "text/plain": [
       "          Concept                                            Phrases  \\\n",
       "83  Police attack                                             Police   \n",
       "84    Vigilantism  Beat, beating, mob justice, necklace, necklaci...   \n",
       "\n",
       "                                  Conditional Phrases  \n",
       "83  beat, raid, injury, rubber, stungrenade, stunt...  \n",
       "84                                                NaN  "
      ]
     },
     "execution_count": 56,
     "metadata": {},
     "output_type": "execute_result"
    }
   ],
   "source": [
    "eventuality.head()"
   ]
  },
  {
   "cell_type": "markdown",
   "metadata": {},
   "source": [
    "#### Curiosity"
   ]
  },
  {
   "cell_type": "code",
   "execution_count": 57,
   "metadata": {},
   "outputs": [
    {
     "data": {
      "text/plain": [
       "(2, 3)"
      ]
     },
     "execution_count": 57,
     "metadata": {},
     "output_type": "execute_result"
    }
   ],
   "source": [
    "curiosity = vocab.loc[vocab['Label'] == 'Curiosity']\n",
    "curiosity = curiosity.drop('Label', axis = 1)\n",
    "curiosity.to_excel('DATA/Vocabularies/curiosity.xlsx')\n",
    "curiosity.shape"
   ]
  },
  {
   "cell_type": "code",
   "execution_count": 58,
   "metadata": {},
   "outputs": [
    {
     "data": {
      "text/html": [
       "<div>\n",
       "<style scoped>\n",
       "    .dataframe tbody tr th:only-of-type {\n",
       "        vertical-align: middle;\n",
       "    }\n",
       "\n",
       "    .dataframe tbody tr th {\n",
       "        vertical-align: top;\n",
       "    }\n",
       "\n",
       "    .dataframe thead th {\n",
       "        text-align: right;\n",
       "    }\n",
       "</style>\n",
       "<table border=\"1\" class=\"dataframe\">\n",
       "  <thead>\n",
       "    <tr style=\"text-align: right;\">\n",
       "      <th></th>\n",
       "      <th>Concept</th>\n",
       "      <th>Phrases</th>\n",
       "      <th>Conditional Phrases</th>\n",
       "    </tr>\n",
       "  </thead>\n",
       "  <tbody>\n",
       "    <tr>\n",
       "      <th>86</th>\n",
       "      <td>Movements</td>\n",
       "      <td>Rebel, rebellion, uprising, movement,</td>\n",
       "      <td>NaN</td>\n",
       "    </tr>\n",
       "    <tr>\n",
       "      <th>87</th>\n",
       "      <td>Special Keywords</td>\n",
       "      <td>Lunch, scab, scabs, swearing, loot, looting, S...</td>\n",
       "      <td>NaN</td>\n",
       "    </tr>\n",
       "  </tbody>\n",
       "</table>\n",
       "</div>"
      ],
      "text/plain": [
       "             Concept                                            Phrases  \\\n",
       "86         Movements              Rebel, rebellion, uprising, movement,   \n",
       "87  Special Keywords  Lunch, scab, scabs, swearing, loot, looting, S...   \n",
       "\n",
       "   Conditional Phrases  \n",
       "86                 NaN  \n",
       "87                 NaN  "
      ]
     },
     "execution_count": 58,
     "metadata": {},
     "output_type": "execute_result"
    }
   ],
   "source": [
    "curiosity.head()"
   ]
  },
  {
   "cell_type": "markdown",
   "metadata": {},
   "source": [
    "#### Non-protest"
   ]
  },
  {
   "cell_type": "code",
   "execution_count": 59,
   "metadata": {},
   "outputs": [
    {
     "data": {
      "text/plain": [
       "(11, 3)"
      ]
     },
     "execution_count": 59,
     "metadata": {},
     "output_type": "execute_result"
    }
   ],
   "source": [
    "non_protest = vocab.loc[vocab['Label'] == 'Non-protest']\n",
    "non_protest = non_protest.drop('Label', axis = 1)\n",
    "non_protest.to_excel('DATA/Vocabularies/non_protest.xlsx')\n",
    "non_protest.shape"
   ]
  },
  {
   "cell_type": "code",
   "execution_count": 60,
   "metadata": {},
   "outputs": [
    {
     "data": {
      "text/html": [
       "<div>\n",
       "<style scoped>\n",
       "    .dataframe tbody tr th:only-of-type {\n",
       "        vertical-align: middle;\n",
       "    }\n",
       "\n",
       "    .dataframe tbody tr th {\n",
       "        vertical-align: top;\n",
       "    }\n",
       "\n",
       "    .dataframe thead th {\n",
       "        text-align: right;\n",
       "    }\n",
       "</style>\n",
       "<table border=\"1\" class=\"dataframe\">\n",
       "  <thead>\n",
       "    <tr style=\"text-align: right;\">\n",
       "      <th></th>\n",
       "      <th>Concept</th>\n",
       "      <th>Phrases</th>\n",
       "      <th>Conditional Phrases</th>\n",
       "    </tr>\n",
       "  </thead>\n",
       "  <tbody>\n",
       "    <tr>\n",
       "      <th>89</th>\n",
       "      <td>Football matches</td>\n",
       "      <td>Football, soccer, PSL, score, Bafana</td>\n",
       "      <td>NaN</td>\n",
       "    </tr>\n",
       "    <tr>\n",
       "      <th>90</th>\n",
       "      <td>Other sport</td>\n",
       "      <td>Cricket, rugby, games, athletics, race, marath...</td>\n",
       "      <td>NaN</td>\n",
       "    </tr>\n",
       "    <tr>\n",
       "      <th>91</th>\n",
       "      <td>Tribal court meetings</td>\n",
       "      <td>Tribal court, traditional court, imbizo,</td>\n",
       "      <td>NaN</td>\n",
       "    </tr>\n",
       "    <tr>\n",
       "      <th>92</th>\n",
       "      <td>Funerals</td>\n",
       "      <td>Memorial, funeral, burial, after tears, mourners</td>\n",
       "      <td>NaN</td>\n",
       "    </tr>\n",
       "    <tr>\n",
       "      <th>93</th>\n",
       "      <td>Church</td>\n",
       "      <td>Church service, ZCC, Shembe, prayer, dedication</td>\n",
       "      <td>NaN</td>\n",
       "    </tr>\n",
       "  </tbody>\n",
       "</table>\n",
       "</div>"
      ],
      "text/plain": [
       "                  Concept                                            Phrases  \\\n",
       "89       Football matches               Football, soccer, PSL, score, Bafana   \n",
       "90            Other sport  Cricket, rugby, games, athletics, race, marath...   \n",
       "91  Tribal court meetings           Tribal court, traditional court, imbizo,   \n",
       "92               Funerals   Memorial, funeral, burial, after tears, mourners   \n",
       "93                 Church   Church service, ZCC, Shembe, prayer, dedication    \n",
       "\n",
       "   Conditional Phrases  \n",
       "89                 NaN  \n",
       "90                 NaN  \n",
       "91                 NaN  \n",
       "92                 NaN  \n",
       "93                 NaN  "
      ]
     },
     "execution_count": 60,
     "metadata": {},
     "output_type": "execute_result"
    }
   ],
   "source": [
    "non_protest.head()"
   ]
  }
 ],
 "metadata": {
  "kernelspec": {
   "display_name": "Python 3.10.4 64-bit",
   "language": "python",
   "name": "python3"
  },
  "language_info": {
   "codemirror_mode": {
    "name": "ipython",
    "version": 3
   },
   "file_extension": ".py",
   "mimetype": "text/x-python",
   "name": "python",
   "nbconvert_exporter": "python",
   "pygments_lexer": "ipython3",
   "version": "3.10.4"
  },
  "orig_nbformat": 4,
  "vscode": {
   "interpreter": {
    "hash": "eb1e2aa17c9c03522ea469ed025d74c8a00b3c7801d0496b408e209436a13f2e"
   }
  }
 },
 "nbformat": 4,
 "nbformat_minor": 2
}
