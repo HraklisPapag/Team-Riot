{
 "cells": [
  {
   "cell_type": "markdown",
   "metadata": {},
   "source": [
    "# Cleaning up and Creating Content Vocabulary"
   ]
  },
  {
   "cell_type": "markdown",
   "metadata": {},
   "source": [
    "### Import Everything\n",
    "Just easier that way"
   ]
  },
  {
   "cell_type": "code",
   "execution_count": 107,
   "metadata": {},
   "outputs": [],
   "source": [
    "import numpy as np\n",
    "import pandas as pd\n",
    "import os\n",
    "\n",
    "# Word processing libraries\n",
    "import re\n",
    "from nltk.corpus import wordnet\n",
    "import string\n",
    "from nltk import pos_tag\n",
    "from nltk.corpus import stopwords\n",
    "from nltk.tokenize import WhitespaceTokenizer\n",
    "from nltk.stem import WordNetLemmatizer\n",
    "\n",
    "#Nan\n",
    "from cmath import nan"
   ]
  },
  {
   "cell_type": "code",
   "execution_count": 108,
   "metadata": {},
   "outputs": [
    {
     "ename": "FileNotFoundError",
     "evalue": "[Errno 2] No such file or directory: 'DATA/Protest is SA   SAS rules V2 - Separated.xlsx'",
     "output_type": "error",
     "traceback": [
      "\u001b[1;31m---------------------------------------------------------------------------\u001b[0m",
      "\u001b[1;31mFileNotFoundError\u001b[0m                         Traceback (most recent call last)",
      "\u001b[1;32me:\\2022\\Sem 1\\ELEN4002 Capstone Project\\Code\\Team-Riot\\vocabulary.ipynb Cell 4\u001b[0m in \u001b[0;36m<cell line: 1>\u001b[1;34m()\u001b[0m\n\u001b[1;32m----> <a href='vscode-notebook-cell:/e%3A/2022/Sem%201/ELEN4002%20Capstone%20Project/Code/Team-Riot/vocabulary.ipynb#Y103sZmlsZQ%3D%3D?line=0'>1</a>\u001b[0m vocab \u001b[39m=\u001b[39m pd\u001b[39m.\u001b[39;49mread_excel(\u001b[39m'\u001b[39;49m\u001b[39mDATA/Protest is SA   SAS rules V2 - Separated.xlsx\u001b[39;49m\u001b[39m'\u001b[39;49m)\n",
      "File \u001b[1;32mc:\\Users\\papag\\AppData\\Local\\Programs\\Python\\Python310\\lib\\site-packages\\pandas\\util\\_decorators.py:311\u001b[0m, in \u001b[0;36mdeprecate_nonkeyword_arguments.<locals>.decorate.<locals>.wrapper\u001b[1;34m(*args, **kwargs)\u001b[0m\n\u001b[0;32m    305\u001b[0m \u001b[39mif\u001b[39;00m \u001b[39mlen\u001b[39m(args) \u001b[39m>\u001b[39m num_allow_args:\n\u001b[0;32m    306\u001b[0m     warnings\u001b[39m.\u001b[39mwarn(\n\u001b[0;32m    307\u001b[0m         msg\u001b[39m.\u001b[39mformat(arguments\u001b[39m=\u001b[39marguments),\n\u001b[0;32m    308\u001b[0m         \u001b[39mFutureWarning\u001b[39;00m,\n\u001b[0;32m    309\u001b[0m         stacklevel\u001b[39m=\u001b[39mstacklevel,\n\u001b[0;32m    310\u001b[0m     )\n\u001b[1;32m--> 311\u001b[0m \u001b[39mreturn\u001b[39;00m func(\u001b[39m*\u001b[39margs, \u001b[39m*\u001b[39m\u001b[39m*\u001b[39mkwargs)\n",
      "File \u001b[1;32mc:\\Users\\papag\\AppData\\Local\\Programs\\Python\\Python310\\lib\\site-packages\\pandas\\io\\excel\\_base.py:457\u001b[0m, in \u001b[0;36mread_excel\u001b[1;34m(io, sheet_name, header, names, index_col, usecols, squeeze, dtype, engine, converters, true_values, false_values, skiprows, nrows, na_values, keep_default_na, na_filter, verbose, parse_dates, date_parser, thousands, decimal, comment, skipfooter, convert_float, mangle_dupe_cols, storage_options)\u001b[0m\n\u001b[0;32m    455\u001b[0m \u001b[39mif\u001b[39;00m \u001b[39mnot\u001b[39;00m \u001b[39misinstance\u001b[39m(io, ExcelFile):\n\u001b[0;32m    456\u001b[0m     should_close \u001b[39m=\u001b[39m \u001b[39mTrue\u001b[39;00m\n\u001b[1;32m--> 457\u001b[0m     io \u001b[39m=\u001b[39m ExcelFile(io, storage_options\u001b[39m=\u001b[39;49mstorage_options, engine\u001b[39m=\u001b[39;49mengine)\n\u001b[0;32m    458\u001b[0m \u001b[39melif\u001b[39;00m engine \u001b[39mand\u001b[39;00m engine \u001b[39m!=\u001b[39m io\u001b[39m.\u001b[39mengine:\n\u001b[0;32m    459\u001b[0m     \u001b[39mraise\u001b[39;00m \u001b[39mValueError\u001b[39;00m(\n\u001b[0;32m    460\u001b[0m         \u001b[39m\"\u001b[39m\u001b[39mEngine should not be specified when passing \u001b[39m\u001b[39m\"\u001b[39m\n\u001b[0;32m    461\u001b[0m         \u001b[39m\"\u001b[39m\u001b[39man ExcelFile - ExcelFile already has the engine set\u001b[39m\u001b[39m\"\u001b[39m\n\u001b[0;32m    462\u001b[0m     )\n",
      "File \u001b[1;32mc:\\Users\\papag\\AppData\\Local\\Programs\\Python\\Python310\\lib\\site-packages\\pandas\\io\\excel\\_base.py:1376\u001b[0m, in \u001b[0;36mExcelFile.__init__\u001b[1;34m(self, path_or_buffer, engine, storage_options)\u001b[0m\n\u001b[0;32m   1374\u001b[0m     ext \u001b[39m=\u001b[39m \u001b[39m\"\u001b[39m\u001b[39mxls\u001b[39m\u001b[39m\"\u001b[39m\n\u001b[0;32m   1375\u001b[0m \u001b[39melse\u001b[39;00m:\n\u001b[1;32m-> 1376\u001b[0m     ext \u001b[39m=\u001b[39m inspect_excel_format(\n\u001b[0;32m   1377\u001b[0m         content_or_path\u001b[39m=\u001b[39;49mpath_or_buffer, storage_options\u001b[39m=\u001b[39;49mstorage_options\n\u001b[0;32m   1378\u001b[0m     )\n\u001b[0;32m   1379\u001b[0m     \u001b[39mif\u001b[39;00m ext \u001b[39mis\u001b[39;00m \u001b[39mNone\u001b[39;00m:\n\u001b[0;32m   1380\u001b[0m         \u001b[39mraise\u001b[39;00m \u001b[39mValueError\u001b[39;00m(\n\u001b[0;32m   1381\u001b[0m             \u001b[39m\"\u001b[39m\u001b[39mExcel file format cannot be determined, you must specify \u001b[39m\u001b[39m\"\u001b[39m\n\u001b[0;32m   1382\u001b[0m             \u001b[39m\"\u001b[39m\u001b[39man engine manually.\u001b[39m\u001b[39m\"\u001b[39m\n\u001b[0;32m   1383\u001b[0m         )\n",
      "File \u001b[1;32mc:\\Users\\papag\\AppData\\Local\\Programs\\Python\\Python310\\lib\\site-packages\\pandas\\io\\excel\\_base.py:1250\u001b[0m, in \u001b[0;36minspect_excel_format\u001b[1;34m(content_or_path, storage_options)\u001b[0m\n\u001b[0;32m   1247\u001b[0m \u001b[39mif\u001b[39;00m \u001b[39misinstance\u001b[39m(content_or_path, \u001b[39mbytes\u001b[39m):\n\u001b[0;32m   1248\u001b[0m     content_or_path \u001b[39m=\u001b[39m BytesIO(content_or_path)\n\u001b[1;32m-> 1250\u001b[0m \u001b[39mwith\u001b[39;00m get_handle(\n\u001b[0;32m   1251\u001b[0m     content_or_path, \u001b[39m\"\u001b[39;49m\u001b[39mrb\u001b[39;49m\u001b[39m\"\u001b[39;49m, storage_options\u001b[39m=\u001b[39;49mstorage_options, is_text\u001b[39m=\u001b[39;49m\u001b[39mFalse\u001b[39;49;00m\n\u001b[0;32m   1252\u001b[0m ) \u001b[39mas\u001b[39;00m handle:\n\u001b[0;32m   1253\u001b[0m     stream \u001b[39m=\u001b[39m handle\u001b[39m.\u001b[39mhandle\n\u001b[0;32m   1254\u001b[0m     stream\u001b[39m.\u001b[39mseek(\u001b[39m0\u001b[39m)\n",
      "File \u001b[1;32mc:\\Users\\papag\\AppData\\Local\\Programs\\Python\\Python310\\lib\\site-packages\\pandas\\io\\common.py:798\u001b[0m, in \u001b[0;36mget_handle\u001b[1;34m(path_or_buf, mode, encoding, compression, memory_map, is_text, errors, storage_options)\u001b[0m\n\u001b[0;32m    789\u001b[0m         handle \u001b[39m=\u001b[39m \u001b[39mopen\u001b[39m(\n\u001b[0;32m    790\u001b[0m             handle,\n\u001b[0;32m    791\u001b[0m             ioargs\u001b[39m.\u001b[39mmode,\n\u001b[1;32m   (...)\u001b[0m\n\u001b[0;32m    794\u001b[0m             newline\u001b[39m=\u001b[39m\u001b[39m\"\u001b[39m\u001b[39m\"\u001b[39m,\n\u001b[0;32m    795\u001b[0m         )\n\u001b[0;32m    796\u001b[0m     \u001b[39melse\u001b[39;00m:\n\u001b[0;32m    797\u001b[0m         \u001b[39m# Binary mode\u001b[39;00m\n\u001b[1;32m--> 798\u001b[0m         handle \u001b[39m=\u001b[39m \u001b[39mopen\u001b[39;49m(handle, ioargs\u001b[39m.\u001b[39;49mmode)\n\u001b[0;32m    799\u001b[0m     handles\u001b[39m.\u001b[39mappend(handle)\n\u001b[0;32m    801\u001b[0m \u001b[39m# Convert BytesIO or file objects passed with an encoding\u001b[39;00m\n",
      "\u001b[1;31mFileNotFoundError\u001b[0m: [Errno 2] No such file or directory: 'DATA/Protest is SA   SAS rules V2 - Separated.xlsx'"
     ]
    }
   ],
   "source": [
    "vocab = pd.read_excel('DATA/Protest is SA   SAS rules V2 - Separated.xlsx')"
   ]
  },
  {
   "cell_type": "code",
   "execution_count": null,
   "metadata": {},
   "outputs": [
    {
     "data": {
      "text/plain": [
       "(100, 6)"
      ]
     },
     "execution_count": 74,
     "metadata": {},
     "output_type": "execute_result"
    }
   ],
   "source": [
    "vocab.shape"
   ]
  },
  {
   "cell_type": "code",
   "execution_count": null,
   "metadata": {},
   "outputs": [
    {
     "data": {
      "text/html": [
       "<div>\n",
       "<style scoped>\n",
       "    .dataframe tbody tr th:only-of-type {\n",
       "        vertical-align: middle;\n",
       "    }\n",
       "\n",
       "    .dataframe tbody tr th {\n",
       "        vertical-align: top;\n",
       "    }\n",
       "\n",
       "    .dataframe thead th {\n",
       "        text-align: right;\n",
       "    }\n",
       "</style>\n",
       "<table border=\"1\" class=\"dataframe\">\n",
       "  <thead>\n",
       "    <tr style=\"text-align: right;\">\n",
       "      <th></th>\n",
       "      <th>Label</th>\n",
       "      <th>Concept</th>\n",
       "      <th>Phrases</th>\n",
       "      <th>Conditional_Phrases</th>\n",
       "      <th>Afrikaans_Phrases</th>\n",
       "      <th>Rule</th>\n",
       "    </tr>\n",
       "  </thead>\n",
       "  <tbody>\n",
       "    <tr>\n",
       "      <th>0</th>\n",
       "      <td>Grievance</td>\n",
       "      <td>Capitalism</td>\n",
       "      <td>Capitalism,neoliberalism,privatisation,privati...</td>\n",
       "      <td>NaN</td>\n",
       "      <td>Kapitalisme, privatisasie, privatiseer, neolib...</td>\n",
       "      <td>Multiple grievances ok</td>\n",
       "    </tr>\n",
       "    <tr>\n",
       "      <th>1</th>\n",
       "      <td>Grievance</td>\n",
       "      <td>Values</td>\n",
       "      <td>Abuse,against xenophobia</td>\n",
       "      <td>NaN</td>\n",
       "      <td>mishandeling, teen xenofobie</td>\n",
       "      <td>Multiple grievances ok</td>\n",
       "    </tr>\n",
       "    <tr>\n",
       "      <th>2</th>\n",
       "      <td>Grievance</td>\n",
       "      <td>Conditions</td>\n",
       "      <td>poverty,unemployment,jobs,job</td>\n",
       "      <td>NaN</td>\n",
       "      <td>armoede, werkloosheid, werke</td>\n",
       "      <td>Multiple grievances ok</td>\n",
       "    </tr>\n",
       "  </tbody>\n",
       "</table>\n",
       "</div>"
      ],
      "text/plain": [
       "       Label     Concept                                            Phrases  \\\n",
       "0  Grievance  Capitalism  Capitalism,neoliberalism,privatisation,privati...   \n",
       "1  Grievance      Values                           Abuse,against xenophobia   \n",
       "2  Grievance  Conditions                      poverty,unemployment,jobs,job   \n",
       "\n",
       "  Conditional_Phrases                                  Afrikaans_Phrases  \\\n",
       "0                 NaN  Kapitalisme, privatisasie, privatiseer, neolib...   \n",
       "1                 NaN                       mishandeling, teen xenofobie   \n",
       "2                 NaN                       armoede, werkloosheid, werke   \n",
       "\n",
       "                     Rule  \n",
       "0  Multiple grievances ok  \n",
       "1  Multiple grievances ok  \n",
       "2  Multiple grievances ok  "
      ]
     },
     "execution_count": 75,
     "metadata": {},
     "output_type": "execute_result"
    }
   ],
   "source": [
    "vocab.head(3)"
   ]
  },
  {
   "cell_type": "code",
   "execution_count": null,
   "metadata": {},
   "outputs": [],
   "source": [
    "vocab = vocab.dropna(how = 'all')"
   ]
  },
  {
   "cell_type": "code",
   "execution_count": null,
   "metadata": {},
   "outputs": [
    {
     "data": {
      "text/plain": [
       "(92, 6)"
      ]
     },
     "execution_count": 77,
     "metadata": {},
     "output_type": "execute_result"
    }
   ],
   "source": [
    "vocab.shape"
   ]
  },
  {
   "cell_type": "code",
   "execution_count": null,
   "metadata": {},
   "outputs": [
    {
     "data": {
      "text/html": [
       "<div>\n",
       "<style scoped>\n",
       "    .dataframe tbody tr th:only-of-type {\n",
       "        vertical-align: middle;\n",
       "    }\n",
       "\n",
       "    .dataframe tbody tr th {\n",
       "        vertical-align: top;\n",
       "    }\n",
       "\n",
       "    .dataframe thead th {\n",
       "        text-align: right;\n",
       "    }\n",
       "</style>\n",
       "<table border=\"1\" class=\"dataframe\">\n",
       "  <thead>\n",
       "    <tr style=\"text-align: right;\">\n",
       "      <th></th>\n",
       "      <th>Label</th>\n",
       "      <th>Concept</th>\n",
       "      <th>Phrases</th>\n",
       "      <th>Conditional_Phrases</th>\n",
       "      <th>Afrikaans_Phrases</th>\n",
       "      <th>Rule</th>\n",
       "    </tr>\n",
       "  </thead>\n",
       "  <tbody>\n",
       "    <tr>\n",
       "      <th>9</th>\n",
       "      <td>Grievance</td>\n",
       "      <td>Labour related</td>\n",
       "      <td>Work,workers,Company,Employ,employer,employee,...</td>\n",
       "      <td>corrupt,fired,dismissed,policy,other people,ho...</td>\n",
       "      <td>NaN</td>\n",
       "      <td>Multiple grievances ok</td>\n",
       "    </tr>\n",
       "  </tbody>\n",
       "</table>\n",
       "</div>"
      ],
      "text/plain": [
       "       Label         Concept  \\\n",
       "9  Grievance  Labour related   \n",
       "\n",
       "                                             Phrases  \\\n",
       "9  Work,workers,Company,Employ,employer,employee,...   \n",
       "\n",
       "                                 Conditional_Phrases Afrikaans_Phrases  \\\n",
       "9  corrupt,fired,dismissed,policy,other people,ho...               NaN   \n",
       "\n",
       "                     Rule  \n",
       "9  Multiple grievances ok  "
      ]
     },
     "execution_count": 78,
     "metadata": {},
     "output_type": "execute_result"
    }
   ],
   "source": [
    "vocab[(vocab['Afrikaans_Phrases'].isnull())]"
   ]
  },
  {
   "cell_type": "markdown",
   "metadata": {},
   "source": [
    "### Drop Rule\n",
    "Important to take note of what the rule column means: </br>\n",
    "Rule indicates whether text can be grouped into multiple categories </br>\n",
    "Rules are as follows:\n",
    "Can Contain Multiple:\n",
    "* Grievance\n",
    "* Actors\n",
    "* Locations\n",
    "* Weapons\n",
    "* Eventualities\n",
    "* Curiosity\n",
    "\n",
    "Can Only Have 1:\n",
    "* Trigger\n",
    "* Tactic</br>\n",
    "Re-think this because it could be possible to have multiple. </br>\n",
    "Events could be a combination of multiple things </br>\n",
    "eg: could be a gathering and a march</br>\n",
    "\n",
    "Discard:\n",
    "* Non-protest</br>\n",
    "    Unless it contains:\n",
    "    * Grievance\n",
    "    * Trigger\n",
    "    * Tactic\n",
    "    * Actor -> only for \"16 days of activism\"\n",
    "\n",
    "\n",
    "Now we can drop Rule"
   ]
  },
  {
   "cell_type": "code",
   "execution_count": null,
   "metadata": {},
   "outputs": [],
   "source": [
    "vocab = vocab.drop('Rule', axis = 1)"
   ]
  },
  {
   "cell_type": "code",
   "execution_count": null,
   "metadata": {},
   "outputs": [
    {
     "data": {
      "text/html": [
       "<div>\n",
       "<style scoped>\n",
       "    .dataframe tbody tr th:only-of-type {\n",
       "        vertical-align: middle;\n",
       "    }\n",
       "\n",
       "    .dataframe tbody tr th {\n",
       "        vertical-align: top;\n",
       "    }\n",
       "\n",
       "    .dataframe thead th {\n",
       "        text-align: right;\n",
       "    }\n",
       "</style>\n",
       "<table border=\"1\" class=\"dataframe\">\n",
       "  <thead>\n",
       "    <tr style=\"text-align: right;\">\n",
       "      <th></th>\n",
       "      <th>Label</th>\n",
       "      <th>Concept</th>\n",
       "      <th>Phrases</th>\n",
       "      <th>Conditional_Phrases</th>\n",
       "      <th>Afrikaans_Phrases</th>\n",
       "    </tr>\n",
       "  </thead>\n",
       "  <tbody>\n",
       "    <tr>\n",
       "      <th>0</th>\n",
       "      <td>Grievance</td>\n",
       "      <td>Capitalism</td>\n",
       "      <td>Capitalism,neoliberalism,privatisation,privati...</td>\n",
       "      <td>NaN</td>\n",
       "      <td>Kapitalisme, privatisasie, privatiseer, neolib...</td>\n",
       "    </tr>\n",
       "    <tr>\n",
       "      <th>1</th>\n",
       "      <td>Grievance</td>\n",
       "      <td>Values</td>\n",
       "      <td>Abuse,against xenophobia</td>\n",
       "      <td>NaN</td>\n",
       "      <td>mishandeling, teen xenofobie</td>\n",
       "    </tr>\n",
       "    <tr>\n",
       "      <th>2</th>\n",
       "      <td>Grievance</td>\n",
       "      <td>Conditions</td>\n",
       "      <td>poverty,unemployment,jobs,job</td>\n",
       "      <td>NaN</td>\n",
       "      <td>armoede, werkloosheid, werke</td>\n",
       "    </tr>\n",
       "  </tbody>\n",
       "</table>\n",
       "</div>"
      ],
      "text/plain": [
       "       Label     Concept                                            Phrases  \\\n",
       "0  Grievance  Capitalism  Capitalism,neoliberalism,privatisation,privati...   \n",
       "1  Grievance      Values                           Abuse,against xenophobia   \n",
       "2  Grievance  Conditions                      poverty,unemployment,jobs,job   \n",
       "\n",
       "  Conditional_Phrases                                  Afrikaans_Phrases  \n",
       "0                 NaN  Kapitalisme, privatisasie, privatiseer, neolib...  \n",
       "1                 NaN                       mishandeling, teen xenofobie  \n",
       "2                 NaN                       armoede, werkloosheid, werke  "
      ]
     },
     "execution_count": 80,
     "metadata": {},
     "output_type": "execute_result"
    }
   ],
   "source": [
    "vocab.head(3)"
   ]
  },
  {
   "cell_type": "markdown",
   "metadata": {},
   "source": [
    "### Drop Afrikaans for now\n",
    "We can always create functionality for it at a later date"
   ]
  },
  {
   "cell_type": "code",
   "execution_count": null,
   "metadata": {},
   "outputs": [],
   "source": [
    "vocab = vocab.drop('Afrikaans_Phrases', axis = 1)"
   ]
  },
  {
   "cell_type": "code",
   "execution_count": null,
   "metadata": {},
   "outputs": [
    {
     "data": {
      "text/html": [
       "<div>\n",
       "<style scoped>\n",
       "    .dataframe tbody tr th:only-of-type {\n",
       "        vertical-align: middle;\n",
       "    }\n",
       "\n",
       "    .dataframe tbody tr th {\n",
       "        vertical-align: top;\n",
       "    }\n",
       "\n",
       "    .dataframe thead th {\n",
       "        text-align: right;\n",
       "    }\n",
       "</style>\n",
       "<table border=\"1\" class=\"dataframe\">\n",
       "  <thead>\n",
       "    <tr style=\"text-align: right;\">\n",
       "      <th></th>\n",
       "      <th>Label</th>\n",
       "      <th>Concept</th>\n",
       "      <th>Phrases</th>\n",
       "      <th>Conditional_Phrases</th>\n",
       "    </tr>\n",
       "  </thead>\n",
       "  <tbody>\n",
       "    <tr>\n",
       "      <th>0</th>\n",
       "      <td>Grievance</td>\n",
       "      <td>Capitalism</td>\n",
       "      <td>Capitalism,neoliberalism,privatisation,privati...</td>\n",
       "      <td>NaN</td>\n",
       "    </tr>\n",
       "    <tr>\n",
       "      <th>1</th>\n",
       "      <td>Grievance</td>\n",
       "      <td>Values</td>\n",
       "      <td>Abuse,against xenophobia</td>\n",
       "      <td>NaN</td>\n",
       "    </tr>\n",
       "    <tr>\n",
       "      <th>2</th>\n",
       "      <td>Grievance</td>\n",
       "      <td>Conditions</td>\n",
       "      <td>poverty,unemployment,jobs,job</td>\n",
       "      <td>NaN</td>\n",
       "    </tr>\n",
       "  </tbody>\n",
       "</table>\n",
       "</div>"
      ],
      "text/plain": [
       "       Label     Concept                                            Phrases  \\\n",
       "0  Grievance  Capitalism  Capitalism,neoliberalism,privatisation,privati...   \n",
       "1  Grievance      Values                           Abuse,against xenophobia   \n",
       "2  Grievance  Conditions                      poverty,unemployment,jobs,job   \n",
       "\n",
       "  Conditional_Phrases  \n",
       "0                 NaN  \n",
       "1                 NaN  \n",
       "2                 NaN  "
      ]
     },
     "execution_count": 82,
     "metadata": {},
     "output_type": "execute_result"
    }
   ],
   "source": [
    "vocab.head(3)"
   ]
  },
  {
   "cell_type": "markdown",
   "metadata": {},
   "source": [
    "### Lemmatise Vocabulary so that it can easily be matched to text in tweet"
   ]
  },
  {
   "cell_type": "code",
   "execution_count": null,
   "metadata": {},
   "outputs": [],
   "source": [
    "# Define the function to implement POS tagging:\n",
    "def get_wordnet_pos(pos_tag):\n",
    "    if pos_tag.startswith('J'):\n",
    "        return wordnet.ADJ\n",
    "    elif pos_tag.startswith('V'):\n",
    "        return wordnet.VERB\n",
    "    elif pos_tag.startswith('N'):\n",
    "        return wordnet.NOUN\n",
    "    elif pos_tag.startswith('R'):\n",
    "        return wordnet.ADV\n",
    "    else:\n",
    "        return wordnet.NOUN\n",
    "\n",
    "\n",
    "# Define the main function to clean text in various ways:\n",
    "def clean_text(text):\n",
    "    if text != text:\n",
    "        return nan\n",
    "\n",
    "    else:\n",
    "        # Apply regex expressions first before converting string to list of tokens/words:\n",
    "\n",
    "        # 5. Convert text to lowercase\n",
    "        text = text.lower()\n",
    "        \n",
    "        # 6. tokenize text and remove punctuation\n",
    "        text = [word.strip(string.punctuation) for word in text.split(\" \")]\n",
    "        \n",
    "        # 7. remove numbers\n",
    "        text = [word for word in text if not any(c.isdigit() for c in word)]\n",
    "        \n",
    "        # 8. remove stop words\n",
    "        stop = stopwords.words('english')\n",
    "        text = [x for x in text if x not in stop]\n",
    "        \n",
    "        # 9. remove empty tokens\n",
    "        text = [t for t in text if len(t) > 0]\n",
    "        \n",
    "        # 10. pos tag text and lemmatize text\n",
    "        pos_tags = pos_tag(text)\n",
    "        text = [WordNetLemmatizer().lemmatize(t[0], get_wordnet_pos(t[1])) for t in pos_tags]\n",
    "        \n",
    "        # 11. remove words with only one letter\n",
    "        text = [t for t in text if len(t) > 1]\n",
    "        \n",
    "        # join all\n",
    "        text = \" \".join(text)\n",
    "    \n",
    "    return(text)"
   ]
  },
  {
   "cell_type": "code",
   "execution_count": null,
   "metadata": {},
   "outputs": [
    {
     "name": "stdout",
     "output_type": "stream",
     "text": [
      "<class 'pandas.core.frame.DataFrame'>\n",
      "Int64Index: 92 entries, 0 to 99\n",
      "Data columns (total 4 columns):\n",
      " #   Column               Non-Null Count  Dtype \n",
      "---  ------               --------------  ----- \n",
      " 0   Label                92 non-null     object\n",
      " 1   Concept              92 non-null     object\n",
      " 2   Phrases              92 non-null     object\n",
      " 3   Conditional_Phrases  15 non-null     object\n",
      "dtypes: object(4)\n",
      "memory usage: 3.6+ KB\n"
     ]
    }
   ],
   "source": [
    "vocab.info()"
   ]
  },
  {
   "cell_type": "code",
   "execution_count": null,
   "metadata": {},
   "outputs": [],
   "source": [
    "vocab['cleaned_phrases'] = vocab['Phrases'].apply(lambda x: clean_text(x))\n",
    "vocab['cleaned_conditional_phrases'] = vocab['Conditional_Phrases'].apply(lambda x: clean_text(x))"
   ]
  },
  {
   "cell_type": "code",
   "execution_count": null,
   "metadata": {},
   "outputs": [],
   "source": [
    "vocab.Phrases = vocab.Phrases.str. split(',')\n",
    "vocab.Conditional_Phrases = vocab.Conditional_Phrases.str.split(',')\n",
    "vocab.cleaned_phrases = vocab.cleaned_phrases.str. split(' ')\n",
    "vocab.cleaned_conditional_phrases = vocab.cleaned_conditional_phrases.str. split(' ')"
   ]
  },
  {
   "cell_type": "markdown",
   "metadata": {},
   "source": [
    "### Matching Content Analysis\n",
    "Do content analysis for both lematised and non lematised text to make sure"
   ]
  },
  {
   "cell_type": "code",
   "execution_count": null,
   "metadata": {},
   "outputs": [
    {
     "data": {
      "text/html": [
       "<div>\n",
       "<style scoped>\n",
       "    .dataframe tbody tr th:only-of-type {\n",
       "        vertical-align: middle;\n",
       "    }\n",
       "\n",
       "    .dataframe tbody tr th {\n",
       "        vertical-align: top;\n",
       "    }\n",
       "\n",
       "    .dataframe thead th {\n",
       "        text-align: right;\n",
       "    }\n",
       "</style>\n",
       "<table border=\"1\" class=\"dataframe\">\n",
       "  <thead>\n",
       "    <tr style=\"text-align: right;\">\n",
       "      <th></th>\n",
       "      <th>Label</th>\n",
       "      <th>Concept</th>\n",
       "      <th>Phrases</th>\n",
       "      <th>Conditional_Phrases</th>\n",
       "      <th>cleaned_phrases</th>\n",
       "      <th>cleaned_conditional_phrases</th>\n",
       "    </tr>\n",
       "  </thead>\n",
       "  <tbody>\n",
       "    <tr>\n",
       "      <th>0</th>\n",
       "      <td>Grievance</td>\n",
       "      <td>Capitalism</td>\n",
       "      <td>[Capitalism, neoliberalism, privatisation, pri...</td>\n",
       "      <td>NaN</td>\n",
       "      <td>[capitalism,neoliberalism,privatisation,privat...</td>\n",
       "      <td>NaN</td>\n",
       "    </tr>\n",
       "    <tr>\n",
       "      <th>1</th>\n",
       "      <td>Grievance</td>\n",
       "      <td>Values</td>\n",
       "      <td>[Abuse, against xenophobia]</td>\n",
       "      <td>NaN</td>\n",
       "      <td>[abuse,against, xenophobia]</td>\n",
       "      <td>NaN</td>\n",
       "    </tr>\n",
       "    <tr>\n",
       "      <th>2</th>\n",
       "      <td>Grievance</td>\n",
       "      <td>Conditions</td>\n",
       "      <td>[poverty, unemployment, jobs, job]</td>\n",
       "      <td>NaN</td>\n",
       "      <td>[poverty,unemployment,jobs,job]</td>\n",
       "      <td>NaN</td>\n",
       "    </tr>\n",
       "    <tr>\n",
       "      <th>3</th>\n",
       "      <td>Grievance</td>\n",
       "      <td>Contract end</td>\n",
       "      <td>[contracts expire, project end, completed, con...</td>\n",
       "      <td>NaN</td>\n",
       "      <td>[contract, expire,project, end,completed,contr...</td>\n",
       "      <td>NaN</td>\n",
       "    </tr>\n",
       "    <tr>\n",
       "      <th>4</th>\n",
       "      <td>Grievance</td>\n",
       "      <td>Community recognition</td>\n",
       "      <td>[their rights, recognition]</td>\n",
       "      <td>NaN</td>\n",
       "      <td>[rights,recognition]</td>\n",
       "      <td>NaN</td>\n",
       "    </tr>\n",
       "    <tr>\n",
       "      <th>5</th>\n",
       "      <td>Grievance</td>\n",
       "      <td>Demolitions</td>\n",
       "      <td>[destroyed, evicted, demolished, relocated, re...</td>\n",
       "      <td>NaN</td>\n",
       "      <td>[destroyed,evicted,demolished,relocated,remova...</td>\n",
       "      <td>NaN</td>\n",
       "    </tr>\n",
       "    <tr>\n",
       "      <th>6</th>\n",
       "      <td>Grievance</td>\n",
       "      <td>Education</td>\n",
       "      <td>[School, university, students, student, varsit...</td>\n",
       "      <td>[fees, costs, teacher, permission, results, po...</td>\n",
       "      <td>[school,university,students,student,varsity,va...</td>\n",
       "      <td>[fees,costs,teacher,permission,results,policy,...</td>\n",
       "    </tr>\n",
       "    <tr>\n",
       "      <th>7</th>\n",
       "      <td>Grievance</td>\n",
       "      <td>Election outcome</td>\n",
       "      <td>[Election]</td>\n",
       "      <td>[outcome, result, winner, unfair, cheat, wrong...</td>\n",
       "      <td>[election]</td>\n",
       "      <td>[outcome,result,winner,unfair,cheat,wrong,coun...</td>\n",
       "    </tr>\n",
       "    <tr>\n",
       "      <th>8</th>\n",
       "      <td>Grievance</td>\n",
       "      <td>Electricity</td>\n",
       "      <td>[Electricity, Power, connections, loadshedding...</td>\n",
       "      <td>[cost, price, supply, cut, disconnect, loadshe...</td>\n",
       "      <td>[electricity,power,connections,loadshedding,lo...</td>\n",
       "      <td>[cost,price,supply,cut,disconnect,loadshedding...</td>\n",
       "    </tr>\n",
       "    <tr>\n",
       "      <th>9</th>\n",
       "      <td>Grievance</td>\n",
       "      <td>Labour related</td>\n",
       "      <td>[Work, workers, Company, Employ, employer, emp...</td>\n",
       "      <td>[corrupt, fired, dismissed, policy, other peop...</td>\n",
       "      <td>[work,workers,company,employ,employer,employee...</td>\n",
       "      <td>[corrupt,fired,dismissed,policy,other, people,...</td>\n",
       "    </tr>\n",
       "  </tbody>\n",
       "</table>\n",
       "</div>"
      ],
      "text/plain": [
       "       Label                Concept  \\\n",
       "0  Grievance             Capitalism   \n",
       "1  Grievance                 Values   \n",
       "2  Grievance             Conditions   \n",
       "3  Grievance           Contract end   \n",
       "4  Grievance  Community recognition   \n",
       "5  Grievance            Demolitions   \n",
       "6  Grievance              Education   \n",
       "7  Grievance       Election outcome   \n",
       "8  Grievance            Electricity   \n",
       "9  Grievance         Labour related   \n",
       "\n",
       "                                             Phrases  \\\n",
       "0  [Capitalism, neoliberalism, privatisation, pri...   \n",
       "1                        [Abuse, against xenophobia]   \n",
       "2                 [poverty, unemployment, jobs, job]   \n",
       "3  [contracts expire, project end, completed, con...   \n",
       "4                        [their rights, recognition]   \n",
       "5  [destroyed, evicted, demolished, relocated, re...   \n",
       "6  [School, university, students, student, varsit...   \n",
       "7                                         [Election]   \n",
       "8  [Electricity, Power, connections, loadshedding...   \n",
       "9  [Work, workers, Company, Employ, employer, emp...   \n",
       "\n",
       "                                 Conditional_Phrases  \\\n",
       "0                                                NaN   \n",
       "1                                                NaN   \n",
       "2                                                NaN   \n",
       "3                                                NaN   \n",
       "4                                                NaN   \n",
       "5                                                NaN   \n",
       "6  [fees, costs, teacher, permission, results, po...   \n",
       "7  [outcome, result, winner, unfair, cheat, wrong...   \n",
       "8  [cost, price, supply, cut, disconnect, loadshe...   \n",
       "9  [corrupt, fired, dismissed, policy, other peop...   \n",
       "\n",
       "                                     cleaned_phrases  \\\n",
       "0  [capitalism,neoliberalism,privatisation,privat...   \n",
       "1                        [abuse,against, xenophobia]   \n",
       "2                    [poverty,unemployment,jobs,job]   \n",
       "3  [contract, expire,project, end,completed,contr...   \n",
       "4                               [rights,recognition]   \n",
       "5  [destroyed,evicted,demolished,relocated,remova...   \n",
       "6  [school,university,students,student,varsity,va...   \n",
       "7                                         [election]   \n",
       "8  [electricity,power,connections,loadshedding,lo...   \n",
       "9  [work,workers,company,employ,employer,employee...   \n",
       "\n",
       "                         cleaned_conditional_phrases  \n",
       "0                                                NaN  \n",
       "1                                                NaN  \n",
       "2                                                NaN  \n",
       "3                                                NaN  \n",
       "4                                                NaN  \n",
       "5                                                NaN  \n",
       "6  [fees,costs,teacher,permission,results,policy,...  \n",
       "7  [outcome,result,winner,unfair,cheat,wrong,coun...  \n",
       "8  [cost,price,supply,cut,disconnect,loadshedding...  \n",
       "9  [corrupt,fired,dismissed,policy,other, people,...  "
      ]
     },
     "execution_count": 87,
     "metadata": {},
     "output_type": "execute_result"
    }
   ],
   "source": [
    "vocab.head(10)"
   ]
  },
  {
   "cell_type": "code",
   "execution_count": null,
   "metadata": {},
   "outputs": [
    {
     "name": "stdout",
     "output_type": "stream",
     "text": [
      "['Capitalism', 'neoliberalism', 'privatisation', 'privatise', 'privatize', 'privatization']\n"
     ]
    }
   ],
   "source": [
    "print(vocab.Phrases[0])"
   ]
  },
  {
   "cell_type": "markdown",
   "metadata": {},
   "source": [
    "### Split Up various Labels Into Own Dataframe"
   ]
  },
  {
   "cell_type": "markdown",
   "metadata": {},
   "source": [
    "#### Grievances"
   ]
  },
  {
   "cell_type": "code",
   "execution_count": null,
   "metadata": {},
   "outputs": [
    {
     "data": {
      "text/plain": [
       "(36, 5)"
      ]
     },
     "execution_count": 89,
     "metadata": {},
     "output_type": "execute_result"
    }
   ],
   "source": [
    "grievances = vocab.loc[vocab['Label'] == 'Grievance']\n",
    "grievances = grievances.drop('Label', axis = 1)\n",
    "grievances.to_excel('DATA/Vocabularies/grievances.xlsx')\n",
    "grievances.shape"
   ]
  },
  {
   "cell_type": "code",
   "execution_count": null,
   "metadata": {},
   "outputs": [
    {
     "data": {
      "text/html": [
       "<div>\n",
       "<style scoped>\n",
       "    .dataframe tbody tr th:only-of-type {\n",
       "        vertical-align: middle;\n",
       "    }\n",
       "\n",
       "    .dataframe tbody tr th {\n",
       "        vertical-align: top;\n",
       "    }\n",
       "\n",
       "    .dataframe thead th {\n",
       "        text-align: right;\n",
       "    }\n",
       "</style>\n",
       "<table border=\"1\" class=\"dataframe\">\n",
       "  <thead>\n",
       "    <tr style=\"text-align: right;\">\n",
       "      <th></th>\n",
       "      <th>Concept</th>\n",
       "      <th>Phrases</th>\n",
       "      <th>Conditional_Phrases</th>\n",
       "      <th>cleaned_phrases</th>\n",
       "      <th>cleaned_conditional_phrases</th>\n",
       "    </tr>\n",
       "  </thead>\n",
       "  <tbody>\n",
       "    <tr>\n",
       "      <th>0</th>\n",
       "      <td>Capitalism</td>\n",
       "      <td>[Capitalism, neoliberalism, privatisation, pri...</td>\n",
       "      <td>NaN</td>\n",
       "      <td>[capitalism,neoliberalism,privatisation,privat...</td>\n",
       "      <td>NaN</td>\n",
       "    </tr>\n",
       "    <tr>\n",
       "      <th>1</th>\n",
       "      <td>Values</td>\n",
       "      <td>[Abuse, against xenophobia]</td>\n",
       "      <td>NaN</td>\n",
       "      <td>[abuse,against, xenophobia]</td>\n",
       "      <td>NaN</td>\n",
       "    </tr>\n",
       "    <tr>\n",
       "      <th>2</th>\n",
       "      <td>Conditions</td>\n",
       "      <td>[poverty, unemployment, jobs, job]</td>\n",
       "      <td>NaN</td>\n",
       "      <td>[poverty,unemployment,jobs,job]</td>\n",
       "      <td>NaN</td>\n",
       "    </tr>\n",
       "    <tr>\n",
       "      <th>3</th>\n",
       "      <td>Contract end</td>\n",
       "      <td>[contracts expire, project end, completed, con...</td>\n",
       "      <td>NaN</td>\n",
       "      <td>[contract, expire,project, end,completed,contr...</td>\n",
       "      <td>NaN</td>\n",
       "    </tr>\n",
       "    <tr>\n",
       "      <th>4</th>\n",
       "      <td>Community recognition</td>\n",
       "      <td>[their rights, recognition]</td>\n",
       "      <td>NaN</td>\n",
       "      <td>[rights,recognition]</td>\n",
       "      <td>NaN</td>\n",
       "    </tr>\n",
       "  </tbody>\n",
       "</table>\n",
       "</div>"
      ],
      "text/plain": [
       "                 Concept                                            Phrases  \\\n",
       "0             Capitalism  [Capitalism, neoliberalism, privatisation, pri...   \n",
       "1                 Values                        [Abuse, against xenophobia]   \n",
       "2             Conditions                 [poverty, unemployment, jobs, job]   \n",
       "3           Contract end  [contracts expire, project end, completed, con...   \n",
       "4  Community recognition                        [their rights, recognition]   \n",
       "\n",
       "  Conditional_Phrases                                    cleaned_phrases  \\\n",
       "0                 NaN  [capitalism,neoliberalism,privatisation,privat...   \n",
       "1                 NaN                        [abuse,against, xenophobia]   \n",
       "2                 NaN                    [poverty,unemployment,jobs,job]   \n",
       "3                 NaN  [contract, expire,project, end,completed,contr...   \n",
       "4                 NaN                               [rights,recognition]   \n",
       "\n",
       "  cleaned_conditional_phrases  \n",
       "0                         NaN  \n",
       "1                         NaN  \n",
       "2                         NaN  \n",
       "3                         NaN  \n",
       "4                         NaN  "
      ]
     },
     "execution_count": 90,
     "metadata": {},
     "output_type": "execute_result"
    }
   ],
   "source": [
    "grievances.head()"
   ]
  },
  {
   "cell_type": "markdown",
   "metadata": {},
   "source": [
    "#### Trigger"
   ]
  },
  {
   "cell_type": "code",
   "execution_count": null,
   "metadata": {},
   "outputs": [
    {
     "data": {
      "text/plain": [
       "(13, 5)"
      ]
     },
     "execution_count": 91,
     "metadata": {},
     "output_type": "execute_result"
    }
   ],
   "source": [
    "trigger = vocab.loc[vocab['Label'] == 'Trigger']\n",
    "trigger = trigger.drop('Label', axis = 1)\n",
    "trigger.to_excel('DATA/Vocabularies/trigger.xlsx')\n",
    "trigger.shape"
   ]
  },
  {
   "cell_type": "code",
   "execution_count": null,
   "metadata": {},
   "outputs": [
    {
     "data": {
      "text/html": [
       "<div>\n",
       "<style scoped>\n",
       "    .dataframe tbody tr th:only-of-type {\n",
       "        vertical-align: middle;\n",
       "    }\n",
       "\n",
       "    .dataframe tbody tr th {\n",
       "        vertical-align: top;\n",
       "    }\n",
       "\n",
       "    .dataframe thead th {\n",
       "        text-align: right;\n",
       "    }\n",
       "</style>\n",
       "<table border=\"1\" class=\"dataframe\">\n",
       "  <thead>\n",
       "    <tr style=\"text-align: right;\">\n",
       "      <th></th>\n",
       "      <th>Concept</th>\n",
       "      <th>Phrases</th>\n",
       "      <th>Conditional_Phrases</th>\n",
       "      <th>cleaned_phrases</th>\n",
       "      <th>cleaned_conditional_phrases</th>\n",
       "    </tr>\n",
       "  </thead>\n",
       "  <tbody>\n",
       "    <tr>\n",
       "      <th>37</th>\n",
       "      <td>Court hearing</td>\n",
       "      <td>[court, hearing]</td>\n",
       "      <td>NaN</td>\n",
       "      <td>[court,hearing]</td>\n",
       "      <td>NaN</td>\n",
       "    </tr>\n",
       "    <tr>\n",
       "      <th>38</th>\n",
       "      <td>Project begin</td>\n",
       "      <td>[not local, not from area, outside, only be lo...</td>\n",
       "      <td>NaN</td>\n",
       "      <td>[local,not, area,outside,only, local,only, loc...</td>\n",
       "      <td>NaN</td>\n",
       "    </tr>\n",
       "    <tr>\n",
       "      <th>39</th>\n",
       "      <td>National Strike</td>\n",
       "      <td>[COSATU, NUMSA, national strike]</td>\n",
       "      <td>NaN</td>\n",
       "      <td>[cosatu,numsa,national, strike]</td>\n",
       "      <td>NaN</td>\n",
       "    </tr>\n",
       "    <tr>\n",
       "      <th>40</th>\n",
       "      <td>Dismissals</td>\n",
       "      <td>[Fired, suspended, dismissed, discipline, diss...</td>\n",
       "      <td>NaN</td>\n",
       "      <td>[fired,suspended,dismissed,discipline,dissmiss...</td>\n",
       "      <td>NaN</td>\n",
       "    </tr>\n",
       "    <tr>\n",
       "      <th>41</th>\n",
       "      <td>Wage disputes</td>\n",
       "      <td>[Payment, salary, cheque, overtime, wage, wage...</td>\n",
       "      <td>NaN</td>\n",
       "      <td>[payment,salary,cheque,overtime,wage,wages,rem...</td>\n",
       "      <td>NaN</td>\n",
       "    </tr>\n",
       "  </tbody>\n",
       "</table>\n",
       "</div>"
      ],
      "text/plain": [
       "            Concept                                            Phrases  \\\n",
       "37    Court hearing                                   [court, hearing]   \n",
       "38    Project begin  [not local, not from area, outside, only be lo...   \n",
       "39  National Strike                   [COSATU, NUMSA, national strike]   \n",
       "40       Dismissals  [Fired, suspended, dismissed, discipline, diss...   \n",
       "41    Wage disputes  [Payment, salary, cheque, overtime, wage, wage...   \n",
       "\n",
       "   Conditional_Phrases                                    cleaned_phrases  \\\n",
       "37                 NaN                                    [court,hearing]   \n",
       "38                 NaN  [local,not, area,outside,only, local,only, loc...   \n",
       "39                 NaN                    [cosatu,numsa,national, strike]   \n",
       "40                 NaN  [fired,suspended,dismissed,discipline,dissmiss...   \n",
       "41                 NaN  [payment,salary,cheque,overtime,wage,wages,rem...   \n",
       "\n",
       "   cleaned_conditional_phrases  \n",
       "37                         NaN  \n",
       "38                         NaN  \n",
       "39                         NaN  \n",
       "40                         NaN  \n",
       "41                         NaN  "
      ]
     },
     "execution_count": 92,
     "metadata": {},
     "output_type": "execute_result"
    }
   ],
   "source": [
    "trigger.head()"
   ]
  },
  {
   "cell_type": "markdown",
   "metadata": {},
   "source": [
    "#### Tactic"
   ]
  },
  {
   "cell_type": "code",
   "execution_count": null,
   "metadata": {},
   "outputs": [
    {
     "data": {
      "text/plain": [
       "(14, 5)"
      ]
     },
     "execution_count": 93,
     "metadata": {},
     "output_type": "execute_result"
    }
   ],
   "source": [
    "tactic = vocab.loc[vocab['Label'] == 'Tactic']\n",
    "tactic = tactic.drop('Label', axis = 1)\n",
    "tactic.to_excel('DATA/Vocabularies/tactic.xlsx')\n",
    "tactic.shape"
   ]
  },
  {
   "cell_type": "code",
   "execution_count": null,
   "metadata": {},
   "outputs": [
    {
     "data": {
      "text/html": [
       "<div>\n",
       "<style scoped>\n",
       "    .dataframe tbody tr th:only-of-type {\n",
       "        vertical-align: middle;\n",
       "    }\n",
       "\n",
       "    .dataframe tbody tr th {\n",
       "        vertical-align: top;\n",
       "    }\n",
       "\n",
       "    .dataframe thead th {\n",
       "        text-align: right;\n",
       "    }\n",
       "</style>\n",
       "<table border=\"1\" class=\"dataframe\">\n",
       "  <thead>\n",
       "    <tr style=\"text-align: right;\">\n",
       "      <th></th>\n",
       "      <th>Concept</th>\n",
       "      <th>Phrases</th>\n",
       "      <th>Conditional_Phrases</th>\n",
       "      <th>cleaned_phrases</th>\n",
       "      <th>cleaned_conditional_phrases</th>\n",
       "    </tr>\n",
       "  </thead>\n",
       "  <tbody>\n",
       "    <tr>\n",
       "      <th>51</th>\n",
       "      <td>Hostage</td>\n",
       "      <td>[Captive, hostage, lock-in, abduct]</td>\n",
       "      <td>NaN</td>\n",
       "      <td>[captive,hostage,lock-in,abduct]</td>\n",
       "      <td>NaN</td>\n",
       "    </tr>\n",
       "    <tr>\n",
       "      <th>52</th>\n",
       "      <td>Attack</td>\n",
       "      <td>[Atack, Attack, Throw, threw, pelt, torch, cho...</td>\n",
       "      <td>NaN</td>\n",
       "      <td>[atack,attack,throw,threw,pelt,torch,choas,los...</td>\n",
       "      <td>NaN</td>\n",
       "    </tr>\n",
       "    <tr>\n",
       "      <th>53</th>\n",
       "      <td>Disrupt</td>\n",
       "      <td>[Tyre, Block, tire, burn, Fire, Bricks, Stones...</td>\n",
       "      <td>NaN</td>\n",
       "      <td>[tyre,block,tire,burn,fire,bricks,stones,rubbi...</td>\n",
       "      <td>NaN</td>\n",
       "    </tr>\n",
       "    <tr>\n",
       "      <th>54</th>\n",
       "      <td>M&amp;M</td>\n",
       "      <td>[March]</td>\n",
       "      <td>[Memorandum]</td>\n",
       "      <td>[march]</td>\n",
       "      <td>[memorandum]</td>\n",
       "    </tr>\n",
       "    <tr>\n",
       "      <th>55</th>\n",
       "      <td>Vandalism</td>\n",
       "      <td>[damaged, vandalised, break, broke]</td>\n",
       "      <td>NaN</td>\n",
       "      <td>[damaged,vandalised,break,broke]</td>\n",
       "      <td>NaN</td>\n",
       "    </tr>\n",
       "  </tbody>\n",
       "</table>\n",
       "</div>"
      ],
      "text/plain": [
       "      Concept                                            Phrases  \\\n",
       "51    Hostage                [Captive, hostage, lock-in, abduct]   \n",
       "52     Attack  [Atack, Attack, Throw, threw, pelt, torch, cho...   \n",
       "53    Disrupt  [Tyre, Block, tire, burn, Fire, Bricks, Stones...   \n",
       "54        M&M                                            [March]   \n",
       "55  Vandalism                [damaged, vandalised, break, broke]   \n",
       "\n",
       "   Conditional_Phrases                                    cleaned_phrases  \\\n",
       "51                 NaN                   [captive,hostage,lock-in,abduct]   \n",
       "52                 NaN  [atack,attack,throw,threw,pelt,torch,choas,los...   \n",
       "53                 NaN  [tyre,block,tire,burn,fire,bricks,stones,rubbi...   \n",
       "54        [Memorandum]                                            [march]   \n",
       "55                 NaN                   [damaged,vandalised,break,broke]   \n",
       "\n",
       "   cleaned_conditional_phrases  \n",
       "51                         NaN  \n",
       "52                         NaN  \n",
       "53                         NaN  \n",
       "54                [memorandum]  \n",
       "55                         NaN  "
      ]
     },
     "execution_count": 94,
     "metadata": {},
     "output_type": "execute_result"
    }
   ],
   "source": [
    "tactic.head()"
   ]
  },
  {
   "cell_type": "markdown",
   "metadata": {},
   "source": [
    "#### Actors"
   ]
  },
  {
   "cell_type": "code",
   "execution_count": null,
   "metadata": {},
   "outputs": [
    {
     "data": {
      "text/plain": [
       "(4, 5)"
      ]
     },
     "execution_count": 95,
     "metadata": {},
     "output_type": "execute_result"
    }
   ],
   "source": [
    "actors = vocab.loc[vocab['Label'] == 'Actors']\n",
    "actors = actors.drop('Label', axis = 1)\n",
    "actors.to_excel('DATA/Vocabularies/actors.xlsx')\n",
    "actors.shape"
   ]
  },
  {
   "cell_type": "code",
   "execution_count": null,
   "metadata": {},
   "outputs": [
    {
     "data": {
      "text/html": [
       "<div>\n",
       "<style scoped>\n",
       "    .dataframe tbody tr th:only-of-type {\n",
       "        vertical-align: middle;\n",
       "    }\n",
       "\n",
       "    .dataframe tbody tr th {\n",
       "        vertical-align: top;\n",
       "    }\n",
       "\n",
       "    .dataframe thead th {\n",
       "        text-align: right;\n",
       "    }\n",
       "</style>\n",
       "<table border=\"1\" class=\"dataframe\">\n",
       "  <thead>\n",
       "    <tr style=\"text-align: right;\">\n",
       "      <th></th>\n",
       "      <th>Concept</th>\n",
       "      <th>Phrases</th>\n",
       "      <th>Conditional_Phrases</th>\n",
       "      <th>cleaned_phrases</th>\n",
       "      <th>cleaned_conditional_phrases</th>\n",
       "    </tr>\n",
       "  </thead>\n",
       "  <tbody>\n",
       "    <tr>\n",
       "      <th>66</th>\n",
       "      <td>Union</td>\n",
       "      <td>[COSATU, FOSATU, NEHAWU, SATAWU, Allied, AMCU,...</td>\n",
       "      <td>NaN</td>\n",
       "      <td>[cosatu,fosatu,nehawu,satawu,allied,amcu,nuhhr...</td>\n",
       "      <td>NaN</td>\n",
       "    </tr>\n",
       "    <tr>\n",
       "      <th>67</th>\n",
       "      <td>Political Party</td>\n",
       "      <td>[ANC, Congress, DA, EFF, IFP, NFP, Cope, UDM, ...</td>\n",
       "      <td>NaN</td>\n",
       "      <td>[anc,congress,da,eff,ifp,nfp,cope,udm,sacp,acdp]</td>\n",
       "      <td>NaN</td>\n",
       "    </tr>\n",
       "    <tr>\n",
       "      <th>68</th>\n",
       "      <td>Civic org</td>\n",
       "      <td>[association, residents, concerned, ratepayers...</td>\n",
       "      <td>NaN</td>\n",
       "      <td>[association,residents,concerned,ratepayers,ta...</td>\n",
       "      <td>NaN</td>\n",
       "    </tr>\n",
       "    <tr>\n",
       "      <th>69</th>\n",
       "      <td>Church</td>\n",
       "      <td>[church, congregation, believers, temple, mosq...</td>\n",
       "      <td>NaN</td>\n",
       "      <td>[church,congregation,believers,temple,mosque,s...</td>\n",
       "      <td>NaN</td>\n",
       "    </tr>\n",
       "  </tbody>\n",
       "</table>\n",
       "</div>"
      ],
      "text/plain": [
       "            Concept                                            Phrases  \\\n",
       "66            Union  [COSATU, FOSATU, NEHAWU, SATAWU, Allied, AMCU,...   \n",
       "67  Political Party  [ANC, Congress, DA, EFF, IFP, NFP, Cope, UDM, ...   \n",
       "68        Civic org  [association, residents, concerned, ratepayers...   \n",
       "69           Church  [church, congregation, believers, temple, mosq...   \n",
       "\n",
       "   Conditional_Phrases                                    cleaned_phrases  \\\n",
       "66                 NaN  [cosatu,fosatu,nehawu,satawu,allied,amcu,nuhhr...   \n",
       "67                 NaN   [anc,congress,da,eff,ifp,nfp,cope,udm,sacp,acdp]   \n",
       "68                 NaN  [association,residents,concerned,ratepayers,ta...   \n",
       "69                 NaN  [church,congregation,believers,temple,mosque,s...   \n",
       "\n",
       "   cleaned_conditional_phrases  \n",
       "66                         NaN  \n",
       "67                         NaN  \n",
       "68                         NaN  \n",
       "69                         NaN  "
      ]
     },
     "execution_count": 96,
     "metadata": {},
     "output_type": "execute_result"
    }
   ],
   "source": [
    "actors.head()"
   ]
  },
  {
   "cell_type": "markdown",
   "metadata": {},
   "source": [
    "#### Locations"
   ]
  },
  {
   "cell_type": "code",
   "execution_count": null,
   "metadata": {},
   "outputs": [
    {
     "data": {
      "text/plain": [
       "(7, 5)"
      ]
     },
     "execution_count": 97,
     "metadata": {},
     "output_type": "execute_result"
    }
   ],
   "source": [
    "locations = vocab.loc[vocab['Label'] == 'Location']\n",
    "locations = locations.drop('Label', axis = 1)\n",
    "locations.to_excel('DATA/Vocabularies/locations.xlsx')\n",
    "locations.shape"
   ]
  },
  {
   "cell_type": "code",
   "execution_count": null,
   "metadata": {},
   "outputs": [
    {
     "data": {
      "text/html": [
       "<div>\n",
       "<style scoped>\n",
       "    .dataframe tbody tr th:only-of-type {\n",
       "        vertical-align: middle;\n",
       "    }\n",
       "\n",
       "    .dataframe tbody tr th {\n",
       "        vertical-align: top;\n",
       "    }\n",
       "\n",
       "    .dataframe thead th {\n",
       "        text-align: right;\n",
       "    }\n",
       "</style>\n",
       "<table border=\"1\" class=\"dataframe\">\n",
       "  <thead>\n",
       "    <tr style=\"text-align: right;\">\n",
       "      <th></th>\n",
       "      <th>Concept</th>\n",
       "      <th>Phrases</th>\n",
       "      <th>Conditional_Phrases</th>\n",
       "      <th>cleaned_phrases</th>\n",
       "      <th>cleaned_conditional_phrases</th>\n",
       "    </tr>\n",
       "  </thead>\n",
       "  <tbody>\n",
       "    <tr>\n",
       "      <th>71</th>\n",
       "      <td>Informal area</td>\n",
       "      <td>[Shacks, sharks, informal, hostel, squatter, c...</td>\n",
       "      <td>NaN</td>\n",
       "      <td>[shacks,sharks,informal,hostel,squatter,camp,t...</td>\n",
       "      <td>NaN</td>\n",
       "    </tr>\n",
       "    <tr>\n",
       "      <th>72</th>\n",
       "      <td>Court</td>\n",
       "      <td>[Court, hearing]</td>\n",
       "      <td>NaN</td>\n",
       "      <td>[court,hearing]</td>\n",
       "      <td>NaN</td>\n",
       "    </tr>\n",
       "    <tr>\n",
       "      <th>73</th>\n",
       "      <td>Business premises</td>\n",
       "      <td>[company, business, gate, premises, factory]</td>\n",
       "      <td>NaN</td>\n",
       "      <td>[company,business,gate,premises,factory]</td>\n",
       "      <td>NaN</td>\n",
       "    </tr>\n",
       "    <tr>\n",
       "      <th>74</th>\n",
       "      <td>Stadium</td>\n",
       "      <td>[Stadium, sports field]</td>\n",
       "      <td>NaN</td>\n",
       "      <td>[stadium,sports, field]</td>\n",
       "      <td>NaN</td>\n",
       "    </tr>\n",
       "    <tr>\n",
       "      <th>75</th>\n",
       "      <td>Church</td>\n",
       "      <td>[church, congregation, believers, temple, musl...</td>\n",
       "      <td>NaN</td>\n",
       "      <td>[church,congregation,believers,temple,muslim,j...</td>\n",
       "      <td>NaN</td>\n",
       "    </tr>\n",
       "  </tbody>\n",
       "</table>\n",
       "</div>"
      ],
      "text/plain": [
       "              Concept                                            Phrases  \\\n",
       "71      Informal area  [Shacks, sharks, informal, hostel, squatter, c...   \n",
       "72              Court                                   [Court, hearing]   \n",
       "73  Business premises       [company, business, gate, premises, factory]   \n",
       "74            Stadium                            [Stadium, sports field]   \n",
       "75             Church  [church, congregation, believers, temple, musl...   \n",
       "\n",
       "   Conditional_Phrases                                    cleaned_phrases  \\\n",
       "71                 NaN  [shacks,sharks,informal,hostel,squatter,camp,t...   \n",
       "72                 NaN                                    [court,hearing]   \n",
       "73                 NaN           [company,business,gate,premises,factory]   \n",
       "74                 NaN                            [stadium,sports, field]   \n",
       "75                 NaN  [church,congregation,believers,temple,muslim,j...   \n",
       "\n",
       "   cleaned_conditional_phrases  \n",
       "71                         NaN  \n",
       "72                         NaN  \n",
       "73                         NaN  \n",
       "74                         NaN  \n",
       "75                         NaN  "
      ]
     },
     "execution_count": 98,
     "metadata": {},
     "output_type": "execute_result"
    }
   ],
   "source": [
    "locations.head()"
   ]
  },
  {
   "cell_type": "markdown",
   "metadata": {},
   "source": [
    "#### Weapons"
   ]
  },
  {
   "cell_type": "code",
   "execution_count": null,
   "metadata": {},
   "outputs": [
    {
     "data": {
      "text/plain": [
       "(3, 5)"
      ]
     },
     "execution_count": 99,
     "metadata": {},
     "output_type": "execute_result"
    }
   ],
   "source": [
    "weapons = vocab.loc[vocab['Label'] == 'Weapons']\n",
    "weapons = weapons.drop('Label', axis = 1)\n",
    "weapons.to_excel('DATA/Vocabularies/weapons.xlsx')\n",
    "weapons.shape"
   ]
  },
  {
   "cell_type": "code",
   "execution_count": null,
   "metadata": {},
   "outputs": [
    {
     "data": {
      "text/html": [
       "<div>\n",
       "<style scoped>\n",
       "    .dataframe tbody tr th:only-of-type {\n",
       "        vertical-align: middle;\n",
       "    }\n",
       "\n",
       "    .dataframe tbody tr th {\n",
       "        vertical-align: top;\n",
       "    }\n",
       "\n",
       "    .dataframe thead th {\n",
       "        text-align: right;\n",
       "    }\n",
       "</style>\n",
       "<table border=\"1\" class=\"dataframe\">\n",
       "  <thead>\n",
       "    <tr style=\"text-align: right;\">\n",
       "      <th></th>\n",
       "      <th>Concept</th>\n",
       "      <th>Phrases</th>\n",
       "      <th>Conditional_Phrases</th>\n",
       "      <th>cleaned_phrases</th>\n",
       "      <th>cleaned_conditional_phrases</th>\n",
       "    </tr>\n",
       "  </thead>\n",
       "  <tbody>\n",
       "    <tr>\n",
       "      <th>79</th>\n",
       "      <td>Crowd weapons</td>\n",
       "      <td>[Weapon, Knife, Traditional weapon, knobkierie...</td>\n",
       "      <td>NaN</td>\n",
       "      <td>[weapon,knife,traditional, weapon,knobkierie,k...</td>\n",
       "      <td>NaN</td>\n",
       "    </tr>\n",
       "    <tr>\n",
       "      <th>80</th>\n",
       "      <td>Crowd projectiles</td>\n",
       "      <td>[Throw, Threw, Attack, attacked ]</td>\n",
       "      <td>[Stone, rock, brick, brike ]</td>\n",
       "      <td>[throw,threw,attack,attacked]</td>\n",
       "      <td>[stone,rock,brick,brike]</td>\n",
       "    </tr>\n",
       "    <tr>\n",
       "      <th>81</th>\n",
       "      <td>Police weapons</td>\n",
       "      <td>[Gun, cannon, canon, shotgun, s/gun, rubber, s...</td>\n",
       "      <td>NaN</td>\n",
       "      <td>[gun,cannon,canon,shotgun,s/gun,rubber,stungre...</td>\n",
       "      <td>NaN</td>\n",
       "    </tr>\n",
       "  </tbody>\n",
       "</table>\n",
       "</div>"
      ],
      "text/plain": [
       "              Concept                                            Phrases  \\\n",
       "79      Crowd weapons  [Weapon, Knife, Traditional weapon, knobkierie...   \n",
       "80  Crowd projectiles                  [Throw, Threw, Attack, attacked ]   \n",
       "81     Police weapons  [Gun, cannon, canon, shotgun, s/gun, rubber, s...   \n",
       "\n",
       "             Conditional_Phrases  \\\n",
       "79                           NaN   \n",
       "80  [Stone, rock, brick, brike ]   \n",
       "81                           NaN   \n",
       "\n",
       "                                      cleaned_phrases  \\\n",
       "79  [weapon,knife,traditional, weapon,knobkierie,k...   \n",
       "80                      [throw,threw,attack,attacked]   \n",
       "81  [gun,cannon,canon,shotgun,s/gun,rubber,stungre...   \n",
       "\n",
       "   cleaned_conditional_phrases  \n",
       "79                         NaN  \n",
       "80    [stone,rock,brick,brike]  \n",
       "81                         NaN  "
      ]
     },
     "execution_count": 100,
     "metadata": {},
     "output_type": "execute_result"
    }
   ],
   "source": [
    "weapons.head()"
   ]
  },
  {
   "cell_type": "markdown",
   "metadata": {},
   "source": [
    "#### Eventuality"
   ]
  },
  {
   "cell_type": "code",
   "execution_count": null,
   "metadata": {},
   "outputs": [
    {
     "data": {
      "text/plain": [
       "(2, 5)"
      ]
     },
     "execution_count": 101,
     "metadata": {},
     "output_type": "execute_result"
    }
   ],
   "source": [
    "eventuality = vocab.loc[vocab['Label'] == 'Eventuality']\n",
    "eventuality = eventuality.drop('Label', axis = 1)\n",
    "eventuality.to_excel('DATA/Vocabularies/eventuality.xlsx')\n",
    "eventuality.shape"
   ]
  },
  {
   "cell_type": "code",
   "execution_count": null,
   "metadata": {},
   "outputs": [
    {
     "data": {
      "text/html": [
       "<div>\n",
       "<style scoped>\n",
       "    .dataframe tbody tr th:only-of-type {\n",
       "        vertical-align: middle;\n",
       "    }\n",
       "\n",
       "    .dataframe tbody tr th {\n",
       "        vertical-align: top;\n",
       "    }\n",
       "\n",
       "    .dataframe thead th {\n",
       "        text-align: right;\n",
       "    }\n",
       "</style>\n",
       "<table border=\"1\" class=\"dataframe\">\n",
       "  <thead>\n",
       "    <tr style=\"text-align: right;\">\n",
       "      <th></th>\n",
       "      <th>Concept</th>\n",
       "      <th>Phrases</th>\n",
       "      <th>Conditional_Phrases</th>\n",
       "      <th>cleaned_phrases</th>\n",
       "      <th>cleaned_conditional_phrases</th>\n",
       "    </tr>\n",
       "  </thead>\n",
       "  <tbody>\n",
       "    <tr>\n",
       "      <th>83</th>\n",
       "      <td>Police attack</td>\n",
       "      <td>[Police, SAPS, officer]</td>\n",
       "      <td>[beat, raid, injury, rubber, stungrenade, stun...</td>\n",
       "      <td>[police,saps,officer]</td>\n",
       "      <td>[beat,raid,injury,rubber,stungrenade,stuntgren...</td>\n",
       "    </tr>\n",
       "    <tr>\n",
       "      <th>84</th>\n",
       "      <td>Vigilantism</td>\n",
       "      <td>[Beat, beating, mob justice, necklace, necklac...</td>\n",
       "      <td>NaN</td>\n",
       "      <td>[beat,beating,mob, justice,necklace,necklacing...</td>\n",
       "      <td>NaN</td>\n",
       "    </tr>\n",
       "  </tbody>\n",
       "</table>\n",
       "</div>"
      ],
      "text/plain": [
       "          Concept                                            Phrases  \\\n",
       "83  Police attack                            [Police, SAPS, officer]   \n",
       "84    Vigilantism  [Beat, beating, mob justice, necklace, necklac...   \n",
       "\n",
       "                                  Conditional_Phrases  \\\n",
       "83  [beat, raid, injury, rubber, stungrenade, stun...   \n",
       "84                                                NaN   \n",
       "\n",
       "                                      cleaned_phrases  \\\n",
       "83                              [police,saps,officer]   \n",
       "84  [beat,beating,mob, justice,necklace,necklacing...   \n",
       "\n",
       "                          cleaned_conditional_phrases  \n",
       "83  [beat,raid,injury,rubber,stungrenade,stuntgren...  \n",
       "84                                                NaN  "
      ]
     },
     "execution_count": 102,
     "metadata": {},
     "output_type": "execute_result"
    }
   ],
   "source": [
    "eventuality.head()"
   ]
  },
  {
   "cell_type": "markdown",
   "metadata": {},
   "source": [
    "#### Curiosity"
   ]
  },
  {
   "cell_type": "code",
   "execution_count": null,
   "metadata": {},
   "outputs": [
    {
     "data": {
      "text/plain": [
       "(2, 5)"
      ]
     },
     "execution_count": 103,
     "metadata": {},
     "output_type": "execute_result"
    }
   ],
   "source": [
    "curiosity = vocab.loc[vocab['Label'] == 'Curiosity']\n",
    "curiosity = curiosity.drop('Label', axis = 1)\n",
    "curiosity.to_excel('DATA/Vocabularies/curiosity.xlsx')\n",
    "curiosity.shape"
   ]
  },
  {
   "cell_type": "code",
   "execution_count": null,
   "metadata": {},
   "outputs": [
    {
     "data": {
      "text/html": [
       "<div>\n",
       "<style scoped>\n",
       "    .dataframe tbody tr th:only-of-type {\n",
       "        vertical-align: middle;\n",
       "    }\n",
       "\n",
       "    .dataframe tbody tr th {\n",
       "        vertical-align: top;\n",
       "    }\n",
       "\n",
       "    .dataframe thead th {\n",
       "        text-align: right;\n",
       "    }\n",
       "</style>\n",
       "<table border=\"1\" class=\"dataframe\">\n",
       "  <thead>\n",
       "    <tr style=\"text-align: right;\">\n",
       "      <th></th>\n",
       "      <th>Concept</th>\n",
       "      <th>Phrases</th>\n",
       "      <th>Conditional_Phrases</th>\n",
       "      <th>cleaned_phrases</th>\n",
       "      <th>cleaned_conditional_phrases</th>\n",
       "    </tr>\n",
       "  </thead>\n",
       "  <tbody>\n",
       "    <tr>\n",
       "      <th>86</th>\n",
       "      <td>Movements</td>\n",
       "      <td>[Rebel, rebellion, uprising, movement]</td>\n",
       "      <td>NaN</td>\n",
       "      <td>[rebel,rebellion,uprising,movement]</td>\n",
       "      <td>NaN</td>\n",
       "    </tr>\n",
       "    <tr>\n",
       "      <th>87</th>\n",
       "      <td>Special Keywords</td>\n",
       "      <td>[Lunch, scab, scabs, swearing, loot, looting, ...</td>\n",
       "      <td>NaN</td>\n",
       "      <td>[lunch,scab,scabs,swearing,loot,looting,sabc,p...</td>\n",
       "      <td>NaN</td>\n",
       "    </tr>\n",
       "  </tbody>\n",
       "</table>\n",
       "</div>"
      ],
      "text/plain": [
       "             Concept                                            Phrases  \\\n",
       "86         Movements             [Rebel, rebellion, uprising, movement]   \n",
       "87  Special Keywords  [Lunch, scab, scabs, swearing, loot, looting, ...   \n",
       "\n",
       "   Conditional_Phrases                                    cleaned_phrases  \\\n",
       "86                 NaN                [rebel,rebellion,uprising,movement]   \n",
       "87                 NaN  [lunch,scab,scabs,swearing,loot,looting,sabc,p...   \n",
       "\n",
       "   cleaned_conditional_phrases  \n",
       "86                         NaN  \n",
       "87                         NaN  "
      ]
     },
     "execution_count": 104,
     "metadata": {},
     "output_type": "execute_result"
    }
   ],
   "source": [
    "curiosity.head()"
   ]
  },
  {
   "cell_type": "markdown",
   "metadata": {},
   "source": [
    "#### Non-protest"
   ]
  },
  {
   "cell_type": "code",
   "execution_count": null,
   "metadata": {},
   "outputs": [
    {
     "data": {
      "text/plain": [
       "(11, 5)"
      ]
     },
     "execution_count": 105,
     "metadata": {},
     "output_type": "execute_result"
    }
   ],
   "source": [
    "non_protest = vocab.loc[vocab['Label'] == 'Non-protest']\n",
    "non_protest = non_protest.drop('Label', axis = 1)\n",
    "non_protest.to_excel('DATA/Vocabularies/non_protest.xlsx')\n",
    "non_protest.shape"
   ]
  },
  {
   "cell_type": "code",
   "execution_count": null,
   "metadata": {},
   "outputs": [
    {
     "data": {
      "text/html": [
       "<div>\n",
       "<style scoped>\n",
       "    .dataframe tbody tr th:only-of-type {\n",
       "        vertical-align: middle;\n",
       "    }\n",
       "\n",
       "    .dataframe tbody tr th {\n",
       "        vertical-align: top;\n",
       "    }\n",
       "\n",
       "    .dataframe thead th {\n",
       "        text-align: right;\n",
       "    }\n",
       "</style>\n",
       "<table border=\"1\" class=\"dataframe\">\n",
       "  <thead>\n",
       "    <tr style=\"text-align: right;\">\n",
       "      <th></th>\n",
       "      <th>Concept</th>\n",
       "      <th>Phrases</th>\n",
       "      <th>Conditional_Phrases</th>\n",
       "      <th>cleaned_phrases</th>\n",
       "      <th>cleaned_conditional_phrases</th>\n",
       "    </tr>\n",
       "  </thead>\n",
       "  <tbody>\n",
       "    <tr>\n",
       "      <th>89</th>\n",
       "      <td>Football matches</td>\n",
       "      <td>[Football, soccer, PSL, score, Bafana]</td>\n",
       "      <td>NaN</td>\n",
       "      <td>[football,soccer,psl,score,bafana]</td>\n",
       "      <td>NaN</td>\n",
       "    </tr>\n",
       "    <tr>\n",
       "      <th>90</th>\n",
       "      <td>Other sport</td>\n",
       "      <td>[Cricket, rugby, game, athletics, race, marath...</td>\n",
       "      <td>NaN</td>\n",
       "      <td>[cricket,rugby,game,athletics,race,marathon,pr...</td>\n",
       "      <td>NaN</td>\n",
       "    </tr>\n",
       "    <tr>\n",
       "      <th>91</th>\n",
       "      <td>Tribal court meetings</td>\n",
       "      <td>[Tribal court, traditional court, imbizo]</td>\n",
       "      <td>NaN</td>\n",
       "      <td>[tribal, court,traditional, court,imbizo]</td>\n",
       "      <td>NaN</td>\n",
       "    </tr>\n",
       "    <tr>\n",
       "      <th>92</th>\n",
       "      <td>Funerals</td>\n",
       "      <td>[Memorial, funeral, burial, after tears, mourn...</td>\n",
       "      <td>NaN</td>\n",
       "      <td>[memorial,funeral,burial,after, tears,mourners...</td>\n",
       "      <td>NaN</td>\n",
       "    </tr>\n",
       "    <tr>\n",
       "      <th>93</th>\n",
       "      <td>Church</td>\n",
       "      <td>[Church service, ZCC, Shembe, prayer, dedicati...</td>\n",
       "      <td>NaN</td>\n",
       "      <td>[church, service,zcc,shembe,prayer,dedication]</td>\n",
       "      <td>NaN</td>\n",
       "    </tr>\n",
       "  </tbody>\n",
       "</table>\n",
       "</div>"
      ],
      "text/plain": [
       "                  Concept                                            Phrases  \\\n",
       "89       Football matches             [Football, soccer, PSL, score, Bafana]   \n",
       "90            Other sport  [Cricket, rugby, game, athletics, race, marath...   \n",
       "91  Tribal court meetings          [Tribal court, traditional court, imbizo]   \n",
       "92               Funerals  [Memorial, funeral, burial, after tears, mourn...   \n",
       "93                 Church  [Church service, ZCC, Shembe, prayer, dedicati...   \n",
       "\n",
       "   Conditional_Phrases                                    cleaned_phrases  \\\n",
       "89                 NaN                 [football,soccer,psl,score,bafana]   \n",
       "90                 NaN  [cricket,rugby,game,athletics,race,marathon,pr...   \n",
       "91                 NaN          [tribal, court,traditional, court,imbizo]   \n",
       "92                 NaN  [memorial,funeral,burial,after, tears,mourners...   \n",
       "93                 NaN     [church, service,zcc,shembe,prayer,dedication]   \n",
       "\n",
       "   cleaned_conditional_phrases  \n",
       "89                         NaN  \n",
       "90                         NaN  \n",
       "91                         NaN  \n",
       "92                         NaN  \n",
       "93                         NaN  "
      ]
     },
     "execution_count": 106,
     "metadata": {},
     "output_type": "execute_result"
    }
   ],
   "source": [
    "non_protest.head()"
   ]
  }
 ],
 "metadata": {
  "kernelspec": {
   "display_name": "Python 3.10.4 64-bit",
   "language": "python",
   "name": "python3"
  },
  "language_info": {
   "codemirror_mode": {
    "name": "ipython",
    "version": 3
   },
   "file_extension": ".py",
   "mimetype": "text/x-python",
   "name": "python",
   "nbconvert_exporter": "python",
   "pygments_lexer": "ipython3",
   "version": "3.10.4"
  },
  "orig_nbformat": 4,
  "vscode": {
   "interpreter": {
    "hash": "eb1e2aa17c9c03522ea469ed025d74c8a00b3c7801d0496b408e209436a13f2e"
   }
  }
 },
 "nbformat": 4,
 "nbformat_minor": 2
}
