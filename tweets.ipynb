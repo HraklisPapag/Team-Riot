{
 "cells": [
  {
   "cell_type": "markdown",
   "metadata": {},
   "source": [
    "# This is a combination of all the things"
   ]
  },
  {
   "cell_type": "markdown",
   "metadata": {},
   "source": [
    "### Downloading dependancies"
   ]
  },
  {
   "cell_type": "code",
   "execution_count": 1,
   "metadata": {},
   "outputs": [],
   "source": [
    "from tweepy import Stream\n",
    "from tweepy import OAuthHandler\n",
    "#from tweepy.streaming import StreamListener\n",
    "import tweepy\n",
    "import json\n",
    "import pandas as pd\n",
    "import csv\n",
    "import string\n",
    "import time\n",
    "import datetime\n",
    "import numpy as np\n",
    "from cmath import nan\n",
    "\n",
    "import numpy as np\n",
    "import pandas as pd\n",
    "import os\n",
    "\n",
    "# Word processing libraries\n",
    "import re\n",
    "from nltk.corpus import wordnet\n",
    "import string\n",
    "from nltk import pos_tag\n",
    "from nltk.corpus import stopwords\n",
    "from nltk.tokenize import WhitespaceTokenizer\n",
    "from nltk.stem import WordNetLemmatizer\n",
    "from shapely.geometry import LineString\n",
    "from geopandas import GeoDataFrame\n",
    "from shapely.geometry import Point, Polygon\n",
    "import folium"
   ]
  },
  {
   "cell_type": "markdown",
   "metadata": {},
   "source": [
    "### Create Query From Vocab\n"
   ]
  },
  {
   "cell_type": "code",
   "execution_count": 2,
   "metadata": {},
   "outputs": [],
   "source": [
    "query_df = pd.read_excel('DATA/Protest-Query.xlsx')"
   ]
  },
  {
   "cell_type": "code",
   "execution_count": 3,
   "metadata": {},
   "outputs": [],
   "source": [
    "def list_to_or(l):\n",
    "    out = ''\n",
    "    for index, word in enumerate(l):\n",
    "        if word == word:\n",
    "            out += word + ' OR '\n",
    "\n",
    "    out = out[:(len(out)-4)]\n",
    "    return out"
   ]
  },
  {
   "cell_type": "code",
   "execution_count": 4,
   "metadata": {},
   "outputs": [],
   "source": [
    "uni_kw= list(query_df['University Key Words'])\n",
    "uni_kw_string = list_to_or(uni_kw)\n",
    "\n",
    "unis= list(query_df['List of Universities'])\n",
    "unis_string = list_to_or(unis)\n",
    "\n",
    "actions= list(query_df['Actions'])\n",
    "actions_string = list_to_or(actions)\n",
    "\n",
    "other= list(query_df['Other'])\n",
    "other_string = list_to_or(other)"
   ]
  },
  {
   "cell_type": "code",
   "execution_count": 5,
   "metadata": {},
   "outputs": [],
   "source": [
    "query = ('((' + uni_kw_string + ' OR '\n",
    "            + unis_string + ') ('\n",
    "            + actions_string + ' OR '\n",
    "            + other_string + '))')"
   ]
  },
  {
   "cell_type": "code",
   "execution_count": 6,
   "metadata": {},
   "outputs": [],
   "source": [
    "query += ' -is:retweet lang:en place_country:ZA'"
   ]
  },
  {
   "cell_type": "markdown",
   "metadata": {},
   "source": [
    "### Creating the Tweet Data. "
   ]
  },
  {
   "cell_type": "code",
   "execution_count": 7,
   "metadata": {},
   "outputs": [],
   "source": [
    "# Authenticating Twitter API\n",
    "# Obtain your Twitter credentials from your twitter developer account\n",
    "\n",
    "bearer_token = 'AAAAAAAAAAAAAAAAAAAAAEGchQEAAAAAZSYFv1nyLDV81YAKEfDr1fVrlho%3DWKBvyLhQ4CeHrlBRtecAetYkB1ZnAjI3Zydb1516fkIzKhS4vh'\n",
    "client = tweepy.Client(bearer_token, wait_on_rate_limit=True)"
   ]
  },
  {
   "cell_type": "markdown",
   "metadata": {},
   "source": [
    "### Search Criteria"
   ]
  },
  {
   "cell_type": "code",
   "execution_count": 8,
   "metadata": {},
   "outputs": [],
   "source": [
    "search_words = query\n",
    "date_since = datetime.datetime(2016,1,1)\n",
    "date_before = datetime.datetime(2018,1,1)\n",
    "numTweets = 500"
   ]
  },
  {
   "cell_type": "code",
   "execution_count": 9,
   "metadata": {},
   "outputs": [],
   "source": [
    "# Scrape Tweets\n",
    "# Note for the final versions we should use -> until_id -> allos to resume scraping from a particualar tweet ID\n",
    "protest_tweets = []\n",
    "count = 0 \n",
    "for response in tweepy.Paginator(client.search_all_tweets, \n",
    "                                 query = search_words,\n",
    "                                 user_fields = ['public_metrics'],\n",
    "                                 tweet_fields = ['created_at', 'geo', 'public_metrics', 'text'],\n",
    "                                 place_fields = ['id', 'geo', 'name', 'country_code', 'place_type', 'full_name', 'country'],\n",
    "                                 expansions = ['author_id', 'geo.place_id'],\n",
    "                                 start_time = date_since,\n",
    "                                 end_time = date_before,\n",
    "                                 max_results=numTweets\n",
    "                              ):\n",
    "   time.sleep(1)\n",
    "   protest_tweets.append(response)"
   ]
  },
  {
   "cell_type": "markdown",
   "metadata": {},
   "source": [
    "### Populating Data frame"
   ]
  },
  {
   "cell_type": "code",
   "execution_count": 10,
   "metadata": {},
   "outputs": [
    {
     "name": "stdout",
     "output_type": "stream",
     "text": [
      "786  result(s) were excluded due to invalid data points.\n"
     ]
    }
   ],
   "source": [
    "error_count = 0\n",
    "result = []\n",
    "user_dict = {}\n",
    "place_dict = {}\n",
    "# Loop through each response object\n",
    "for response in protest_tweets:\n",
    "    # Take all of the users, and put them into a dictionary of dictionaries with the info we want to keep\n",
    "    for user in response.includes['users']:\n",
    "        user_dict[user.id] = {'followers': user.public_metrics['followers_count'],\n",
    "                              'tweets': user.public_metrics['tweet_count'],\n",
    "                             }\n",
    "    \n",
    "    place_dict = {p['id']: p for p in response.includes['places']}\n",
    "\n",
    "    for tweet in response.data:\n",
    "        # For each tweet, find the author's information\n",
    "        author_info = user_dict[tweet.author_id]\n",
    "        # Put all of the information we want to keep in a single dictionary for each tweet\n",
    "\n",
    "        try:\n",
    "            if place_dict[tweet.geo['place_id']]:\n",
    "                place = place_dict[tweet.geo['place_id']]   \n",
    "            else:\n",
    "                place = nan\n",
    "\n",
    "            result.append({'tweet_id': tweet.id,\n",
    "                       'author_followers': author_info['followers'],\n",
    "                       'text': tweet.text,\n",
    "                       'created_at': tweet.created_at,\n",
    "                       'retweets': tweet.public_metrics['retweet_count'],\n",
    "                       'replies': tweet.public_metrics['reply_count'],\n",
    "                       'likes': tweet.public_metrics['like_count'],\n",
    "                       'quote_count': tweet.public_metrics['quote_count'],\n",
    "                       'place_id': tweet.geo,\n",
    "                       'place_name': place.full_name,\n",
    "                       'bbox': place.geo['bbox']\n",
    "\n",
    "                      })\n",
    "\n",
    "        except:\n",
    "            error_count = error_count + 1\n",
    "\n",
    "\n",
    "print(error_count, \" result(s) were excluded due to invalid data points.\")        \n",
    "\n",
    "# Change this list of dictionaries into a dataframe             \n",
    "df = pd.DataFrame(result) \n",
    "tweets = df  "
   ]
  },
  {
   "cell_type": "code",
   "execution_count": 11,
   "metadata": {},
   "outputs": [],
   "source": [
    "df.to_csv('DATA/temp.csv')"
   ]
  },
  {
   "cell_type": "code",
   "execution_count": 12,
   "metadata": {},
   "outputs": [
    {
     "data": {
      "text/html": [
       "<div>\n",
       "<style scoped>\n",
       "    .dataframe tbody tr th:only-of-type {\n",
       "        vertical-align: middle;\n",
       "    }\n",
       "\n",
       "    .dataframe tbody tr th {\n",
       "        vertical-align: top;\n",
       "    }\n",
       "\n",
       "    .dataframe thead th {\n",
       "        text-align: right;\n",
       "    }\n",
       "</style>\n",
       "<table border=\"1\" class=\"dataframe\">\n",
       "  <thead>\n",
       "    <tr style=\"text-align: right;\">\n",
       "      <th></th>\n",
       "      <th>tweet_id</th>\n",
       "      <th>author_followers</th>\n",
       "      <th>text</th>\n",
       "      <th>created_at</th>\n",
       "      <th>retweets</th>\n",
       "      <th>replies</th>\n",
       "      <th>likes</th>\n",
       "      <th>quote_count</th>\n",
       "      <th>place_id</th>\n",
       "      <th>place_name</th>\n",
       "      <th>bbox</th>\n",
       "    </tr>\n",
       "  </thead>\n",
       "  <tbody>\n",
       "    <tr>\n",
       "      <th>0</th>\n",
       "      <td>947612173236350976</td>\n",
       "      <td>437807</td>\n",
       "      <td>#KZN We are on thee way! Hitting up Richards B...</td>\n",
       "      <td>2017-12-31 23:35:22+00:00</td>\n",
       "      <td>0</td>\n",
       "      <td>1</td>\n",
       "      <td>21</td>\n",
       "      <td>0</td>\n",
       "      <td>{'place_id': 'd98aef293ae7311d'}</td>\n",
       "      <td>Kempton Park, South Africa</td>\n",
       "      <td>[28.1581593, -26.1689943, 28.3280005, -26.0027...</td>\n",
       "    </tr>\n",
       "    <tr>\n",
       "      <th>1</th>\n",
       "      <td>947609471777374209</td>\n",
       "      <td>1100</td>\n",
       "      <td>@unisa the 3rd January registration is it for ...</td>\n",
       "      <td>2017-12-31 23:24:38+00:00</td>\n",
       "      <td>0</td>\n",
       "      <td>0</td>\n",
       "      <td>0</td>\n",
       "      <td>0</td>\n",
       "      <td>{'place_id': 'b4c5d90b1f1be609'}</td>\n",
       "      <td>Mpumalanga, South Africa</td>\n",
       "      <td>[30.5890085, -29.8534128, 30.7016304, -29.7852...</td>\n",
       "    </tr>\n",
       "  </tbody>\n",
       "</table>\n",
       "</div>"
      ],
      "text/plain": [
       "             tweet_id  author_followers  \\\n",
       "0  947612173236350976            437807   \n",
       "1  947609471777374209              1100   \n",
       "\n",
       "                                                text  \\\n",
       "0  #KZN We are on thee way! Hitting up Richards B...   \n",
       "1  @unisa the 3rd January registration is it for ...   \n",
       "\n",
       "                  created_at  retweets  replies  likes  quote_count  \\\n",
       "0  2017-12-31 23:35:22+00:00         0        1     21            0   \n",
       "1  2017-12-31 23:24:38+00:00         0        0      0            0   \n",
       "\n",
       "                           place_id                  place_name  \\\n",
       "0  {'place_id': 'd98aef293ae7311d'}  Kempton Park, South Africa   \n",
       "1  {'place_id': 'b4c5d90b1f1be609'}    Mpumalanga, South Africa   \n",
       "\n",
       "                                                bbox  \n",
       "0  [28.1581593, -26.1689943, 28.3280005, -26.0027...  \n",
       "1  [30.5890085, -29.8534128, 30.7016304, -29.7852...  "
      ]
     },
     "execution_count": 12,
     "metadata": {},
     "output_type": "execute_result"
    }
   ],
   "source": [
    "tweets = pd.read_csv('DATA/temp.csv')\n",
    "tweets = tweets.drop(['Unnamed: 0'], axis=1)\n",
    "tweets.head(2)"
   ]
  },
  {
   "cell_type": "code",
   "execution_count": 13,
   "metadata": {},
   "outputs": [
    {
     "data": {
      "text/html": [
       "<div>\n",
       "<style scoped>\n",
       "    .dataframe tbody tr th:only-of-type {\n",
       "        vertical-align: middle;\n",
       "    }\n",
       "\n",
       "    .dataframe tbody tr th {\n",
       "        vertical-align: top;\n",
       "    }\n",
       "\n",
       "    .dataframe thead th {\n",
       "        text-align: right;\n",
       "    }\n",
       "</style>\n",
       "<table border=\"1\" class=\"dataframe\">\n",
       "  <thead>\n",
       "    <tr style=\"text-align: right;\">\n",
       "      <th></th>\n",
       "      <th>tweet_id</th>\n",
       "      <th>author_followers</th>\n",
       "      <th>text</th>\n",
       "      <th>created_at</th>\n",
       "      <th>retweets</th>\n",
       "      <th>replies</th>\n",
       "      <th>likes</th>\n",
       "      <th>quote_count</th>\n",
       "      <th>place_id</th>\n",
       "      <th>place_name</th>\n",
       "      <th>bbox</th>\n",
       "    </tr>\n",
       "  </thead>\n",
       "  <tbody>\n",
       "    <tr>\n",
       "      <th>0</th>\n",
       "      <td>947612173236350976</td>\n",
       "      <td>437807</td>\n",
       "      <td>#KZN We are on thee way! Hitting up Richards B...</td>\n",
       "      <td>2017-12-31 23:35:22+00:00</td>\n",
       "      <td>0</td>\n",
       "      <td>1</td>\n",
       "      <td>21</td>\n",
       "      <td>0</td>\n",
       "      <td>{'place_id': 'd98aef293ae7311d'}</td>\n",
       "      <td>Kempton Park, South Africa</td>\n",
       "      <td>[28.1581593, -26.1689943, 28.3280005, -26.0027...</td>\n",
       "    </tr>\n",
       "  </tbody>\n",
       "</table>\n",
       "</div>"
      ],
      "text/plain": [
       "             tweet_id  author_followers  \\\n",
       "0  947612173236350976            437807   \n",
       "\n",
       "                                                text  \\\n",
       "0  #KZN We are on thee way! Hitting up Richards B...   \n",
       "\n",
       "                  created_at  retweets  replies  likes  quote_count  \\\n",
       "0  2017-12-31 23:35:22+00:00         0        1     21            0   \n",
       "\n",
       "                           place_id                  place_name  \\\n",
       "0  {'place_id': 'd98aef293ae7311d'}  Kempton Park, South Africa   \n",
       "\n",
       "                                                bbox  \n",
       "0  [28.1581593, -26.1689943, 28.3280005, -26.0027...  "
      ]
     },
     "execution_count": 13,
     "metadata": {},
     "output_type": "execute_result"
    }
   ],
   "source": [
    "tweets.head(1)"
   ]
  },
  {
   "cell_type": "markdown",
   "metadata": {},
   "source": [
    "### Adding the previous stuff to it... tweets, location and geolocation"
   ]
  },
  {
   "cell_type": "code",
   "execution_count": 14,
   "metadata": {},
   "outputs": [
    {
     "name": "stdout",
     "output_type": "stream",
     "text": [
      "Initial size of dataset before dropping duplicated rows: (25204, 11)\n",
      "Current size of dataset after dropping duplicated rows, if any, is: (25204, 11)\n"
     ]
    }
   ],
   "source": [
    "print('Initial size of dataset before dropping duplicated rows:', tweets.shape)\n",
    "tweets.drop_duplicates(keep = False, inplace = True)\n",
    "\n",
    "print('Current size of dataset after dropping duplicated rows, if any, is:', tweets.shape)"
   ]
  },
  {
   "cell_type": "code",
   "execution_count": 15,
   "metadata": {},
   "outputs": [
    {
     "data": {
      "text/plain": [
       "25204"
      ]
     },
     "execution_count": 15,
     "metadata": {},
     "output_type": "execute_result"
    }
   ],
   "source": [
    "tweets.dropna(subset = ['text'], inplace = True)\n",
    "len(tweets)"
   ]
  },
  {
   "cell_type": "markdown",
   "metadata": {},
   "source": [
    "### Havent added links and stuff here... We likley wont use in final product. Futhermore text has not been cleaned as this is not needed by either content or sentiment analysis"
   ]
  },
  {
   "cell_type": "markdown",
   "metadata": {},
   "source": [
    "### Convert Boundry Box to a set of coordinates of Latitude and Longitude\n",
    "There are a few ways of doing this\n",
    "* Take an average and find the middle of the Boundry Box\n",
    "* Indentify where the location is using another API based on place_name\n",
    "* Keep the location as a polygon and then place each user into a munucipality in hich the area is largest\n",
    "\n",
    "The way we will do it here is using centroid of the boundry box"
   ]
  },
  {
   "cell_type": "markdown",
   "metadata": {},
   "source": [
    "### Run from here ======"
   ]
  },
  {
   "cell_type": "code",
   "execution_count": 16,
   "metadata": {},
   "outputs": [],
   "source": [
    "def bbox_to_coords(bbox):\n",
    "    all_coords = bbox.split()\n",
    "    coords = []\n",
    "    for coordinate in all_coords:\n",
    "        coordinate = coordinate.replace('[','')\n",
    "        coordinate = coordinate.replace(']','')\n",
    "        coordinate = coordinate.replace(',','')\n",
    "        coord = float(coordinate)\n",
    "        coords.append(coord)\n",
    "\n",
    "    return coords"
   ]
  },
  {
   "cell_type": "code",
   "execution_count": 17,
   "metadata": {},
   "outputs": [],
   "source": [
    "tweets['coords'] = tweets['bbox'].apply(lambda x: bbox_to_coords(x))"
   ]
  },
  {
   "cell_type": "code",
   "execution_count": 18,
   "metadata": {},
   "outputs": [],
   "source": [
    "tweets['longitude_1'] = tweets['coords'].apply(lambda x: x[0])\n",
    "tweets['latitude_1'] = tweets['coords'].apply(lambda x: x[1])\n",
    "tweets['longitude_2'] = tweets['coords'].apply(lambda x: x[2])\n",
    "tweets['latitude_2'] = tweets['coords'].apply(lambda x: x[3])"
   ]
  },
  {
   "cell_type": "code",
   "execution_count": 19,
   "metadata": {},
   "outputs": [],
   "source": [
    "tweets = tweets.drop('bbox', axis=1)"
   ]
  },
  {
   "cell_type": "code",
   "execution_count": 20,
   "metadata": {},
   "outputs": [],
   "source": [
    "def find_centroid(coords):\n",
    "    geometry = LineString([(coords[0], coords[1]),(coords[2], coords[3])])\n",
    "    centroid = geometry.centroid\n",
    "    return centroid"
   ]
  },
  {
   "cell_type": "code",
   "execution_count": 21,
   "metadata": {},
   "outputs": [
    {
     "data": {
      "text/html": [
       "<div>\n",
       "<style scoped>\n",
       "    .dataframe tbody tr th:only-of-type {\n",
       "        vertical-align: middle;\n",
       "    }\n",
       "\n",
       "    .dataframe tbody tr th {\n",
       "        vertical-align: top;\n",
       "    }\n",
       "\n",
       "    .dataframe thead th {\n",
       "        text-align: right;\n",
       "    }\n",
       "</style>\n",
       "<table border=\"1\" class=\"dataframe\">\n",
       "  <thead>\n",
       "    <tr style=\"text-align: right;\">\n",
       "      <th></th>\n",
       "      <th>tweet_id</th>\n",
       "      <th>author_followers</th>\n",
       "      <th>text</th>\n",
       "      <th>created_at</th>\n",
       "      <th>retweets</th>\n",
       "      <th>replies</th>\n",
       "      <th>likes</th>\n",
       "      <th>quote_count</th>\n",
       "      <th>place_id</th>\n",
       "      <th>place_name</th>\n",
       "      <th>coords</th>\n",
       "      <th>longitude_1</th>\n",
       "      <th>latitude_1</th>\n",
       "      <th>longitude_2</th>\n",
       "      <th>latitude_2</th>\n",
       "      <th>centroid_long</th>\n",
       "      <th>centroid_lat</th>\n",
       "    </tr>\n",
       "  </thead>\n",
       "  <tbody>\n",
       "    <tr>\n",
       "      <th>0</th>\n",
       "      <td>947612173236350976</td>\n",
       "      <td>437807</td>\n",
       "      <td>#KZN We are on thee way! Hitting up Richards B...</td>\n",
       "      <td>2017-12-31 23:35:22+00:00</td>\n",
       "      <td>0</td>\n",
       "      <td>1</td>\n",
       "      <td>21</td>\n",
       "      <td>0</td>\n",
       "      <td>{'place_id': 'd98aef293ae7311d'}</td>\n",
       "      <td>Kempton Park, South Africa</td>\n",
       "      <td>[28.1581593, -26.1689943, 28.3280005, -26.0027...</td>\n",
       "      <td>28.158159</td>\n",
       "      <td>-26.168994</td>\n",
       "      <td>28.328001</td>\n",
       "      <td>-26.002730</td>\n",
       "      <td>28.243080</td>\n",
       "      <td>-26.085862</td>\n",
       "    </tr>\n",
       "    <tr>\n",
       "      <th>1</th>\n",
       "      <td>947609471777374209</td>\n",
       "      <td>1100</td>\n",
       "      <td>@unisa the 3rd January registration is it for ...</td>\n",
       "      <td>2017-12-31 23:24:38+00:00</td>\n",
       "      <td>0</td>\n",
       "      <td>0</td>\n",
       "      <td>0</td>\n",
       "      <td>0</td>\n",
       "      <td>{'place_id': 'b4c5d90b1f1be609'}</td>\n",
       "      <td>Mpumalanga, South Africa</td>\n",
       "      <td>[30.5890085, -29.8534128, 30.7016304, -29.7852...</td>\n",
       "      <td>30.589008</td>\n",
       "      <td>-29.853413</td>\n",
       "      <td>30.701630</td>\n",
       "      <td>-29.785216</td>\n",
       "      <td>30.645319</td>\n",
       "      <td>-29.819315</td>\n",
       "    </tr>\n",
       "    <tr>\n",
       "      <th>2</th>\n",
       "      <td>947601603946827776</td>\n",
       "      <td>65</td>\n",
       "      <td>Can someone help me, when is UJ postgraduate r...</td>\n",
       "      <td>2017-12-31 22:53:22+00:00</td>\n",
       "      <td>1</td>\n",
       "      <td>3</td>\n",
       "      <td>0</td>\n",
       "      <td>0</td>\n",
       "      <td>{'place_id': 'dd9c0d7d7e07eb49'}</td>\n",
       "      <td>South Africa</td>\n",
       "      <td>[16.4475932, -34.8342468, 32.8922934, -22.1247...</td>\n",
       "      <td>16.447593</td>\n",
       "      <td>-34.834247</td>\n",
       "      <td>32.892293</td>\n",
       "      <td>-22.124724</td>\n",
       "      <td>24.669943</td>\n",
       "      <td>-28.479485</td>\n",
       "    </tr>\n",
       "  </tbody>\n",
       "</table>\n",
       "</div>"
      ],
      "text/plain": [
       "             tweet_id  author_followers  \\\n",
       "0  947612173236350976            437807   \n",
       "1  947609471777374209              1100   \n",
       "2  947601603946827776                65   \n",
       "\n",
       "                                                text  \\\n",
       "0  #KZN We are on thee way! Hitting up Richards B...   \n",
       "1  @unisa the 3rd January registration is it for ...   \n",
       "2  Can someone help me, when is UJ postgraduate r...   \n",
       "\n",
       "                  created_at  retweets  replies  likes  quote_count  \\\n",
       "0  2017-12-31 23:35:22+00:00         0        1     21            0   \n",
       "1  2017-12-31 23:24:38+00:00         0        0      0            0   \n",
       "2  2017-12-31 22:53:22+00:00         1        3      0            0   \n",
       "\n",
       "                           place_id                  place_name  \\\n",
       "0  {'place_id': 'd98aef293ae7311d'}  Kempton Park, South Africa   \n",
       "1  {'place_id': 'b4c5d90b1f1be609'}    Mpumalanga, South Africa   \n",
       "2  {'place_id': 'dd9c0d7d7e07eb49'}                South Africa   \n",
       "\n",
       "                                              coords  longitude_1  latitude_1  \\\n",
       "0  [28.1581593, -26.1689943, 28.3280005, -26.0027...    28.158159  -26.168994   \n",
       "1  [30.5890085, -29.8534128, 30.7016304, -29.7852...    30.589008  -29.853413   \n",
       "2  [16.4475932, -34.8342468, 32.8922934, -22.1247...    16.447593  -34.834247   \n",
       "\n",
       "   longitude_2  latitude_2  centroid_long  centroid_lat  \n",
       "0    28.328001  -26.002730      28.243080    -26.085862  \n",
       "1    30.701630  -29.785216      30.645319    -29.819315  \n",
       "2    32.892293  -22.124724      24.669943    -28.479485  "
      ]
     },
     "execution_count": 21,
     "metadata": {},
     "output_type": "execute_result"
    }
   ],
   "source": [
    "tweets['centroid'] = tweets['coords'].apply(lambda x: find_centroid(x))\n",
    "tweets['centroid_long'] = tweets['centroid'].apply(lambda z: z.x)\n",
    "tweets['centroid_lat'] = tweets['centroid'].apply(lambda z: z.y)\n",
    "tweets = tweets.drop('centroid', axis =1)\n",
    "tweets.head(3)"
   ]
  },
  {
   "cell_type": "markdown",
   "metadata": {},
   "source": [
    "### Fix Edge Cases\n",
    "* Cape Town\n",
    "* Betty's Bay\n",
    "* Bloubergstrand\n",
    "* Mdumbi Beach \n",
    "</br>\n",
    "Using: https://www.distancesto.com/coordinates/za/bloubergstrand-latitude-longitude/history/76385.html"
   ]
  },
  {
   "cell_type": "code",
   "execution_count": 22,
   "metadata": {},
   "outputs": [],
   "source": [
    "tweets.loc[tweets.place_name == 'Cape Town, South Africa', ['centroid_long', 'centroid_lat']] = 18.4241, -33.9249\n",
    "tweets.loc[tweets.place_name == 'Mdumbi Beach', ['centroid_long', 'centroid_lat']] = 29.215369, -31.933896\n",
    "tweets.loc[tweets.place_name == \"Betty's Bay, South Africa\", ['centroid_long', 'centroid_lat']] = 18.92051, -34.34747\n",
    "tweets.loc[tweets.place_name == 'Bloubergstrand', ['centroid_long', 'centroid_lat']] = 18.46173, -33.800418"
   ]
  },
  {
   "cell_type": "code",
   "execution_count": 23,
   "metadata": {},
   "outputs": [],
   "source": [
    "geometry = [Point(xy) for xy in zip(tweets['centroid_long'], tweets['centroid_lat'])]\n",
    "gdf = GeoDataFrame(tweets, geometry=geometry) "
   ]
  },
  {
   "cell_type": "code",
   "execution_count": 24,
   "metadata": {},
   "outputs": [
    {
     "data": {
      "text/html": [
       "<div>\n",
       "<style scoped>\n",
       "    .dataframe tbody tr th:only-of-type {\n",
       "        vertical-align: middle;\n",
       "    }\n",
       "\n",
       "    .dataframe tbody tr th {\n",
       "        vertical-align: top;\n",
       "    }\n",
       "\n",
       "    .dataframe thead th {\n",
       "        text-align: right;\n",
       "    }\n",
       "</style>\n",
       "<table border=\"1\" class=\"dataframe\">\n",
       "  <thead>\n",
       "    <tr style=\"text-align: right;\">\n",
       "      <th></th>\n",
       "      <th>tweet_id</th>\n",
       "      <th>author_followers</th>\n",
       "      <th>text</th>\n",
       "      <th>created_at</th>\n",
       "      <th>retweets</th>\n",
       "      <th>replies</th>\n",
       "      <th>likes</th>\n",
       "      <th>quote_count</th>\n",
       "      <th>place_id</th>\n",
       "      <th>place_name</th>\n",
       "      <th>coords</th>\n",
       "      <th>geometry</th>\n",
       "    </tr>\n",
       "  </thead>\n",
       "  <tbody>\n",
       "    <tr>\n",
       "      <th>0</th>\n",
       "      <td>947612173236350976</td>\n",
       "      <td>437807</td>\n",
       "      <td>#KZN We are on thee way! Hitting up Richards B...</td>\n",
       "      <td>2017-12-31 23:35:22+00:00</td>\n",
       "      <td>0</td>\n",
       "      <td>1</td>\n",
       "      <td>21</td>\n",
       "      <td>0</td>\n",
       "      <td>{'place_id': 'd98aef293ae7311d'}</td>\n",
       "      <td>Kempton Park, South Africa</td>\n",
       "      <td>[28.1581593, -26.1689943, 28.3280005, -26.0027...</td>\n",
       "      <td>POINT (28.24308 -26.08586)</td>\n",
       "    </tr>\n",
       "    <tr>\n",
       "      <th>1</th>\n",
       "      <td>947609471777374209</td>\n",
       "      <td>1100</td>\n",
       "      <td>@unisa the 3rd January registration is it for ...</td>\n",
       "      <td>2017-12-31 23:24:38+00:00</td>\n",
       "      <td>0</td>\n",
       "      <td>0</td>\n",
       "      <td>0</td>\n",
       "      <td>0</td>\n",
       "      <td>{'place_id': 'b4c5d90b1f1be609'}</td>\n",
       "      <td>Mpumalanga, South Africa</td>\n",
       "      <td>[30.5890085, -29.8534128, 30.7016304, -29.7852...</td>\n",
       "      <td>POINT (30.64532 -29.81931)</td>\n",
       "    </tr>\n",
       "  </tbody>\n",
       "</table>\n",
       "</div>"
      ],
      "text/plain": [
       "             tweet_id  author_followers  \\\n",
       "0  947612173236350976            437807   \n",
       "1  947609471777374209              1100   \n",
       "\n",
       "                                                text  \\\n",
       "0  #KZN We are on thee way! Hitting up Richards B...   \n",
       "1  @unisa the 3rd January registration is it for ...   \n",
       "\n",
       "                  created_at  retweets  replies  likes  quote_count  \\\n",
       "0  2017-12-31 23:35:22+00:00         0        1     21            0   \n",
       "1  2017-12-31 23:24:38+00:00         0        0      0            0   \n",
       "\n",
       "                           place_id                  place_name  \\\n",
       "0  {'place_id': 'd98aef293ae7311d'}  Kempton Park, South Africa   \n",
       "1  {'place_id': 'b4c5d90b1f1be609'}    Mpumalanga, South Africa   \n",
       "\n",
       "                                              coords  \\\n",
       "0  [28.1581593, -26.1689943, 28.3280005, -26.0027...   \n",
       "1  [30.5890085, -29.8534128, 30.7016304, -29.7852...   \n",
       "\n",
       "                     geometry  \n",
       "0  POINT (28.24308 -26.08586)  \n",
       "1  POINT (30.64532 -29.81931)  "
      ]
     },
     "execution_count": 24,
     "metadata": {},
     "output_type": "execute_result"
    }
   ],
   "source": [
    "tweets = tweets.drop('longitude_1', axis=1)\n",
    "tweets = tweets.drop('longitude_2', axis=1)\n",
    "tweets = tweets.drop('latitude_1', axis=1)\n",
    "tweets = tweets.drop('latitude_2', axis=1)\n",
    "tweets = tweets.drop('centroid_long', axis=1)\n",
    "tweets = tweets.drop('centroid_lat', axis=1)\n",
    "tweets.head(2)"
   ]
  },
  {
   "cell_type": "markdown",
   "metadata": {},
   "source": [
    "## Removing Useless locations"
   ]
  },
  {
   "cell_type": "code",
   "execution_count": 25,
   "metadata": {},
   "outputs": [
    {
     "data": {
      "text/html": [
       "<div>\n",
       "<style scoped>\n",
       "    .dataframe tbody tr th:only-of-type {\n",
       "        vertical-align: middle;\n",
       "    }\n",
       "\n",
       "    .dataframe tbody tr th {\n",
       "        vertical-align: top;\n",
       "    }\n",
       "\n",
       "    .dataframe thead th {\n",
       "        text-align: right;\n",
       "    }\n",
       "</style>\n",
       "<table border=\"1\" class=\"dataframe\">\n",
       "  <thead>\n",
       "    <tr style=\"text-align: right;\">\n",
       "      <th></th>\n",
       "      <th>tweet_id</th>\n",
       "      <th>author_followers</th>\n",
       "      <th>text</th>\n",
       "      <th>created_at</th>\n",
       "      <th>retweets</th>\n",
       "      <th>replies</th>\n",
       "      <th>likes</th>\n",
       "      <th>quote_count</th>\n",
       "      <th>place_id</th>\n",
       "      <th>place_name</th>\n",
       "      <th>coords</th>\n",
       "      <th>geometry</th>\n",
       "    </tr>\n",
       "  </thead>\n",
       "  <tbody>\n",
       "    <tr>\n",
       "      <th>0</th>\n",
       "      <td>947612173236350976</td>\n",
       "      <td>437807</td>\n",
       "      <td>#KZN We are on thee way! Hitting up Richards B...</td>\n",
       "      <td>2017-12-31 23:35:22+00:00</td>\n",
       "      <td>0</td>\n",
       "      <td>1</td>\n",
       "      <td>21</td>\n",
       "      <td>0</td>\n",
       "      <td>{'place_id': 'd98aef293ae7311d'}</td>\n",
       "      <td>Kempton Park, South Africa</td>\n",
       "      <td>[28.1581593, -26.1689943, 28.3280005, -26.0027...</td>\n",
       "      <td>POINT (28.24308 -26.08586)</td>\n",
       "    </tr>\n",
       "    <tr>\n",
       "      <th>1</th>\n",
       "      <td>947609471777374209</td>\n",
       "      <td>1100</td>\n",
       "      <td>@unisa the 3rd January registration is it for ...</td>\n",
       "      <td>2017-12-31 23:24:38+00:00</td>\n",
       "      <td>0</td>\n",
       "      <td>0</td>\n",
       "      <td>0</td>\n",
       "      <td>0</td>\n",
       "      <td>{'place_id': 'b4c5d90b1f1be609'}</td>\n",
       "      <td>Mpumalanga, South Africa</td>\n",
       "      <td>[30.5890085, -29.8534128, 30.7016304, -29.7852...</td>\n",
       "      <td>POINT (30.64532 -29.81931)</td>\n",
       "    </tr>\n",
       "  </tbody>\n",
       "</table>\n",
       "</div>"
      ],
      "text/plain": [
       "             tweet_id  author_followers  \\\n",
       "0  947612173236350976            437807   \n",
       "1  947609471777374209              1100   \n",
       "\n",
       "                                                text  \\\n",
       "0  #KZN We are on thee way! Hitting up Richards B...   \n",
       "1  @unisa the 3rd January registration is it for ...   \n",
       "\n",
       "                  created_at  retweets  replies  likes  quote_count  \\\n",
       "0  2017-12-31 23:35:22+00:00         0        1     21            0   \n",
       "1  2017-12-31 23:24:38+00:00         0        0      0            0   \n",
       "\n",
       "                           place_id                  place_name  \\\n",
       "0  {'place_id': 'd98aef293ae7311d'}  Kempton Park, South Africa   \n",
       "1  {'place_id': 'b4c5d90b1f1be609'}    Mpumalanga, South Africa   \n",
       "\n",
       "                                              coords  \\\n",
       "0  [28.1581593, -26.1689943, 28.3280005, -26.0027...   \n",
       "1  [30.5890085, -29.8534128, 30.7016304, -29.7852...   \n",
       "\n",
       "                     geometry  \n",
       "0  POINT (28.24308 -26.08586)  \n",
       "1  POINT (30.64532 -29.81931)  "
      ]
     },
     "execution_count": 25,
     "metadata": {},
     "output_type": "execute_result"
    }
   ],
   "source": [
    "tweets = tweets[tweets['place_name'] != 'South Africa']\n",
    "tweets.head(2)"
   ]
  },
  {
   "cell_type": "markdown",
   "metadata": {},
   "source": [
    "# Adding location based on shape file"
   ]
  },
  {
   "cell_type": "code",
   "execution_count": 26,
   "metadata": {},
   "outputs": [],
   "source": [
    "#Nan\n",
    "from cmath import nan\n",
    "\n",
    "\n",
    "import geopandas as gpd\n",
    "import matplotlib.pyplot as plt\n",
    "import pandas as pd\n",
    "from shapely.geometry import Point, Polygon\n",
    "import folium\n",
    "from shapely.geometry import LineString\n",
    "from sympy import centroid\n",
    "from geopandas import GeoDataFrame\n",
    "# importing geopy library\n",
    "from geopy.geocoders import Nominatim\n",
    "from numpy import NaN\n",
    "from shapely import wkt\n",
    "\n",
    "# importing all the dependancies\n",
    "import numpy as np\n",
    "import pandas as pd \n",
    "import geopandas as gpd\n",
    "import matplotlib.pyplot as plt\n",
    "from shapely.geometry import Point, Polygon\n",
    "from datetime import datetime\n",
    "from datetime import timedelta\n",
    "\n",
    "import pandas as pd\n",
    "import tweepy\n",
    "from textblob import TextBlob\n",
    "from wordcloud import WordCloud\n",
    "import pandas as pd\n",
    "import numpy as np\n",
    "import re\n",
    "import matplotlib.pyplot as plt\n",
    "plt.style.use('fivethirtyeight')"
   ]
  },
  {
   "cell_type": "markdown",
   "metadata": {},
   "source": [
    "### Downloading Tweets"
   ]
  },
  {
   "cell_type": "markdown",
   "metadata": {},
   "source": [
    "### Converting created at to a datetime object"
   ]
  },
  {
   "cell_type": "code",
   "execution_count": 27,
   "metadata": {},
   "outputs": [],
   "source": [
    "from datetime import datetime\n",
    "\n",
    "dates = tweets['created_at']\n",
    "datesOBJ =[]\n",
    "for date in dates:\n",
    "    date_object = datetime.fromisoformat(date)\n",
    "    date_object = date_object.date()\n",
    "    datesOBJ.append(date_object)\n",
    "\n",
    "tweets['Date'] = datesOBJ"
   ]
  },
  {
   "cell_type": "markdown",
   "metadata": {},
   "source": [
    "### Downloading Tweets"
   ]
  },
  {
   "cell_type": "code",
   "execution_count": 28,
   "metadata": {},
   "outputs": [],
   "source": [
    "tweets = tweets[['text','Date','geometry','author_followers','retweets','replies','likes','quote_count']]"
   ]
  },
  {
   "cell_type": "code",
   "execution_count": 29,
   "metadata": {},
   "outputs": [
    {
     "data": {
      "text/html": [
       "<div>\n",
       "<style scoped>\n",
       "    .dataframe tbody tr th:only-of-type {\n",
       "        vertical-align: middle;\n",
       "    }\n",
       "\n",
       "    .dataframe tbody tr th {\n",
       "        vertical-align: top;\n",
       "    }\n",
       "\n",
       "    .dataframe thead th {\n",
       "        text-align: right;\n",
       "    }\n",
       "</style>\n",
       "<table border=\"1\" class=\"dataframe\">\n",
       "  <thead>\n",
       "    <tr style=\"text-align: right;\">\n",
       "      <th></th>\n",
       "      <th>text</th>\n",
       "      <th>Date</th>\n",
       "      <th>geometry</th>\n",
       "      <th>author_followers</th>\n",
       "      <th>retweets</th>\n",
       "      <th>replies</th>\n",
       "      <th>likes</th>\n",
       "      <th>quote_count</th>\n",
       "    </tr>\n",
       "  </thead>\n",
       "  <tbody>\n",
       "    <tr>\n",
       "      <th>0</th>\n",
       "      <td>#KZN We are on thee way! Hitting up Richards B...</td>\n",
       "      <td>2017-12-31</td>\n",
       "      <td>POINT (28.24308 -26.08586)</td>\n",
       "      <td>437807</td>\n",
       "      <td>0</td>\n",
       "      <td>1</td>\n",
       "      <td>21</td>\n",
       "      <td>0</td>\n",
       "    </tr>\n",
       "    <tr>\n",
       "      <th>1</th>\n",
       "      <td>@unisa the 3rd January registration is it for ...</td>\n",
       "      <td>2017-12-31</td>\n",
       "      <td>POINT (30.64532 -29.81931)</td>\n",
       "      <td>1100</td>\n",
       "      <td>0</td>\n",
       "      <td>0</td>\n",
       "      <td>0</td>\n",
       "      <td>0</td>\n",
       "    </tr>\n",
       "  </tbody>\n",
       "</table>\n",
       "</div>"
      ],
      "text/plain": [
       "                                                text        Date  \\\n",
       "0  #KZN We are on thee way! Hitting up Richards B...  2017-12-31   \n",
       "1  @unisa the 3rd January registration is it for ...  2017-12-31   \n",
       "\n",
       "                     geometry  author_followers  retweets  replies  likes  \\\n",
       "0  POINT (28.24308 -26.08586)            437807         0        1     21   \n",
       "1  POINT (30.64532 -29.81931)              1100         0        0      0   \n",
       "\n",
       "   quote_count  \n",
       "0            0  \n",
       "1            0  "
      ]
     },
     "execution_count": 29,
     "metadata": {},
     "output_type": "execute_result"
    }
   ],
   "source": [
    "tweets.head(2)"
   ]
  },
  {
   "cell_type": "markdown",
   "metadata": {},
   "source": [
    "# Adding the sentiment"
   ]
  },
  {
   "cell_type": "markdown",
   "metadata": {},
   "source": [
    "It would be way better if i made this a pandas function as opposed to creating a separte list. "
   ]
  },
  {
   "cell_type": "code",
   "execution_count": 30,
   "metadata": {},
   "outputs": [],
   "source": [
    "# creating a dataframe with the text as the list\n",
    "text = tweets['text'].tolist()\n",
    "text = pd.DataFrame(text, columns = ['Text'])"
   ]
  },
  {
   "cell_type": "code",
   "execution_count": 31,
   "metadata": {},
   "outputs": [],
   "source": [
    "# this is a cleaning text function... very simular to the one in tweet_cleaning. May just combine this into one function in tweet cleaning. \n",
    "def cleanTxt(text):\n",
    "    text = re.sub(r'@[A-Za-z0-9]+', '', text) # removes mentions\n",
    "    text = re.sub(r'#', '', text) # removes #\n",
    "    text = re.sub(r'RT[\\s]+', '', text) # removes RT\n",
    "    text = re.sub(r'https?:\\/\\/\\S+', '', text) # removes hyper link\n",
    "\n",
    "    return text\n",
    "text['Text']=text['Text'].apply(cleanTxt)"
   ]
  },
  {
   "cell_type": "code",
   "execution_count": 32,
   "metadata": {},
   "outputs": [],
   "source": [
    "# get the subjectivity\n",
    "def getSubjectivity(text):\n",
    "    return TextBlob(text).sentiment.subjectivity\n",
    "\n",
    "# get the polarity\n",
    "def getPolarity(text):\n",
    "    return TextBlob(text).sentiment.polarity\n",
    "\n",
    "# function to compute the negative, neutral and positive analysis\n",
    "def getAnalysis(score):\n",
    "    if score < 0:\n",
    "        return 'Negative'\n",
    "    elif score == 0:\n",
    "        return 'Neutral'\n",
    "    else:\n",
    "        return 'Positive'\n",
    "    \n",
    "text['Subjectivity'] = text['Text'].apply(getSubjectivity)\n",
    "text['Polarity'] = text['Text'].apply(getPolarity)\n",
    "text['Analysis'] = text['Polarity'].apply(getAnalysis)\n",
    "\n",
    "\n",
    "text = text.drop(['Text'], axis = 1)"
   ]
  },
  {
   "cell_type": "code",
   "execution_count": 33,
   "metadata": {},
   "outputs": [],
   "source": [
    "# Adding the subjectivity to the tweets\n",
    "tweets = pd.concat([tweets, text.reindex(tweets.index)], axis = 1)"
   ]
  },
  {
   "cell_type": "code",
   "execution_count": 34,
   "metadata": {},
   "outputs": [],
   "source": [
    "\n",
    "tweets.to_csv('DATA/rawtweets.csv')"
   ]
  }
 ],
 "metadata": {
  "kernelspec": {
   "display_name": "Python 3.10.4 64-bit",
   "language": "python",
   "name": "python3"
  },
  "language_info": {
   "codemirror_mode": {
    "name": "ipython",
    "version": 3
   },
   "file_extension": ".py",
   "mimetype": "text/x-python",
   "name": "python",
   "nbconvert_exporter": "python",
   "pygments_lexer": "ipython3",
   "version": "3.10.4"
  },
  "orig_nbformat": 4,
  "vscode": {
   "interpreter": {
    "hash": "eb1e2aa17c9c03522ea469ed025d74c8a00b3c7801d0496b408e209436a13f2e"
   }
  }
 },
 "nbformat": 4,
 "nbformat_minor": 2
}
